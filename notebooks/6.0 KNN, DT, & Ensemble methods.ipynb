{
 "cells": [
  {
   "cell_type": "markdown",
   "metadata": {},
   "source": [
    "# Advanced Classification with Hyperparameter Tuning: A Comprehensive Guide\n",
    "\n",
    "This notebook provides a practical guide to implementing various classification algorithms and performing hyperparameter tuning using real-world data. We will cover K-Nearest Neighbors, Decision Trees, Random Forest, Voting, Stacking, and AdaBoost, along with methods to find their optimal hyperparameters."
   ]
  },
  {
   "cell_type": "markdown",
   "metadata": {},
   "source": [
    "## 1. Setup and Data Loading\n",
    "\n",
    "We begin by importing necessary libraries and loading a real-world classification dataset from `scikit-learn`. For this example, we'll use the Breast Cancer Wisconsin (Diagnostic) dataset, which is a classic binary classification problem."
   ]
  },
  {
   "cell_type": "code",
   "execution_count": 1,
   "metadata": {
    "colab": {
     "base_uri": "https://localhost:8080/"
    },
    "id": "eecb8f41-b847-4952-b8d9-23f2f8471b0a",
    "outputId": "3b29074b-e3c3-4d43-9824-3705a6167812"
   },
   "outputs": [],
   "source": [
    "import numpy as np\n",
    "import pandas as pd\n",
    "\n",
    "from sklearn.datasets import load_breast_cancer\n",
    "from sklearn.model_selection import train_test_split, GridSearchCV, RandomizedSearchCV, cross_val_score\n",
    "from sklearn.preprocessing import StandardScaler\n",
    "from sklearn.neighbors import KNeighborsClassifier\n",
    "from sklearn.tree import DecisionTreeClassifier\n",
    "from sklearn.ensemble import RandomForestClassifier, VotingClassifier, StackingClassifier, AdaBoostClassifier\n",
    "\n",
    "from sklearn.metrics import accuracy_score, precision_score, recall_score, f1_score, roc_auc_score, classification_report, confusion_matrix\n",
    "import matplotlib.pyplot as plt\n",
    "import seaborn as sns\n",
    "from scipy.stats import randint, uniform"
   ]
  },
  {
   "cell_type": "code",
   "execution_count": 8,
   "metadata": {
    "colab": {
     "base_uri": "https://localhost:8080/",
     "height": 204
    },
    "id": "27685601-52e8-466d-88f5-f71661d9a29e",
    "outputId": "692c5750-f1c5-41e9-923c-f4b677a288f3"
   },
   "outputs": [
    {
     "name": "stdout",
     "output_type": "stream",
     "text": [
      "Dataset shape: (569, 30)\n",
      "Target classes: ['malignant' 'benign']\n",
      "Number of features: 30\n",
      "Training set shape: (398, 30)\n",
      "Testing set shape: (171, 30)\n"
     ]
    }
   ],
   "source": [
    "# Load the dataset\n",
    "cancer = load_breast_cancer()\n",
    "X = cancer.data\n",
    "y = cancer.target\n",
    "\n",
    "print(f\"Dataset shape: {X.shape}\")\n",
    "print(f\"Target classes: {cancer.target_names}\")\n",
    "print(f\"Number of features: {cancer.feature_names.shape[0]}\")\n",
    "\n",
    "# Split data into training and testing sets\n",
    "X_train, X_test, y_train, y_test = train_test_split(X, y, test_size=0.3, random_state=42, stratify=y)\n",
    "\n",
    "print(f\"Training set shape: {X_train.shape}\")\n",
    "print(f\"Testing set shape: {X_test.shape}\")"
   ]
  },
  {
   "cell_type": "code",
   "execution_count": 7,
   "id": "d430b07c",
   "metadata": {},
   "outputs": [
    {
     "data": {
      "text/plain": [
       "(569,)"
      ]
     },
     "execution_count": 7,
     "metadata": {},
     "output_type": "execute_result"
    }
   ],
   "source": [
    "y.shape"
   ]
  },
  {
   "cell_type": "markdown",
   "metadata": {},
   "source": [
    "## 2. Data Preprocessing: Feature Scaling\n",
    "\n",
    "Feature scaling is crucial for algorithms that rely on distance metrics (like KNN and SVMs) or gradient descent (like Logistic Regression). Even for tree-based models, while not strictly necessary, it can sometimes aid convergence or consistency in certain implementations. We will use `StandardScaler` to transform our features so they have a mean of 0 and a standard deviation of 1."
   ]
  },
  {
   "cell_type": "code",
   "execution_count": 9,
   "metadata": {
    "colab": {
     "base_uri": "https://localhost:8080/"
    },
    "id": "e3522f7c-4822-48f8-b4b1-87a41eb9b400",
    "outputId": "046d14ff-a0c3-4d40-b6f3-a75780590a59"
   },
   "outputs": [
    {
     "name": "stdout",
     "output_type": "stream",
     "text": [
      "Features scaled successfully.\n"
     ]
    }
   ],
   "source": [
    "scaler = StandardScaler()\n",
    "X_train_scaled = scaler.fit_transform(X_train)\n",
    "X_test_scaled = scaler.transform(X_test)\n",
    "\n",
    "print(\"Features scaled successfully.\")"
   ]
  },
  {
   "cell_type": "markdown",
   "metadata": {},
   "source": [
    "## 3. Evaluation Helper Function\n",
    "\n",
    "To streamline our evaluation process, we'll create a helper function that takes true labels and predictions, then prints common classification metrics and a confusion matrix."
   ]
  },
  {
   "cell_type": "code",
   "execution_count": 10,
   "metadata": {
    "colab": {
     "base_uri": "https://localhost:8080/",
     "height": 218
    },
    "id": "a576c669-e77a-42c2-8415-321287c2b64d",
    "outputId": "8f8c4422-921d-4076-a496-d8d5d143df17"
   },
   "outputs": [],
   "source": [
    "def evaluate_model(y_true, y_pred, y_proba=None, model_name=\"Model\"):\n",
    "    print(f\"### {model_name} Performance ###\")\n",
    "    print(f\"Accuracy: {accuracy_score(y_true, y_pred):.4f}\")\n",
    "    print(f\"Precision: {precision_score(y_true, y_pred):.4f}\")\n",
    "    print(f\"Recall: {recall_score(y_true, y_pred):.4f}\")\n",
    "    print(f\"F1-Score: {f1_score(y_true, y_pred):.4f}\")\n",
    "    if y_proba is not None:\n",
    "        # For binary classification, roc_auc_score expects probabilities of the positive class\n",
    "        print(f\"ROC AUC: {roc_auc_score(y_true, y_proba[:, 1] if y_proba.ndim > 1 else y_proba):.4f}\")\n",
    "    \n",
    "    print(\"\\nClassification Report:\")\n",
    "    print(classification_report(y_true, y_pred))\n",
    "    \n",
    "    print(\"\\nConfusion Matrix:\")\n",
    "    cm = confusion_matrix(y_true, y_pred)\n",
    "    plt.figure(figsize=(4,3))\n",
    "    sns.heatmap(cm, annot=True, fmt='d', cmap='Blues', cbar=False,\n",
    "                xticklabels=cancer.target_names, yticklabels=cancer.target_names)\n",
    "    plt.xlabel('Predicted')\n",
    "    plt.ylabel('Actual')\n",
    "    plt.title(f'Confusion Matrix for {model_name}')\n",
    "    plt.show()\n",
    "    print(\"\\n\" + \"=\"*50 + \"\\n\")"
   ]
  },
  {
   "cell_type": "markdown",
   "metadata": {},
   "source": [
    "## 4. Classification Algorithms and Hyperparameter Tuning\n",
    "\n",
    "We will now implement each classification algorithm, define a hyperparameter search space, and use `GridSearchCV` or `RandomizedSearchCV` to find the best parameters. We'll then evaluate the best performing model."
   ]
  },
  {
   "cell_type": "markdown",
   "metadata": {},
   "source": [
    "### 4.1. K-Nearest Neighbors (KNN)\n",
    "\n",
    "KNN is a simple, non-parametric, lazy learning algorithm that classifies a new data point based on the majority class of its `n_neighbors` closest points in the training set.\n",
    "\n",
    "**Key Hyperparameters:**\n",
    "- `n_neighbors`: Number of neighbors to consider (odd numbers usually preferred to avoid ties).\n",
    "- `weights`: Weight function used in prediction. 'uniform' (all points equally weighted) or 'distance' (closer points have more weight).\n",
    "- `p`: Power parameter for the Minkowski metric. `p=1` for Manhattan distance, `p=2` for Euclidean distance."
   ]
  },
  {
   "cell_type": "code",
   "execution_count": 11,
   "id": "7d5f86f8",
   "metadata": {},
   "outputs": [
    {
     "name": "stdout",
     "output_type": "stream",
     "text": [
      "### KNN Classifier Performance ###\n",
      "Accuracy: 0.9591\n",
      "Precision: 0.9386\n",
      "Recall: 1.0000\n",
      "F1-Score: 0.9683\n",
      "ROC AUC: 0.9827\n",
      "\n",
      "Classification Report:\n",
      "              precision    recall  f1-score   support\n",
      "\n",
      "           0       1.00      0.89      0.94        64\n",
      "           1       0.94      1.00      0.97       107\n",
      "\n",
      "    accuracy                           0.96       171\n",
      "   macro avg       0.97      0.95      0.96       171\n",
      "weighted avg       0.96      0.96      0.96       171\n",
      "\n",
      "\n",
      "Confusion Matrix:\n"
     ]
    },
    {
     "data": {
      "image/png": "[encoded data removed]",
      "text/plain": [
       "<Figure size 400x300 with 1 Axes>"
      ]
     },
     "metadata": {},
     "output_type": "display_data"
    },
    {
     "name": "stdout",
     "output_type": "stream",
     "text": [
      "\n",
      "==================================================\n",
      "\n"
     ]
    }
   ],
   "source": [
    "knn = KNeighborsClassifier()\n",
    "\n",
    "knn.fit(X_train_scaled, y_train)\n",
    "y_pred_knn = knn.predict(X_test_scaled)\n",
    "y_proba_knn = knn.predict_proba(X_test_scaled)\n",
    "evaluate_model(y_test, y_pred_knn, y_proba_knn, model_name=\"KNN Classifier\")\n",
    "\n"
   ]
  },
  {
   "cell_type": "code",
   "execution_count": 5,
   "metadata": {
    "colab": {
     "base_uri": "https://localhost:8080/",
     "height": 622
    },
    "id": "e6f98293-6b3a-4a8b-967f-859a117b43a9",
    "outputId": "e2d0959f-d3b6-45ef-bd1d-0422119ed275"
   },
   "outputs": [
    {
     "name": "stdout",
     "output_type": "stream",
     "text": [
      "Fitting 5 folds for each of 24 candidates, totalling 120 fits\n",
      "Best KNN parameters: {'n_neighbors': 3, 'p': 1, 'weights': 'uniform'}\n",
      "Best KNN accuracy: 0.9724\n",
      "### Optimized K-Nearest Neighbors Performance ###\n",
      "Accuracy: 0.9591\n",
      "Precision: 0.9545\n",
      "Recall: 0.9813\n",
      "F1-Score: 0.9677\n",
      "ROC AUC: 0.9795\n",
      "\n",
      "Classification Report:\n",
      "              precision    recall  f1-score   support\n",
      "\n",
      "           0       0.97      0.92      0.94        64\n",
      "           1       0.95      0.98      0.97       107\n",
      "\n",
      "    accuracy                           0.96       171\n",
      "   macro avg       0.96      0.95      0.96       171\n",
      "weighted avg       0.96      0.96      0.96       171\n",
      "\n",
      "\n",
      "Confusion Matrix:\n"
     ]
    },
    {
     "data": {
      "image/png": "[encoded data removed]",
      "text/plain": [
       "<Figure size 400x300 with 1 Axes>"
      ]
     },
     "metadata": {},
     "output_type": "display_data"
    },
    {
     "name": "stdout",
     "output_type": "stream",
     "text": [
      "\n",
      "==================================================\n",
      "\n"
     ]
    }
   ],
   "source": [
    "knn = KNeighborsClassifier()\n",
    "\n",
    "knn_param_grid = {\n",
    "    'n_neighbors': [3, 5, 7, 9, 11, 13],\n",
    "    'weights': ['uniform', 'distance'],\n",
    "    'p': [1, 2]\n",
    "}\n",
    "\n",
    "knn_grid_search = GridSearchCV(knn, knn_param_grid, cv=5, scoring='accuracy', n_jobs=-1, verbose=1)\n",
    "knn_grid_search.fit(X_train_scaled, y_train)\n",
    "\n",
    "print(f\"Best KNN parameters: {knn_grid_search.best_params_}\")\n",
    "print(f\"Best KNN accuracy: {knn_grid_search.best_score_:.4f}\")\n",
    "\n",
    "best_knn_model = knn_grid_search.best_estimator_\n",
    "y_pred_knn = best_knn_model.predict(X_test_scaled)\n",
    "y_proba_knn = best_knn_model.predict_proba(X_test_scaled)\n",
    "\n",
    "evaluate_model(y_test, y_pred_knn, y_proba_knn, \"Optimized K-Nearest Neighbors\")"
   ]
  },
  {
   "cell_type": "markdown",
   "metadata": {},
   "source": [
    "### 4.2. Decision Tree (DT)\n",
    "\n",
    "Decision Trees create a tree-like model of decisions and their possible consequences. They are intuitive and easily interpretable, but can be prone to overfitting.\n",
    "\n",
    "**Key Hyperparameters:**\n",
    "- `criterion`: Function to measure the quality of a split ('gini' for Gini impurity, 'entropy' for information gain).\n",
    "- `max_depth`: Maximum depth of the tree. Prevents overfitting by limiting tree growth.\n",
    "- `min_samples_split`: Minimum number of samples required to split an internal node.\n",
    "- `min_samples_leaf`: Minimum number of samples required to be at a leaf node.\n",
    "- `max_features`: Number of features to consider when looking for the best split."
   ]
  },
  {
   "cell_type": "code",
   "execution_count": 6,
   "metadata": {
    "colab": {
     "base_uri": "https://localhost:8080/",
     "height": 622
    },
    "id": "b3e34b22-094c-42e1-88f5-1994117b43a9",
    "outputId": "34f190e2-d3b6-45ef-bd1d-0422119ed275"
   },
   "outputs": [
    {
     "name": "stdout",
     "output_type": "stream",
     "text": [
      "Fitting 5 folds for each of 50 candidates, totalling 250 fits\n",
      "Best Decision Tree parameters: {'criterion': 'gini', 'max_depth': 13, 'max_features': 0.8998609717152555, 'min_samples_leaf': 3, 'min_samples_split': 13}\n",
      "Best Decision Tree accuracy: 0.9424\n",
      "### Optimized Decision Tree Performance ###\n",
      "Accuracy: 0.9240\n",
      "Precision: 0.9273\n",
      "Recall: 0.9533\n",
      "F1-Score: 0.9401\n",
      "ROC AUC: 0.9371\n",
      "\n",
      "Classification Report:\n",
      "              precision    recall  f1-score   support\n",
      "\n",
      "           0       0.92      0.88      0.90        64\n",
      "           1       0.93      0.95      0.94       107\n",
      "\n",
      "    accuracy                           0.92       171\n",
      "   macro avg       0.92      0.91      0.92       171\n",
      "weighted avg       0.92      0.92      0.92       171\n",
      "\n",
      "\n",
      "Confusion Matrix:\n"
     ]
    },
    {
     "name": "stderr",
     "output_type": "stream",
     "text": [
      "/Users/yenokhakobyan/miniconda3/lib/python3.11/site-packages/sklearn/model_selection/_validation.py:528: FitFailedWarning: \n",
      "100 fits failed out of a total of 250.\n",
      "The score on these train-test partitions for these parameters will be set to nan.\n",
      "If these failures are not expected, you can try to debug them by setting error_score='raise'.\n",
      "\n",
      "Below are more details about the failures:\n",
      "--------------------------------------------------------------------------------\n",
      "4 fits failed with the following error:\n",
      "Traceback (most recent call last):\n",
      "  File \"/Users/yenokhakobyan/miniconda3/lib/python3.11/site-packages/sklearn/model_selection/_validation.py\", line 866, in _fit_and_score\n",
      "    estimator.fit(X_train, y_train, **fit_params)\n",
      "  File \"/Users/yenokhakobyan/miniconda3/lib/python3.11/site-packages/sklearn/base.py\", line 1382, in wrapper\n",
      "    estimator._validate_params()\n",
      "  File \"/Users/yenokhakobyan/miniconda3/lib/python3.11/site-packages/sklearn/base.py\", line 436, in _validate_params\n",
      "    validate_parameter_constraints(\n",
      "  File \"/Users/yenokhakobyan/miniconda3/lib/python3.11/site-packages/sklearn/utils/_param_validation.py\", line 98, in validate_parameter_constraints\n",
      "    raise InvalidParameterError(\n",
      "sklearn.utils._param_validation.InvalidParameterError: The 'max_features' parameter of DecisionTreeClassifier must be an int in the range [1, inf), a float in the range (0.0, 1.0], a str among {'log2', 'sqrt'} or None. Got 1.4507143064099162 instead.\n",
      "\n",
      "--------------------------------------------------------------------------------\n",
      "1 fits failed with the following error:\n",
      "Traceback (most recent call last):\n",
      "  File \"/Users/yenokhakobyan/miniconda3/lib/python3.11/site-packages/sklearn/model_selection/_validation.py\", line 866, in _fit_and_score\n",
      "    estimator.fit(X_train, y_train, **fit_params)\n",
      "  File \"/Users/yenokhakobyan/miniconda3/lib/python3.11/site-packages/sklearn/base.py\", line 1382, in wrapper\n",
      "    estimator._validate_params()\n",
      "  File \"/Users/yenokhakobyan/miniconda3/lib/python3.11/site-packages/sklearn/base.py\", line 436, in _validate_params\n",
      "    validate_parameter_constraints(\n",
      "  File \"/Users/yenokhakobyan/miniconda3/lib/python3.11/site-packages/sklearn/utils/_param_validation.py\", line 98, in validate_parameter_constraints\n",
      "    raise InvalidParameterError(\n",
      "sklearn.utils._param_validation.InvalidParameterError: The 'max_features' parameter of DecisionTreeClassifier must be an int in the range [1, inf), a float in the range (0.0, 1.0], a str among {'sqrt', 'log2'} or None. Got 1.4507143064099162 instead.\n",
      "\n",
      "--------------------------------------------------------------------------------\n",
      "2 fits failed with the following error:\n",
      "Traceback (most recent call last):\n",
      "  File \"/Users/yenokhakobyan/miniconda3/lib/python3.11/site-packages/sklearn/model_selection/_validation.py\", line 866, in _fit_and_score\n",
      "    estimator.fit(X_train, y_train, **fit_params)\n",
      "  File \"/Users/yenokhakobyan/miniconda3/lib/python3.11/site-packages/sklearn/base.py\", line 1382, in wrapper\n",
      "    estimator._validate_params()\n",
      "  File \"/Users/yenokhakobyan/miniconda3/lib/python3.11/site-packages/sklearn/base.py\", line 436, in _validate_params\n",
      "    validate_parameter_constraints(\n",
      "  File \"/Users/yenokhakobyan/miniconda3/lib/python3.11/site-packages/sklearn/utils/_param_validation.py\", line 98, in validate_parameter_constraints\n",
      "    raise InvalidParameterError(\n",
      "sklearn.utils._param_validation.InvalidParameterError: The 'max_features' parameter of DecisionTreeClassifier must be an int in the range [1, inf), a float in the range (0.0, 1.0], a str among {'sqrt', 'log2'} or None. Got 1.1508884729488529 instead.\n",
      "\n",
      "--------------------------------------------------------------------------------\n",
      "3 fits failed with the following error:\n",
      "Traceback (most recent call last):\n",
      "  File \"/Users/yenokhakobyan/miniconda3/lib/python3.11/site-packages/sklearn/model_selection/_validation.py\", line 866, in _fit_and_score\n",
      "    estimator.fit(X_train, y_train, **fit_params)\n",
      "  File \"/Users/yenokhakobyan/miniconda3/lib/python3.11/site-packages/sklearn/base.py\", line 1382, in wrapper\n",
      "    estimator._validate_params()\n",
      "  File \"/Users/yenokhakobyan/miniconda3/lib/python3.11/site-packages/sklearn/base.py\", line 436, in _validate_params\n",
      "    validate_parameter_constraints(\n",
      "  File \"/Users/yenokhakobyan/miniconda3/lib/python3.11/site-packages/sklearn/utils/_param_validation.py\", line 98, in validate_parameter_constraints\n",
      "    raise InvalidParameterError(\n",
      "sklearn.utils._param_validation.InvalidParameterError: The 'max_features' parameter of DecisionTreeClassifier must be an int in the range [1, inf), a float in the range (0.0, 1.0], a str among {'log2', 'sqrt'} or None. Got 1.1508884729488529 instead.\n",
      "\n",
      "--------------------------------------------------------------------------------\n",
      "5 fits failed with the following error:\n",
      "Traceback (most recent call last):\n",
      "  File \"/Users/yenokhakobyan/miniconda3/lib/python3.11/site-packages/sklearn/model_selection/_validation.py\", line 866, in _fit_and_score\n",
      "    estimator.fit(X_train, y_train, **fit_params)\n",
      "  File \"/Users/yenokhakobyan/miniconda3/lib/python3.11/site-packages/sklearn/base.py\", line 1382, in wrapper\n",
      "    estimator._validate_params()\n",
      "  File \"/Users/yenokhakobyan/miniconda3/lib/python3.11/site-packages/sklearn/base.py\", line 436, in _validate_params\n",
      "    validate_parameter_constraints(\n",
      "  File \"/Users/yenokhakobyan/miniconda3/lib/python3.11/site-packages/sklearn/utils/_param_validation.py\", line 98, in validate_parameter_constraints\n",
      "    raise InvalidParameterError(\n",
      "sklearn.utils._param_validation.InvalidParameterError: The 'max_features' parameter of DecisionTreeClassifier must be an int in the range [1, inf), a float in the range (0.0, 1.0], a str among {'log2', 'sqrt'} or None. Got 1.4385527090157502 instead.\n",
      "\n",
      "--------------------------------------------------------------------------------\n",
      "5 fits failed with the following error:\n",
      "Traceback (most recent call last):\n",
      "  File \"/Users/yenokhakobyan/miniconda3/lib/python3.11/site-packages/sklearn/model_selection/_validation.py\", line 866, in _fit_and_score\n",
      "    estimator.fit(X_train, y_train, **fit_params)\n",
      "  File \"/Users/yenokhakobyan/miniconda3/lib/python3.11/site-packages/sklearn/base.py\", line 1382, in wrapper\n",
      "    estimator._validate_params()\n",
      "  File \"/Users/yenokhakobyan/miniconda3/lib/python3.11/site-packages/sklearn/base.py\", line 436, in _validate_params\n",
      "    validate_parameter_constraints(\n",
      "  File \"/Users/yenokhakobyan/miniconda3/lib/python3.11/site-packages/sklearn/utils/_param_validation.py\", line 98, in validate_parameter_constraints\n",
      "    raise InvalidParameterError(\n",
      "sklearn.utils._param_validation.InvalidParameterError: The 'max_features' parameter of DecisionTreeClassifier must be an int in the range [1, inf), a float in the range (0.0, 1.0], a str among {'log2', 'sqrt'} or None. Got 1.024756431632238 instead.\n",
      "\n",
      "--------------------------------------------------------------------------------\n",
      "3 fits failed with the following error:\n",
      "Traceback (most recent call last):\n",
      "  File \"/Users/yenokhakobyan/miniconda3/lib/python3.11/site-packages/sklearn/model_selection/_validation.py\", line 866, in _fit_and_score\n",
      "    estimator.fit(X_train, y_train, **fit_params)\n",
      "  File \"/Users/yenokhakobyan/miniconda3/lib/python3.11/site-packages/sklearn/base.py\", line 1382, in wrapper\n",
      "    estimator._validate_params()\n",
      "  File \"/Users/yenokhakobyan/miniconda3/lib/python3.11/site-packages/sklearn/base.py\", line 436, in _validate_params\n",
      "    validate_parameter_constraints(\n",
      "  File \"/Users/yenokhakobyan/miniconda3/lib/python3.11/site-packages/sklearn/utils/_param_validation.py\", line 98, in validate_parameter_constraints\n",
      "    raise InvalidParameterError(\n",
      "sklearn.utils._param_validation.InvalidParameterError: The 'max_features' parameter of DecisionTreeClassifier must be an int in the range [1, inf), a float in the range (0.0, 1.0], a str among {'log2', 'sqrt'} or None. Got 1.0924145688620426 instead.\n",
      "\n",
      "--------------------------------------------------------------------------------\n",
      "2 fits failed with the following error:\n",
      "Traceback (most recent call last):\n",
      "  File \"/Users/yenokhakobyan/miniconda3/lib/python3.11/site-packages/sklearn/model_selection/_validation.py\", line 866, in _fit_and_score\n",
      "    estimator.fit(X_train, y_train, **fit_params)\n",
      "  File \"/Users/yenokhakobyan/miniconda3/lib/python3.11/site-packages/sklearn/base.py\", line 1382, in wrapper\n",
      "    estimator._validate_params()\n",
      "  File \"/Users/yenokhakobyan/miniconda3/lib/python3.11/site-packages/sklearn/base.py\", line 436, in _validate_params\n",
      "    validate_parameter_constraints(\n",
      "  File \"/Users/yenokhakobyan/miniconda3/lib/python3.11/site-packages/sklearn/utils/_param_validation.py\", line 98, in validate_parameter_constraints\n",
      "    raise InvalidParameterError(\n",
      "sklearn.utils._param_validation.InvalidParameterError: The 'max_features' parameter of DecisionTreeClassifier must be an int in the range [1, inf), a float in the range (0.0, 1.0], a str among {'sqrt', 'log2'} or None. Got 1.0924145688620426 instead.\n",
      "\n",
      "--------------------------------------------------------------------------------\n",
      "4 fits failed with the following error:\n",
      "Traceback (most recent call last):\n",
      "  File \"/Users/yenokhakobyan/miniconda3/lib/python3.11/site-packages/sklearn/model_selection/_validation.py\", line 866, in _fit_and_score\n",
      "    estimator.fit(X_train, y_train, **fit_params)\n",
      "  File \"/Users/yenokhakobyan/miniconda3/lib/python3.11/site-packages/sklearn/base.py\", line 1382, in wrapper\n",
      "    estimator._validate_params()\n",
      "  File \"/Users/yenokhakobyan/miniconda3/lib/python3.11/site-packages/sklearn/base.py\", line 436, in _validate_params\n",
      "    validate_parameter_constraints(\n",
      "  File \"/Users/yenokhakobyan/miniconda3/lib/python3.11/site-packages/sklearn/utils/_param_validation.py\", line 98, in validate_parameter_constraints\n",
      "    raise InvalidParameterError(\n",
      "sklearn.utils._param_validation.InvalidParameterError: The 'max_features' parameter of DecisionTreeClassifier must be an int in the range [1, inf), a float in the range (0.0, 1.0], a str among {'log2', 'sqrt'} or None. Got 1.4656320330745594 instead.\n",
      "\n",
      "--------------------------------------------------------------------------------\n",
      "1 fits failed with the following error:\n",
      "Traceback (most recent call last):\n",
      "  File \"/Users/yenokhakobyan/miniconda3/lib/python3.11/site-packages/sklearn/model_selection/_validation.py\", line 866, in _fit_and_score\n",
      "    estimator.fit(X_train, y_train, **fit_params)\n",
      "  File \"/Users/yenokhakobyan/miniconda3/lib/python3.11/site-packages/sklearn/base.py\", line 1382, in wrapper\n",
      "    estimator._validate_params()\n",
      "  File \"/Users/yenokhakobyan/miniconda3/lib/python3.11/site-packages/sklearn/base.py\", line 436, in _validate_params\n",
      "    validate_parameter_constraints(\n",
      "  File \"/Users/yenokhakobyan/miniconda3/lib/python3.11/site-packages/sklearn/utils/_param_validation.py\", line 98, in validate_parameter_constraints\n",
      "    raise InvalidParameterError(\n",
      "sklearn.utils._param_validation.InvalidParameterError: The 'max_features' parameter of DecisionTreeClassifier must be an int in the range [1, inf), a float in the range (0.0, 1.0], a str among {'sqrt', 'log2'} or None. Got 1.4656320330745594 instead.\n",
      "\n",
      "--------------------------------------------------------------------------------\n",
      "3 fits failed with the following error:\n",
      "Traceback (most recent call last):\n",
      "  File \"/Users/yenokhakobyan/miniconda3/lib/python3.11/site-packages/sklearn/model_selection/_validation.py\", line 866, in _fit_and_score\n",
      "    estimator.fit(X_train, y_train, **fit_params)\n",
      "  File \"/Users/yenokhakobyan/miniconda3/lib/python3.11/site-packages/sklearn/base.py\", line 1382, in wrapper\n",
      "    estimator._validate_params()\n",
      "  File \"/Users/yenokhakobyan/miniconda3/lib/python3.11/site-packages/sklearn/base.py\", line 436, in _validate_params\n",
      "    validate_parameter_constraints(\n",
      "  File \"/Users/yenokhakobyan/miniconda3/lib/python3.11/site-packages/sklearn/utils/_param_validation.py\", line 98, in validate_parameter_constraints\n",
      "    raise InvalidParameterError(\n",
      "sklearn.utils._param_validation.InvalidParameterError: The 'max_features' parameter of DecisionTreeClassifier must be an int in the range [1, inf), a float in the range (0.0, 1.0], a str among {'log2', 'sqrt'} or None. Got 1.2553614103176525 instead.\n",
      "\n",
      "--------------------------------------------------------------------------------\n",
      "2 fits failed with the following error:\n",
      "Traceback (most recent call last):\n",
      "  File \"/Users/yenokhakobyan/miniconda3/lib/python3.11/site-packages/sklearn/model_selection/_validation.py\", line 866, in _fit_and_score\n",
      "    estimator.fit(X_train, y_train, **fit_params)\n",
      "  File \"/Users/yenokhakobyan/miniconda3/lib/python3.11/site-packages/sklearn/base.py\", line 1382, in wrapper\n",
      "    estimator._validate_params()\n",
      "  File \"/Users/yenokhakobyan/miniconda3/lib/python3.11/site-packages/sklearn/base.py\", line 436, in _validate_params\n",
      "    validate_parameter_constraints(\n",
      "  File \"/Users/yenokhakobyan/miniconda3/lib/python3.11/site-packages/sklearn/utils/_param_validation.py\", line 98, in validate_parameter_constraints\n",
      "    raise InvalidParameterError(\n",
      "sklearn.utils._param_validation.InvalidParameterError: The 'max_features' parameter of DecisionTreeClassifier must be an int in the range [1, inf), a float in the range (0.0, 1.0], a str among {'sqrt', 'log2'} or None. Got 1.2553614103176525 instead.\n",
      "\n",
      "--------------------------------------------------------------------------------\n",
      "3 fits failed with the following error:\n",
      "Traceback (most recent call last):\n",
      "  File \"/Users/yenokhakobyan/miniconda3/lib/python3.11/site-packages/sklearn/model_selection/_validation.py\", line 866, in _fit_and_score\n",
      "    estimator.fit(X_train, y_train, **fit_params)\n",
      "  File \"/Users/yenokhakobyan/miniconda3/lib/python3.11/site-packages/sklearn/base.py\", line 1382, in wrapper\n",
      "    estimator._validate_params()\n",
      "  File \"/Users/yenokhakobyan/miniconda3/lib/python3.11/site-packages/sklearn/base.py\", line 436, in _validate_params\n",
      "    validate_parameter_constraints(\n",
      "  File \"/Users/yenokhakobyan/miniconda3/lib/python3.11/site-packages/sklearn/utils/_param_validation.py\", line 98, in validate_parameter_constraints\n",
      "    raise InvalidParameterError(\n",
      "sklearn.utils._param_validation.InvalidParameterError: The 'max_features' parameter of DecisionTreeClassifier must be an int in the range [1, inf), a float in the range (0.0, 1.0], a str among {'sqrt', 'log2'} or None. Got 1.394827350427649 instead.\n",
      "\n",
      "--------------------------------------------------------------------------------\n",
      "2 fits failed with the following error:\n",
      "Traceback (most recent call last):\n",
      "  File \"/Users/yenokhakobyan/miniconda3/lib/python3.11/site-packages/sklearn/model_selection/_validation.py\", line 866, in _fit_and_score\n",
      "    estimator.fit(X_train, y_train, **fit_params)\n",
      "  File \"/Users/yenokhakobyan/miniconda3/lib/python3.11/site-packages/sklearn/base.py\", line 1382, in wrapper\n",
      "    estimator._validate_params()\n",
      "  File \"/Users/yenokhakobyan/miniconda3/lib/python3.11/site-packages/sklearn/base.py\", line 436, in _validate_params\n",
      "    validate_parameter_constraints(\n",
      "  File \"/Users/yenokhakobyan/miniconda3/lib/python3.11/site-packages/sklearn/utils/_param_validation.py\", line 98, in validate_parameter_constraints\n",
      "    raise InvalidParameterError(\n",
      "sklearn.utils._param_validation.InvalidParameterError: The 'max_features' parameter of DecisionTreeClassifier must be an int in the range [1, inf), a float in the range (0.0, 1.0], a str among {'log2', 'sqrt'} or None. Got 1.394827350427649 instead.\n",
      "\n",
      "--------------------------------------------------------------------------------\n",
      "5 fits failed with the following error:\n",
      "Traceback (most recent call last):\n",
      "  File \"/Users/yenokhakobyan/miniconda3/lib/python3.11/site-packages/sklearn/model_selection/_validation.py\", line 866, in _fit_and_score\n",
      "    estimator.fit(X_train, y_train, **fit_params)\n",
      "  File \"/Users/yenokhakobyan/miniconda3/lib/python3.11/site-packages/sklearn/base.py\", line 1382, in wrapper\n",
      "    estimator._validate_params()\n",
      "  File \"/Users/yenokhakobyan/miniconda3/lib/python3.11/site-packages/sklearn/base.py\", line 436, in _validate_params\n",
      "    validate_parameter_constraints(\n",
      "  File \"/Users/yenokhakobyan/miniconda3/lib/python3.11/site-packages/sklearn/utils/_param_validation.py\", line 98, in validate_parameter_constraints\n",
      "    raise InvalidParameterError(\n",
      "sklearn.utils._param_validation.InvalidParameterError: The 'max_features' parameter of DecisionTreeClassifier must be an int in the range [1, inf), a float in the range (0.0, 1.0], a str among {'log2', 'sqrt'} or None. Got 1.0396921323890798 instead.\n",
      "\n",
      "--------------------------------------------------------------------------------\n",
      "2 fits failed with the following error:\n",
      "Traceback (most recent call last):\n",
      "  File \"/Users/yenokhakobyan/miniconda3/lib/python3.11/site-packages/sklearn/model_selection/_validation.py\", line 866, in _fit_and_score\n",
      "    estimator.fit(X_train, y_train, **fit_params)\n",
      "  File \"/Users/yenokhakobyan/miniconda3/lib/python3.11/site-packages/sklearn/base.py\", line 1382, in wrapper\n",
      "    estimator._validate_params()\n",
      "  File \"/Users/yenokhakobyan/miniconda3/lib/python3.11/site-packages/sklearn/base.py\", line 436, in _validate_params\n",
      "    validate_parameter_constraints(\n",
      "  File \"/Users/yenokhakobyan/miniconda3/lib/python3.11/site-packages/sklearn/utils/_param_validation.py\", line 98, in validate_parameter_constraints\n",
      "    raise InvalidParameterError(\n",
      "sklearn.utils._param_validation.InvalidParameterError: The 'max_features' parameter of DecisionTreeClassifier must be an int in the range [1, inf), a float in the range (0.0, 1.0], a str among {'sqrt', 'log2'} or None. Got 1.2901755405312056 instead.\n",
      "\n",
      "--------------------------------------------------------------------------------\n",
      "3 fits failed with the following error:\n",
      "Traceback (most recent call last):\n",
      "  File \"/Users/yenokhakobyan/miniconda3/lib/python3.11/site-packages/sklearn/model_selection/_validation.py\", line 866, in _fit_and_score\n",
      "    estimator.fit(X_train, y_train, **fit_params)\n",
      "  File \"/Users/yenokhakobyan/miniconda3/lib/python3.11/site-packages/sklearn/base.py\", line 1382, in wrapper\n",
      "    estimator._validate_params()\n",
      "  File \"/Users/yenokhakobyan/miniconda3/lib/python3.11/site-packages/sklearn/base.py\", line 436, in _validate_params\n",
      "    validate_parameter_constraints(\n",
      "  File \"/Users/yenokhakobyan/miniconda3/lib/python3.11/site-packages/sklearn/utils/_param_validation.py\", line 98, in validate_parameter_constraints\n",
      "    raise InvalidParameterError(\n",
      "sklearn.utils._param_validation.InvalidParameterError: The 'max_features' parameter of DecisionTreeClassifier must be an int in the range [1, inf), a float in the range (0.0, 1.0], a str among {'log2', 'sqrt'} or None. Got 1.2901755405312056 instead.\n",
      "\n",
      "--------------------------------------------------------------------------------\n",
      "3 fits failed with the following error:\n",
      "Traceback (most recent call last):\n",
      "  File \"/Users/yenokhakobyan/miniconda3/lib/python3.11/site-packages/sklearn/model_selection/_validation.py\", line 866, in _fit_and_score\n",
      "    estimator.fit(X_train, y_train, **fit_params)\n",
      "  File \"/Users/yenokhakobyan/miniconda3/lib/python3.11/site-packages/sklearn/base.py\", line 1382, in wrapper\n",
      "    estimator._validate_params()\n",
      "  File \"/Users/yenokhakobyan/miniconda3/lib/python3.11/site-packages/sklearn/base.py\", line 436, in _validate_params\n",
      "    validate_parameter_constraints(\n",
      "  File \"/Users/yenokhakobyan/miniconda3/lib/python3.11/site-packages/sklearn/utils/_param_validation.py\", line 98, in validate_parameter_constraints\n",
      "    raise InvalidParameterError(\n",
      "sklearn.utils._param_validation.InvalidParameterError: The 'max_features' parameter of DecisionTreeClassifier must be an int in the range [1, inf), a float in the range (0.0, 1.0], a str among {'sqrt', 'log2'} or None. Got 1.1375574713552132 instead.\n",
      "\n",
      "--------------------------------------------------------------------------------\n",
      "2 fits failed with the following error:\n",
      "Traceback (most recent call last):\n",
      "  File \"/Users/yenokhakobyan/miniconda3/lib/python3.11/site-packages/sklearn/model_selection/_validation.py\", line 866, in _fit_and_score\n",
      "    estimator.fit(X_train, y_train, **fit_params)\n",
      "  File \"/Users/yenokhakobyan/miniconda3/lib/python3.11/site-packages/sklearn/base.py\", line 1382, in wrapper\n",
      "    estimator._validate_params()\n",
      "  File \"/Users/yenokhakobyan/miniconda3/lib/python3.11/site-packages/sklearn/base.py\", line 436, in _validate_params\n",
      "    validate_parameter_constraints(\n",
      "  File \"/Users/yenokhakobyan/miniconda3/lib/python3.11/site-packages/sklearn/utils/_param_validation.py\", line 98, in validate_parameter_constraints\n",
      "    raise InvalidParameterError(\n",
      "sklearn.utils._param_validation.InvalidParameterError: The 'max_features' parameter of DecisionTreeClassifier must be an int in the range [1, inf), a float in the range (0.0, 1.0], a str among {'log2', 'sqrt'} or None. Got 1.1375574713552132 instead.\n",
      "\n",
      "--------------------------------------------------------------------------------\n",
      "5 fits failed with the following error:\n",
      "Traceback (most recent call last):\n",
      "  File \"/Users/yenokhakobyan/miniconda3/lib/python3.11/site-packages/sklearn/model_selection/_validation.py\", line 866, in _fit_and_score\n",
      "    estimator.fit(X_train, y_train, **fit_params)\n",
      "  File \"/Users/yenokhakobyan/miniconda3/lib/python3.11/site-packages/sklearn/base.py\", line 1382, in wrapper\n",
      "    estimator._validate_params()\n",
      "  File \"/Users/yenokhakobyan/miniconda3/lib/python3.11/site-packages/sklearn/base.py\", line 436, in _validate_params\n",
      "    validate_parameter_constraints(\n",
      "  File \"/Users/yenokhakobyan/miniconda3/lib/python3.11/site-packages/sklearn/utils/_param_validation.py\", line 98, in validate_parameter_constraints\n",
      "    raise InvalidParameterError(\n",
      "sklearn.utils._param_validation.InvalidParameterError: The 'max_features' parameter of DecisionTreeClassifier must be an int in the range [1, inf), a float in the range (0.0, 1.0], a str among {'log2', 'sqrt'} or None. Got 1.4717120953891039 instead.\n",
      "\n",
      "--------------------------------------------------------------------------------\n",
      "3 fits failed with the following error:\n",
      "Traceback (most recent call last):\n",
      "  File \"/Users/yenokhakobyan/miniconda3/lib/python3.11/site-packages/sklearn/model_selection/_validation.py\", line 866, in _fit_and_score\n",
      "    estimator.fit(X_train, y_train, **fit_params)\n",
      "  File \"/Users/yenokhakobyan/miniconda3/lib/python3.11/site-packages/sklearn/base.py\", line 1382, in wrapper\n",
      "    estimator._validate_params()\n",
      "  File \"/Users/yenokhakobyan/miniconda3/lib/python3.11/site-packages/sklearn/base.py\", line 436, in _validate_params\n",
      "    validate_parameter_constraints(\n",
      "  File \"/Users/yenokhakobyan/miniconda3/lib/python3.11/site-packages/sklearn/utils/_param_validation.py\", line 98, in validate_parameter_constraints\n",
      "    raise InvalidParameterError(\n",
      "sklearn.utils._param_validation.InvalidParameterError: The 'max_features' parameter of DecisionTreeClassifier must be an int in the range [1, inf), a float in the range (0.0, 1.0], a str among {'sqrt', 'log2'} or None. Got 1.0632755719763836 instead.\n",
      "\n",
      "--------------------------------------------------------------------------------\n",
      "2 fits failed with the following error:\n",
      "Traceback (most recent call last):\n",
      "  File \"/Users/yenokhakobyan/miniconda3/lib/python3.11/site-packages/sklearn/model_selection/_validation.py\", line 866, in _fit_and_score\n",
      "    estimator.fit(X_train, y_train, **fit_params)\n",
      "  File \"/Users/yenokhakobyan/miniconda3/lib/python3.11/site-packages/sklearn/base.py\", line 1382, in wrapper\n",
      "    estimator._validate_params()\n",
      "  File \"/Users/yenokhakobyan/miniconda3/lib/python3.11/site-packages/sklearn/base.py\", line 436, in _validate_params\n",
      "    validate_parameter_constraints(\n",
      "  File \"/Users/yenokhakobyan/miniconda3/lib/python3.11/site-packages/sklearn/utils/_param_validation.py\", line 98, in validate_parameter_constraints\n",
      "    raise InvalidParameterError(\n",
      "sklearn.utils._param_validation.InvalidParameterError: The 'max_features' parameter of DecisionTreeClassifier must be an int in the range [1, inf), a float in the range (0.0, 1.0], a str among {'log2', 'sqrt'} or None. Got 1.0632755719763836 instead.\n",
      "\n",
      "--------------------------------------------------------------------------------\n",
      "4 fits failed with the following error:\n",
      "Traceback (most recent call last):\n",
      "  File \"/Users/yenokhakobyan/miniconda3/lib/python3.11/site-packages/sklearn/model_selection/_validation.py\", line 866, in _fit_and_score\n",
      "    estimator.fit(X_train, y_train, **fit_params)\n",
      "  File \"/Users/yenokhakobyan/miniconda3/lib/python3.11/site-packages/sklearn/base.py\", line 1382, in wrapper\n",
      "    estimator._validate_params()\n",
      "  File \"/Users/yenokhakobyan/miniconda3/lib/python3.11/site-packages/sklearn/base.py\", line 436, in _validate_params\n",
      "    validate_parameter_constraints(\n",
      "  File \"/Users/yenokhakobyan/miniconda3/lib/python3.11/site-packages/sklearn/utils/_param_validation.py\", line 98, in validate_parameter_constraints\n",
      "    raise InvalidParameterError(\n",
      "sklearn.utils._param_validation.InvalidParameterError: The 'max_features' parameter of DecisionTreeClassifier must be an int in the range [1, inf), a float in the range (0.0, 1.0], a str among {'sqrt', 'log2'} or None. Got 1.1924360328902703 instead.\n",
      "\n",
      "--------------------------------------------------------------------------------\n",
      "1 fits failed with the following error:\n",
      "Traceback (most recent call last):\n",
      "  File \"/Users/yenokhakobyan/miniconda3/lib/python3.11/site-packages/sklearn/model_selection/_validation.py\", line 866, in _fit_and_score\n",
      "    estimator.fit(X_train, y_train, **fit_params)\n",
      "  File \"/Users/yenokhakobyan/miniconda3/lib/python3.11/site-packages/sklearn/base.py\", line 1382, in wrapper\n",
      "    estimator._validate_params()\n",
      "  File \"/Users/yenokhakobyan/miniconda3/lib/python3.11/site-packages/sklearn/base.py\", line 436, in _validate_params\n",
      "    validate_parameter_constraints(\n",
      "  File \"/Users/yenokhakobyan/miniconda3/lib/python3.11/site-packages/sklearn/utils/_param_validation.py\", line 98, in validate_parameter_constraints\n",
      "    raise InvalidParameterError(\n",
      "sklearn.utils._param_validation.InvalidParameterError: The 'max_features' parameter of DecisionTreeClassifier must be an int in the range [1, inf), a float in the range (0.0, 1.0], a str among {'log2', 'sqrt'} or None. Got 1.1924360328902703 instead.\n",
      "\n",
      "--------------------------------------------------------------------------------\n",
      "5 fits failed with the following error:\n",
      "Traceback (most recent call last):\n",
      "  File \"/Users/yenokhakobyan/miniconda3/lib/python3.11/site-packages/sklearn/model_selection/_validation.py\", line 866, in _fit_and_score\n",
      "    estimator.fit(X_train, y_train, **fit_params)\n",
      "  File \"/Users/yenokhakobyan/miniconda3/lib/python3.11/site-packages/sklearn/base.py\", line 1382, in wrapper\n",
      "    estimator._validate_params()\n",
      "  File \"/Users/yenokhakobyan/miniconda3/lib/python3.11/site-packages/sklearn/base.py\", line 436, in _validate_params\n",
      "    validate_parameter_constraints(\n",
      "  File \"/Users/yenokhakobyan/miniconda3/lib/python3.11/site-packages/sklearn/utils/_param_validation.py\", line 98, in validate_parameter_constraints\n",
      "    raise InvalidParameterError(\n",
      "sklearn.utils._param_validation.InvalidParameterError: The 'max_features' parameter of DecisionTreeClassifier must be an int in the range [1, inf), a float in the range (0.0, 1.0], a str among {'log2', 'sqrt'} or None. Got 1.1807054515547668 instead.\n",
      "\n",
      "--------------------------------------------------------------------------------\n",
      "5 fits failed with the following error:\n",
      "Traceback (most recent call last):\n",
      "  File \"/Users/yenokhakobyan/miniconda3/lib/python3.11/site-packages/sklearn/model_selection/_validation.py\", line 866, in _fit_and_score\n",
      "    estimator.fit(X_train, y_train, **fit_params)\n",
      "  File \"/Users/yenokhakobyan/miniconda3/lib/python3.11/site-packages/sklearn/base.py\", line 1382, in wrapper\n",
      "    estimator._validate_params()\n",
      "  File \"/Users/yenokhakobyan/miniconda3/lib/python3.11/site-packages/sklearn/base.py\", line 436, in _validate_params\n",
      "    validate_parameter_constraints(\n",
      "  File \"/Users/yenokhakobyan/miniconda3/lib/python3.11/site-packages/sklearn/utils/_param_validation.py\", line 98, in validate_parameter_constraints\n",
      "    raise InvalidParameterError(\n",
      "sklearn.utils._param_validation.InvalidParameterError: The 'max_features' parameter of DecisionTreeClassifier must be an int in the range [1, inf), a float in the range (0.0, 1.0], a str among {'sqrt', 'log2'} or None. Got 1.1335297107608948 instead.\n",
      "\n",
      "--------------------------------------------------------------------------------\n",
      "5 fits failed with the following error:\n",
      "Traceback (most recent call last):\n",
      "  File \"/Users/yenokhakobyan/miniconda3/lib/python3.11/site-packages/sklearn/model_selection/_validation.py\", line 866, in _fit_and_score\n",
      "    estimator.fit(X_train, y_train, **fit_params)\n",
      "  File \"/Users/yenokhakobyan/miniconda3/lib/python3.11/site-packages/sklearn/base.py\", line 1382, in wrapper\n",
      "    estimator._validate_params()\n",
      "  File \"/Users/yenokhakobyan/miniconda3/lib/python3.11/site-packages/sklearn/base.py\", line 436, in _validate_params\n",
      "    validate_parameter_constraints(\n",
      "  File \"/Users/yenokhakobyan/miniconda3/lib/python3.11/site-packages/sklearn/utils/_param_validation.py\", line 98, in validate_parameter_constraints\n",
      "    raise InvalidParameterError(\n",
      "sklearn.utils._param_validation.InvalidParameterError: The 'max_features' parameter of DecisionTreeClassifier must be an int in the range [1, inf), a float in the range (0.0, 1.0], a str among {'log2', 'sqrt'} or None. Got 1.012093058299281 instead.\n",
      "\n",
      "--------------------------------------------------------------------------------\n",
      "2 fits failed with the following error:\n",
      "Traceback (most recent call last):\n",
      "  File \"/Users/yenokhakobyan/miniconda3/lib/python3.11/site-packages/sklearn/model_selection/_validation.py\", line 866, in _fit_and_score\n",
      "    estimator.fit(X_train, y_train, **fit_params)\n",
      "  File \"/Users/yenokhakobyan/miniconda3/lib/python3.11/site-packages/sklearn/base.py\", line 1382, in wrapper\n",
      "    estimator._validate_params()\n",
      "  File \"/Users/yenokhakobyan/miniconda3/lib/python3.11/site-packages/sklearn/base.py\", line 436, in _validate_params\n",
      "    validate_parameter_constraints(\n",
      "  File \"/Users/yenokhakobyan/miniconda3/lib/python3.11/site-packages/sklearn/utils/_param_validation.py\", line 98, in validate_parameter_constraints\n",
      "    raise InvalidParameterError(\n",
      "sklearn.utils._param_validation.InvalidParameterError: The 'max_features' parameter of DecisionTreeClassifier must be an int in the range [1, inf), a float in the range (0.0, 1.0], a str among {'sqrt', 'log2'} or None. Got 1.190937738102466 instead.\n",
      "\n",
      "--------------------------------------------------------------------------------\n",
      "3 fits failed with the following error:\n",
      "Traceback (most recent call last):\n",
      "  File \"/Users/yenokhakobyan/miniconda3/lib/python3.11/site-packages/sklearn/model_selection/_validation.py\", line 866, in _fit_and_score\n",
      "    estimator.fit(X_train, y_train, **fit_params)\n",
      "  File \"/Users/yenokhakobyan/miniconda3/lib/python3.11/site-packages/sklearn/base.py\", line 1382, in wrapper\n",
      "    estimator._validate_params()\n",
      "  File \"/Users/yenokhakobyan/miniconda3/lib/python3.11/site-packages/sklearn/base.py\", line 436, in _validate_params\n",
      "    validate_parameter_constraints(\n",
      "  File \"/Users/yenokhakobyan/miniconda3/lib/python3.11/site-packages/sklearn/utils/_param_validation.py\", line 98, in validate_parameter_constraints\n",
      "    raise InvalidParameterError(\n",
      "sklearn.utils._param_validation.InvalidParameterError: The 'max_features' parameter of DecisionTreeClassifier must be an int in the range [1, inf), a float in the range (0.0, 1.0], a str among {'log2', 'sqrt'} or None. Got 1.190937738102466 instead.\n",
      "\n",
      "--------------------------------------------------------------------------------\n",
      "4 fits failed with the following error:\n",
      "Traceback (most recent call last):\n",
      "  File \"/Users/yenokhakobyan/miniconda3/lib/python3.11/site-packages/sklearn/model_selection/_validation.py\", line 866, in _fit_and_score\n",
      "    estimator.fit(X_train, y_train, **fit_params)\n",
      "  File \"/Users/yenokhakobyan/miniconda3/lib/python3.11/site-packages/sklearn/base.py\", line 1382, in wrapper\n",
      "    estimator._validate_params()\n",
      "  File \"/Users/yenokhakobyan/miniconda3/lib/python3.11/site-packages/sklearn/base.py\", line 436, in _validate_params\n",
      "    validate_parameter_constraints(\n",
      "  File \"/Users/yenokhakobyan/miniconda3/lib/python3.11/site-packages/sklearn/utils/_param_validation.py\", line 98, in validate_parameter_constraints\n",
      "    raise InvalidParameterError(\n",
      "sklearn.utils._param_validation.InvalidParameterError: The 'max_features' parameter of DecisionTreeClassifier must be an int in the range [1, inf), a float in the range (0.0, 1.0], a str among {'log2', 'sqrt'} or None. Got 1.1756901170392808 instead.\n",
      "\n",
      "--------------------------------------------------------------------------------\n",
      "1 fits failed with the following error:\n",
      "Traceback (most recent call last):\n",
      "  File \"/Users/yenokhakobyan/miniconda3/lib/python3.11/site-packages/sklearn/model_selection/_validation.py\", line 866, in _fit_and_score\n",
      "    estimator.fit(X_train, y_train, **fit_params)\n",
      "  File \"/Users/yenokhakobyan/miniconda3/lib/python3.11/site-packages/sklearn/base.py\", line 1382, in wrapper\n",
      "    estimator._validate_params()\n",
      "  File \"/Users/yenokhakobyan/miniconda3/lib/python3.11/site-packages/sklearn/base.py\", line 436, in _validate_params\n",
      "    validate_parameter_constraints(\n",
      "  File \"/Users/yenokhakobyan/miniconda3/lib/python3.11/site-packages/sklearn/utils/_param_validation.py\", line 98, in validate_parameter_constraints\n",
      "    raise InvalidParameterError(\n",
      "sklearn.utils._param_validation.InvalidParameterError: The 'max_features' parameter of DecisionTreeClassifier must be an int in the range [1, inf), a float in the range (0.0, 1.0], a str among {'sqrt', 'log2'} or None. Got 1.1756901170392808 instead.\n",
      "\n",
      "--------------------------------------------------------------------------------\n",
      "5 fits failed with the following error:\n",
      "Traceback (most recent call last):\n",
      "  File \"/Users/yenokhakobyan/miniconda3/lib/python3.11/site-packages/sklearn/model_selection/_validation.py\", line 866, in _fit_and_score\n",
      "    estimator.fit(X_train, y_train, **fit_params)\n",
      "  File \"/Users/yenokhakobyan/miniconda3/lib/python3.11/site-packages/sklearn/base.py\", line 1382, in wrapper\n",
      "    estimator._validate_params()\n",
      "  File \"/Users/yenokhakobyan/miniconda3/lib/python3.11/site-packages/sklearn/base.py\", line 436, in _validate_params\n",
      "    validate_parameter_constraints(\n",
      "  File \"/Users/yenokhakobyan/miniconda3/lib/python3.11/site-packages/sklearn/utils/_param_validation.py\", line 98, in validate_parameter_constraints\n",
      "    raise InvalidParameterError(\n",
      "sklearn.utils._param_validation.InvalidParameterError: The 'max_features' parameter of DecisionTreeClassifier must be an int in the range [1, inf), a float in the range (0.0, 1.0], a str among {'log2', 'sqrt'} or None. Got 1.3563242918780924 instead.\n",
      "\n",
      "  warnings.warn(some_fits_failed_message, FitFailedWarning)\n",
      "/Users/yenokhakobyan/miniconda3/lib/python3.11/site-packages/sklearn/model_selection/_search.py:1108: UserWarning: One or more of the test scores are non-finite: [       nan 0.93224684        nan        nan        nan 0.94240506\n",
      "        nan 0.92721519        nan 0.93981013 0.92734177        nan\n",
      " 0.92977848        nan 0.93477848        nan 0.93224684 0.93474684\n",
      "        nan 0.92727848 0.93727848        nan        nan 0.92968354\n",
      " 0.92977848        nan 0.93731013 0.93474684 0.94227848 0.93481013\n",
      " 0.92968354 0.92977848        nan 0.92977848 0.93224684 0.93727848\n",
      " 0.92224684 0.92971519        nan 0.94227848 0.93468354        nan\n",
      " 0.91212025        nan        nan        nan 0.9246519  0.92718354\n",
      " 0.93224684        nan]\n",
      "  warnings.warn(\n"
     ]
    },
    {
     "data": {
      "image/png": "[encoded data removed]",
      "text/plain": [
       "<Figure size 400x300 with 1 Axes>"
      ]
     },
     "metadata": {},
     "output_type": "display_data"
    },
    {
     "name": "stdout",
     "output_type": "stream",
     "text": [
      "\n",
      "==================================================\n",
      "\n"
     ]
    }
   ],
   "source": [
    "dt = DecisionTreeClassifier(random_state=42)\n",
    "\n",
    "# Using RandomizedSearchCV for potentially larger search space\n",
    "dt_param_dist = {\n",
    "    'criterion': ['gini', 'entropy'],\n",
    "    'max_depth': randint(3, 15), # Random integer from 3 to 14\n",
    "    'min_samples_split': randint(2, 20),\n",
    "    'min_samples_leaf': randint(1, 10),\n",
    "    'max_features': uniform(0.5, 1.0) # Random float from 0.5 to 1.0\n",
    "}\n",
    "\n",
    "dt_random_search = RandomizedSearchCV(dt, dt_param_dist, n_iter=50, cv=5, scoring='accuracy', n_jobs=-1, verbose=1, random_state=42)\n",
    "dt_random_search.fit(X_train_scaled, y_train)\n",
    "\n",
    "print(f\"Best Decision Tree parameters: {dt_random_search.best_params_}\")\n",
    "print(f\"Best Decision Tree accuracy: {dt_random_search.best_score_:.4f}\")\n",
    "\n",
    "best_dt_model = dt_random_search.best_estimator_\n",
    "y_pred_dt = best_dt_model.predict(X_test_scaled)\n",
    "y_proba_dt = best_dt_model.predict_proba(X_test_scaled)\n",
    "\n",
    "evaluate_model(y_test, y_pred_dt, y_proba_dt, \"Optimized Decision Tree\")"
   ]
  },
  {
   "cell_type": "markdown",
   "metadata": {},
   "source": [
    "### 4.3. Random Forest (RF)\n",
    "\n",
    "Random Forest is an ensemble method that builds multiple decision trees and merges their predictions. It's a powerful algorithm known for its high accuracy and robustness against overfitting.\n",
    "\n",
    "**Key Hyperparameters:**\n",
    "- `n_estimators`: The number of trees in the forest.\n",
    "- `criterion`, `max_depth`, `min_samples_split`, `min_samples_leaf`, `max_features`: Similar to Decision Tree, but these apply to individual trees within the forest.\n",
    "- `bootstrap`: Whether bootstrap samples are used when building trees."
   ]
  },
  {
   "cell_type": "code",
   "execution_count": 7,
   "metadata": {
    "colab": {
     "base_uri": "https://localhost:8080/",
     "height": 622
    },
    "id": "e6f98293-6b3a-4a8b-967f-859a117b43a9",
    "outputId": "e2d0959f-d3b6-45ef-bd1d-0422119ed275"
   },
   "outputs": [
    {
     "name": "stdout",
     "output_type": "stream",
     "text": [
      "Fitting 5 folds for each of 324 candidates, totalling 1620 fits\n",
      "Best Random Forest parameters: {'max_depth': 5, 'max_features': 'sqrt', 'min_samples_leaf': 1, 'min_samples_split': 2, 'n_estimators': 100}\n",
      "Best Random Forest accuracy: 0.9725\n",
      "### Optimized Random Forest Performance ###\n",
      "Accuracy: 0.9415\n",
      "Precision: 0.9450\n",
      "Recall: 0.9626\n",
      "F1-Score: 0.9537\n",
      "ROC AUC: 0.9893\n",
      "\n",
      "Classification Report:\n",
      "              precision    recall  f1-score   support\n",
      "\n",
      "           0       0.94      0.91      0.92        64\n",
      "           1       0.94      0.96      0.95       107\n",
      "\n",
      "    accuracy                           0.94       171\n",
      "   macro avg       0.94      0.93      0.94       171\n",
      "weighted avg       0.94      0.94      0.94       171\n",
      "\n",
      "\n",
      "Confusion Matrix:\n"
     ]
    },
    {
     "data": {
      "image/png": "[encoded data removed]",
      "text/plain": [
       "<Figure size 400x300 with 1 Axes>"
      ]
     },
     "metadata": {},
     "output_type": "display_data"
    },
    {
     "name": "stdout",
     "output_type": "stream",
     "text": [
      "\n",
      "==================================================\n",
      "\n"
     ]
    }
   ],
   "source": [
    "rf = RandomForestClassifier(random_state=42)\n",
    "\n",
    "rf_param_grid = {\n",
    "    'n_estimators': [100, 200, 300],\n",
    "    'max_depth': [5, 10, 15, None],\n",
    "    'min_samples_split': [2, 5, 10],\n",
    "    'min_samples_leaf': [1, 2, 4],\n",
    "    'max_features': ['sqrt', 'log2', 0.8]\n",
    "}\n",
    "\n",
    "rf_grid_search = GridSearchCV(rf, rf_param_grid, cv=5, scoring='accuracy', n_jobs=-1, verbose=1)\n",
    "rf_grid_search.fit(X_train_scaled, y_train)\n",
    "\n",
    "print(f\"Best Random Forest parameters: {rf_grid_search.best_params_}\")\n",
    "print(f\"Best Random Forest accuracy: {rf_grid_search.best_score_:.4f}\")\n",
    "\n",
    "best_rf_model = rf_grid_search.best_estimator_\n",
    "y_pred_rf = best_rf_model.predict(X_test_scaled)\n",
    "y_proba_rf = best_rf_model.predict_proba(X_test_scaled)\n",
    "\n",
    "evaluate_model(y_test, y_pred_rf, y_proba_rf, \"Optimized Random Forest\")"
   ]
  },
  {
   "cell_type": "markdown",
   "metadata": {},
   "source": [
    "### 4.4. Ensemble Method: Voting Classifier\n",
    "\n",
    "A `VotingClassifier` combines predictions from multiple diverse base models. For 'hard' voting, it uses majority rule. For 'soft' voting, it averages predicted probabilities.\n",
    "\n",
    "**Key Hyperparameters:**\n",
    "- `estimators`: A list of (name, estimator) tuples for the base models.\n",
    "- `voting`: 'hard' or 'soft'. 'soft' usually performs better if base models are well-calibrated and support `predict_proba`.\n",
    "- `weights`: Optional list of weights for individual estimators."
   ]
  },
  {
   "cell_type": "code",
   "execution_count": 8,
   "metadata": {
    "colab": {
     "base_uri": "https://localhost:8080/",
     "height": 622
    },
    "id": "f8a0b0b0-379a-4e2b-8a1a-463d117b43a9",
    "outputId": "34f190e2-d3b6-45ef-bd1d-0422119ed275"
   },
   "outputs": [
    {
     "name": "stdout",
     "output_type": "stream",
     "text": [
      "Fitting 5 folds for each of 3 candidates, totalling 15 fits\n",
      "Best Voting Classifier parameters: {'weights': [1, 1, 1, 1]}\n",
      "Best Voting Classifier accuracy: 0.9775\n",
      "### Optimized Voting Classifier Performance ###\n",
      "Accuracy: 0.9591\n",
      "Precision: 0.9386\n",
      "Recall: 1.0000\n",
      "F1-Score: 0.9683\n",
      "ROC AUC: 0.9939\n",
      "\n",
      "Classification Report:\n",
      "              precision    recall  f1-score   support\n",
      "\n",
      "           0       1.00      0.89      0.94        64\n",
      "           1       0.94      1.00      0.97       107\n",
      "\n",
      "    accuracy                           0.96       171\n",
      "   macro avg       0.97      0.95      0.96       171\n",
      "weighted avg       0.96      0.96      0.96       171\n",
      "\n",
      "\n",
      "Confusion Matrix:\n"
     ]
    },
    {
     "data": {
      "image/png": "[encoded data removed]",
      "text/plain": [
       "<Figure size 400x300 with 1 Axes>"
      ]
     },
     "metadata": {},
     "output_type": "display_data"
    },
    {
     "name": "stdout",
     "output_type": "stream",
     "text": [
      "\n",
      "==================================================\n",
      "\n"
     ]
    }
   ],
   "source": [
    "# Using the best estimators found previously or defining new ones\n",
    "estimator1 = KNeighborsClassifier(n_neighbors=best_knn_model.n_neighbors, weights=best_knn_model.weights, p=best_knn_model.p) # Use optimized KNN\n",
    "estimator2 = DecisionTreeClassifier(random_state=42, **dt_random_search.best_params_) # Use optimized DT\n",
    "estimator3 = RandomForestClassifier(random_state=42, **rf_grid_search.best_params_) # Use optimized RF\n",
    "estimator4 = LogisticRegression(random_state=42, solver='liblinear') # A simple logistic regression\n",
    "\n",
    "voting_clf = VotingClassifier(estimators=[\n",
    "    ('knn', estimator1),\n",
    "    ('dt', estimator2),\n",
    "    ('rf', estimator3),\n",
    "    ('lr', estimator4)\n",
    "], voting='soft', n_jobs=-1) # Use soft voting as models support probabilities\n",
    "\n",
    "# Hyperparameter tuning for VotingClassifier (optional, can tune individual weights or voting type)\n",
    "voting_param_grid = {\n",
    "    'weights': [\n",
    "        [1, 1, 1, 1],\n",
    "        [0.5, 1, 1, 0.5],\n",
    "        [0.2, 0.3, 0.3, 0.2]\n",
    "    ]\n",
    "}\n",
    "\n",
    "voting_grid_search = GridSearchCV(voting_clf, voting_param_grid, cv=5, scoring='accuracy', n_jobs=-1, verbose=1)\n",
    "voting_grid_search.fit(X_train_scaled, y_train)\n",
    "\n",
    "print(f\"Best Voting Classifier parameters: {voting_grid_search.best_params_}\")\n",
    "print(f\"Best Voting Classifier accuracy: {voting_grid_search.best_score_:.4f}\")\n",
    "\n",
    "best_voting_model = voting_grid_search.best_estimator_\n",
    "y_pred_voting = best_voting_model.predict(X_test_scaled)\n",
    "y_proba_voting = best_voting_model.predict_proba(X_test_scaled)\n",
    "\n",
    "evaluate_model(y_test, y_pred_voting, y_proba_voting, \"Optimized Voting Classifier\")"
   ]
  },
  {
   "cell_type": "markdown",
   "metadata": {},
   "source": [
    "### 4.5. Ensemble Method: Stacking Classifier\n",
    "\n",
    "Stacking (or stacked generalization) trains a meta-model to combine the predictions of several base estimators. The base models are trained on the full training data, and the meta-model is trained on the out-of-fold predictions of the base models.\n",
    "\n",
    "**Key Hyperparameters:**\n",
    "- `estimators`: A list of (name, estimator) tuples for the base models.\n",
    "- `final_estimator`: The classifier used to combine the base model predictions.\n",
    "- `cv`: Number of folds for cross-validation to generate predictions for the final estimator.\n",
    "- `passthrough`: If `True`, original features are also passed to the `final_estimator`."
   ]
  },
  {
   "cell_type": "code",
   "execution_count": 9,
   "metadata": {
    "colab": {
     "base_uri": "https://localhost:8080/",
     "height": 622
    },
    "id": "g8a0b0b0-379a-4e2b-8a1a-463d117b43a9",
    "outputId": "34f190e2-d3b6-45ef-bd1d-0422119ed275"
   },
   "outputs": [
    {
     "name": "stdout",
     "output_type": "stream",
     "text": [
      "Fitting 3 folds for each of 6 candidates, totalling 18 fits\n",
      "Best Stacking Classifier parameters: {'final_estimator__C': 0.1, 'passthrough': True}\n",
      "Best Stacking Classifier accuracy: 0.9799\n",
      "### Optimized Stacking Classifier Performance ###\n",
      "Accuracy: 0.9766\n",
      "Precision: 0.9725\n",
      "Recall: 0.9907\n",
      "F1-Score: 0.9815\n",
      "ROC AUC: 0.9965\n",
      "\n",
      "Classification Report:\n",
      "              precision    recall  f1-score   support\n",
      "\n",
      "           0       0.98      0.95      0.97        64\n",
      "           1       0.97      0.99      0.98       107\n",
      "\n",
      "    accuracy                           0.98       171\n",
      "   macro avg       0.98      0.97      0.97       171\n",
      "weighted avg       0.98      0.98      0.98       171\n",
      "\n",
      "\n",
      "Confusion Matrix:\n"
     ]
    },
    {
     "data": {
      "image/png": "[encoded data removed]",
      "text/plain": [
       "<Figure size 400x300 with 1 Axes>"
      ]
     },
     "metadata": {},
     "output_type": "display_data"
    },
    {
     "name": "stdout",
     "output_type": "stream",
     "text": [
      "\n",
      "==================================================\n",
      "\n"
     ]
    }
   ],
   "source": [
    "estimators = [\n",
    "    ('knn', KNeighborsClassifier(n_neighbors=best_knn_model.n_neighbors, weights=best_knn_model.weights, p=best_knn_model.p)),\n",
    "    ('rf', RandomForestClassifier(random_state=42, **rf_grid_search.best_params_)),\n",
    "    ('lr', LogisticRegression(random_state=42, solver='liblinear'))\n",
    "]\n",
    "\n",
    "stacking_clf = StackingClassifier(\n",
    "    estimators=estimators,\n",
    "    final_estimator=LogisticRegression(solver='liblinear', random_state=42),\n",
    "    cv=5, # Use 5-fold cross-validation for generating meta-features\n",
    "    passthrough=False,\n",
    "    n_jobs=-1\n",
    ")\n",
    "\n",
    "# Hyperparameter tuning for Stacking (tuning final_estimator or passthrough)\n",
    "stacking_param_grid = {\n",
    "    'final_estimator__C': [0.1, 1.0, 10],\n",
    "    'passthrough': [True, False]\n",
    "}\n",
    "\n",
    "stacking_grid_search = GridSearchCV(stacking_clf, stacking_param_grid, cv=3, scoring='accuracy', n_jobs=-1, verbose=1)\n",
    "stacking_grid_search.fit(X_train_scaled, y_train)\n",
    "\n",
    "print(f\"Best Stacking Classifier parameters: {stacking_grid_search.best_params_}\")\n",
    "print(f\"Best Stacking Classifier accuracy: {stacking_grid_search.best_score_:.4f}\")\n",
    "\n",
    "best_stacking_model = stacking_grid_search.best_estimator_\n",
    "y_pred_stacking = best_stacking_model.predict(X_test_scaled)\n",
    "y_proba_stacking = best_stacking_model.predict_proba(X_test_scaled)\n",
    "\n",
    "evaluate_model(y_test, y_pred_stacking, y_proba_stacking, \"Optimized Stacking Classifier\")"
   ]
  },
  {
   "cell_type": "markdown",
   "metadata": {},
   "source": [
    "### 4.6. Ensemble Method: AdaBoost Classifier\n",
    "\n",
    "AdaBoost (Adaptive Boosting) is a boosting algorithm that trains a sequence of weak learners (typically decision stumps). Each subsequent learner focuses on the misclassified examples of the previous ones, and the final prediction is a weighted sum of the weak learners' predictions.\n",
    "\n",
    "**Key Hyperparameters:**\n",
    "- `estimator`: The base estimator (default is a DecisionTreeClassifier with `max_depth=1`).\n",
    "- `n_estimators`: The maximum number of estimators at which boosting is terminated.\n",
    "- `learning_rate`: Shrinks the contribution of each estimator. A lower learning rate requires a higher number of estimators."
   ]
  },
  {
   "cell_type": "code",
   "execution_count": 10,
   "metadata": {
    "colab": {
     "base_uri": "https://localhost:8080/",
     "height": 622
    },
    "id": "h8a0b0b0-379a-4e2b-8a1a-463d117b43a9",
    "outputId": "34f190e2-d3b6-45ef-bd1d-0422119ed275"
   },
   "outputs": [
    {
     "name": "stdout",
     "output_type": "stream",
     "text": [
      "Fitting 5 folds for each of 24 candidates, totalling 120 fits\n",
      "Best AdaBoost Classifier parameters: {'estimator': DecisionTreeClassifier(max_depth=2, random_state=42), 'learning_rate': 1.0, 'n_estimators': 50}\n",
      "Best AdaBoost Classifier accuracy: 0.9750\n",
      "### Optimized AdaBoost Classifier Performance ###\n",
      "Accuracy: 0.9649\n",
      "Precision: 0.9633\n",
      "Recall: 0.9813\n",
      "F1-Score: 0.9722\n",
      "ROC AUC: 0.9928\n",
      "\n",
      "Classification Report:\n",
      "              precision    recall  f1-score   support\n",
      "\n",
      "           0       0.97      0.94      0.95        64\n",
      "           1       0.96      0.98      0.97       107\n",
      "\n",
      "    accuracy                           0.96       171\n",
      "   macro avg       0.97      0.96      0.96       171\n",
      "weighted avg       0.96      0.96      0.96       171\n",
      "\n",
      "\n",
      "Confusion Matrix:\n"
     ]
    },
    {
     "data": {
      "image/png": "[encoded data removed]",
      "text/plain": [
       "<Figure size 400x300 with 1 Axes>"
      ]
     },
     "metadata": {},
     "output_type": "display_data"
    },
    {
     "name": "stdout",
     "output_type": "stream",
     "text": [
      "\n",
      "==================================================\n",
      "\n"
     ]
    }
   ],
   "source": [
    "ada = AdaBoostClassifier(random_state=42)\n",
    "\n",
    "ada_param_grid = {\n",
    "    'estimator': [DecisionTreeClassifier(max_depth=1, random_state=42), DecisionTreeClassifier(max_depth=2, random_state=42)], # Weak learners\n",
    "    'n_estimators': [50, 100, 200],\n",
    "    'learning_rate': [0.01, 0.1, 0.5, 1.0]\n",
    "}\n",
    "\n",
    "ada_grid_search = GridSearchCV(ada, ada_param_grid, cv=5, scoring='accuracy', n_jobs=-1, verbose=1)\n",
    "ada_grid_search.fit(X_train_scaled, y_train)\n",
    "\n",
    "print(f\"Best AdaBoost Classifier parameters: {ada_grid_search.best_params_}\")\n",
    "print(f\"Best AdaBoost Classifier accuracy: {ada_grid_search.best_score_:.4f}\")\n",
    "\n",
    "best_ada_model = ada_grid_search.best_estimator_\n",
    "y_pred_ada = best_ada_model.predict(X_test_scaled)\n",
    "y_proba_ada = best_ada_model.predict_proba(X_test_scaled)\n",
    "\n",
    "evaluate_model(y_test, y_pred_ada, y_proba_ada, \"Optimized AdaBoost Classifier\")"
   ]
  },
  {
   "cell_type": "markdown",
   "metadata": {},
   "source": [
    "## 5. Conclusion\n",
    "\n",
    "This notebook demonstrated the implementation and hyperparameter tuning for several powerful classification algorithms, from individual models like KNN and Decision Trees to sophisticated ensemble techniques such as Random Forest, Voting, Stacking, and AdaBoost. Key takeaways include:\n",
    "\n",
    "- **Hyperparameter Tuning is Crucial**: Optimizing hyperparameters significantly improves model performance and generalization. Methods like `GridSearchCV` and `RandomizedSearchCV` automate this process.\n",
    "- **Ensemble Methods Excel**: For complex real-world problems, ensemble methods often outperform single models by reducing bias and variance.\n",
    "- **Data Preprocessing Matters**: Scaling features is essential for distance-based algorithms and generally beneficial for overall model stability.\n",
    "\n",
    "By systematically applying these techniques, data scientists can build highly accurate and robust classification systems for diverse applications."
   ]
  }
 ],
 "metadata": {
  "colab": {
   "private_outputs": true,
   "provenance": []
  },
  "kernelspec": {
   "display_name": "base",
   "language": "python",
   "name": "python3"
  },
  "language_info": {
   "codemirror_mode": {
    "name": "ipython",
    "version": 3
   },
   "file_extension": ".py",
   "mimetype": "text/x-python",
   "name": "python",
   "nbconvert_exporter": "python",
   "pygments_lexer": "ipython3",
   "version": "3.11.6"
  }
 },
 "nbformat": 4,
 "nbformat_minor": 5
}
