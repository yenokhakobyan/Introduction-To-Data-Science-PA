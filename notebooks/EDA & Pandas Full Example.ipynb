{
 "cells": [
  {
   "cell_type": "markdown",
   "id": "bddb9262",
   "metadata": {},
   "source": [
    "\n",
    "\n",
    "# Exploratory Data Analysis and KPIs for App Data\n",
    "\n",
    "This notebook performs a detailed exploratory analysis of the provided datasets (`spend.csv`, `installs.csv`, `activity.csv`, `subscriptions.csv`, `exchange_rates.csv`, `countries.csv`) and computes key performance metrics. We examine each dataset individually (univariate and bivariate analysis) and then combine them to calculate metrics such as CPI, subscription conversion rate, churn proxies, and spending per user. We compare results for US vs non-US regions and highlight notable patterns and insights. All monetary values are normalized using the exchange rate data. The analysis uses Python (Pandas, Matplotlib/Seaborn) with clear narrative and visualization (conceptual figures).\n",
    "\n",
    "## Data Loading and Preprocessing\n"
   ]
  },
  {
   "cell_type": "code",
   "execution_count": 41,
   "id": "17905d39",
   "metadata": {},
   "outputs": [
    {
     "name": "stdout",
     "output_type": "stream",
     "text": [
      "Spend data: (41753, 5)\n",
      "Installs data: (52617, 4)\n",
      "Activity data: (22377, 2)\n",
      "Subscriptions data: (677, 4)\n"
     ]
    }
   ],
   "source": [
    "\n",
    "\n",
    "import pandas as pd\n",
    "import numpy as np\n",
    "import matplotlib.pyplot as plt\n",
    "import seaborn as sns\n",
    "\n",
    "# Load datasets\n",
    "spend = pd.read_csv('helper/EDA & Insights generation Data/spend.csv')\n",
    "installs = pd.read_csv('helper/EDA & Insights generation Data/installs.csv')\n",
    "activity = pd.read_csv('helper/EDA & Insights generation Data/activity.csv')\n",
    "subscriptions = pd.read_csv('helper/EDA & Insights generation Data/subscriptions.csv')\n",
    "exchange_rates = pd.read_csv('helper/EDA & Insights generation Data/exchange_rates.csv')\n",
    "countries = pd.read_csv('helper/EDA & Insights generation Data/countries.csv')\n",
    "\n",
    "# Basic inspection\n",
    "print(\"Spend data:\", spend.shape)\n",
    "print(\"Installs data:\", installs.shape)\n",
    "print(\"Activity data:\", activity.shape)\n",
    "print(\"Subscriptions data:\", subscriptions.shape)"
   ]
  },
  {
   "cell_type": "markdown",
   "id": "5f76b5d4",
   "metadata": {},
   "source": [
    "\n",
    "\n"
   ]
  },
  {
   "cell_type": "markdown",
   "id": "6a9c47a8",
   "metadata": {},
   "source": [
    "\n",
    "We observe that **spend.csv** has \\~41K rows (daily spend by OS and country), **installs.csv** \\~52K rows (device installs), **activity.csv** \\~22K rows (daily user activity events), and **subscriptions.csv** \\~677 rows (user subscriptions). Next, we standardize country codes and platforms for consistency:\n"
   ]
  },
  {
   "cell_type": "code",
   "execution_count": 42,
   "id": "263950a6",
   "metadata": {},
   "outputs": [],
   "source": [
    "\n",
    "\n",
    "# Normalize country codes to lowercase\n",
    "spend['country_code'] = spend['country_code'].str.lower()\n",
    "installs['country_code'] = installs['country_code'].str.lower()\n",
    "\n",
    "# Normalize operating system/platform naming\n",
    "spend['operating_system'] = spend['operating_system'].str.lower().replace({'apple':'ios'})\n",
    "installs['platform'] = installs['platform'].str.lower()\n",
    "\n",
    "# Parse dates\n",
    "spend['date'] = pd.to_datetime(spend['date'])\n",
    "installs['date'] = pd.to_datetime(installs['date'])\n",
    "activity['date'] = pd.to_datetime(activity['date'])\n",
    "subscriptions['payment_date'] = pd.to_datetime(subscriptions['payment_date'])\n"
   ]
  },
  {
   "cell_type": "markdown",
   "id": "d16dbd52",
   "metadata": {},
   "source": [
    "\n",
    "\n",
    "Finally, we merge in country metadata (for region classification) and prepare exchange rates. The `countries.csv` file maps two-letter codes to region (we will use this to tag \"United States\" vs others). Exchange rates data (`usd_to_local`) gives the conversion from USD to local currency on each date; we invert this to convert local prices to USD when needed.\n"
   ]
  },
  {
   "cell_type": "code",
   "execution_count": 43,
   "id": "a281d37b",
   "metadata": {},
   "outputs": [],
   "source": [
    "\n",
    "# Prepare country-region mapping\n",
    "countries_map = countries.set_index('country_code')['region'].str.strip().to_dict()\n",
    "spend['region'] = spend['country_code'].map(countries_map)\n",
    "installs['region'] = installs['country_code'].map(countries_map)\n",
    "\n",
    "# Prepare exchange rates: usd_to_local -> local_to_usd\n",
    "exchange_rates['date'] = pd.to_datetime(exchange_rates['date'])\n",
    "exchange_rates = exchange_rates.rename(columns={'usd_to_local':'usd_to_local'})\n",
    "exchange_rates['local_to_usd'] = 1 / exchange_rates['usd_to_local']\n"
   ]
  },
  {
   "cell_type": "markdown",
   "id": "42f4a038",
   "metadata": {},
   "source": [
    "## 1. Spend Data EDA\n",
    "\n",
    "The **spend** dataset records advertising spend by date, OS (`android` or `ios`), and country. We first examine its overall distribution.\n"
   ]
  },
  {
   "cell_type": "code",
   "execution_count": 44,
   "id": "fc68b6e9",
   "metadata": {},
   "outputs": [
    {
     "data": {
      "text/html": [
       "<div>\n",
       "<style scoped>\n",
       "    .dataframe tbody tr th:only-of-type {\n",
       "        vertical-align: middle;\n",
       "    }\n",
       "\n",
       "    .dataframe tbody tr th {\n",
       "        vertical-align: top;\n",
       "    }\n",
       "\n",
       "    .dataframe thead th {\n",
       "        text-align: right;\n",
       "    }\n",
       "</style>\n",
       "<table border=\"1\" class=\"dataframe\">\n",
       "  <thead>\n",
       "    <tr style=\"text-align: right;\">\n",
       "      <th></th>\n",
       "      <th>date</th>\n",
       "      <th>operating_system</th>\n",
       "      <th>currency</th>\n",
       "      <th>country_code</th>\n",
       "      <th>spend</th>\n",
       "      <th>region</th>\n",
       "    </tr>\n",
       "  </thead>\n",
       "  <tbody>\n",
       "    <tr>\n",
       "      <th>0</th>\n",
       "      <td>2022-08-04</td>\n",
       "      <td>ios</td>\n",
       "      <td>usd</td>\n",
       "      <td>pl</td>\n",
       "      <td>2.242125</td>\n",
       "      <td>Europe</td>\n",
       "    </tr>\n",
       "    <tr>\n",
       "      <th>1</th>\n",
       "      <td>2022-08-04</td>\n",
       "      <td>android</td>\n",
       "      <td>usd</td>\n",
       "      <td>sa</td>\n",
       "      <td>0.795958</td>\n",
       "      <td>Arab Speaking</td>\n",
       "    </tr>\n",
       "    <tr>\n",
       "      <th>2</th>\n",
       "      <td>2022-08-04</td>\n",
       "      <td>ios</td>\n",
       "      <td>usd</td>\n",
       "      <td>it</td>\n",
       "      <td>0.376854</td>\n",
       "      <td>Europe</td>\n",
       "    </tr>\n",
       "    <tr>\n",
       "      <th>3</th>\n",
       "      <td>2022-08-04</td>\n",
       "      <td>ios</td>\n",
       "      <td>usd</td>\n",
       "      <td>co</td>\n",
       "      <td>2.706809</td>\n",
       "      <td>South/Latin America</td>\n",
       "    </tr>\n",
       "    <tr>\n",
       "      <th>4</th>\n",
       "      <td>2022-08-04</td>\n",
       "      <td>android</td>\n",
       "      <td>usd</td>\n",
       "      <td>mx</td>\n",
       "      <td>0.862993</td>\n",
       "      <td>Mexico</td>\n",
       "    </tr>\n",
       "  </tbody>\n",
       "</table>\n",
       "</div>"
      ],
      "text/plain": [
       "        date operating_system currency country_code     spend  \\\n",
       "0 2022-08-04              ios      usd           pl  2.242125   \n",
       "1 2022-08-04          android      usd           sa  0.795958   \n",
       "2 2022-08-04              ios      usd           it  0.376854   \n",
       "3 2022-08-04              ios      usd           co  2.706809   \n",
       "4 2022-08-04          android      usd           mx  0.862993   \n",
       "\n",
       "                region  \n",
       "0               Europe  \n",
       "1        Arab Speaking  \n",
       "2               Europe  \n",
       "3  South/Latin America  \n",
       "4               Mexico  "
      ]
     },
     "execution_count": 44,
     "metadata": {},
     "output_type": "execute_result"
    }
   ],
   "source": [
    "spend.head(5)"
   ]
  },
  {
   "cell_type": "code",
   "execution_count": 45,
   "id": "fc5ad178",
   "metadata": {},
   "outputs": [
    {
     "data": {
      "text/html": [
       "<div>\n",
       "<style scoped>\n",
       "    .dataframe tbody tr th:only-of-type {\n",
       "        vertical-align: middle;\n",
       "    }\n",
       "\n",
       "    .dataframe tbody tr th {\n",
       "        vertical-align: top;\n",
       "    }\n",
       "\n",
       "    .dataframe thead th {\n",
       "        text-align: right;\n",
       "    }\n",
       "</style>\n",
       "<table border=\"1\" class=\"dataframe\">\n",
       "  <thead>\n",
       "    <tr style=\"text-align: right;\">\n",
       "      <th></th>\n",
       "      <th>date</th>\n",
       "      <th>spend</th>\n",
       "    </tr>\n",
       "  </thead>\n",
       "  <tbody>\n",
       "    <tr>\n",
       "      <th>count</th>\n",
       "      <td>41753</td>\n",
       "      <td>41753.000000</td>\n",
       "    </tr>\n",
       "    <tr>\n",
       "      <th>mean</th>\n",
       "      <td>2022-08-30 19:25:19.996167936</td>\n",
       "      <td>1.489882</td>\n",
       "    </tr>\n",
       "    <tr>\n",
       "      <th>min</th>\n",
       "      <td>2022-08-01 00:00:00</td>\n",
       "      <td>0.000032</td>\n",
       "    </tr>\n",
       "    <tr>\n",
       "      <th>25%</th>\n",
       "      <td>2022-08-15 00:00:00</td>\n",
       "      <td>0.409057</td>\n",
       "    </tr>\n",
       "    <tr>\n",
       "      <th>50%</th>\n",
       "      <td>2022-08-31 00:00:00</td>\n",
       "      <td>0.824187</td>\n",
       "    </tr>\n",
       "    <tr>\n",
       "      <th>75%</th>\n",
       "      <td>2022-09-15 00:00:00</td>\n",
       "      <td>2.485545</td>\n",
       "    </tr>\n",
       "    <tr>\n",
       "      <th>max</th>\n",
       "      <td>2022-09-30 00:00:00</td>\n",
       "      <td>4.999983</td>\n",
       "    </tr>\n",
       "    <tr>\n",
       "      <th>std</th>\n",
       "      <td>NaN</td>\n",
       "      <td>1.442977</td>\n",
       "    </tr>\n",
       "  </tbody>\n",
       "</table>\n",
       "</div>"
      ],
      "text/plain": [
       "                                date         spend\n",
       "count                          41753  41753.000000\n",
       "mean   2022-08-30 19:25:19.996167936      1.489882\n",
       "min              2022-08-01 00:00:00      0.000032\n",
       "25%              2022-08-15 00:00:00      0.409057\n",
       "50%              2022-08-31 00:00:00      0.824187\n",
       "75%              2022-09-15 00:00:00      2.485545\n",
       "max              2022-09-30 00:00:00      4.999983\n",
       "std                              NaN      1.442977"
      ]
     },
     "execution_count": 45,
     "metadata": {},
     "output_type": "execute_result"
    }
   ],
   "source": [
    "spend.describe()"
   ]
  },
  {
   "cell_type": "markdown",
   "id": "33ef8007",
   "metadata": {},
   "source": [
    "\n",
    "\n",
    "* **Time Range:** From Aug 1, 2022 to Sep 30, 2022.\n",
    "* **Currency:** All spend is in USD (per `currency` column). We treat these as USD values.\n",
    "* **OS Distribution:** Two categories (`android`, `ios`). We check total spend by OS:\n"
   ]
  },
  {
   "cell_type": "code",
   "execution_count": 46,
   "id": "311481f4",
   "metadata": {},
   "outputs": [
    {
     "data": {
      "text/plain": [
       "operating_system\n",
       "android    10433.334184\n",
       "ios        51773.716899\n",
       "Name: spend, dtype: float64"
      ]
     },
     "execution_count": 46,
     "metadata": {},
     "output_type": "execute_result"
    }
   ],
   "source": [
    "spend.groupby('operating_system')['spend'].sum()\n"
   ]
  },
  {
   "cell_type": "markdown",
   "id": "61f23442",
   "metadata": {},
   "source": [
    "\n",
    "This shows the total spend per platform. We might visualize spend by platform:\n",
    "\n"
   ]
  },
  {
   "cell_type": "code",
   "execution_count": 47,
   "id": "7ec9dfdf",
   "metadata": {},
   "outputs": [
    {
     "data": {
      "text/plain": [
       "Text(0, 0.5, 'Total Spend (USD)')"
      ]
     },
     "execution_count": 47,
     "metadata": {},
     "output_type": "execute_result"
    },
    {
     "data": {
      "image/png": "[encoded data removed]",
      "text/plain": [
       "<Figure size 640x480 with 1 Axes>"
      ]
     },
     "metadata": {},
     "output_type": "display_data"
    }
   ],
   "source": [
    "sns.barplot(data=spend, x='operating_system', y='spend', estimator=np.sum)\n",
    "plt.title(\"Total Spend by Platform\")\n",
    "plt.ylabel(\"Total Spend (USD)\")\n"
   ]
  },
  {
   "cell_type": "markdown",
   "id": "53d8e0e4",
   "metadata": {},
   "source": [
    "\n",
    "* **Country Distribution:** We also examine spend by country:\n"
   ]
  },
  {
   "cell_type": "code",
   "execution_count": 48,
   "id": "596aa720",
   "metadata": {},
   "outputs": [
    {
     "data": {
      "text/plain": [
       "country_code\n",
       "mx    6299.311357\n",
       "us    6260.591157\n",
       "de    5959.810009\n",
       "it    3906.971919\n",
       "ar    3891.149220\n",
       "Name: spend, dtype: float64"
      ]
     },
     "execution_count": 48,
     "metadata": {},
     "output_type": "execute_result"
    }
   ],
   "source": [
    "spend.groupby('country_code')['spend'].sum().sort_values(ascending=False).head(5)"
   ]
  },
  {
   "cell_type": "markdown",
   "id": "3c57856c",
   "metadata": {},
   "source": [
    "\n",
    "This reveals the top countries by total ad spend. A bar chart can illustrate spend by country (grouping smaller ones as \"Other\" for clarity).\n",
    "\n",
    "* **Time Series:** Sum daily spend to see trends:\n"
   ]
  },
  {
   "cell_type": "code",
   "execution_count": 49,
   "id": "cb9e96a4",
   "metadata": {},
   "outputs": [
    {
     "name": "stderr",
     "output_type": "stream",
     "text": [
      "/var/folders/4r/6fydpnls2mg8q1p98g9zqmy00000gn/T/ipykernel_71377/369066558.py:22: UserWarning: Glyph 128200 (\\N{CHART WITH UPWARDS TREND}) missing from current font.\n",
      "  plt.tight_layout()\n",
      "/Users/yenokhakobyan/miniconda3/lib/python3.11/site-packages/IPython/core/pylabtools.py:152: UserWarning: Glyph 128200 (\\N{CHART WITH UPWARDS TREND}) missing from current font.\n",
      "  fig.canvas.print_figure(bytes_io, **kw)\n"
     ]
    },
    {
     "data": {
      "image/png": "[encoded data removed]",
      "text/plain": [
       "<Figure size 1200x600 with 1 Axes>"
      ]
     },
     "metadata": {},
     "output_type": "display_data"
    }
   ],
   "source": [
    "import matplotlib.dates as mdates\n",
    "\n",
    "# Aggregate data\n",
    "daily_spend = spend.groupby('date')['spend'].sum().reset_index()\n",
    "\n",
    "# Set figure size and style\n",
    "plt.figure(figsize=(12, 6))\n",
    "sns.lineplot(data=daily_spend, x='date', y='spend', linewidth=2.5, color='steelblue')\n",
    "\n",
    "# Title and labels\n",
    "plt.title(\"📈 Daily Advertising Spend (All Regions)\", fontsize=16, weight='bold', pad=20)\n",
    "plt.xlabel(\"Date\", fontsize=12)\n",
    "plt.ylabel(\"Spend (USD)\", fontsize=12)\n",
    "\n",
    "# Format x-axis to show weekly ticks\n",
    "plt.gca().xaxis.set_major_locator(mdates.WeekdayLocator(interval=1))\n",
    "plt.gca().xaxis.set_major_formatter(mdates.DateFormatter('%b %d'))\n",
    "\n",
    "# Rotate labels and tighten layout\n",
    "plt.xticks(rotation=45)\n",
    "plt.grid(True, linestyle='--', alpha=0.6)\n",
    "plt.tight_layout()\n",
    "\n",
    "plt.show()\n"
   ]
  },
  {
   "cell_type": "markdown",
   "id": "26049cf9",
   "metadata": {},
   "source": [
    "\n",
    "We note whether spend trends upward or downward over the two months, and any weekend patterns.\n",
    "\n",
    "* **Univariate Patterns:** Histograms or boxplots of spend per-day/region can show variance. For example, distribution of daily spend values:\n"
   ]
  },
  {
   "cell_type": "code",
   "execution_count": 50,
   "id": "2d360326",
   "metadata": {},
   "outputs": [
    {
     "data": {
      "text/plain": [
       "Text(0.5, 1.0, 'Distribution of Daily Spend')"
      ]
     },
     "execution_count": 50,
     "metadata": {},
     "output_type": "execute_result"
    },
    {
     "data": {
      "image/png": "[encoded data removed]",
      "text/plain": [
       "<Figure size 640x480 with 1 Axes>"
      ]
     },
     "metadata": {},
     "output_type": "display_data"
    }
   ],
   "source": [
    "\n",
    "sns.histplot(daily_spend['spend'], bins=20)\n",
    "plt.title(\"Distribution of Daily Spend\")\n"
   ]
  },
  {
   "cell_type": "markdown",
   "id": "fb42a39f",
   "metadata": {},
   "source": [
    "\n",
    "**Key observations:** Early analysis may show higher spend on certain dates, and differences between iOS vs Android budgeting.\n"
   ]
  },
  {
   "cell_type": "markdown",
   "id": "8b3700d0",
   "metadata": {},
   "source": [
    "\n",
    "\n",
    "## 2. Installs Data EDA\n",
    "\n",
    "The **installs** dataset lists each device installation by date, OS (`android` or `ios`), and country. This data is used to compute installation counts and user acquisition metrics.\n"
   ]
  },
  {
   "cell_type": "code",
   "execution_count": 51,
   "id": "1d0e7735",
   "metadata": {},
   "outputs": [
    {
     "data": {
      "text/html": [
       "<div>\n",
       "<style scoped>\n",
       "    .dataframe tbody tr th:only-of-type {\n",
       "        vertical-align: middle;\n",
       "    }\n",
       "\n",
       "    .dataframe tbody tr th {\n",
       "        vertical-align: top;\n",
       "    }\n",
       "\n",
       "    .dataframe thead th {\n",
       "        text-align: right;\n",
       "    }\n",
       "</style>\n",
       "<table border=\"1\" class=\"dataframe\">\n",
       "  <thead>\n",
       "    <tr style=\"text-align: right;\">\n",
       "      <th></th>\n",
       "      <th>device_id</th>\n",
       "      <th>platform</th>\n",
       "      <th>date</th>\n",
       "      <th>country_code</th>\n",
       "      <th>region</th>\n",
       "    </tr>\n",
       "  </thead>\n",
       "  <tbody>\n",
       "    <tr>\n",
       "      <th>0</th>\n",
       "      <td>2ad4f670e29b2d1ba0fcaaeab3b962549be9ba282dd9fc...</td>\n",
       "      <td>ios</td>\n",
       "      <td>2022-08-07</td>\n",
       "      <td>cl</td>\n",
       "      <td>South/Latin America</td>\n",
       "    </tr>\n",
       "    <tr>\n",
       "      <th>1</th>\n",
       "      <td>d89bdb2046d72e48e4f467bf6cbd9a85c54adae7a64616...</td>\n",
       "      <td>android</td>\n",
       "      <td>2022-08-07</td>\n",
       "      <td>us</td>\n",
       "      <td>United States</td>\n",
       "    </tr>\n",
       "    <tr>\n",
       "      <th>2</th>\n",
       "      <td>3ac079586baa96cd04e18ec38cdc3b4d13336c312d4474...</td>\n",
       "      <td>android</td>\n",
       "      <td>2022-08-07</td>\n",
       "      <td>it</td>\n",
       "      <td>Europe</td>\n",
       "    </tr>\n",
       "    <tr>\n",
       "      <th>3</th>\n",
       "      <td>80571adac822de087832a93a85adbfd1250443316b4d57...</td>\n",
       "      <td>android</td>\n",
       "      <td>2022-08-07</td>\n",
       "      <td>ca</td>\n",
       "      <td>North America</td>\n",
       "    </tr>\n",
       "    <tr>\n",
       "      <th>4</th>\n",
       "      <td>871ff8bf055f15b52756c0e7e485e56b9ac4b31c996ddd...</td>\n",
       "      <td>android</td>\n",
       "      <td>2022-08-07</td>\n",
       "      <td>ca</td>\n",
       "      <td>North America</td>\n",
       "    </tr>\n",
       "  </tbody>\n",
       "</table>\n",
       "</div>"
      ],
      "text/plain": [
       "                                           device_id platform       date  \\\n",
       "0  2ad4f670e29b2d1ba0fcaaeab3b962549be9ba282dd9fc...      ios 2022-08-07   \n",
       "1  d89bdb2046d72e48e4f467bf6cbd9a85c54adae7a64616...  android 2022-08-07   \n",
       "2  3ac079586baa96cd04e18ec38cdc3b4d13336c312d4474...  android 2022-08-07   \n",
       "3  80571adac822de087832a93a85adbfd1250443316b4d57...  android 2022-08-07   \n",
       "4  871ff8bf055f15b52756c0e7e485e56b9ac4b31c996ddd...  android 2022-08-07   \n",
       "\n",
       "  country_code               region  \n",
       "0           cl  South/Latin America  \n",
       "1           us        United States  \n",
       "2           it               Europe  \n",
       "3           ca        North America  \n",
       "4           ca        North America  "
      ]
     },
     "execution_count": 51,
     "metadata": {},
     "output_type": "execute_result"
    }
   ],
   "source": [
    "installs.head(5)"
   ]
  },
  {
   "cell_type": "markdown",
   "id": "346635d2",
   "metadata": {},
   "source": [
    "\n",
    "* **Counts by Platform and Country:** We count installs:\n"
   ]
  },
  {
   "cell_type": "code",
   "execution_count": 52,
   "id": "1ec7ad75",
   "metadata": {},
   "outputs": [
    {
     "data": {
      "text/plain": [
       "country_code\n",
       "ca    3595\n",
       "co    3583\n",
       "in    3577\n",
       "us    3561\n",
       "ar    3554\n",
       "Name: device_id, dtype: int64"
      ]
     },
     "execution_count": 52,
     "metadata": {},
     "output_type": "execute_result"
    }
   ],
   "source": [
    "installs.groupby('platform')['device_id'].nunique()\n",
    "installs.groupby('country_code')['device_id'].nunique().sort_values(ascending=False).head(5)"
   ]
  },
  {
   "cell_type": "code",
   "execution_count": 53,
   "id": "5473f8cd",
   "metadata": {},
   "outputs": [
    {
     "data": {
      "text/plain": [
       "Text(0.5, 1.0, 'Daily Installs (All Regions)')"
      ]
     },
     "execution_count": 53,
     "metadata": {},
     "output_type": "execute_result"
    },
    {
     "data": {
      "image/png": "[encoded data removed]",
      "text/plain": [
       "<Figure size 640x480 with 1 Axes>"
      ]
     },
     "metadata": {},
     "output_type": "display_data"
    }
   ],
   "source": [
    "daily_installs = installs.groupby('date').size().reset_index(name='installs')\n",
    "sns.lineplot(data=daily_installs, x='date', y='installs')\n",
    "plt.title(\"Daily Installs (All Regions)\")"
   ]
  },
  {
   "cell_type": "markdown",
   "id": "c4e76f7c",
   "metadata": {},
   "source": [
    "\n",
    "* **OS vs Installs:** Compare iOS vs Android installs over time or in total:\n"
   ]
  },
  {
   "cell_type": "code",
   "execution_count": 54,
   "id": "a96e8404",
   "metadata": {},
   "outputs": [
    {
     "data": {
      "text/plain": [
       "Text(0.5, 1.0, 'Daily Installs by Platform')"
      ]
     },
     "execution_count": 54,
     "metadata": {},
     "output_type": "execute_result"
    },
    {
     "data": {
      "image/png": "[encoded data removed]",
      "text/plain": [
       "<Figure size 640x480 with 1 Axes>"
      ]
     },
     "metadata": {},
     "output_type": "display_data"
    }
   ],
   "source": [
    "installs_by_os = installs.groupby(['date','platform']).size().reset_index(name='count')\n",
    "sns.lineplot(data=installs_by_os, x='date', y='count', hue='platform')\n",
    "plt.title(\"Daily Installs by Platform\")"
   ]
  },
  {
   "cell_type": "markdown",
   "id": "897f04e3",
   "metadata": {},
   "source": [
    "\n",
    "* **Country Patterns:** Check top countries by install count:\n"
   ]
  },
  {
   "cell_type": "code",
   "execution_count": 55,
   "id": "5ce80a9e",
   "metadata": {},
   "outputs": [
    {
     "data": {
      "text/plain": [
       "country_code\n",
       "ca    3595\n",
       "co    3583\n",
       "in    3577\n",
       "us    3561\n",
       "ar    3554\n",
       "dtype: int64"
      ]
     },
     "execution_count": 55,
     "metadata": {},
     "output_type": "execute_result"
    }
   ],
   "source": [
    "installs.groupby('country_code').size().sort_values(ascending=False).head(5)"
   ]
  },
  {
   "cell_type": "markdown",
   "id": "06e4c3fa",
   "metadata": {},
   "source": [
    "\n",
    "This tells us which countries drove most installs.\n",
    "\n",
    "**Insight:** We expect larger markets (e.g., US, Brazil, etc.) to have more installs. We also examine if installs correlate with spend by region.\n",
    "\n",
    "* **Bivariate Analysis:** We can examine if certain countries have higher spending per install (leading to CPI differences). We prepare for CPI computation by merging spend and installs later.\n",
    "\n",
    "*Figure: Example of a line chart (ecological footprint vs. biocapacity over time). Line charts visualize trends over time; here, daily installs are plotted to reveal uptake patterns.*\n"
   ]
  },
  {
   "cell_type": "markdown",
   "id": "240c22d6",
   "metadata": {},
   "source": [
    "\n",
    "## 3. Activity Data EDA\n",
    "\n",
    "The **activity** log contains device activity by date (each row: `device_id` on a given date). It reflects usage or engagement events. We use it to gauge user activity and churn proxies.\n"
   ]
  },
  {
   "cell_type": "code",
   "execution_count": 56,
   "id": "1b010be0",
   "metadata": {},
   "outputs": [
    {
     "data": {
      "text/html": [
       "<div>\n",
       "<style scoped>\n",
       "    .dataframe tbody tr th:only-of-type {\n",
       "        vertical-align: middle;\n",
       "    }\n",
       "\n",
       "    .dataframe tbody tr th {\n",
       "        vertical-align: top;\n",
       "    }\n",
       "\n",
       "    .dataframe thead th {\n",
       "        text-align: right;\n",
       "    }\n",
       "</style>\n",
       "<table border=\"1\" class=\"dataframe\">\n",
       "  <thead>\n",
       "    <tr style=\"text-align: right;\">\n",
       "      <th></th>\n",
       "      <th>device_id</th>\n",
       "      <th>date</th>\n",
       "    </tr>\n",
       "  </thead>\n",
       "  <tbody>\n",
       "    <tr>\n",
       "      <th>0</th>\n",
       "      <td>7fe9c947663c37bb0fd5aabccc0f4108a00a9eb433ff00...</td>\n",
       "      <td>2022-09-22</td>\n",
       "    </tr>\n",
       "    <tr>\n",
       "      <th>1</th>\n",
       "      <td>8b1bda79ff714784b37cf7f3a1d1f7c9ee92644829e138...</td>\n",
       "      <td>2022-09-22</td>\n",
       "    </tr>\n",
       "    <tr>\n",
       "      <th>2</th>\n",
       "      <td>ae50b5b5b766d624b17b7236993e48ed8b3a89fd1fd044...</td>\n",
       "      <td>2022-09-22</td>\n",
       "    </tr>\n",
       "    <tr>\n",
       "      <th>3</th>\n",
       "      <td>6c09a27ef72010c82b8eb9a1b90ad7eb21616c16074781...</td>\n",
       "      <td>2022-09-22</td>\n",
       "    </tr>\n",
       "    <tr>\n",
       "      <th>4</th>\n",
       "      <td>215cbb13f207bbd020c1d6735deb35162172356cf96823...</td>\n",
       "      <td>2022-09-22</td>\n",
       "    </tr>\n",
       "  </tbody>\n",
       "</table>\n",
       "</div>"
      ],
      "text/plain": [
       "                                           device_id       date\n",
       "0  7fe9c947663c37bb0fd5aabccc0f4108a00a9eb433ff00... 2022-09-22\n",
       "1  8b1bda79ff714784b37cf7f3a1d1f7c9ee92644829e138... 2022-09-22\n",
       "2  ae50b5b5b766d624b17b7236993e48ed8b3a89fd1fd044... 2022-09-22\n",
       "3  6c09a27ef72010c82b8eb9a1b90ad7eb21616c16074781... 2022-09-22\n",
       "4  215cbb13f207bbd020c1d6735deb35162172356cf96823... 2022-09-22"
      ]
     },
     "execution_count": 56,
     "metadata": {},
     "output_type": "execute_result"
    }
   ],
   "source": [
    "activity.head(5)"
   ]
  },
  {
   "cell_type": "code",
   "execution_count": 57,
   "id": "d39b39f5",
   "metadata": {},
   "outputs": [
    {
     "data": {
      "text/html": [
       "<div>\n",
       "<style scoped>\n",
       "    .dataframe tbody tr th:only-of-type {\n",
       "        vertical-align: middle;\n",
       "    }\n",
       "\n",
       "    .dataframe tbody tr th {\n",
       "        vertical-align: top;\n",
       "    }\n",
       "\n",
       "    .dataframe thead th {\n",
       "        text-align: right;\n",
       "    }\n",
       "</style>\n",
       "<table border=\"1\" class=\"dataframe\">\n",
       "  <thead>\n",
       "    <tr style=\"text-align: right;\">\n",
       "      <th></th>\n",
       "      <th>date</th>\n",
       "    </tr>\n",
       "  </thead>\n",
       "  <tbody>\n",
       "    <tr>\n",
       "      <th>count</th>\n",
       "      <td>22377</td>\n",
       "    </tr>\n",
       "    <tr>\n",
       "      <th>mean</th>\n",
       "      <td>2022-09-07 07:39:55.334495232</td>\n",
       "    </tr>\n",
       "    <tr>\n",
       "      <th>min</th>\n",
       "      <td>2022-08-01 00:00:00</td>\n",
       "    </tr>\n",
       "    <tr>\n",
       "      <th>25%</th>\n",
       "      <td>2022-08-23 00:00:00</td>\n",
       "    </tr>\n",
       "    <tr>\n",
       "      <th>50%</th>\n",
       "      <td>2022-09-08 00:00:00</td>\n",
       "    </tr>\n",
       "    <tr>\n",
       "      <th>75%</th>\n",
       "      <td>2022-09-23 00:00:00</td>\n",
       "    </tr>\n",
       "    <tr>\n",
       "      <th>max</th>\n",
       "      <td>2022-10-10 00:00:00</td>\n",
       "    </tr>\n",
       "  </tbody>\n",
       "</table>\n",
       "</div>"
      ],
      "text/plain": [
       "                                date\n",
       "count                          22377\n",
       "mean   2022-09-07 07:39:55.334495232\n",
       "min              2022-08-01 00:00:00\n",
       "25%              2022-08-23 00:00:00\n",
       "50%              2022-09-08 00:00:00\n",
       "75%              2022-09-23 00:00:00\n",
       "max              2022-10-10 00:00:00"
      ]
     },
     "execution_count": 57,
     "metadata": {},
     "output_type": "execute_result"
    }
   ],
   "source": [
    "activity.describe()"
   ]
  },
  {
   "cell_type": "markdown",
   "id": "fc03d5af",
   "metadata": {},
   "source": [
    "\n",
    "* **Active Days per User:** Count how many unique days each user is active:\n"
   ]
  },
  {
   "cell_type": "code",
   "execution_count": 58,
   "id": "f204397c",
   "metadata": {},
   "outputs": [
    {
     "data": {
      "text/plain": [
       "Text(0.5, 1.0, 'Distribution of Active Days per User')"
      ]
     },
     "execution_count": 58,
     "metadata": {},
     "output_type": "execute_result"
    },
    {
     "data": {
      "image/png": "[encoded data removed]",
      "text/plain": [
       "<Figure size 640x480 with 1 Axes>"
      ]
     },
     "metadata": {},
     "output_type": "display_data"
    }
   ],
   "source": [
    "user_active_days = activity.groupby('device_id')['date'].nunique().reset_index(name='active_days')\n",
    "sns.histplot(user_active_days['active_days'], bins=range(1, user_active_days['active_days'].max()+2))\n",
    "plt.title(\"Distribution of Active Days per User\")"
   ]
  },
  {
   "cell_type": "markdown",
   "id": "d2f38d67",
   "metadata": {},
   "source": [
    "\n",
    "Many users may have 1-day activity (signaling one-time use), while others have multi-day engagement.\n"
   ]
  },
  {
   "cell_type": "markdown",
   "id": "74d68f79",
   "metadata": {},
   "source": [
    "\n",
    "* **Churn Proxy:** We define a simple churn proxy: the fraction of users active only once. Alternatively, retention rates: e.g., percentage of users who return after 7 days. For example:\n"
   ]
  },
  {
   "cell_type": "code",
   "execution_count": 59,
   "id": "51d6907e",
   "metadata": {},
   "outputs": [
    {
     "name": "stdout",
     "output_type": "stream",
     "text": [
      "Percentage of users active only 1 day: 71.7%\n"
     ]
    }
   ],
   "source": [
    "one_day_users = (user_active_days['active_days'] == 1).mean() * 100\n",
    "print(f\"Percentage of users active only 1 day: {one_day_users:.1f}%\")"
   ]
  },
  {
   "cell_type": "markdown",
   "id": "5bcbe200",
   "metadata": {},
   "source": [
    "\n",
    "```python\n",
    "\n",
    "```\n"
   ]
  },
  {
   "cell_type": "markdown",
   "id": "c78aba8b",
   "metadata": {},
   "source": [
    "\n",
    "A high one-day-use percentage suggests poor retention. We also compute how many users had activity on multiple distinct days (a stronger engagement):\n"
   ]
  },
  {
   "cell_type": "code",
   "execution_count": 60,
   "id": "6e35e499",
   "metadata": {},
   "outputs": [
    {
     "name": "stdout",
     "output_type": "stream",
     "text": [
      "Users active on >1 day: 28.3%\n"
     ]
    }
   ],
   "source": [
    "multi_day_users = (user_active_days['active_days'] > 1).mean() * 100\n",
    "print(f\"Users active on >1 day: {multi_day_users:.1f}%\")"
   ]
  },
  {
   "cell_type": "markdown",
   "id": "d4a5783a",
   "metadata": {},
   "source": [
    "\n",
    "* **Temporal Activity:** Count total daily active users:\n"
   ]
  },
  {
   "cell_type": "code",
   "execution_count": 61,
   "id": "c76662dc",
   "metadata": {},
   "outputs": [
    {
     "data": {
      "text/plain": [
       "Text(0.5, 1.0, 'Daily Active Users')"
      ]
     },
     "execution_count": 61,
     "metadata": {},
     "output_type": "execute_result"
    },
    {
     "data": {
      "image/png": "[encoded data removed]",
      "text/plain": [
       "<Figure size 640x480 with 1 Axes>"
      ]
     },
     "metadata": {},
     "output_type": "display_data"
    }
   ],
   "source": [
    "daily_active = activity.groupby('date')['device_id'].nunique().reset_index(name='active_users')\n",
    "sns.lineplot(data=daily_active, x='date', y='active_users')\n",
    "plt.title(\"Daily Active Users\")"
   ]
  },
  {
   "cell_type": "markdown",
   "id": "2953bc2b",
   "metadata": {},
   "source": [
    "\n",
    "Compare this curve to daily installs to see if usage follows acquisitions.\n",
    "\n",
    "**Insight:** If many users churn (never return), it will reflect in a fast drop-off in daily active counts relative to installs.\n"
   ]
  },
  {
   "cell_type": "markdown",
   "id": "ec2bc70a",
   "metadata": {},
   "source": [
    "\n",
    "## 4. Subscriptions Data EDA\n",
    "\n",
    "The **subscriptions** data lists paid subscriptions (one per payment). It includes `device_id`, `payment_date`, `currency`, and `price` (in local currency). We use the exchange rates to convert all prices to USD for consistency.\n"
   ]
  },
  {
   "cell_type": "code",
   "execution_count": 62,
   "id": "5dad6c98",
   "metadata": {},
   "outputs": [
    {
     "data": {
      "text/html": [
       "<div>\n",
       "<style scoped>\n",
       "    .dataframe tbody tr th:only-of-type {\n",
       "        vertical-align: middle;\n",
       "    }\n",
       "\n",
       "    .dataframe tbody tr th {\n",
       "        vertical-align: top;\n",
       "    }\n",
       "\n",
       "    .dataframe thead th {\n",
       "        text-align: right;\n",
       "    }\n",
       "</style>\n",
       "<table border=\"1\" class=\"dataframe\">\n",
       "  <thead>\n",
       "    <tr style=\"text-align: right;\">\n",
       "      <th></th>\n",
       "      <th>device_id</th>\n",
       "      <th>payment_date</th>\n",
       "      <th>currency</th>\n",
       "      <th>price</th>\n",
       "    </tr>\n",
       "  </thead>\n",
       "  <tbody>\n",
       "    <tr>\n",
       "      <th>0</th>\n",
       "      <td>616e13739751f69fc77004a985ab6ed17815da28e15ab9...</td>\n",
       "      <td>2022-08-02 01:15:12.038000+00:00</td>\n",
       "      <td>BRL</td>\n",
       "      <td>26.322809</td>\n",
       "    </tr>\n",
       "    <tr>\n",
       "      <th>1</th>\n",
       "      <td>41213621a06d52f2443b8135a9894d74856373dcf41a97...</td>\n",
       "      <td>2022-08-25 05:47:46.587000+00:00</td>\n",
       "      <td>CAD</td>\n",
       "      <td>149.871625</td>\n",
       "    </tr>\n",
       "    <tr>\n",
       "      <th>2</th>\n",
       "      <td>e6c8081cb3c396ed4b9b2976a6f622bf3adc6ba73daf5c...</td>\n",
       "      <td>2022-08-22 23:59:59.087000+00:00</td>\n",
       "      <td>CLP</td>\n",
       "      <td>25.866418</td>\n",
       "    </tr>\n",
       "    <tr>\n",
       "      <th>3</th>\n",
       "      <td>55c02f94bc01f16ce4876b40ac5b18f01eeaa29aed98c1...</td>\n",
       "      <td>2022-08-30 15:52:28.470000+00:00</td>\n",
       "      <td>PLN</td>\n",
       "      <td>48.483478</td>\n",
       "    </tr>\n",
       "    <tr>\n",
       "      <th>4</th>\n",
       "      <td>78c9fb82cedc429ba096f4a7d7fcc5144a5eb024c47427...</td>\n",
       "      <td>2022-08-07 02:52:25.688000+00:00</td>\n",
       "      <td>CLP</td>\n",
       "      <td>12.577979</td>\n",
       "    </tr>\n",
       "  </tbody>\n",
       "</table>\n",
       "</div>"
      ],
      "text/plain": [
       "                                           device_id  \\\n",
       "0  616e13739751f69fc77004a985ab6ed17815da28e15ab9...   \n",
       "1  41213621a06d52f2443b8135a9894d74856373dcf41a97...   \n",
       "2  e6c8081cb3c396ed4b9b2976a6f622bf3adc6ba73daf5c...   \n",
       "3  55c02f94bc01f16ce4876b40ac5b18f01eeaa29aed98c1...   \n",
       "4  78c9fb82cedc429ba096f4a7d7fcc5144a5eb024c47427...   \n",
       "\n",
       "                      payment_date currency       price  \n",
       "0 2022-08-02 01:15:12.038000+00:00      BRL   26.322809  \n",
       "1 2022-08-25 05:47:46.587000+00:00      CAD  149.871625  \n",
       "2 2022-08-22 23:59:59.087000+00:00      CLP   25.866418  \n",
       "3 2022-08-30 15:52:28.470000+00:00      PLN   48.483478  \n",
       "4 2022-08-07 02:52:25.688000+00:00      CLP   12.577979  "
      ]
     },
     "execution_count": 62,
     "metadata": {},
     "output_type": "execute_result"
    }
   ],
   "source": [
    "subscriptions.head(5)"
   ]
  },
  {
   "cell_type": "code",
   "execution_count": 63,
   "id": "bc2401e9",
   "metadata": {},
   "outputs": [
    {
     "data": {
      "text/plain": [
       "currency\n",
       "EUR    124\n",
       "CLP     61\n",
       "CAD     52\n",
       "MXN     50\n",
       "BRL     48\n",
       "PLN     46\n",
       "COP     46\n",
       "USD     46\n",
       "ARS     43\n",
       "INR     43\n",
       "GBP     42\n",
       "JPY     39\n",
       "ZAR     37\n",
       "Name: count, dtype: int64"
      ]
     },
     "execution_count": 63,
     "metadata": {},
     "output_type": "execute_result"
    }
   ],
   "source": [
    "subscriptions['currency'].value_counts()"
   ]
  },
  {
   "cell_type": "markdown",
   "id": "5c68c44a",
   "metadata": {},
   "source": [
    "\n",
    "We see various currencies (USD, EUR, BRL, etc.). We merge with exchange rates by date and currency:\n"
   ]
  },
  {
   "cell_type": "code",
   "execution_count": 64,
   "id": "aae142f9",
   "metadata": {},
   "outputs": [
    {
     "data": {
      "text/html": [
       "<div>\n",
       "<style scoped>\n",
       "    .dataframe tbody tr th:only-of-type {\n",
       "        vertical-align: middle;\n",
       "    }\n",
       "\n",
       "    .dataframe tbody tr th {\n",
       "        vertical-align: top;\n",
       "    }\n",
       "\n",
       "    .dataframe thead th {\n",
       "        text-align: right;\n",
       "    }\n",
       "</style>\n",
       "<table border=\"1\" class=\"dataframe\">\n",
       "  <thead>\n",
       "    <tr style=\"text-align: right;\">\n",
       "      <th></th>\n",
       "      <th>currency</th>\n",
       "      <th>price</th>\n",
       "      <th>usd_to_local</th>\n",
       "      <th>price_usd</th>\n",
       "    </tr>\n",
       "  </thead>\n",
       "  <tbody>\n",
       "    <tr>\n",
       "      <th>0</th>\n",
       "      <td>BRL</td>\n",
       "      <td>26.322809</td>\n",
       "      <td>5.279203</td>\n",
       "      <td>4.986133</td>\n",
       "    </tr>\n",
       "    <tr>\n",
       "      <th>1</th>\n",
       "      <td>CAD</td>\n",
       "      <td>149.871625</td>\n",
       "      <td>1.293825</td>\n",
       "      <td>115.836087</td>\n",
       "    </tr>\n",
       "    <tr>\n",
       "      <th>2</th>\n",
       "      <td>CLP</td>\n",
       "      <td>25.866418</td>\n",
       "      <td>938.000054</td>\n",
       "      <td>0.027576</td>\n",
       "    </tr>\n",
       "    <tr>\n",
       "      <th>3</th>\n",
       "      <td>PLN</td>\n",
       "      <td>48.483478</td>\n",
       "      <td>4.713350</td>\n",
       "      <td>10.286416</td>\n",
       "    </tr>\n",
       "    <tr>\n",
       "      <th>4</th>\n",
       "      <td>CLP</td>\n",
       "      <td>12.577979</td>\n",
       "      <td>918.140233</td>\n",
       "      <td>0.013699</td>\n",
       "    </tr>\n",
       "  </tbody>\n",
       "</table>\n",
       "</div>"
      ],
      "text/plain": [
       "  currency       price  usd_to_local   price_usd\n",
       "0      BRL   26.322809      5.279203    4.986133\n",
       "1      CAD  149.871625      1.293825  115.836087\n",
       "2      CLP   25.866418    938.000054    0.027576\n",
       "3      PLN   48.483478      4.713350   10.286416\n",
       "4      CLP   12.577979    918.140233    0.013699"
      ]
     },
     "execution_count": 64,
     "metadata": {},
     "output_type": "execute_result"
    }
   ],
   "source": [
    "# Extract date part from payment_date for joining (exchange rates are daily)\n",
    "subscriptions['date'] = subscriptions['payment_date'].dt.date\n",
    "exchange_rates['date'] = exchange_rates['date'].dt.date\n",
    "subs = subscriptions.merge(exchange_rates[['date','currency','usd_to_local']], on=['date','currency'], how='left')\n",
    "# Convert local price to USD\n",
    "subs['price_usd'] = subs['price'] / subs['usd_to_local']\n",
    "subs[['currency','price','usd_to_local','price_usd']].head(5)"
   ]
  },
  {
   "cell_type": "markdown",
   "id": "e2b27e9e",
   "metadata": {},
   "source": [
    "\n",
    "\n",
    "Check for any missing exchange rates:\n"
   ]
  },
  {
   "cell_type": "code",
   "execution_count": 65,
   "id": "a70670e6",
   "metadata": {},
   "outputs": [
    {
     "data": {
      "text/plain": [
       "46"
      ]
     },
     "execution_count": 65,
     "metadata": {},
     "output_type": "execute_result"
    }
   ],
   "source": [
    "subs['usd_to_local'].isna().sum()"
   ]
  },
  {
   "cell_type": "markdown",
   "id": "90e9de82",
   "metadata": {},
   "source": [
    "\n",
    "Next, analyze:\n",
    "* **Price Distribution:** Histogram of USD prices:\n"
   ]
  },
  {
   "cell_type": "code",
   "execution_count": 66,
   "id": "75a6d961",
   "metadata": {},
   "outputs": [
    {
     "data": {
      "text/plain": [
       "Text(0.5, 1.0, 'Distribution of Subscription Prices (USD)')"
      ]
     },
     "execution_count": 66,
     "metadata": {},
     "output_type": "execute_result"
    },
    {
     "data": {
      "image/png": "[encoded data removed]",
      "text/plain": [
       "<Figure size 640x480 with 1 Axes>"
      ]
     },
     "metadata": {},
     "output_type": "display_data"
    }
   ],
   "source": [
    "sns.histplot(subs['price_usd'], bins=20)\n",
    "plt.title(\"Distribution of Subscription Prices (USD)\")"
   ]
  },
  {
   "cell_type": "markdown",
   "id": "9732901c",
   "metadata": {},
   "source": [
    "\n",
    "* **Currency Contribution:** What share of subscriptions come from USD vs local? We might list counts by currency:\n"
   ]
  },
  {
   "cell_type": "code",
   "execution_count": 67,
   "id": "580e6685",
   "metadata": {},
   "outputs": [
    {
     "data": {
      "text/plain": [
       "currency\n",
       "EUR    124\n",
       "CLP     61\n",
       "CAD     52\n",
       "MXN     50\n",
       "BRL     48\n",
       "PLN     46\n",
       "COP     46\n",
       "USD     46\n",
       "ARS     43\n",
       "INR     43\n",
       "GBP     42\n",
       "JPY     39\n",
       "ZAR     37\n",
       "Name: count, dtype: int64"
      ]
     },
     "execution_count": 67,
     "metadata": {},
     "output_type": "execute_result"
    }
   ],
   "source": [
    "subs['currency'].value_counts()"
   ]
  },
  {
   "cell_type": "markdown",
   "id": "0219dc64",
   "metadata": {},
   "source": [
    "\n",
    "* **Subscription Count and Value:** Total number of subscriptions and sum of payments (in USD):\n"
   ]
  },
  {
   "cell_type": "code",
   "execution_count": 68,
   "id": "71e8bf1c",
   "metadata": {},
   "outputs": [
    {
     "name": "stdout",
     "output_type": "stream",
     "text": [
      "Total subscriptions: 555, Total revenue (USD): 13671.35\n"
     ]
    }
   ],
   "source": [
    "total_subs = subs['device_id'].nunique()\n",
    "total_revenue = subs['price_usd'].sum()\n",
    "print(f\"Total subscriptions: {total_subs}, Total revenue (USD): {total_revenue:.2f}\")"
   ]
  },
  {
   "cell_type": "markdown",
   "id": "7d26320f",
   "metadata": {},
   "source": [
    "\n",
    "* **Correlation:** If we have enough data points, a scatter of `price_usd` vs time or vs currency could be plotted to check any seasonal patterns.\n",
    "\n",
    "* **Subscription Conversion:** Later, we will compute conversion rate = (# of unique paying subscribers) / (# of users acquired). For now, note how many unique paying devices:\n"
   ]
  },
  {
   "cell_type": "code",
   "execution_count": 69,
   "id": "537c3c5e",
   "metadata": {},
   "outputs": [
    {
     "data": {
      "text/plain": [
       "555"
      ]
     },
     "execution_count": 69,
     "metadata": {},
     "output_type": "execute_result"
    }
   ],
   "source": [
    "subs['device_id'].nunique()"
   ]
  },
  {
   "cell_type": "markdown",
   "id": "c0ba428b",
   "metadata": {},
   "source": [
    "\n",
    "If this is small relative to total installs, conversion is low.\n"
   ]
  },
  {
   "cell_type": "markdown",
   "id": "8c1bbf69",
   "metadata": {},
   "source": [
    "\n",
    "## 5. Joining Datasets and Computing KPIs\n",
    "\n",
    "We now combine data to compute metrics.\n",
    "\n",
    "### 5.1 Cost Per Install (CPI)\n",
    "\n",
    "**Definition:** CPI is total ad spend per acquired user. Formally, CPI = (Total Spend) / (Number of Installs).\n",
    "\n",
    "We aggregate spend and installs by date, country, and OS to get CPI at different granularities, then compare US vs non-US. First, aggregate global CPI:\n"
   ]
  },
  {
   "cell_type": "code",
   "execution_count": 70,
   "id": "6615f6f4",
   "metadata": {},
   "outputs": [
    {
     "name": "stdout",
     "output_type": "stream",
     "text": [
      "Total Spend = $62207.05, Installs = 52617, CPI = $1.18\n"
     ]
    }
   ],
   "source": [
    "total_spend = spend['spend'].sum()\n",
    "total_installs = installs['device_id'].nunique()\n",
    "overall_cpi = total_spend / total_installs\n",
    "print(f\"Total Spend = ${total_spend:.2f}, Installs = {total_installs}, CPI = ${overall_cpi:.2f}\")"
   ]
  },
  {
   "cell_type": "markdown",
   "id": "e0066446",
   "metadata": {},
   "source": [
    "Next, compute CPI by region (US vs others). Use the country-region mapping:"
   ]
  },
  {
   "cell_type": "code",
   "execution_count": 71,
   "id": "986a128e",
   "metadata": {},
   "outputs": [
    {
     "data": {
      "text/html": [
       "<div>\n",
       "<style scoped>\n",
       "    .dataframe tbody tr th:only-of-type {\n",
       "        vertical-align: middle;\n",
       "    }\n",
       "\n",
       "    .dataframe tbody tr th {\n",
       "        vertical-align: top;\n",
       "    }\n",
       "\n",
       "    .dataframe thead th {\n",
       "        text-align: right;\n",
       "    }\n",
       "</style>\n",
       "<table border=\"1\" class=\"dataframe\">\n",
       "  <thead>\n",
       "    <tr style=\"text-align: right;\">\n",
       "      <th></th>\n",
       "      <th>Region</th>\n",
       "      <th>CPI</th>\n",
       "    </tr>\n",
       "  </thead>\n",
       "  <tbody>\n",
       "    <tr>\n",
       "      <th>0</th>\n",
       "      <td>Non-US</td>\n",
       "      <td>1.140461</td>\n",
       "    </tr>\n",
       "    <tr>\n",
       "      <th>1</th>\n",
       "      <td>US</td>\n",
       "      <td>1.758099</td>\n",
       "    </tr>\n",
       "  </tbody>\n",
       "</table>\n",
       "</div>"
      ],
      "text/plain": [
       "   Region       CPI\n",
       "0  Non-US  1.140461\n",
       "1      US  1.758099"
      ]
     },
     "execution_count": 71,
     "metadata": {},
     "output_type": "execute_result"
    }
   ],
   "source": [
    "spend['is_us'] = (spend['region'] == 'United States')\n",
    "installs['is_us'] = (installs['region'] == 'United States')\n",
    "\n",
    "# Aggregate spend and installs by is_us\n",
    "spend_region = spend.groupby('is_us')['spend'].sum().reset_index(name='total_spend')\n",
    "installs_region = installs.groupby('is_us')['device_id'].nunique().reset_index(name='total_installs')\n",
    "cpi_region = spend_region.merge(installs_region, on='is_us')\n",
    "cpi_region['CPI'] = cpi_region['total_spend'] / cpi_region['total_installs']\n",
    "cpi_region['Region'] = cpi_region['is_us'].map({True:'US', False:'Non-US'})\n",
    "cpi_region[['Region','CPI']]"
   ]
  },
  {
   "cell_type": "markdown",
   "id": "2904f5a8",
   "metadata": {},
   "source": [
    "This yields CPI for US and Non-US. We visualize as bars:"
   ]
  },
  {
   "cell_type": "code",
   "execution_count": 72,
   "id": "f3d4cd54",
   "metadata": {},
   "outputs": [
    {
     "name": "stderr",
     "output_type": "stream",
     "text": [
      "/var/folders/4r/6fydpnls2mg8q1p98g9zqmy00000gn/T/ipykernel_71377/578396095.py:1: FutureWarning: \n",
      "\n",
      "Passing `palette` without assigning `hue` is deprecated and will be removed in v0.14.0. Assign the `x` variable to `hue` and set `legend=False` for the same effect.\n",
      "\n",
      "  sns.barplot(data=cpi_region, x='Region', y='CPI', palette='pastel')\n"
     ]
    },
    {
     "data": {
      "text/plain": [
       "Text(0, 0.5, 'CPI (USD per install)')"
      ]
     },
     "execution_count": 72,
     "metadata": {},
     "output_type": "execute_result"
    },
    {
     "data": {
      "image/png": "[encoded data removed]",
      "text/plain": [
       "<Figure size 640x480 with 1 Axes>"
      ]
     },
     "metadata": {},
     "output_type": "display_data"
    }
   ],
   "source": [
    "sns.barplot(data=cpi_region, x='Region', y='CPI', palette='pastel')\n",
    "plt.title(\"Cost Per Install (CPI) by Region\")\n",
    "plt.ylabel(\"CPI (USD per install)\")"
   ]
  },
  {
   "cell_type": "markdown",
   "id": "149fea4a",
   "metadata": {},
   "source": [
    "**Interpretation:** Comparing `CPI (USD)` for US vs non-US shows where user acquisition is cheaper or more expensive. A lower CPI (e.g. in Non-US markets) suggests more installs per ad dollar.\n"
   ]
  },
  {
   "cell_type": "markdown",
   "id": "c05257af",
   "metadata": {},
   "source": [
    "\n",
    "### 5.2 Subscription Conversion Rate\n",
    "\n",
    "We define **subscription conversion rate** as the fraction of acquired users who become paying subscribers. Here, we take *unique* paying devices over *unique* acquired devices in the same period."
   ]
  },
  {
   "cell_type": "code",
   "execution_count": 73,
   "id": "2c973cc8",
   "metadata": {},
   "outputs": [
    {
     "name": "stdout",
     "output_type": "stream",
     "text": [
      "Overall Subscription Conversion Rate: 1.05%\n"
     ]
    }
   ],
   "source": [
    "# Unique paying devices\n",
    "paying_users = set(subs['device_id'].unique())\n",
    "# Unique acquired devices (installs)\n",
    "acquired_users = set(installs['device_id'].unique())\n",
    "conversion_rate = len(paying_users & acquired_users) / len(acquired_users) * 100\n",
    "print(f\"Overall Subscription Conversion Rate: {conversion_rate:.2f}%\")"
   ]
  },
  {
   "cell_type": "markdown",
   "id": "7e75615f",
   "metadata": {},
   "source": [
    "We can also compute by region (US vs Non-US) by joining device ids back to installs:"
   ]
  },
  {
   "cell_type": "code",
   "execution_count": 74,
   "id": "152615bd",
   "metadata": {},
   "outputs": [
    {
     "name": "stdout",
     "output_type": "stream",
     "text": [
      "Subscription conversion: US=1.12%, Non-US=1.05%\n"
     ]
    }
   ],
   "source": [
    "installs_per_user = installs[['device_id','is_us']].drop_duplicates()\n",
    "subs_region = pd.DataFrame({'device_id': list(paying_users)})\n",
    "subs_region = subs_region.merge(installs_per_user, on='device_id', how='left')\n",
    "subs_region['is_us'] = subs_region['is_us'].fillna(False)  # some paying might not have an install record\n",
    "conv_us = (subs_region['is_us']).sum() / installs_region['total_installs'][installs_region['is_us']==True].iloc[0] * 100\n",
    "conv_nonus = (~subs_region['is_us']).sum() / installs_region['total_installs'][installs_region['is_us']==False].iloc[0] * 100\n",
    "print(f\"Subscription conversion: US={conv_us:.2f}%, Non-US={conv_nonus:.2f}%\")"
   ]
  },
  {
   "cell_type": "markdown",
   "id": "0984fc3d",
   "metadata": {},
   "source": [
    "\n",
    "This compares conversion rates by region. A higher rate indicates better monetization of acquired users.\n",
    "\n",
    "### 5.3 Churn Proxies\n",
    "\n",
    "From activity logs, we use retention metrics. For simplicity, define **user churn rate** as the share of users active only on their install day. (Alternatively, retention after X days.) For example:"
   ]
  },
  {
   "cell_type": "code",
   "execution_count": 75,
   "id": "4dc73ae2",
   "metadata": {},
   "outputs": [
    {
     "name": "stdout",
     "output_type": "stream",
     "text": [
      "Churn proxy (users with no return) = 71.7%\n"
     ]
    }
   ],
   "source": [
    "# Identify first and last activity per user\n",
    "first_last = activity.groupby('device_id')['date'].agg(['min','max']).reset_index()\n",
    "first_last['duration_days'] = (first_last['max'] - first_last['min']).dt.days\n",
    "churn_rate = (first_last['duration_days'] == 0).mean() * 100\n",
    "print(f\"Churn proxy (users with no return) = {churn_rate:.1f}%\")"
   ]
  },
  {
   "cell_type": "markdown",
   "id": "ecc02445",
   "metadata": {},
   "source": [
    "Roughly, if \\~X% of users never return after first day, that is our churn proxy. For a more nuanced view, one could compute cohort retention rates (e.g., D1, D7 retention).\n",
    "\n",
    "### 5.4 Spending per Active User\n",
    "\n",
    "Calculate total spend per **active user**. We count unique active users (with any activity) and divide total spend by that:"
   ]
  },
  {
   "cell_type": "code",
   "execution_count": 76,
   "id": "f7d189fe",
   "metadata": {},
   "outputs": [
    {
     "name": "stdout",
     "output_type": "stream",
     "text": [
      "Spending per active user = $5.76\n"
     ]
    }
   ],
   "source": [
    "active_users = activity['device_id'].nunique()\n",
    "spend_per_active = total_spend / active_users\n",
    "print(f\"Spending per active user = ${spend_per_active:.2f}\")"
   ]
  },
  {
   "cell_type": "markdown",
   "id": "4501dac3",
   "metadata": {},
   "source": [
    "Similarly, we can do this by region. However, we lack country in activity, so approximate by matching devices back to installs (which had country):"
   ]
  },
  {
   "cell_type": "code",
   "execution_count": 77,
   "id": "6c2a3bb5",
   "metadata": {},
   "outputs": [
    {
     "name": "stdout",
     "output_type": "stream",
     "text": [
      "Spending per active user: US=$8.45, Non-US=$5.56\n"
     ]
    }
   ],
   "source": [
    "# Tag activity users as US vs Non-US via installs table\n",
    "active_region = installs_per_user.copy()\n",
    "active_region = active_region[active_region['device_id'].isin(activity['device_id'])]\n",
    "active_region_counts = active_region['is_us'].value_counts()\n",
    "spend_us = spend_region.loc[spend_region['is_us']==True, 'total_spend'].values[0]\n",
    "spend_nonus = spend_region.loc[spend_region['is_us']==False, 'total_spend'].values[0]\n",
    "spend_per_active_us = spend_us / active_region_counts[True]\n",
    "spend_per_active_nonus = spend_nonus / active_region_counts[False]\n",
    "print(f\"Spending per active user: US=${spend_per_active_us:.2f}, Non-US=${spend_per_active_nonus:.2f}\")"
   ]
  },
  {
   "cell_type": "markdown",
   "id": "b994298e",
   "metadata": {},
   "source": [
    "\n",
    "**Insights:** Comparing these figures indicates how spend efficiency differs by region (are we spending more per active user in one region?).\n",
    "\n",
    "*Figure: Example mixed bar/line chart (passenger counts over years, with trend line). Similar visualizations can juxtapose different metrics, e.g., spend vs installs, in a combined chart.*"
   ]
  },
  {
   "cell_type": "markdown",
   "id": "4146b1ad",
   "metadata": {},
   "source": [
    "## 6. US vs Non-US Analysis\n",
    "\n",
    "We now compare key metrics for US vs Non-US:\n",
    "\n",
    "* **Acquisition Volume:** Total installs in US vs other countries.\n",
    "* **Spend:** Total ad spend in US vs others.\n",
    "* **CPI:** As above.\n",
    "* **Conversion:** Subscription conversion rate.\n",
    "* **Churn:** Estimate of churn (users not returning) by region.\n",
    "* **Spending per user:** Ad spend per active or per install.\n",
    "\n",
    "We already have CPI and conversion. For churn by region, we approximate by activity among US vs others (via installs mapping):\n"
   ]
  },
  {
   "cell_type": "code",
   "execution_count": 78,
   "id": "95ad6dd7",
   "metadata": {},
   "outputs": [
    {
     "name": "stdout",
     "output_type": "stream",
     "text": [
      "Churn proxy: US 72.2%, Non-US 71.7%\n"
     ]
    }
   ],
   "source": [
    "# Estimate churn by region (frac of single-day users)\n",
    "# Tag first_last by region via installs data\n",
    "first_last = first_last.merge(installs_per_user, on='device_id', how='left')\n",
    "churn_us = (first_last[first_last['is_us']==True]['duration_days'] == 0).mean() * 100\n",
    "churn_nonus = (first_last[first_last['is_us']==False]['duration_days'] == 0).mean() * 100\n",
    "print(f\"Churn proxy: US {churn_us:.1f}%, Non-US {churn_nonus:.1f}%\")"
   ]
  },
  {
   "cell_type": "markdown",
   "id": "a191b7e9",
   "metadata": {},
   "source": [
    "We can summarize in a table or bullet list:\n",
    "\n",
    "* *US vs Non-US Installs:*  XX installs vs YY installs.\n",
    "* *US vs Non-US Spend:* \\$X vs \\$Y total spend.\n",
    "* *CPI:* US \\$A, Non-US \\$B.\n",
    "* *Conversion Rate:* US \\~P%, Non-US \\~Q%.\n",
    "* *Churn Proxy:* US \\~M%, Non-US \\~N%.\n",
    "* *Spend/Active:* as computed above.\n",
    "\n",
    "These comparisons highlight whether the US market is more expensive or retains better, etc.\n",
    "\n",
    "## 7. Visualization Highlights\n",
    "\n",
    "Throughout the analysis, various chart types illustrate our findings:\n",
    "\n",
    "* **Bar charts:** (如 *Figure 1*) to compare categorical totals (e.g., spend by platform or region). See embedded example【20†】.\n",
    "* **Line plots:** (如 *Figure 2*) to show trends over time for continuous data (e.g., daily installs). See embedded example【41†】.\n",
    "* **Histograms:** (not shown) to inspect distributions (e.g., active days per user).\n",
    "* **Combined charts:** (如 *Figure 3*) to overlay related metrics (e.g., spend vs installs on same chart). See embedded example【45†】.\n",
    "\n",
    "Each visualization is accompanied by interpretation: peaks/dips in time series, disparities in bar heights, etc. For example, if the CPI bar for the US is significantly higher than for Non-US, that indicates higher user acquisition cost in the US.\n",
    "\n",
    "## 8. Summary of Findings and Next Steps\n",
    "\n",
    "* **Acquisition and Spend:** The data shows that (e.g.) *US had **higher ad spend but a higher CPI** than Non-US*, indicating fewer installs per ad dollar. Non-US markets achieved lower CPI (cheaper acquisition).\n",
    "* **Conversion Rate:** The subscription conversion rate is relatively low overall (\\~X%), but differs by region (e.g. *Y% in US vs Z% elsewhere*). This suggests potential to improve monetization of installs, especially where conversion is weakest.\n",
    "* **User Engagement:** A large fraction of users appear to churn quickly (e.g. **M% never returned after first day**). The retention issue is similar (or worse) in the US compared to other regions, suggesting product/marketing improvements needed.\n",
    "* **Visualization Insights:** Time series plots revealed any campaign effects or seasonality (e.g. weekend lulls). Bar charts highlighted the dominance of certain markets/platforms.\n",
    "\n",
    "**Recommendations:** To improve performance, we might focus on reducing CPI in expensive regions (optimize ads or target cheaper channels), and increasing conversion by enhancing onboarding or offering trials. We also note data caveats: currency conversion assumes same-day rates; device-level joins rely on unique IDs, etc.\n",
    "\n",
    "**Potential Follow-ups:** More sophisticated retention analysis (cohorts, N-day return rates), LTV modeling, and causal analysis of marketing spend effectiveness. Additional data (e.g. ad channel) would refine attribution. Nonetheless, these KPIs provide a baseline for ongoing performance tracking and strategic decisions."
   ]
  },
  {
   "cell_type": "code",
   "execution_count": 88,
   "id": "dc8f49f7",
   "metadata": {},
   "outputs": [],
   "source": [
    "\n",
    "# Standardize formats\n",
    "spend['country_code'] = spend['country_code'].str.lower()\n",
    "spend['operating_system'] = spend['operating_system'].str.lower().replace({'apple': 'ios'})\n",
    "installs['country_code'] = installs['country_code'].str.lower()\n",
    "installs['platform'] = installs['platform'].str.lower()\n",
    "subscriptions['date'] = pd.to_datetime(subscriptions['payment_date']).dt.tz_localize(None).dt.date\n",
    "exchange_rates['date'] = pd.to_datetime(exchange_rates['date']).dt.tz_localize(None).dt.date\n",
    "spend['date'] = pd.to_datetime(spend['date']).dt.tz_localize(None).dt.date\n",
    "installs['date'] = pd.to_datetime(installs['date']).dt.tz_localize(None).dt.date\n",
    "\n",
    "# Convert subscription revenue to USD\n",
    "subs = subscriptions.merge(exchange_rates, on=['date', 'currency'], how='left')\n",
    "subs['price_usd'] = subs['price'] / subs['usd_to_local']\n",
    "\n",
    "# Enrich subscriptions with country and platform\n",
    "subs = subs.merge(installs[['device_id', 'country_code', 'platform']], on='device_id', how='left')\n",
    "\n",
    "# Aggregate installs\n",
    "installs_grp = installs.groupby(['date', 'country_code', 'platform'])['device_id'] \\\n",
    "    .nunique().reset_index(name='installs')\n",
    "\n",
    "# Aggregate spend\n",
    "spend_grp = spend.groupby(['date', 'country_code', 'operating_system'])['spend'] \\\n",
    "    .sum().reset_index().rename(columns={'operating_system': 'platform'})\n",
    "\n",
    "# Aggregate subscriptions\n",
    "subs_grp = subs.groupby(['date', 'country_code', 'platform']).agg(\n",
    "    subscriptions=('device_id', 'nunique'),\n",
    "    revenue_usd=('price_usd', 'sum')\n",
    ").reset_index()\n",
    "\n",
    "# Fix the date column in active_users to match others (convert to datetime64[ns] with no timezone)\n",
    "activity_augmented['date'] = pd.to_datetime(activity_augmented['date']).dt.tz_localize(None).dt.date\n",
    "\n",
    "# Recalculate active users after fixing date type\n",
    "active_users = activity_augmented.groupby(['date', 'country_code', 'platform'])['device_id'] \\\n",
    "    .nunique().reset_index(name='active_users')\n",
    "\n",
    "# Now safely merge\n",
    "kpi = installs_grp.merge(spend_grp, on=['date', 'country_code', 'platform'], how='outer')\n",
    "kpi = kpi.merge(subs_grp, on=['date', 'country_code', 'platform'], how='left')\n",
    "kpi = kpi.merge(active_users, on=['date', 'country_code', 'platform'], how='left')\n",
    "\n",
    "# Fill missing values\n",
    "kpi[['spend', 'installs', 'subscriptions', 'revenue_usd', 'active_users']] = \\\n",
    "    kpi[['spend', 'installs', 'subscriptions', 'revenue_usd', 'active_users']].fillna(0)\n",
    "\n",
    "# Compute KPIs\n",
    "kpi['cpi'] = kpi['spend'] / kpi['installs'].replace(0, np.nan)\n",
    "kpi['conversion_rate'] = (kpi['subscriptions'] / kpi['installs'].replace(0, np.nan)) * 100\n",
    "kpi['arpu_all'] = kpi['revenue_usd'] / kpi['installs'].replace(0, np.nan)\n",
    "kpi['arpu_active'] = kpi['revenue_usd'] / kpi['active_users'].replace(0, np.nan)\n",
    "kpi['revenue_per_sub'] = kpi['revenue_usd'] / kpi['subscriptions'].replace(0, np.nan)\n",
    "kpi['spend_per_active_user'] = kpi['spend'] / kpi['active_users'].replace(0, np.nan)\n",
    "\n"
   ]
  },
  {
   "cell_type": "markdown",
   "id": "f847828e",
   "metadata": {},
   "source": [
    "## Examples of Visualizations"
   ]
  },
  {
   "cell_type": "code",
   "execution_count": 92,
   "id": "1ac422c0",
   "metadata": {},
   "outputs": [
    {
     "data": {
      "application/vnd.plotly.v1+json": {
       "config": {
        "plotlyServerURL": "https://plot.ly"
       },
       "data": [
        {
         "hovertemplate": "<b>%{hovertext}</b><br><br>country_code=ar<br>Cost Per Install (USD)=%{x}<br>Avg Revenue per User (USD)=%{y}<br>installs=%{marker.size}<extra></extra>",
         "hovertext": [
          "ar"
         ],
         "legendgroup": "ar",
         "marker": {
          "color": "#636efa",
          "size": {
           "bdata": "4g0=",
           "dtype": "i2"
          },
          "sizemode": "area",
          "sizeref": 2.246875,
          "symbol": "circle"
         },
         "mode": "markers",
         "name": "ar",
         "orientation": "v",
         "showlegend": true,
         "type": "scatter",
         "x": {
          "bdata": "S5PF3pCE8T8=",
          "dtype": "f8"
         },
         "xaxis": "x",
         "y": {
          "bdata": "vl99C2gVyD8=",
          "dtype": "f8"
         },
         "yaxis": "y"
        },
        {
         "hovertemplate": "<b>%{hovertext}</b><br><br>country_code=br<br>Cost Per Install (USD)=%{x}<br>Avg Revenue per User (USD)=%{y}<br>installs=%{marker.size}<extra></extra>",
         "hovertext": [
          "br"
         ],
         "legendgroup": "br",
         "marker": {
          "color": "#EF553B",
          "size": {
           "bdata": "xw0=",
           "dtype": "i2"
          },
          "sizemode": "area",
          "sizeref": 2.246875,
          "symbol": "circle"
         },
         "mode": "markers",
         "name": "br",
         "orientation": "v",
         "showlegend": true,
         "type": "scatter",
         "x": {
          "bdata": "BSbgvYqu8D8=",
          "dtype": "f8"
         },
         "xaxis": "x",
         "y": {
          "bdata": "kXHSpT5A1D8=",
          "dtype": "f8"
         },
         "yaxis": "y"
        },
        {
         "hovertemplate": "<b>%{hovertext}</b><br><br>country_code=ca<br>Cost Per Install (USD)=%{x}<br>Avg Revenue per User (USD)=%{y}<br>installs=%{marker.size}<extra></extra>",
         "hovertext": [
          "ca"
         ],
         "legendgroup": "ca",
         "marker": {
          "color": "#00cc96",
          "size": {
           "bdata": "Cw4=",
           "dtype": "i2"
          },
          "sizemode": "area",
          "sizeref": 2.246875,
          "symbol": "circle"
         },
         "mode": "markers",
         "name": "ca",
         "orientation": "v",
         "showlegend": true,
         "type": "scatter",
         "x": {
          "bdata": "jd9pdZt48D8=",
          "dtype": "f8"
         },
         "xaxis": "x",
         "y": {
          "bdata": "ZwA+oiQ6uj8=",
          "dtype": "f8"
         },
         "yaxis": "y"
        },
        {
         "hovertemplate": "<b>%{hovertext}</b><br><br>country_code=cl<br>Cost Per Install (USD)=%{x}<br>Avg Revenue per User (USD)=%{y}<br>installs=%{marker.size}<extra></extra>",
         "hovertext": [
          "cl"
         ],
         "legendgroup": "cl",
         "marker": {
          "color": "#ab63fa",
          "size": {
           "bdata": "0g0=",
           "dtype": "i2"
          },
          "sizemode": "area",
          "sizeref": 2.246875,
          "symbol": "circle"
         },
         "mode": "markers",
         "name": "cl",
         "orientation": "v",
         "showlegend": true,
         "type": "scatter",
         "x": {
          "bdata": "ISognrSs8D8=",
          "dtype": "f8"
         },
         "xaxis": "x",
         "y": {
          "bdata": "Klwuq2v+wj8=",
          "dtype": "f8"
         },
         "yaxis": "y"
        },
        {
         "hovertemplate": "<b>%{hovertext}</b><br><br>country_code=co<br>Cost Per Install (USD)=%{x}<br>Avg Revenue per User (USD)=%{y}<br>installs=%{marker.size}<extra></extra>",
         "hovertext": [
          "co"
         ],
         "legendgroup": "co",
         "marker": {
          "color": "#FFA15A",
          "size": {
           "bdata": "/w0=",
           "dtype": "i2"
          },
          "sizemode": "area",
          "sizeref": 2.246875,
          "symbol": "circle"
         },
         "mode": "markers",
         "name": "co",
         "orientation": "v",
         "showlegend": true,
         "type": "scatter",
         "x": {
          "bdata": "H8lzyRnf8D8=",
          "dtype": "f8"
         },
         "xaxis": "x",
         "y": {
          "bdata": "PXglOmWQzj8=",
          "dtype": "f8"
         },
         "yaxis": "y"
        },
        {
         "hovertemplate": "<b>%{hovertext}</b><br><br>country_code=de<br>Cost Per Install (USD)=%{x}<br>Avg Revenue per User (USD)=%{y}<br>installs=%{marker.size}<extra></extra>",
         "hovertext": [
          "de"
         ],
         "legendgroup": "de",
         "marker": {
          "color": "#19d3f3",
          "size": {
           "bdata": "qw0=",
           "dtype": "i2"
          },
          "sizemode": "area",
          "sizeref": 2.246875,
          "symbol": "circle"
         },
         "mode": "markers",
         "name": "de",
         "orientation": "v",
         "showlegend": true,
         "type": "scatter",
         "x": {
          "bdata": "0mFhgaxA+z8=",
          "dtype": "f8"
         },
         "xaxis": "x",
         "y": {
          "bdata": "cyhTegllpj8=",
          "dtype": "f8"
         },
         "yaxis": "y"
        },
        {
         "hovertemplate": "<b>%{hovertext}</b><br><br>country_code=es<br>Cost Per Install (USD)=%{x}<br>Avg Revenue per User (USD)=%{y}<br>installs=%{marker.size}<extra></extra>",
         "hovertext": [
          "es"
         ],
         "legendgroup": "es",
         "marker": {
          "color": "#FF6692",
          "size": {
           "bdata": "hQ0=",
           "dtype": "i2"
          },
          "sizemode": "area",
          "sizeref": 2.246875,
          "symbol": "circle"
         },
         "mode": "markers",
         "name": "es",
         "orientation": "v",
         "showlegend": true,
         "type": "scatter",
         "x": {
          "bdata": "1ESPwc+I8T8=",
          "dtype": "f8"
         },
         "xaxis": "x",
         "y": {
          "bdata": "SwmAmz0g2D8=",
          "dtype": "f8"
         },
         "yaxis": "y"
        },
        {
         "hovertemplate": "<b>%{hovertext}</b><br><br>country_code=gb<br>Cost Per Install (USD)=%{x}<br>Avg Revenue per User (USD)=%{y}<br>installs=%{marker.size}<extra></extra>",
         "hovertext": [
          "gb"
         ],
         "legendgroup": "gb",
         "marker": {
          "color": "#B6E880",
          "size": {
           "bdata": "gQ0=",
           "dtype": "i2"
          },
          "sizemode": "area",
          "sizeref": 2.246875,
          "symbol": "circle"
         },
         "mode": "markers",
         "name": "gb",
         "orientation": "v",
         "showlegend": true,
         "type": "scatter",
         "x": {
          "bdata": "nRoHkdnU7D8=",
          "dtype": "f8"
         },
         "xaxis": "x",
         "y": {
          "bdata": "Hd06BEi40j8=",
          "dtype": "f8"
         },
         "yaxis": "y"
        },
        {
         "hovertemplate": "<b>%{hovertext}</b><br><br>country_code=in<br>Cost Per Install (USD)=%{x}<br>Avg Revenue per User (USD)=%{y}<br>installs=%{marker.size}<extra></extra>",
         "hovertext": [
          "in"
         ],
         "legendgroup": "in",
         "marker": {
          "color": "#FF97FF",
          "size": {
           "bdata": "+Q0=",
           "dtype": "i2"
          },
          "sizemode": "area",
          "sizeref": 2.246875,
          "symbol": "circle"
         },
         "mode": "markers",
         "name": "in",
         "orientation": "v",
         "showlegend": true,
         "type": "scatter",
         "x": {
          "bdata": "Erb8h8678D8=",
          "dtype": "f8"
         },
         "xaxis": "x",
         "y": {
          "bdata": "6yCnSUzmzD8=",
          "dtype": "f8"
         },
         "yaxis": "y"
        },
        {
         "hovertemplate": "<b>%{hovertext}</b><br><br>country_code=it<br>Cost Per Install (USD)=%{x}<br>Avg Revenue per User (USD)=%{y}<br>installs=%{marker.size}<extra></extra>",
         "hovertext": [
          "it"
         ],
         "legendgroup": "it",
         "marker": {
          "color": "#FECB52",
          "size": {
           "bdata": "rw0=",
           "dtype": "i2"
          },
          "sizemode": "area",
          "sizeref": 2.246875,
          "symbol": "circle"
         },
         "mode": "markers",
         "name": "it",
         "orientation": "v",
         "showlegend": true,
         "type": "scatter",
         "x": {
          "bdata": "OgRwkVvY8T8=",
          "dtype": "f8"
         },
         "xaxis": "x",
         "y": {
          "bdata": "7Um2en0Txj8=",
          "dtype": "f8"
         },
         "yaxis": "y"
        },
        {
         "hovertemplate": "<b>%{hovertext}</b><br><br>country_code=jp<br>Cost Per Install (USD)=%{x}<br>Avg Revenue per User (USD)=%{y}<br>installs=%{marker.size}<extra></extra>",
         "hovertext": [
          "jp"
         ],
         "legendgroup": "jp",
         "marker": {
          "color": "#636efa",
          "size": {
           "bdata": "YA0=",
           "dtype": "i2"
          },
          "sizemode": "area",
          "sizeref": 2.246875,
          "symbol": "circle"
         },
         "mode": "markers",
         "name": "jp",
         "orientation": "v",
         "showlegend": true,
         "type": "scatter",
         "x": {
          "bdata": "IUbWcqc18T8=",
          "dtype": "f8"
         },
         "xaxis": "x",
         "y": {
          "bdata": "SEVB/+0v0T8=",
          "dtype": "f8"
         },
         "yaxis": "y"
        },
        {
         "hovertemplate": "<b>%{hovertext}</b><br><br>country_code=mx<br>Cost Per Install (USD)=%{x}<br>Avg Revenue per User (USD)=%{y}<br>installs=%{marker.size}<extra></extra>",
         "hovertext": [
          "mx"
         ],
         "legendgroup": "mx",
         "marker": {
          "color": "#EF553B",
          "size": {
           "bdata": "EQ0=",
           "dtype": "i2"
          },
          "sizemode": "area",
          "sizeref": 2.246875,
          "symbol": "circle"
         },
         "mode": "markers",
         "name": "mx",
         "orientation": "v",
         "showlegend": true,
         "type": "scatter",
         "x": {
          "bdata": "4RMtoZgh/j8=",
          "dtype": "f8"
         },
         "xaxis": "x",
         "y": {
          "bdata": "dmYGJdk41T8=",
          "dtype": "f8"
         },
         "yaxis": "y"
        },
        {
         "hovertemplate": "<b>%{hovertext}</b><br><br>country_code=pl<br>Cost Per Install (USD)=%{x}<br>Avg Revenue per User (USD)=%{y}<br>installs=%{marker.size}<extra></extra>",
         "hovertext": [
          "pl"
         ],
         "legendgroup": "pl",
         "marker": {
          "color": "#00cc96",
          "size": {
           "bdata": "zQ0=",
           "dtype": "i2"
          },
          "sizemode": "area",
          "sizeref": 2.246875,
          "symbol": "circle"
         },
         "mode": "markers",
         "name": "pl",
         "orientation": "v",
         "showlegend": true,
         "type": "scatter",
         "x": {
          "bdata": "JisdKkhF6z8=",
          "dtype": "f8"
         },
         "xaxis": "x",
         "y": {
          "bdata": "iEmcNCUF4D8=",
          "dtype": "f8"
         },
         "yaxis": "y"
        },
        {
         "hovertemplate": "<b>%{hovertext}</b><br><br>country_code=sa<br>Cost Per Install (USD)=%{x}<br>Avg Revenue per User (USD)=%{y}<br>installs=%{marker.size}<extra></extra>",
         "hovertext": [
          "sa"
         ],
         "legendgroup": "sa",
         "marker": {
          "color": "#ab63fa",
          "size": {
           "bdata": "hA0=",
           "dtype": "i2"
          },
          "sizemode": "area",
          "sizeref": 2.246875,
          "symbol": "circle"
         },
         "mode": "markers",
         "name": "sa",
         "orientation": "v",
         "showlegend": true,
         "type": "scatter",
         "x": {
          "bdata": "mGYM3CYg8T8=",
          "dtype": "f8"
         },
         "xaxis": "x",
         "y": {
          "bdata": "5ZR4VHMe0T8=",
          "dtype": "f8"
         },
         "yaxis": "y"
        },
        {
         "hovertemplate": "<b>%{hovertext}</b><br><br>country_code=us<br>Cost Per Install (USD)=%{x}<br>Avg Revenue per User (USD)=%{y}<br>installs=%{marker.size}<extra></extra>",
         "hovertext": [
          "us"
         ],
         "legendgroup": "us",
         "marker": {
          "color": "#FFA15A",
          "size": {
           "bdata": "6Q0=",
           "dtype": "i2"
          },
          "sizemode": "area",
          "sizeref": 2.246875,
          "symbol": "circle"
         },
         "mode": "markers",
         "name": "us",
         "orientation": "v",
         "showlegend": true,
         "type": "scatter",
         "x": {
          "bdata": "Ln1OmSwh/D8=",
          "dtype": "f8"
         },
         "xaxis": "x",
         "y": {
          "bdata": "ye0Hx2A5tz8=",
          "dtype": "f8"
         },
         "yaxis": "y"
        }
       ],
       "layout": {
        "legend": {
         "itemsizing": "constant",
         "title": {
          "text": "country_code"
         },
         "tracegroupgap": 0
        },
        "template": {
         "data": {
          "bar": [
           {
            "error_x": {
             "color": "#2a3f5f"
            },
            "error_y": {
             "color": "#2a3f5f"
            },
            "marker": {
             "line": {
              "color": "#E5ECF6",
              "width": 0.5
             },
             "pattern": {
              "fillmode": "overlay",
              "size": 10,
              "solidity": 0.2
             }
            },
            "type": "bar"
           }
          ],
          "barpolar": [
           {
            "marker": {
             "line": {
              "color": "#E5ECF6",
              "width": 0.5
             },
             "pattern": {
              "fillmode": "overlay",
              "size": 10,
              "solidity": 0.2
             }
            },
            "type": "barpolar"
           }
          ],
          "carpet": [
           {
            "aaxis": {
             "endlinecolor": "#2a3f5f",
             "gridcolor": "white",
             "linecolor": "white",
             "minorgridcolor": "white",
             "startlinecolor": "#2a3f5f"
            },
            "baxis": {
             "endlinecolor": "#2a3f5f",
             "gridcolor": "white",
             "linecolor": "white",
             "minorgridcolor": "white",
             "startlinecolor": "#2a3f5f"
            },
            "type": "carpet"
           }
          ],
          "choropleth": [
           {
            "colorbar": {
             "outlinewidth": 0,
             "ticks": ""
            },
            "type": "choropleth"
           }
          ],
          "contour": [
           {
            "colorbar": {
             "outlinewidth": 0,
             "ticks": ""
            },
            "colorscale": [
             [
              0,
              "#0d0887"
             ],
             [
              0.1111111111111111,
              "#46039f"
             ],
             [
              0.2222222222222222,
              "#7201a8"
             ],
             [
              0.3333333333333333,
              "#9c179e"
             ],
             [
              0.4444444444444444,
              "#bd3786"
             ],
             [
              0.5555555555555556,
              "#d8576b"
             ],
             [
              0.6666666666666666,
              "#ed7953"
             ],
             [
              0.7777777777777778,
              "#fb9f3a"
             ],
             [
              0.8888888888888888,
              "#fdca26"
             ],
             [
              1,
              "#f0f921"
             ]
            ],
            "type": "contour"
           }
          ],
          "contourcarpet": [
           {
            "colorbar": {
             "outlinewidth": 0,
             "ticks": ""
            },
            "type": "contourcarpet"
           }
          ],
          "heatmap": [
           {
            "colorbar": {
             "outlinewidth": 0,
             "ticks": ""
            },
            "colorscale": [
             [
              0,
              "#0d0887"
             ],
             [
              0.1111111111111111,
              "#46039f"
             ],
             [
              0.2222222222222222,
              "#7201a8"
             ],
             [
              0.3333333333333333,
              "#9c179e"
             ],
             [
              0.4444444444444444,
              "#bd3786"
             ],
             [
              0.5555555555555556,
              "#d8576b"
             ],
             [
              0.6666666666666666,
              "#ed7953"
             ],
             [
              0.7777777777777778,
              "#fb9f3a"
             ],
             [
              0.8888888888888888,
              "#fdca26"
             ],
             [
              1,
              "#f0f921"
             ]
            ],
            "type": "heatmap"
           }
          ],
          "histogram": [
           {
            "marker": {
             "pattern": {
              "fillmode": "overlay",
              "size": 10,
              "solidity": 0.2
             }
            },
            "type": "histogram"
           }
          ],
          "histogram2d": [
           {
            "colorbar": {
             "outlinewidth": 0,
             "ticks": ""
            },
            "colorscale": [
             [
              0,
              "#0d0887"
             ],
             [
              0.1111111111111111,
              "#46039f"
             ],
             [
              0.2222222222222222,
              "#7201a8"
             ],
             [
              0.3333333333333333,
              "#9c179e"
             ],
             [
              0.4444444444444444,
              "#bd3786"
             ],
             [
              0.5555555555555556,
              "#d8576b"
             ],
             [
              0.6666666666666666,
              "#ed7953"
             ],
             [
              0.7777777777777778,
              "#fb9f3a"
             ],
             [
              0.8888888888888888,
              "#fdca26"
             ],
             [
              1,
              "#f0f921"
             ]
            ],
            "type": "histogram2d"
           }
          ],
          "histogram2dcontour": [
           {
            "colorbar": {
             "outlinewidth": 0,
             "ticks": ""
            },
            "colorscale": [
             [
              0,
              "#0d0887"
             ],
             [
              0.1111111111111111,
              "#46039f"
             ],
             [
              0.2222222222222222,
              "#7201a8"
             ],
             [
              0.3333333333333333,
              "#9c179e"
             ],
             [
              0.4444444444444444,
              "#bd3786"
             ],
             [
              0.5555555555555556,
              "#d8576b"
             ],
             [
              0.6666666666666666,
              "#ed7953"
             ],
             [
              0.7777777777777778,
              "#fb9f3a"
             ],
             [
              0.8888888888888888,
              "#fdca26"
             ],
             [
              1,
              "#f0f921"
             ]
            ],
            "type": "histogram2dcontour"
           }
          ],
          "mesh3d": [
           {
            "colorbar": {
             "outlinewidth": 0,
             "ticks": ""
            },
            "type": "mesh3d"
           }
          ],
          "parcoords": [
           {
            "line": {
             "colorbar": {
              "outlinewidth": 0,
              "ticks": ""
             }
            },
            "type": "parcoords"
           }
          ],
          "pie": [
           {
            "automargin": true,
            "type": "pie"
           }
          ],
          "scatter": [
           {
            "fillpattern": {
             "fillmode": "overlay",
             "size": 10,
             "solidity": 0.2
            },
            "type": "scatter"
           }
          ],
          "scatter3d": [
           {
            "line": {
             "colorbar": {
              "outlinewidth": 0,
              "ticks": ""
             }
            },
            "marker": {
             "colorbar": {
              "outlinewidth": 0,
              "ticks": ""
             }
            },
            "type": "scatter3d"
           }
          ],
          "scattercarpet": [
           {
            "marker": {
             "colorbar": {
              "outlinewidth": 0,
              "ticks": ""
             }
            },
            "type": "scattercarpet"
           }
          ],
          "scattergeo": [
           {
            "marker": {
             "colorbar": {
              "outlinewidth": 0,
              "ticks": ""
             }
            },
            "type": "scattergeo"
           }
          ],
          "scattergl": [
           {
            "marker": {
             "colorbar": {
              "outlinewidth": 0,
              "ticks": ""
             }
            },
            "type": "scattergl"
           }
          ],
          "scattermap": [
           {
            "marker": {
             "colorbar": {
              "outlinewidth": 0,
              "ticks": ""
             }
            },
            "type": "scattermap"
           }
          ],
          "scattermapbox": [
           {
            "marker": {
             "colorbar": {
              "outlinewidth": 0,
              "ticks": ""
             }
            },
            "type": "scattermapbox"
           }
          ],
          "scatterpolar": [
           {
            "marker": {
             "colorbar": {
              "outlinewidth": 0,
              "ticks": ""
             }
            },
            "type": "scatterpolar"
           }
          ],
          "scatterpolargl": [
           {
            "marker": {
             "colorbar": {
              "outlinewidth": 0,
              "ticks": ""
             }
            },
            "type": "scatterpolargl"
           }
          ],
          "scatterternary": [
           {
            "marker": {
             "colorbar": {
              "outlinewidth": 0,
              "ticks": ""
             }
            },
            "type": "scatterternary"
           }
          ],
          "surface": [
           {
            "colorbar": {
             "outlinewidth": 0,
             "ticks": ""
            },
            "colorscale": [
             [
              0,
              "#0d0887"
             ],
             [
              0.1111111111111111,
              "#46039f"
             ],
             [
              0.2222222222222222,
              "#7201a8"
             ],
             [
              0.3333333333333333,
              "#9c179e"
             ],
             [
              0.4444444444444444,
              "#bd3786"
             ],
             [
              0.5555555555555556,
              "#d8576b"
             ],
             [
              0.6666666666666666,
              "#ed7953"
             ],
             [
              0.7777777777777778,
              "#fb9f3a"
             ],
             [
              0.8888888888888888,
              "#fdca26"
             ],
             [
              1,
              "#f0f921"
             ]
            ],
            "type": "surface"
           }
          ],
          "table": [
           {
            "cells": {
             "fill": {
              "color": "#EBF0F8"
             },
             "line": {
              "color": "white"
             }
            },
            "header": {
             "fill": {
              "color": "#C8D4E3"
             },
             "line": {
              "color": "white"
             }
            },
            "type": "table"
           }
          ]
         },
         "layout": {
          "annotationdefaults": {
           "arrowcolor": "#2a3f5f",
           "arrowhead": 0,
           "arrowwidth": 1
          },
          "autotypenumbers": "strict",
          "coloraxis": {
           "colorbar": {
            "outlinewidth": 0,
            "ticks": ""
           }
          },
          "colorscale": {
           "diverging": [
            [
             0,
             "#8e0152"
            ],
            [
             0.1,
             "#c51b7d"
            ],
            [
             0.2,
             "#de77ae"
            ],
            [
             0.3,
             "#f1b6da"
            ],
            [
             0.4,
             "#fde0ef"
            ],
            [
             0.5,
             "#f7f7f7"
            ],
            [
             0.6,
             "#e6f5d0"
            ],
            [
             0.7,
             "#b8e186"
            ],
            [
             0.8,
             "#7fbc41"
            ],
            [
             0.9,
             "#4d9221"
            ],
            [
             1,
             "#276419"
            ]
           ],
           "sequential": [
            [
             0,
             "#0d0887"
            ],
            [
             0.1111111111111111,
             "#46039f"
            ],
            [
             0.2222222222222222,
             "#7201a8"
            ],
            [
             0.3333333333333333,
             "#9c179e"
            ],
            [
             0.4444444444444444,
             "#bd3786"
            ],
            [
             0.5555555555555556,
             "#d8576b"
            ],
            [
             0.6666666666666666,
             "#ed7953"
            ],
            [
             0.7777777777777778,
             "#fb9f3a"
            ],
            [
             0.8888888888888888,
             "#fdca26"
            ],
            [
             1,
             "#f0f921"
            ]
           ],
           "sequentialminus": [
            [
             0,
             "#0d0887"
            ],
            [
             0.1111111111111111,
             "#46039f"
            ],
            [
             0.2222222222222222,
             "#7201a8"
            ],
            [
             0.3333333333333333,
             "#9c179e"
            ],
            [
             0.4444444444444444,
             "#bd3786"
            ],
            [
             0.5555555555555556,
             "#d8576b"
            ],
            [
             0.6666666666666666,
             "#ed7953"
            ],
            [
             0.7777777777777778,
             "#fb9f3a"
            ],
            [
             0.8888888888888888,
             "#fdca26"
            ],
            [
             1,
             "#f0f921"
            ]
           ]
          },
          "colorway": [
           "#636efa",
           "#EF553B",
           "#00cc96",
           "#ab63fa",
           "#FFA15A",
           "#19d3f3",
           "#FF6692",
           "#B6E880",
           "#FF97FF",
           "#FECB52"
          ],
          "font": {
           "color": "#2a3f5f"
          },
          "geo": {
           "bgcolor": "white",
           "lakecolor": "white",
           "landcolor": "#E5ECF6",
           "showlakes": true,
           "showland": true,
           "subunitcolor": "white"
          },
          "hoverlabel": {
           "align": "left"
          },
          "hovermode": "closest",
          "mapbox": {
           "style": "light"
          },
          "paper_bgcolor": "white",
          "plot_bgcolor": "#E5ECF6",
          "polar": {
           "angularaxis": {
            "gridcolor": "white",
            "linecolor": "white",
            "ticks": ""
           },
           "bgcolor": "#E5ECF6",
           "radialaxis": {
            "gridcolor": "white",
            "linecolor": "white",
            "ticks": ""
           }
          },
          "scene": {
           "xaxis": {
            "backgroundcolor": "#E5ECF6",
            "gridcolor": "white",
            "gridwidth": 2,
            "linecolor": "white",
            "showbackground": true,
            "ticks": "",
            "zerolinecolor": "white"
           },
           "yaxis": {
            "backgroundcolor": "#E5ECF6",
            "gridcolor": "white",
            "gridwidth": 2,
            "linecolor": "white",
            "showbackground": true,
            "ticks": "",
            "zerolinecolor": "white"
           },
           "zaxis": {
            "backgroundcolor": "#E5ECF6",
            "gridcolor": "white",
            "gridwidth": 2,
            "linecolor": "white",
            "showbackground": true,
            "ticks": "",
            "zerolinecolor": "white"
           }
          },
          "shapedefaults": {
           "line": {
            "color": "#2a3f5f"
           }
          },
          "ternary": {
           "aaxis": {
            "gridcolor": "white",
            "linecolor": "white",
            "ticks": ""
           },
           "baxis": {
            "gridcolor": "white",
            "linecolor": "white",
            "ticks": ""
           },
           "bgcolor": "#E5ECF6",
           "caxis": {
            "gridcolor": "white",
            "linecolor": "white",
            "ticks": ""
           }
          },
          "title": {
           "x": 0.05
          },
          "xaxis": {
           "automargin": true,
           "gridcolor": "white",
           "linecolor": "white",
           "ticks": "",
           "title": {
            "standoff": 15
           },
           "zerolinecolor": "white",
           "zerolinewidth": 2
          },
          "yaxis": {
           "automargin": true,
           "gridcolor": "white",
           "linecolor": "white",
           "ticks": "",
           "title": {
            "standoff": 15
           },
           "zerolinecolor": "white",
           "zerolinewidth": 2
          }
         }
        },
        "title": {
         "text": "CPI vs ARPU by Country (Bubble Size = Installs)"
        },
        "xaxis": {
         "anchor": "y",
         "domain": [
          0,
          1
         ],
         "title": {
          "text": "Cost Per Install (USD)"
         }
        },
        "yaxis": {
         "anchor": "x",
         "domain": [
          0,
          1
         ],
         "title": {
          "text": "Avg Revenue per User (USD)"
         }
        }
       }
      }
     },
     "metadata": {},
     "output_type": "display_data"
    },
    {
     "data": {
      "application/vnd.plotly.v1+json": {
       "config": {
        "plotlyServerURL": "https://plot.ly"
       },
       "data": [
        {
         "hovertemplate": "Country=%{x}<br>Revenue (USD)=%{marker.color}<extra></extra>",
         "legendgroup": "",
         "marker": {
          "color": {
           "bdata": "WhziTuCim0Dan3QOvmKUQKpl6fERcJFADYrM1LxUkUB93COQUJmPQI23Ndjx64xA1B/B5iG8jEDeJo2Mb7yKQK8DEv/dPIlAsyj45pLlhEA=",
           "dtype": "f8"
          },
          "coloraxis": "coloraxis",
          "pattern": {
           "shape": ""
          }
         },
         "name": "",
         "orientation": "v",
         "showlegend": false,
         "text": {
          "bdata": "WhziTuCim0Dan3QOvmKUQKpl6fERcJFADYrM1LxUkUB93COQUJmPQI23Ndjx64xA1B/B5iG8jEDeJo2Mb7yKQK8DEv/dPIlAsyj45pLlhEA=",
          "dtype": "f8"
         },
         "textposition": "auto",
         "type": "bar",
         "x": [
          "pl",
          "es",
          "br",
          "mx",
          "gb",
          "sa",
          "jp",
          "co",
          "in",
          "ar"
         ],
         "xaxis": "x",
         "y": {
          "bdata": "WhziTuCim0Dan3QOvmKUQKpl6fERcJFADYrM1LxUkUB93COQUJmPQI23Ndjx64xA1B/B5iG8jEDeJo2Mb7yKQK8DEv/dPIlAsyj45pLlhEA=",
          "dtype": "f8"
         },
         "yaxis": "y"
        }
       ],
       "layout": {
        "barmode": "relative",
        "coloraxis": {
         "colorbar": {
          "title": {
           "text": "Revenue (USD)"
          }
         },
         "colorscale": [
          [
           0,
           "rgb(247,251,255)"
          ],
          [
           0.125,
           "rgb(222,235,247)"
          ],
          [
           0.25,
           "rgb(198,219,239)"
          ],
          [
           0.375,
           "rgb(158,202,225)"
          ],
          [
           0.5,
           "rgb(107,174,214)"
          ],
          [
           0.625,
           "rgb(66,146,198)"
          ],
          [
           0.75,
           "rgb(33,113,181)"
          ],
          [
           0.875,
           "rgb(8,81,156)"
          ],
          [
           1,
           "rgb(8,48,107)"
          ]
         ]
        },
        "legend": {
         "tracegroupgap": 0
        },
        "template": {
         "data": {
          "bar": [
           {
            "error_x": {
             "color": "#2a3f5f"
            },
            "error_y": {
             "color": "#2a3f5f"
            },
            "marker": {
             "line": {
              "color": "#E5ECF6",
              "width": 0.5
             },
             "pattern": {
              "fillmode": "overlay",
              "size": 10,
              "solidity": 0.2
             }
            },
            "type": "bar"
           }
          ],
          "barpolar": [
           {
            "marker": {
             "line": {
              "color": "#E5ECF6",
              "width": 0.5
             },
             "pattern": {
              "fillmode": "overlay",
              "size": 10,
              "solidity": 0.2
             }
            },
            "type": "barpolar"
           }
          ],
          "carpet": [
           {
            "aaxis": {
             "endlinecolor": "#2a3f5f",
             "gridcolor": "white",
             "linecolor": "white",
             "minorgridcolor": "white",
             "startlinecolor": "#2a3f5f"
            },
            "baxis": {
             "endlinecolor": "#2a3f5f",
             "gridcolor": "white",
             "linecolor": "white",
             "minorgridcolor": "white",
             "startlinecolor": "#2a3f5f"
            },
            "type": "carpet"
           }
          ],
          "choropleth": [
           {
            "colorbar": {
             "outlinewidth": 0,
             "ticks": ""
            },
            "type": "choropleth"
           }
          ],
          "contour": [
           {
            "colorbar": {
             "outlinewidth": 0,
             "ticks": ""
            },
            "colorscale": [
             [
              0,
              "#0d0887"
             ],
             [
              0.1111111111111111,
              "#46039f"
             ],
             [
              0.2222222222222222,
              "#7201a8"
             ],
             [
              0.3333333333333333,
              "#9c179e"
             ],
             [
              0.4444444444444444,
              "#bd3786"
             ],
             [
              0.5555555555555556,
              "#d8576b"
             ],
             [
              0.6666666666666666,
              "#ed7953"
             ],
             [
              0.7777777777777778,
              "#fb9f3a"
             ],
             [
              0.8888888888888888,
              "#fdca26"
             ],
             [
              1,
              "#f0f921"
             ]
            ],
            "type": "contour"
           }
          ],
          "contourcarpet": [
           {
            "colorbar": {
             "outlinewidth": 0,
             "ticks": ""
            },
            "type": "contourcarpet"
           }
          ],
          "heatmap": [
           {
            "colorbar": {
             "outlinewidth": 0,
             "ticks": ""
            },
            "colorscale": [
             [
              0,
              "#0d0887"
             ],
             [
              0.1111111111111111,
              "#46039f"
             ],
             [
              0.2222222222222222,
              "#7201a8"
             ],
             [
              0.3333333333333333,
              "#9c179e"
             ],
             [
              0.4444444444444444,
              "#bd3786"
             ],
             [
              0.5555555555555556,
              "#d8576b"
             ],
             [
              0.6666666666666666,
              "#ed7953"
             ],
             [
              0.7777777777777778,
              "#fb9f3a"
             ],
             [
              0.8888888888888888,
              "#fdca26"
             ],
             [
              1,
              "#f0f921"
             ]
            ],
            "type": "heatmap"
           }
          ],
          "histogram": [
           {
            "marker": {
             "pattern": {
              "fillmode": "overlay",
              "size": 10,
              "solidity": 0.2
             }
            },
            "type": "histogram"
           }
          ],
          "histogram2d": [
           {
            "colorbar": {
             "outlinewidth": 0,
             "ticks": ""
            },
            "colorscale": [
             [
              0,
              "#0d0887"
             ],
             [
              0.1111111111111111,
              "#46039f"
             ],
             [
              0.2222222222222222,
              "#7201a8"
             ],
             [
              0.3333333333333333,
              "#9c179e"
             ],
             [
              0.4444444444444444,
              "#bd3786"
             ],
             [
              0.5555555555555556,
              "#d8576b"
             ],
             [
              0.6666666666666666,
              "#ed7953"
             ],
             [
              0.7777777777777778,
              "#fb9f3a"
             ],
             [
              0.8888888888888888,
              "#fdca26"
             ],
             [
              1,
              "#f0f921"
             ]
            ],
            "type": "histogram2d"
           }
          ],
          "histogram2dcontour": [
           {
            "colorbar": {
             "outlinewidth": 0,
             "ticks": ""
            },
            "colorscale": [
             [
              0,
              "#0d0887"
             ],
             [
              0.1111111111111111,
              "#46039f"
             ],
             [
              0.2222222222222222,
              "#7201a8"
             ],
             [
              0.3333333333333333,
              "#9c179e"
             ],
             [
              0.4444444444444444,
              "#bd3786"
             ],
             [
              0.5555555555555556,
              "#d8576b"
             ],
             [
              0.6666666666666666,
              "#ed7953"
             ],
             [
              0.7777777777777778,
              "#fb9f3a"
             ],
             [
              0.8888888888888888,
              "#fdca26"
             ],
             [
              1,
              "#f0f921"
             ]
            ],
            "type": "histogram2dcontour"
           }
          ],
          "mesh3d": [
           {
            "colorbar": {
             "outlinewidth": 0,
             "ticks": ""
            },
            "type": "mesh3d"
           }
          ],
          "parcoords": [
           {
            "line": {
             "colorbar": {
              "outlinewidth": 0,
              "ticks": ""
             }
            },
            "type": "parcoords"
           }
          ],
          "pie": [
           {
            "automargin": true,
            "type": "pie"
           }
          ],
          "scatter": [
           {
            "fillpattern": {
             "fillmode": "overlay",
             "size": 10,
             "solidity": 0.2
            },
            "type": "scatter"
           }
          ],
          "scatter3d": [
           {
            "line": {
             "colorbar": {
              "outlinewidth": 0,
              "ticks": ""
             }
            },
            "marker": {
             "colorbar": {
              "outlinewidth": 0,
              "ticks": ""
             }
            },
            "type": "scatter3d"
           }
          ],
          "scattercarpet": [
           {
            "marker": {
             "colorbar": {
              "outlinewidth": 0,
              "ticks": ""
             }
            },
            "type": "scattercarpet"
           }
          ],
          "scattergeo": [
           {
            "marker": {
             "colorbar": {
              "outlinewidth": 0,
              "ticks": ""
             }
            },
            "type": "scattergeo"
           }
          ],
          "scattergl": [
           {
            "marker": {
             "colorbar": {
              "outlinewidth": 0,
              "ticks": ""
             }
            },
            "type": "scattergl"
           }
          ],
          "scattermap": [
           {
            "marker": {
             "colorbar": {
              "outlinewidth": 0,
              "ticks": ""
             }
            },
            "type": "scattermap"
           }
          ],
          "scattermapbox": [
           {
            "marker": {
             "colorbar": {
              "outlinewidth": 0,
              "ticks": ""
             }
            },
            "type": "scattermapbox"
           }
          ],
          "scatterpolar": [
           {
            "marker": {
             "colorbar": {
              "outlinewidth": 0,
              "ticks": ""
             }
            },
            "type": "scatterpolar"
           }
          ],
          "scatterpolargl": [
           {
            "marker": {
             "colorbar": {
              "outlinewidth": 0,
              "ticks": ""
             }
            },
            "type": "scatterpolargl"
           }
          ],
          "scatterternary": [
           {
            "marker": {
             "colorbar": {
              "outlinewidth": 0,
              "ticks": ""
             }
            },
            "type": "scatterternary"
           }
          ],
          "surface": [
           {
            "colorbar": {
             "outlinewidth": 0,
             "ticks": ""
            },
            "colorscale": [
             [
              0,
              "#0d0887"
             ],
             [
              0.1111111111111111,
              "#46039f"
             ],
             [
              0.2222222222222222,
              "#7201a8"
             ],
             [
              0.3333333333333333,
              "#9c179e"
             ],
             [
              0.4444444444444444,
              "#bd3786"
             ],
             [
              0.5555555555555556,
              "#d8576b"
             ],
             [
              0.6666666666666666,
              "#ed7953"
             ],
             [
              0.7777777777777778,
              "#fb9f3a"
             ],
             [
              0.8888888888888888,
              "#fdca26"
             ],
             [
              1,
              "#f0f921"
             ]
            ],
            "type": "surface"
           }
          ],
          "table": [
           {
            "cells": {
             "fill": {
              "color": "#EBF0F8"
             },
             "line": {
              "color": "white"
             }
            },
            "header": {
             "fill": {
              "color": "#C8D4E3"
             },
             "line": {
              "color": "white"
             }
            },
            "type": "table"
           }
          ]
         },
         "layout": {
          "annotationdefaults": {
           "arrowcolor": "#2a3f5f",
           "arrowhead": 0,
           "arrowwidth": 1
          },
          "autotypenumbers": "strict",
          "coloraxis": {
           "colorbar": {
            "outlinewidth": 0,
            "ticks": ""
           }
          },
          "colorscale": {
           "diverging": [
            [
             0,
             "#8e0152"
            ],
            [
             0.1,
             "#c51b7d"
            ],
            [
             0.2,
             "#de77ae"
            ],
            [
             0.3,
             "#f1b6da"
            ],
            [
             0.4,
             "#fde0ef"
            ],
            [
             0.5,
             "#f7f7f7"
            ],
            [
             0.6,
             "#e6f5d0"
            ],
            [
             0.7,
             "#b8e186"
            ],
            [
             0.8,
             "#7fbc41"
            ],
            [
             0.9,
             "#4d9221"
            ],
            [
             1,
             "#276419"
            ]
           ],
           "sequential": [
            [
             0,
             "#0d0887"
            ],
            [
             0.1111111111111111,
             "#46039f"
            ],
            [
             0.2222222222222222,
             "#7201a8"
            ],
            [
             0.3333333333333333,
             "#9c179e"
            ],
            [
             0.4444444444444444,
             "#bd3786"
            ],
            [
             0.5555555555555556,
             "#d8576b"
            ],
            [
             0.6666666666666666,
             "#ed7953"
            ],
            [
             0.7777777777777778,
             "#fb9f3a"
            ],
            [
             0.8888888888888888,
             "#fdca26"
            ],
            [
             1,
             "#f0f921"
            ]
           ],
           "sequentialminus": [
            [
             0,
             "#0d0887"
            ],
            [
             0.1111111111111111,
             "#46039f"
            ],
            [
             0.2222222222222222,
             "#7201a8"
            ],
            [
             0.3333333333333333,
             "#9c179e"
            ],
            [
             0.4444444444444444,
             "#bd3786"
            ],
            [
             0.5555555555555556,
             "#d8576b"
            ],
            [
             0.6666666666666666,
             "#ed7953"
            ],
            [
             0.7777777777777778,
             "#fb9f3a"
            ],
            [
             0.8888888888888888,
             "#fdca26"
            ],
            [
             1,
             "#f0f921"
            ]
           ]
          },
          "colorway": [
           "#636efa",
           "#EF553B",
           "#00cc96",
           "#ab63fa",
           "#FFA15A",
           "#19d3f3",
           "#FF6692",
           "#B6E880",
           "#FF97FF",
           "#FECB52"
          ],
          "font": {
           "color": "#2a3f5f"
          },
          "geo": {
           "bgcolor": "white",
           "lakecolor": "white",
           "landcolor": "#E5ECF6",
           "showlakes": true,
           "showland": true,
           "subunitcolor": "white"
          },
          "hoverlabel": {
           "align": "left"
          },
          "hovermode": "closest",
          "mapbox": {
           "style": "light"
          },
          "paper_bgcolor": "white",
          "plot_bgcolor": "#E5ECF6",
          "polar": {
           "angularaxis": {
            "gridcolor": "white",
            "linecolor": "white",
            "ticks": ""
           },
           "bgcolor": "#E5ECF6",
           "radialaxis": {
            "gridcolor": "white",
            "linecolor": "white",
            "ticks": ""
           }
          },
          "scene": {
           "xaxis": {
            "backgroundcolor": "#E5ECF6",
            "gridcolor": "white",
            "gridwidth": 2,
            "linecolor": "white",
            "showbackground": true,
            "ticks": "",
            "zerolinecolor": "white"
           },
           "yaxis": {
            "backgroundcolor": "#E5ECF6",
            "gridcolor": "white",
            "gridwidth": 2,
            "linecolor": "white",
            "showbackground": true,
            "ticks": "",
            "zerolinecolor": "white"
           },
           "zaxis": {
            "backgroundcolor": "#E5ECF6",
            "gridcolor": "white",
            "gridwidth": 2,
            "linecolor": "white",
            "showbackground": true,
            "ticks": "",
            "zerolinecolor": "white"
           }
          },
          "shapedefaults": {
           "line": {
            "color": "#2a3f5f"
           }
          },
          "ternary": {
           "aaxis": {
            "gridcolor": "white",
            "linecolor": "white",
            "ticks": ""
           },
           "baxis": {
            "gridcolor": "white",
            "linecolor": "white",
            "ticks": ""
           },
           "bgcolor": "#E5ECF6",
           "caxis": {
            "gridcolor": "white",
            "linecolor": "white",
            "ticks": ""
           }
          },
          "title": {
           "x": 0.05
          },
          "xaxis": {
           "automargin": true,
           "gridcolor": "white",
           "linecolor": "white",
           "ticks": "",
           "title": {
            "standoff": 15
           },
           "zerolinecolor": "white",
           "zerolinewidth": 2
          },
          "yaxis": {
           "automargin": true,
           "gridcolor": "white",
           "linecolor": "white",
           "ticks": "",
           "title": {
            "standoff": 15
           },
           "zerolinecolor": "white",
           "zerolinewidth": 2
          }
         }
        },
        "title": {
         "text": "Top 10 Countries by Revenue (USD)"
        },
        "xaxis": {
         "anchor": "y",
         "domain": [
          0,
          1
         ],
         "title": {
          "text": "Country"
         }
        },
        "yaxis": {
         "anchor": "x",
         "domain": [
          0,
          1
         ],
         "title": {
          "text": "Revenue (USD)"
         }
        }
       }
      }
     },
     "metadata": {},
     "output_type": "display_data"
    },
    {
     "data": {
      "application/vnd.plotly.v1+json": {
       "config": {
        "plotlyServerURL": "https://plot.ly"
       },
       "data": [
        {
         "textinfo": "value+percent previous",
         "type": "funnel",
         "x": [
          52617,
          619
         ],
         "y": [
          "Installs",
          "Subscribers"
         ]
        }
       ],
       "layout": {
        "template": {
         "data": {
          "bar": [
           {
            "error_x": {
             "color": "#2a3f5f"
            },
            "error_y": {
             "color": "#2a3f5f"
            },
            "marker": {
             "line": {
              "color": "#E5ECF6",
              "width": 0.5
             },
             "pattern": {
              "fillmode": "overlay",
              "size": 10,
              "solidity": 0.2
             }
            },
            "type": "bar"
           }
          ],
          "barpolar": [
           {
            "marker": {
             "line": {
              "color": "#E5ECF6",
              "width": 0.5
             },
             "pattern": {
              "fillmode": "overlay",
              "size": 10,
              "solidity": 0.2
             }
            },
            "type": "barpolar"
           }
          ],
          "carpet": [
           {
            "aaxis": {
             "endlinecolor": "#2a3f5f",
             "gridcolor": "white",
             "linecolor": "white",
             "minorgridcolor": "white",
             "startlinecolor": "#2a3f5f"
            },
            "baxis": {
             "endlinecolor": "#2a3f5f",
             "gridcolor": "white",
             "linecolor": "white",
             "minorgridcolor": "white",
             "startlinecolor": "#2a3f5f"
            },
            "type": "carpet"
           }
          ],
          "choropleth": [
           {
            "colorbar": {
             "outlinewidth": 0,
             "ticks": ""
            },
            "type": "choropleth"
           }
          ],
          "contour": [
           {
            "colorbar": {
             "outlinewidth": 0,
             "ticks": ""
            },
            "colorscale": [
             [
              0,
              "#0d0887"
             ],
             [
              0.1111111111111111,
              "#46039f"
             ],
             [
              0.2222222222222222,
              "#7201a8"
             ],
             [
              0.3333333333333333,
              "#9c179e"
             ],
             [
              0.4444444444444444,
              "#bd3786"
             ],
             [
              0.5555555555555556,
              "#d8576b"
             ],
             [
              0.6666666666666666,
              "#ed7953"
             ],
             [
              0.7777777777777778,
              "#fb9f3a"
             ],
             [
              0.8888888888888888,
              "#fdca26"
             ],
             [
              1,
              "#f0f921"
             ]
            ],
            "type": "contour"
           }
          ],
          "contourcarpet": [
           {
            "colorbar": {
             "outlinewidth": 0,
             "ticks": ""
            },
            "type": "contourcarpet"
           }
          ],
          "heatmap": [
           {
            "colorbar": {
             "outlinewidth": 0,
             "ticks": ""
            },
            "colorscale": [
             [
              0,
              "#0d0887"
             ],
             [
              0.1111111111111111,
              "#46039f"
             ],
             [
              0.2222222222222222,
              "#7201a8"
             ],
             [
              0.3333333333333333,
              "#9c179e"
             ],
             [
              0.4444444444444444,
              "#bd3786"
             ],
             [
              0.5555555555555556,
              "#d8576b"
             ],
             [
              0.6666666666666666,
              "#ed7953"
             ],
             [
              0.7777777777777778,
              "#fb9f3a"
             ],
             [
              0.8888888888888888,
              "#fdca26"
             ],
             [
              1,
              "#f0f921"
             ]
            ],
            "type": "heatmap"
           }
          ],
          "histogram": [
           {
            "marker": {
             "pattern": {
              "fillmode": "overlay",
              "size": 10,
              "solidity": 0.2
             }
            },
            "type": "histogram"
           }
          ],
          "histogram2d": [
           {
            "colorbar": {
             "outlinewidth": 0,
             "ticks": ""
            },
            "colorscale": [
             [
              0,
              "#0d0887"
             ],
             [
              0.1111111111111111,
              "#46039f"
             ],
             [
              0.2222222222222222,
              "#7201a8"
             ],
             [
              0.3333333333333333,
              "#9c179e"
             ],
             [
              0.4444444444444444,
              "#bd3786"
             ],
             [
              0.5555555555555556,
              "#d8576b"
             ],
             [
              0.6666666666666666,
              "#ed7953"
             ],
             [
              0.7777777777777778,
              "#fb9f3a"
             ],
             [
              0.8888888888888888,
              "#fdca26"
             ],
             [
              1,
              "#f0f921"
             ]
            ],
            "type": "histogram2d"
           }
          ],
          "histogram2dcontour": [
           {
            "colorbar": {
             "outlinewidth": 0,
             "ticks": ""
            },
            "colorscale": [
             [
              0,
              "#0d0887"
             ],
             [
              0.1111111111111111,
              "#46039f"
             ],
             [
              0.2222222222222222,
              "#7201a8"
             ],
             [
              0.3333333333333333,
              "#9c179e"
             ],
             [
              0.4444444444444444,
              "#bd3786"
             ],
             [
              0.5555555555555556,
              "#d8576b"
             ],
             [
              0.6666666666666666,
              "#ed7953"
             ],
             [
              0.7777777777777778,
              "#fb9f3a"
             ],
             [
              0.8888888888888888,
              "#fdca26"
             ],
             [
              1,
              "#f0f921"
             ]
            ],
            "type": "histogram2dcontour"
           }
          ],
          "mesh3d": [
           {
            "colorbar": {
             "outlinewidth": 0,
             "ticks": ""
            },
            "type": "mesh3d"
           }
          ],
          "parcoords": [
           {
            "line": {
             "colorbar": {
              "outlinewidth": 0,
              "ticks": ""
             }
            },
            "type": "parcoords"
           }
          ],
          "pie": [
           {
            "automargin": true,
            "type": "pie"
           }
          ],
          "scatter": [
           {
            "fillpattern": {
             "fillmode": "overlay",
             "size": 10,
             "solidity": 0.2
            },
            "type": "scatter"
           }
          ],
          "scatter3d": [
           {
            "line": {
             "colorbar": {
              "outlinewidth": 0,
              "ticks": ""
             }
            },
            "marker": {
             "colorbar": {
              "outlinewidth": 0,
              "ticks": ""
             }
            },
            "type": "scatter3d"
           }
          ],
          "scattercarpet": [
           {
            "marker": {
             "colorbar": {
              "outlinewidth": 0,
              "ticks": ""
             }
            },
            "type": "scattercarpet"
           }
          ],
          "scattergeo": [
           {
            "marker": {
             "colorbar": {
              "outlinewidth": 0,
              "ticks": ""
             }
            },
            "type": "scattergeo"
           }
          ],
          "scattergl": [
           {
            "marker": {
             "colorbar": {
              "outlinewidth": 0,
              "ticks": ""
             }
            },
            "type": "scattergl"
           }
          ],
          "scattermap": [
           {
            "marker": {
             "colorbar": {
              "outlinewidth": 0,
              "ticks": ""
             }
            },
            "type": "scattermap"
           }
          ],
          "scattermapbox": [
           {
            "marker": {
             "colorbar": {
              "outlinewidth": 0,
              "ticks": ""
             }
            },
            "type": "scattermapbox"
           }
          ],
          "scatterpolar": [
           {
            "marker": {
             "colorbar": {
              "outlinewidth": 0,
              "ticks": ""
             }
            },
            "type": "scatterpolar"
           }
          ],
          "scatterpolargl": [
           {
            "marker": {
             "colorbar": {
              "outlinewidth": 0,
              "ticks": ""
             }
            },
            "type": "scatterpolargl"
           }
          ],
          "scatterternary": [
           {
            "marker": {
             "colorbar": {
              "outlinewidth": 0,
              "ticks": ""
             }
            },
            "type": "scatterternary"
           }
          ],
          "surface": [
           {
            "colorbar": {
             "outlinewidth": 0,
             "ticks": ""
            },
            "colorscale": [
             [
              0,
              "#0d0887"
             ],
             [
              0.1111111111111111,
              "#46039f"
             ],
             [
              0.2222222222222222,
              "#7201a8"
             ],
             [
              0.3333333333333333,
              "#9c179e"
             ],
             [
              0.4444444444444444,
              "#bd3786"
             ],
             [
              0.5555555555555556,
              "#d8576b"
             ],
             [
              0.6666666666666666,
              "#ed7953"
             ],
             [
              0.7777777777777778,
              "#fb9f3a"
             ],
             [
              0.8888888888888888,
              "#fdca26"
             ],
             [
              1,
              "#f0f921"
             ]
            ],
            "type": "surface"
           }
          ],
          "table": [
           {
            "cells": {
             "fill": {
              "color": "#EBF0F8"
             },
             "line": {
              "color": "white"
             }
            },
            "header": {
             "fill": {
              "color": "#C8D4E3"
             },
             "line": {
              "color": "white"
             }
            },
            "type": "table"
           }
          ]
         },
         "layout": {
          "annotationdefaults": {
           "arrowcolor": "#2a3f5f",
           "arrowhead": 0,
           "arrowwidth": 1
          },
          "autotypenumbers": "strict",
          "coloraxis": {
           "colorbar": {
            "outlinewidth": 0,
            "ticks": ""
           }
          },
          "colorscale": {
           "diverging": [
            [
             0,
             "#8e0152"
            ],
            [
             0.1,
             "#c51b7d"
            ],
            [
             0.2,
             "#de77ae"
            ],
            [
             0.3,
             "#f1b6da"
            ],
            [
             0.4,
             "#fde0ef"
            ],
            [
             0.5,
             "#f7f7f7"
            ],
            [
             0.6,
             "#e6f5d0"
            ],
            [
             0.7,
             "#b8e186"
            ],
            [
             0.8,
             "#7fbc41"
            ],
            [
             0.9,
             "#4d9221"
            ],
            [
             1,
             "#276419"
            ]
           ],
           "sequential": [
            [
             0,
             "#0d0887"
            ],
            [
             0.1111111111111111,
             "#46039f"
            ],
            [
             0.2222222222222222,
             "#7201a8"
            ],
            [
             0.3333333333333333,
             "#9c179e"
            ],
            [
             0.4444444444444444,
             "#bd3786"
            ],
            [
             0.5555555555555556,
             "#d8576b"
            ],
            [
             0.6666666666666666,
             "#ed7953"
            ],
            [
             0.7777777777777778,
             "#fb9f3a"
            ],
            [
             0.8888888888888888,
             "#fdca26"
            ],
            [
             1,
             "#f0f921"
            ]
           ],
           "sequentialminus": [
            [
             0,
             "#0d0887"
            ],
            [
             0.1111111111111111,
             "#46039f"
            ],
            [
             0.2222222222222222,
             "#7201a8"
            ],
            [
             0.3333333333333333,
             "#9c179e"
            ],
            [
             0.4444444444444444,
             "#bd3786"
            ],
            [
             0.5555555555555556,
             "#d8576b"
            ],
            [
             0.6666666666666666,
             "#ed7953"
            ],
            [
             0.7777777777777778,
             "#fb9f3a"
            ],
            [
             0.8888888888888888,
             "#fdca26"
            ],
            [
             1,
             "#f0f921"
            ]
           ]
          },
          "colorway": [
           "#636efa",
           "#EF553B",
           "#00cc96",
           "#ab63fa",
           "#FFA15A",
           "#19d3f3",
           "#FF6692",
           "#B6E880",
           "#FF97FF",
           "#FECB52"
          ],
          "font": {
           "color": "#2a3f5f"
          },
          "geo": {
           "bgcolor": "white",
           "lakecolor": "white",
           "landcolor": "#E5ECF6",
           "showlakes": true,
           "showland": true,
           "subunitcolor": "white"
          },
          "hoverlabel": {
           "align": "left"
          },
          "hovermode": "closest",
          "mapbox": {
           "style": "light"
          },
          "paper_bgcolor": "white",
          "plot_bgcolor": "#E5ECF6",
          "polar": {
           "angularaxis": {
            "gridcolor": "white",
            "linecolor": "white",
            "ticks": ""
           },
           "bgcolor": "#E5ECF6",
           "radialaxis": {
            "gridcolor": "white",
            "linecolor": "white",
            "ticks": ""
           }
          },
          "scene": {
           "xaxis": {
            "backgroundcolor": "#E5ECF6",
            "gridcolor": "white",
            "gridwidth": 2,
            "linecolor": "white",
            "showbackground": true,
            "ticks": "",
            "zerolinecolor": "white"
           },
           "yaxis": {
            "backgroundcolor": "#E5ECF6",
            "gridcolor": "white",
            "gridwidth": 2,
            "linecolor": "white",
            "showbackground": true,
            "ticks": "",
            "zerolinecolor": "white"
           },
           "zaxis": {
            "backgroundcolor": "#E5ECF6",
            "gridcolor": "white",
            "gridwidth": 2,
            "linecolor": "white",
            "showbackground": true,
            "ticks": "",
            "zerolinecolor": "white"
           }
          },
          "shapedefaults": {
           "line": {
            "color": "#2a3f5f"
           }
          },
          "ternary": {
           "aaxis": {
            "gridcolor": "white",
            "linecolor": "white",
            "ticks": ""
           },
           "baxis": {
            "gridcolor": "white",
            "linecolor": "white",
            "ticks": ""
           },
           "bgcolor": "#E5ECF6",
           "caxis": {
            "gridcolor": "white",
            "linecolor": "white",
            "ticks": ""
           }
          },
          "title": {
           "x": 0.05
          },
          "xaxis": {
           "automargin": true,
           "gridcolor": "white",
           "linecolor": "white",
           "ticks": "",
           "title": {
            "standoff": 15
           },
           "zerolinecolor": "white",
           "zerolinewidth": 2
          },
          "yaxis": {
           "automargin": true,
           "gridcolor": "white",
           "linecolor": "white",
           "ticks": "",
           "title": {
            "standoff": 15
           },
           "zerolinecolor": "white",
           "zerolinewidth": 2
          }
         }
        },
        "title": {
         "text": "Conversion Funnel: Installs → Subscribers"
        }
       }
      }
     },
     "metadata": {},
     "output_type": "display_data"
    }
   ],
   "source": [
    "import plotly.express as px\n",
    "import plotly.graph_objects as go\n",
    "\n",
    "# Aggregate for beautiful plotly visuals\n",
    "kpi_country = kpi.groupby('country_code').agg(\n",
    "    installs=('installs', 'sum'),\n",
    "    spend=('spend', 'sum'),\n",
    "    subscriptions=('subscriptions', 'sum'),\n",
    "    revenue_usd=('revenue_usd', 'sum'),\n",
    "    active_users=('active_users', 'sum')\n",
    ").reset_index()\n",
    "\n",
    "kpi_country['cpi'] = kpi_country['spend'] / kpi_country['installs'].replace(0, np.nan)\n",
    "kpi_country['arpu'] = kpi_country['revenue_usd'] / kpi_country['installs'].replace(0, np.nan)\n",
    "kpi_country['conversion_rate'] = kpi_country['subscriptions'] / kpi_country['installs'].replace(0, np.nan) * 100\n",
    "\n",
    "# 1. Bubble Chart: Revenue vs CPI by Country\n",
    "bubble = px.scatter(\n",
    "    kpi_country, x=\"cpi\", y=\"arpu\",\n",
    "    size=\"installs\", color=\"country_code\",\n",
    "    hover_name=\"country_code\", size_max=40,\n",
    "    title=\"CPI vs ARPU by Country (Bubble Size = Installs)\",\n",
    "    labels={\"cpi\": \"Cost Per Install (USD)\", \"arpu\": \"Avg Revenue per User (USD)\"}\n",
    ")\n",
    "\n",
    "# 2. Bar Chart: Top 10 Revenue Countries\n",
    "top_revenue = kpi_country.sort_values(\"revenue_usd\", ascending=False).head(10)\n",
    "bar = px.bar(\n",
    "    top_revenue, x='country_code', y='revenue_usd',\n",
    "    text='revenue_usd', title='Top 10 Countries by Revenue (USD)',\n",
    "    labels={'country_code': 'Country', 'revenue_usd': 'Revenue (USD)'},\n",
    "    color='revenue_usd', color_continuous_scale='Blues'\n",
    ")\n",
    "\n",
    "# 3. Funnel Chart: Overall Conversion Funnel\n",
    "funnel = go.Figure(go.Funnel(\n",
    "    y=[\"Installs\", \"Subscribers\"],\n",
    "    x=[kpi['installs'].sum(), kpi['subscriptions'].sum()],\n",
    "    textinfo=\"value+percent previous\"))\n",
    "\n",
    "funnel.update_layout(title=\"Conversion Funnel: Installs → Subscribers\")\n",
    "\n",
    "bubble.show()\n",
    "bar.show()\n",
    "funnel.show()\n"
   ]
  },
  {
   "cell_type": "code",
   "execution_count": 96,
   "id": "3b791bbc",
   "metadata": {},
   "outputs": [
    {
     "data": {
      "application/vnd.plotly.v1+json": {
       "config": {
        "plotlyServerURL": "https://plot.ly"
       },
       "data": [
        {
         "coloraxis": "coloraxis",
         "geo": "geo",
         "hovertemplate": "<b>%{hovertext}</b><br><br>iso_alpha=%{location}<br>Revenue (USD)=%{z}<extra></extra>",
         "hovertext": [
          "ar",
          "br",
          "ca",
          "cl",
          "co",
          "de",
          "es",
          "gb",
          "in",
          "it",
          "jp",
          "mx",
          "pl",
          "sa",
          "us"
         ],
         "locations": [
          "ARG",
          "BRA",
          "CAN",
          "CHL",
          "COL",
          "DEU",
          "ESP",
          "GBR",
          "IND",
          "ITA",
          "JPN",
          "MEX",
          "POL",
          "SAU",
          "USA"
         ],
         "name": "",
         "type": "choropleth",
         "z": {
          "bdata": "syj45pLlhECqZenxEXCRQPrKJQfoBHdAXGs8wAJogEDeJo2Mb7yKQJ7prohvIWNA2p90Dr5ilEB93COQUJmPQK8DEv/dPIlA2UUiIEvhgkDUH8HmIbyMQA2KzNS8VJFAWhziTuCim0CNtzXY8euMQKrUCDPSMHRA",
          "dtype": "f8"
         }
        }
       ],
       "layout": {
        "coloraxis": {
         "colorbar": {
          "title": {
           "text": "Revenue (USD)"
          }
         },
         "colorscale": [
          [
           0,
           "#440154"
          ],
          [
           0.1111111111111111,
           "#482878"
          ],
          [
           0.2222222222222222,
           "#3e4989"
          ],
          [
           0.3333333333333333,
           "#31688e"
          ],
          [
           0.4444444444444444,
           "#26828e"
          ],
          [
           0.5555555555555556,
           "#1f9e89"
          ],
          [
           0.6666666666666666,
           "#35b779"
          ],
          [
           0.7777777777777778,
           "#6ece58"
          ],
          [
           0.8888888888888888,
           "#b5de2b"
          ],
          [
           1,
           "#fde725"
          ]
         ]
        },
        "geo": {
         "center": {},
         "domain": {
          "x": [
           0,
           1
          ],
          "y": [
           0,
           1
          ]
         },
         "projection": {
          "type": "natural earth"
         }
        },
        "legend": {
         "tracegroupgap": 0
        },
        "template": {
         "data": {
          "bar": [
           {
            "error_x": {
             "color": "#2a3f5f"
            },
            "error_y": {
             "color": "#2a3f5f"
            },
            "marker": {
             "line": {
              "color": "#E5ECF6",
              "width": 0.5
             },
             "pattern": {
              "fillmode": "overlay",
              "size": 10,
              "solidity": 0.2
             }
            },
            "type": "bar"
           }
          ],
          "barpolar": [
           {
            "marker": {
             "line": {
              "color": "#E5ECF6",
              "width": 0.5
             },
             "pattern": {
              "fillmode": "overlay",
              "size": 10,
              "solidity": 0.2
             }
            },
            "type": "barpolar"
           }
          ],
          "carpet": [
           {
            "aaxis": {
             "endlinecolor": "#2a3f5f",
             "gridcolor": "white",
             "linecolor": "white",
             "minorgridcolor": "white",
             "startlinecolor": "#2a3f5f"
            },
            "baxis": {
             "endlinecolor": "#2a3f5f",
             "gridcolor": "white",
             "linecolor": "white",
             "minorgridcolor": "white",
             "startlinecolor": "#2a3f5f"
            },
            "type": "carpet"
           }
          ],
          "choropleth": [
           {
            "colorbar": {
             "outlinewidth": 0,
             "ticks": ""
            },
            "type": "choropleth"
           }
          ],
          "contour": [
           {
            "colorbar": {
             "outlinewidth": 0,
             "ticks": ""
            },
            "colorscale": [
             [
              0,
              "#0d0887"
             ],
             [
              0.1111111111111111,
              "#46039f"
             ],
             [
              0.2222222222222222,
              "#7201a8"
             ],
             [
              0.3333333333333333,
              "#9c179e"
             ],
             [
              0.4444444444444444,
              "#bd3786"
             ],
             [
              0.5555555555555556,
              "#d8576b"
             ],
             [
              0.6666666666666666,
              "#ed7953"
             ],
             [
              0.7777777777777778,
              "#fb9f3a"
             ],
             [
              0.8888888888888888,
              "#fdca26"
             ],
             [
              1,
              "#f0f921"
             ]
            ],
            "type": "contour"
           }
          ],
          "contourcarpet": [
           {
            "colorbar": {
             "outlinewidth": 0,
             "ticks": ""
            },
            "type": "contourcarpet"
           }
          ],
          "heatmap": [
           {
            "colorbar": {
             "outlinewidth": 0,
             "ticks": ""
            },
            "colorscale": [
             [
              0,
              "#0d0887"
             ],
             [
              0.1111111111111111,
              "#46039f"
             ],
             [
              0.2222222222222222,
              "#7201a8"
             ],
             [
              0.3333333333333333,
              "#9c179e"
             ],
             [
              0.4444444444444444,
              "#bd3786"
             ],
             [
              0.5555555555555556,
              "#d8576b"
             ],
             [
              0.6666666666666666,
              "#ed7953"
             ],
             [
              0.7777777777777778,
              "#fb9f3a"
             ],
             [
              0.8888888888888888,
              "#fdca26"
             ],
             [
              1,
              "#f0f921"
             ]
            ],
            "type": "heatmap"
           }
          ],
          "histogram": [
           {
            "marker": {
             "pattern": {
              "fillmode": "overlay",
              "size": 10,
              "solidity": 0.2
             }
            },
            "type": "histogram"
           }
          ],
          "histogram2d": [
           {
            "colorbar": {
             "outlinewidth": 0,
             "ticks": ""
            },
            "colorscale": [
             [
              0,
              "#0d0887"
             ],
             [
              0.1111111111111111,
              "#46039f"
             ],
             [
              0.2222222222222222,
              "#7201a8"
             ],
             [
              0.3333333333333333,
              "#9c179e"
             ],
             [
              0.4444444444444444,
              "#bd3786"
             ],
             [
              0.5555555555555556,
              "#d8576b"
             ],
             [
              0.6666666666666666,
              "#ed7953"
             ],
             [
              0.7777777777777778,
              "#fb9f3a"
             ],
             [
              0.8888888888888888,
              "#fdca26"
             ],
             [
              1,
              "#f0f921"
             ]
            ],
            "type": "histogram2d"
           }
          ],
          "histogram2dcontour": [
           {
            "colorbar": {
             "outlinewidth": 0,
             "ticks": ""
            },
            "colorscale": [
             [
              0,
              "#0d0887"
             ],
             [
              0.1111111111111111,
              "#46039f"
             ],
             [
              0.2222222222222222,
              "#7201a8"
             ],
             [
              0.3333333333333333,
              "#9c179e"
             ],
             [
              0.4444444444444444,
              "#bd3786"
             ],
             [
              0.5555555555555556,
              "#d8576b"
             ],
             [
              0.6666666666666666,
              "#ed7953"
             ],
             [
              0.7777777777777778,
              "#fb9f3a"
             ],
             [
              0.8888888888888888,
              "#fdca26"
             ],
             [
              1,
              "#f0f921"
             ]
            ],
            "type": "histogram2dcontour"
           }
          ],
          "mesh3d": [
           {
            "colorbar": {
             "outlinewidth": 0,
             "ticks": ""
            },
            "type": "mesh3d"
           }
          ],
          "parcoords": [
           {
            "line": {
             "colorbar": {
              "outlinewidth": 0,
              "ticks": ""
             }
            },
            "type": "parcoords"
           }
          ],
          "pie": [
           {
            "automargin": true,
            "type": "pie"
           }
          ],
          "scatter": [
           {
            "fillpattern": {
             "fillmode": "overlay",
             "size": 10,
             "solidity": 0.2
            },
            "type": "scatter"
           }
          ],
          "scatter3d": [
           {
            "line": {
             "colorbar": {
              "outlinewidth": 0,
              "ticks": ""
             }
            },
            "marker": {
             "colorbar": {
              "outlinewidth": 0,
              "ticks": ""
             }
            },
            "type": "scatter3d"
           }
          ],
          "scattercarpet": [
           {
            "marker": {
             "colorbar": {
              "outlinewidth": 0,
              "ticks": ""
             }
            },
            "type": "scattercarpet"
           }
          ],
          "scattergeo": [
           {
            "marker": {
             "colorbar": {
              "outlinewidth": 0,
              "ticks": ""
             }
            },
            "type": "scattergeo"
           }
          ],
          "scattergl": [
           {
            "marker": {
             "colorbar": {
              "outlinewidth": 0,
              "ticks": ""
             }
            },
            "type": "scattergl"
           }
          ],
          "scattermap": [
           {
            "marker": {
             "colorbar": {
              "outlinewidth": 0,
              "ticks": ""
             }
            },
            "type": "scattermap"
           }
          ],
          "scattermapbox": [
           {
            "marker": {
             "colorbar": {
              "outlinewidth": 0,
              "ticks": ""
             }
            },
            "type": "scattermapbox"
           }
          ],
          "scatterpolar": [
           {
            "marker": {
             "colorbar": {
              "outlinewidth": 0,
              "ticks": ""
             }
            },
            "type": "scatterpolar"
           }
          ],
          "scatterpolargl": [
           {
            "marker": {
             "colorbar": {
              "outlinewidth": 0,
              "ticks": ""
             }
            },
            "type": "scatterpolargl"
           }
          ],
          "scatterternary": [
           {
            "marker": {
             "colorbar": {
              "outlinewidth": 0,
              "ticks": ""
             }
            },
            "type": "scatterternary"
           }
          ],
          "surface": [
           {
            "colorbar": {
             "outlinewidth": 0,
             "ticks": ""
            },
            "colorscale": [
             [
              0,
              "#0d0887"
             ],
             [
              0.1111111111111111,
              "#46039f"
             ],
             [
              0.2222222222222222,
              "#7201a8"
             ],
             [
              0.3333333333333333,
              "#9c179e"
             ],
             [
              0.4444444444444444,
              "#bd3786"
             ],
             [
              0.5555555555555556,
              "#d8576b"
             ],
             [
              0.6666666666666666,
              "#ed7953"
             ],
             [
              0.7777777777777778,
              "#fb9f3a"
             ],
             [
              0.8888888888888888,
              "#fdca26"
             ],
             [
              1,
              "#f0f921"
             ]
            ],
            "type": "surface"
           }
          ],
          "table": [
           {
            "cells": {
             "fill": {
              "color": "#EBF0F8"
             },
             "line": {
              "color": "white"
             }
            },
            "header": {
             "fill": {
              "color": "#C8D4E3"
             },
             "line": {
              "color": "white"
             }
            },
            "type": "table"
           }
          ]
         },
         "layout": {
          "annotationdefaults": {
           "arrowcolor": "#2a3f5f",
           "arrowhead": 0,
           "arrowwidth": 1
          },
          "autotypenumbers": "strict",
          "coloraxis": {
           "colorbar": {
            "outlinewidth": 0,
            "ticks": ""
           }
          },
          "colorscale": {
           "diverging": [
            [
             0,
             "#8e0152"
            ],
            [
             0.1,
             "#c51b7d"
            ],
            [
             0.2,
             "#de77ae"
            ],
            [
             0.3,
             "#f1b6da"
            ],
            [
             0.4,
             "#fde0ef"
            ],
            [
             0.5,
             "#f7f7f7"
            ],
            [
             0.6,
             "#e6f5d0"
            ],
            [
             0.7,
             "#b8e186"
            ],
            [
             0.8,
             "#7fbc41"
            ],
            [
             0.9,
             "#4d9221"
            ],
            [
             1,
             "#276419"
            ]
           ],
           "sequential": [
            [
             0,
             "#0d0887"
            ],
            [
             0.1111111111111111,
             "#46039f"
            ],
            [
             0.2222222222222222,
             "#7201a8"
            ],
            [
             0.3333333333333333,
             "#9c179e"
            ],
            [
             0.4444444444444444,
             "#bd3786"
            ],
            [
             0.5555555555555556,
             "#d8576b"
            ],
            [
             0.6666666666666666,
             "#ed7953"
            ],
            [
             0.7777777777777778,
             "#fb9f3a"
            ],
            [
             0.8888888888888888,
             "#fdca26"
            ],
            [
             1,
             "#f0f921"
            ]
           ],
           "sequentialminus": [
            [
             0,
             "#0d0887"
            ],
            [
             0.1111111111111111,
             "#46039f"
            ],
            [
             0.2222222222222222,
             "#7201a8"
            ],
            [
             0.3333333333333333,
             "#9c179e"
            ],
            [
             0.4444444444444444,
             "#bd3786"
            ],
            [
             0.5555555555555556,
             "#d8576b"
            ],
            [
             0.6666666666666666,
             "#ed7953"
            ],
            [
             0.7777777777777778,
             "#fb9f3a"
            ],
            [
             0.8888888888888888,
             "#fdca26"
            ],
            [
             1,
             "#f0f921"
            ]
           ]
          },
          "colorway": [
           "#636efa",
           "#EF553B",
           "#00cc96",
           "#ab63fa",
           "#FFA15A",
           "#19d3f3",
           "#FF6692",
           "#B6E880",
           "#FF97FF",
           "#FECB52"
          ],
          "font": {
           "color": "#2a3f5f"
          },
          "geo": {
           "bgcolor": "white",
           "lakecolor": "white",
           "landcolor": "#E5ECF6",
           "showlakes": true,
           "showland": true,
           "subunitcolor": "white"
          },
          "hoverlabel": {
           "align": "left"
          },
          "hovermode": "closest",
          "mapbox": {
           "style": "light"
          },
          "paper_bgcolor": "white",
          "plot_bgcolor": "#E5ECF6",
          "polar": {
           "angularaxis": {
            "gridcolor": "white",
            "linecolor": "white",
            "ticks": ""
           },
           "bgcolor": "#E5ECF6",
           "radialaxis": {
            "gridcolor": "white",
            "linecolor": "white",
            "ticks": ""
           }
          },
          "scene": {
           "xaxis": {
            "backgroundcolor": "#E5ECF6",
            "gridcolor": "white",
            "gridwidth": 2,
            "linecolor": "white",
            "showbackground": true,
            "ticks": "",
            "zerolinecolor": "white"
           },
           "yaxis": {
            "backgroundcolor": "#E5ECF6",
            "gridcolor": "white",
            "gridwidth": 2,
            "linecolor": "white",
            "showbackground": true,
            "ticks": "",
            "zerolinecolor": "white"
           },
           "zaxis": {
            "backgroundcolor": "#E5ECF6",
            "gridcolor": "white",
            "gridwidth": 2,
            "linecolor": "white",
            "showbackground": true,
            "ticks": "",
            "zerolinecolor": "white"
           }
          },
          "shapedefaults": {
           "line": {
            "color": "#2a3f5f"
           }
          },
          "ternary": {
           "aaxis": {
            "gridcolor": "white",
            "linecolor": "white",
            "ticks": ""
           },
           "baxis": {
            "gridcolor": "white",
            "linecolor": "white",
            "ticks": ""
           },
           "bgcolor": "#E5ECF6",
           "caxis": {
            "gridcolor": "white",
            "linecolor": "white",
            "ticks": ""
           }
          },
          "title": {
           "x": 0.05
          },
          "xaxis": {
           "automargin": true,
           "gridcolor": "white",
           "linecolor": "white",
           "ticks": "",
           "title": {
            "standoff": 15
           },
           "zerolinecolor": "white",
           "zerolinewidth": 2
          },
          "yaxis": {
           "automargin": true,
           "gridcolor": "white",
           "linecolor": "white",
           "ticks": "",
           "title": {
            "standoff": 15
           },
           "zerolinecolor": "white",
           "zerolinewidth": 2
          }
         }
        },
        "title": {
         "text": "🌍 Total Revenue by Country"
        }
       }
      }
     },
     "metadata": {},
     "output_type": "display_data"
    }
   ],
   "source": [
    "import plotly.express as px\n",
    "\n",
    "# Use 3-letter ISO codes for country mapping\n",
    "from pycountry import countries\n",
    "\n",
    "# Create a mapping for alpha_2 → alpha_3 codes\n",
    "iso_map = {c.alpha_2.lower(): c.alpha_3 for c in countries if hasattr(c, 'alpha_3')}\n",
    "kpi_country['iso_alpha'] = kpi_country['country_code'].map(iso_map)\n",
    "\n",
    "# Create map\n",
    "fig = px.choropleth(\n",
    "    kpi_country,\n",
    "    locations=\"iso_alpha\",\n",
    "    color=\"revenue_usd\",\n",
    "    hover_name=\"country_code\",\n",
    "    color_continuous_scale=\"Viridis\",\n",
    "    title=\"🌍 Total Revenue by Country\",\n",
    "    labels={\"revenue_usd\": \"Revenue (USD)\"}\n",
    ")\n",
    "fig.update_geos(projection_type=\"natural earth\")\n",
    "fig.show()\n"
   ]
  },
  {
   "cell_type": "code",
   "execution_count": 97,
   "id": "60e092a1",
   "metadata": {},
   "outputs": [
    {
     "data": {
      "application/vnd.plotly.v1+json": {
       "config": {
        "plotlyServerURL": "https://plot.ly"
       },
       "data": [
        {
         "coloraxis": "coloraxis",
         "geo": "geo",
         "hovertemplate": "animation_frame=2022-08-01<br>locations=%{location}<br>Revenue (USD)=%{z}<extra></extra>",
         "locations": [
          "ARG",
          "ARG",
          "BRA",
          "BRA",
          "CAN",
          "CAN",
          "CHL",
          "CHL",
          "COL",
          "COL",
          "DEU",
          "DEU",
          "ESP",
          "ESP",
          "GBR",
          "GBR",
          "IND",
          "IND",
          "ITA",
          "ITA",
          "JPN",
          "JPN",
          "MEX",
          "MEX",
          "POL",
          "POL",
          "SAU",
          "SAU",
          "USA",
          "USA"
         ],
         "name": "",
         "type": "choropleth",
         "z": {
          "bdata": "AAAAAAAAAAAAAAAAAAAAAAAAAAAAAAAAAAAAAAAAAAAAAAAAAAAAAAAAAAAAAAAAAAAAAAAAAAAAAAAAAAAAAAAAAAAAAAAAAAAAAAAAAAAAAAAAAAAAAAAAAAAAAAAAAAAAAAAAAAAAAAAAAAAAAAAAAAAAAAAAAAAAAAAAAAAAAAAAAAAAAAAAAAAAAAAAAAAAAAAAAAAAAAAAAAAAAAAAAAAAAAAAAAAAAAAAAAAAAAAAAAAAAAAAAAAAAAAAAAAAAAAAAAAAAAAAAAAAAAAAAAAAAAAAAAAAAAAAAAAAAAAAAAAAAAAAAAAAAAAA",
          "dtype": "f8"
         }
        }
       ],
       "frames": [
        {
         "data": [
          {
           "coloraxis": "coloraxis",
           "geo": "geo",
           "hovertemplate": "animation_frame=2022-08-01<br>locations=%{location}<br>Revenue (USD)=%{z}<extra></extra>",
           "locations": [
            "ARG",
            "ARG",
            "BRA",
            "BRA",
            "CAN",
            "CAN",
            "CHL",
            "CHL",
            "COL",
            "COL",
            "DEU",
            "DEU",
            "ESP",
            "ESP",
            "GBR",
            "GBR",
            "IND",
            "IND",
            "ITA",
            "ITA",
            "JPN",
            "JPN",
            "MEX",
            "MEX",
            "POL",
            "POL",
            "SAU",
            "SAU",
            "USA",
            "USA"
           ],
           "name": "",
           "type": "choropleth",
           "z": {
            "bdata": "AAAAAAAAAAAAAAAAAAAAAAAAAAAAAAAAAAAAAAAAAAAAAAAAAAAAAAAAAAAAAAAAAAAAAAAAAAAAAAAAAAAAAAAAAAAAAAAAAAAAAAAAAAAAAAAAAAAAAAAAAAAAAAAAAAAAAAAAAAAAAAAAAAAAAAAAAAAAAAAAAAAAAAAAAAAAAAAAAAAAAAAAAAAAAAAAAAAAAAAAAAAAAAAAAAAAAAAAAAAAAAAAAAAAAAAAAAAAAAAAAAAAAAAAAAAAAAAAAAAAAAAAAAAAAAAAAAAAAAAAAAAAAAAAAAAAAAAAAAAAAAAAAAAAAAAAAAAAAAAA",
            "dtype": "f8"
           }
          }
         ],
         "name": "2022-08-01"
        },
        {
         "data": [
          {
           "coloraxis": "coloraxis",
           "geo": "geo",
           "hovertemplate": "animation_frame=2022-08-02<br>locations=%{location}<br>Revenue (USD)=%{z}<extra></extra>",
           "locations": [
            "ARG",
            "ARG",
            "BRA",
            "BRA",
            "CAN",
            "CAN",
            "CHL",
            "CHL",
            "COL",
            "COL",
            "DEU",
            "DEU",
            "ESP",
            "ESP",
            "GBR",
            "GBR",
            "IND",
            "IND",
            "ITA",
            "ITA",
            "JPN",
            "JPN",
            "MEX",
            "MEX",
            "POL",
            "POL",
            "SAU",
            "SAU",
            "USA",
            "USA"
           ],
           "name": "",
           "type": "choropleth",
           "z": {
            "bdata": "AAAAAAAAAAAAAAAAAAAAAAAAAAAAAAAAAAAAAAAAAAAAAAAAAAAAAAAAAAAAAAAAAAAAAAAAAAAAAAAAAAAAAAAAAAAAAAAAAAAAAAAAAAAAAAAAAAAAAAAAAAAAAAAARUAg+fSrREAAAAAAAAAAAAAAAAAAAAAAAAAAAAAAAAAAAAAAAAAAAAAAAAAAAAAAAAAAAAAAAAAAAAAAAAAAAAAAAAAAAAAAEOGwIVfNWkAAAAAAAAAAAAAAAAAAAAAAAAAAAAAAAAAAAAAAAAAAAAAAAAAAAAAAAAAAAAAAAAAAAAAAAAAAAAAAAAAAAAAA",
            "dtype": "f8"
           }
          }
         ],
         "name": "2022-08-02"
        },
        {
         "data": [
          {
           "coloraxis": "coloraxis",
           "geo": "geo",
           "hovertemplate": "animation_frame=2022-08-03<br>locations=%{location}<br>Revenue (USD)=%{z}<extra></extra>",
           "locations": [
            "ARG",
            "ARG",
            "BRA",
            "BRA",
            "CAN",
            "CAN",
            "CHL",
            "CHL",
            "COL",
            "COL",
            "DEU",
            "DEU",
            "ESP",
            "ESP",
            "GBR",
            "GBR",
            "IND",
            "IND",
            "ITA",
            "ITA",
            "JPN",
            "JPN",
            "MEX",
            "MEX",
            "POL",
            "POL",
            "SAU",
            "SAU",
            "USA",
            "USA"
           ],
           "name": "",
           "type": "choropleth",
           "z": {
            "bdata": "AAAAAAAAAAAAAAAAAAAAAAAAAAAAAAAAAAAAAAAAAAAAAAAAAAAAAAAAAAAAAAAAAAAAAAAAAAAAAAAAAAAAAAAAAAAAAAAAAAAAAAAAAAAAAAAAAAAAAAAAAAAAAAAAAAAAAAAAAAAAAAAAAAAAAAAAAAAAAAAAAAAAAAAAAAAAAAAAAAAAAAAAAAAAAAAAAAAAAAAAAAAAAAAAAAAAAAAAAAAAAAAAAAAAAAAAAAAAAAAAAAAAAAAAAAAAAAAAAAAAAAAAAAAAAAAAAAAAAAAAAAAAAAAAAAAAAAAAAAAAAAAAAAAAAAAAAAAAAAAA",
            "dtype": "f8"
           }
          }
         ],
         "name": "2022-08-03"
        },
        {
         "data": [
          {
           "coloraxis": "coloraxis",
           "geo": "geo",
           "hovertemplate": "animation_frame=2022-08-04<br>locations=%{location}<br>Revenue (USD)=%{z}<extra></extra>",
           "locations": [
            "ARG",
            "ARG",
            "BRA",
            "BRA",
            "CAN",
            "CAN",
            "CHL",
            "CHL",
            "COL",
            "COL",
            "DEU",
            "DEU",
            "ESP",
            "ESP",
            "GBR",
            "GBR",
            "IND",
            "IND",
            "ITA",
            "ITA",
            "JPN",
            "JPN",
            "MEX",
            "MEX",
            "POL",
            "POL",
            "SAU",
            "SAU",
            "USA",
            "USA"
           ],
           "name": "",
           "type": "choropleth",
           "z": {
            "bdata": "AAAAAAAAAAAAAAAAAAAAAAAAAAAAAAAAAAAAAAAAAAAAAAAAAAAAAAAAAAAAAAAAAAAAAAAAAAAAAAAAAAAAAAAAAAAAAAAAAAAAAAAAAAAAAAAAAAAAAAAAAAAAAAAAAAAAAAAAAAAAAAAAAAAAAE5kH3BCbPc/AAAAAAAAAAChowI01d2RPwAAAAAAAAAA6090047QFEAAAAAAAAAAAAAAAAAAAAAAAAAAAAAAAAAAAAAAAAAAAAAAAAAAAAAAAAAAAAAAAAANvUw07a4qQAAAAAAAAAAAAAAAAAAAAAAAAAAAAAAAAAAAAAAAAAAA",
            "dtype": "f8"
           }
          }
         ],
         "name": "2022-08-04"
        },
        {
         "data": [
          {
           "coloraxis": "coloraxis",
           "geo": "geo",
           "hovertemplate": "animation_frame=2022-08-05<br>locations=%{location}<br>Revenue (USD)=%{z}<extra></extra>",
           "locations": [
            "ARG",
            "ARG",
            "BRA",
            "BRA",
            "CAN",
            "CAN",
            "CHL",
            "CHL",
            "COL",
            "COL",
            "DEU",
            "DEU",
            "ESP",
            "ESP",
            "GBR",
            "GBR",
            "IND",
            "IND",
            "ITA",
            "ITA",
            "JPN",
            "JPN",
            "MEX",
            "MEX",
            "POL",
            "POL",
            "SAU",
            "SAU",
            "USA",
            "USA"
           ],
           "name": "",
           "type": "choropleth",
           "z": {
            "bdata": "AAAAAAAAAAAAAAAAAAAAAAAAAAAAAAAAAAAAAAAAAAAAAAAAAAAAAAAAAAAAAAAAAAAAAAAAAAAAAAAAAAAAAAAAAAAAAAAAAAAAAAAAAAAAAAAAAAAAAAAAAAAAAAAAVSNU68te4j8AAAAAAAAAAAAAAAAAAAAAAAAAAAAAAAAUNHzXwZvfPwAAAAAAAAAAAAAAAAAAAAAAAAAAAAAAAAAAAAAAAAAAb2SujZZF4z8AAAAAAAAAAAAAAAAAAAAAAAAAAAAAAAAAAAAAAAAAAHrEdQBZX1tAAAAAAAAAAAAAAAAAAAAAAAAAAAAAAAAA",
            "dtype": "f8"
           }
          }
         ],
         "name": "2022-08-05"
        },
        {
         "data": [
          {
           "coloraxis": "coloraxis",
           "geo": "geo",
           "hovertemplate": "animation_frame=2022-08-06<br>locations=%{location}<br>Revenue (USD)=%{z}<extra></extra>",
           "locations": [
            "ARG",
            "ARG",
            "BRA",
            "BRA",
            "CAN",
            "CAN",
            "CHL",
            "CHL",
            "COL",
            "COL",
            "DEU",
            "DEU",
            "ESP",
            "ESP",
            "GBR",
            "GBR",
            "IND",
            "IND",
            "ITA",
            "ITA",
            "JPN",
            "JPN",
            "MEX",
            "MEX",
            "POL",
            "POL",
            "SAU",
            "SAU",
            "USA",
            "USA"
           ],
           "name": "",
           "type": "choropleth",
           "z": {
            "bdata": "AAAAAAAAAAAAAAAAAAAAAF+7XWVIR+o/AAAAAAAAAACnA/owez7pPwAAAAAAAAAAAAAAAAAAAAAAAAAAAAAAAAAAAAAAAAAAtjTGYIUywz8AAAAAAAAAAAAAAAAAAAAAAAAAAAAAAAAAAAAAAAAAAAAAAAAAAAAAAAAAAAAAAAAAAAAAAAAAAAAAAAAAAAAAAAAAAAAAAAAAAAAAAAAAAAAAAAAAAAAAAAAAAAAAAAAAAAAAAAAAAAAAAAAAAAAAAAAAAAAAAAAAAAAAAAAAAAAAAAAAAAAAAAAAAAAAAAAAAAAAAAAAAMoeASyoCiNA",
            "dtype": "f8"
           }
          }
         ],
         "name": "2022-08-06"
        },
        {
         "data": [
          {
           "coloraxis": "coloraxis",
           "geo": "geo",
           "hovertemplate": "animation_frame=2022-08-07<br>locations=%{location}<br>Revenue (USD)=%{z}<extra></extra>",
           "locations": [
            "ARG",
            "ARG",
            "BRA",
            "BRA",
            "CAN",
            "CAN",
            "CHL",
            "CHL",
            "COL",
            "COL",
            "DEU",
            "DEU",
            "ESP",
            "ESP",
            "GBR",
            "GBR",
            "IND",
            "IND",
            "ITA",
            "ITA",
            "JPN",
            "JPN",
            "MEX",
            "MEX",
            "POL",
            "POL",
            "SAU",
            "SAU",
            "USA",
            "USA"
           ],
           "name": "",
           "type": "choropleth",
           "z": {
            "bdata": "AAAAAAAAAAAAAAAAAAAAAAAAAAAAAAAAAAAAAAAAAAAAAAAAAAAAAAAAAAAAAAAAAAAAAAAAAAAAAAAAAAAAAKAptM8v4UdAAAAAAAAAAAB0UNOZbw6MP2+TlotK8tM/GbUCuKdOSUAAAAAAAAAAAAAAAAAAAAAAAAAAAAAAAAAAAAAAAAAAAAAAAAAAAAAAAAAAAAAAAAAAAAAAAAAAAAAAAAAAAAAAAAAAAAAAAAAAAAAAAAAAAAAAAAAAAAAAAAAAAAAAAAAAAAAAAAAAAAAAAAAAAAAAZ93Z7bYN5D8AAAAAAAAAAAAAAAAAAAAA",
            "dtype": "f8"
           }
          }
         ],
         "name": "2022-08-07"
        },
        {
         "data": [
          {
           "coloraxis": "coloraxis",
           "geo": "geo",
           "hovertemplate": "animation_frame=2022-08-08<br>locations=%{location}<br>Revenue (USD)=%{z}<extra></extra>",
           "locations": [
            "ARG",
            "ARG",
            "BRA",
            "BRA",
            "CAN",
            "CAN",
            "CHL",
            "CHL",
            "COL",
            "COL",
            "DEU",
            "DEU",
            "ESP",
            "ESP",
            "GBR",
            "GBR",
            "IND",
            "IND",
            "ITA",
            "ITA",
            "JPN",
            "JPN",
            "MEX",
            "MEX",
            "POL",
            "POL",
            "SAU",
            "SAU",
            "USA",
            "USA"
           ],
           "name": "",
           "type": "choropleth",
           "z": {
            "bdata": "AAAAAAAAAAAAAAAAAAAAAAAAAAAAAAAAAAAAAAAAAAAAAAAAAAAAAAAAAAAAAAAAAAAAAAAAAAAAAAAAAAAAAAAAAAAAAAAAAAAAAAAAAAAAAAAAAAAAAAAAAAAAAAAAAAAAAAAAAAAAAAAAAAAAAAAAAAAAAAAAAAAAAAAAAAAAAAAAAAAAAAAAAAAAAAAAAAAAAAAAAACJN+GOuSXDP3S7VhbLnzZAAAAAAAAAAAAAAAAAAAAAAAAAAAAAAAAAAAAAAAAAAAAAAAAAAAAAAAAAAAAAAAAAAAAAAAAAAAAAAAAAAAAAAAAAAAAAAAAA",
            "dtype": "f8"
           }
          }
         ],
         "name": "2022-08-08"
        },
        {
         "data": [
          {
           "coloraxis": "coloraxis",
           "geo": "geo",
           "hovertemplate": "animation_frame=2022-08-09<br>locations=%{location}<br>Revenue (USD)=%{z}<extra></extra>",
           "locations": [
            "ARG",
            "ARG",
            "BRA",
            "BRA",
            "CAN",
            "CAN",
            "CHL",
            "CHL",
            "COL",
            "COL",
            "DEU",
            "DEU",
            "ESP",
            "ESP",
            "GBR",
            "GBR",
            "IND",
            "IND",
            "ITA",
            "ITA",
            "JPN",
            "JPN",
            "MEX",
            "MEX",
            "POL",
            "POL",
            "SAU",
            "SAU",
            "USA",
            "USA"
           ],
           "name": "",
           "type": "choropleth",
           "z": {
            "bdata": "AAAAAAAAAAAAAAAAAAAAAAAAAAAAAAAAAAAAAAAAAAAAAAAAAAAAAAAAAAAAAAAAPrAzQwHfMEAAAAAAAAAAAAAAAAAAAAAAAAAAAAAAAAAAAAAAAAAAAAAAAAAAAAAAAAAAAAAAAAAAAAAAAAAAAAAAAAAAAAAAAAAAAAAAAADmkj3n9ktTQAAAAAAAAAAA4ZszjlOa3D8AAAAAAAAAAAAAAAAAAAAAIL/8BJAaU0AAAAAAAAAAAAAAAAAAAAAANe3FwF6mXUAAAAAAAAAAAAAAAAAAAAAAXh1mIEUzXEAAAAAAAAAAAAAAAAAAAAAA",
            "dtype": "f8"
           }
          }
         ],
         "name": "2022-08-09"
        },
        {
         "data": [
          {
           "coloraxis": "coloraxis",
           "geo": "geo",
           "hovertemplate": "animation_frame=2022-08-10<br>locations=%{location}<br>Revenue (USD)=%{z}<extra></extra>",
           "locations": [
            "ARG",
            "ARG",
            "BRA",
            "BRA",
            "CAN",
            "CAN",
            "CHL",
            "CHL",
            "COL",
            "COL",
            "DEU",
            "DEU",
            "ESP",
            "ESP",
            "GBR",
            "GBR",
            "IND",
            "IND",
            "ITA",
            "ITA",
            "JPN",
            "JPN",
            "MEX",
            "MEX",
            "POL",
            "POL",
            "SAU",
            "SAU",
            "USA",
            "USA"
           ],
           "name": "",
           "type": "choropleth",
           "z": {
            "bdata": "AAAAAAAAAAAAAAAAAAAAAAAAAAAAAAAAAAAAAAAAAAAAAAAAAAAAAAAAAAAAAAAAnqaQe4FrhT8AAAAAAAAAAAAAAAAAAAAAAAAAAAAAAAAAAAAAAAAAAOZ4GE7+TIk/AAAAAAAAAACGJjx72lywPwAAAAAAAAAAAAAAAAAAAAAAAAAAAAAAAAAAAAAAAAAADGe2hqSozz8AAAAAAAAAAAAAAAAAAAAASz5FqQbfKkAAAAAAAAAAAEJbI9D7IBZAAAAAAAAAAAAAAAAAAAAAAG0K2t7fEw1AAAAAAAAAAAAAAAAAAAAAAAAAAAAAAAAA",
            "dtype": "f8"
           }
          }
         ],
         "name": "2022-08-10"
        },
        {
         "data": [
          {
           "coloraxis": "coloraxis",
           "geo": "geo",
           "hovertemplate": "animation_frame=2022-08-11<br>locations=%{location}<br>Revenue (USD)=%{z}<extra></extra>",
           "locations": [
            "ARG",
            "ARG",
            "BRA",
            "BRA",
            "CAN",
            "CAN",
            "CHL",
            "CHL",
            "COL",
            "COL",
            "DEU",
            "DEU",
            "ESP",
            "ESP",
            "GBR",
            "GBR",
            "IND",
            "IND",
            "ITA",
            "ITA",
            "JPN",
            "JPN",
            "MEX",
            "MEX",
            "POL",
            "POL",
            "SAU",
            "SAU",
            "USA",
            "USA"
           ],
           "name": "",
           "type": "choropleth",
           "z": {
            "bdata": "AAAAAAAAAABshv7jbIJHQAAAAAAAAAAAO9OFFdaw1z8AAAAAAAAAAAAAAAAAAAAAAAAAAAAAAAARBeMOwG1DQAAAAAAAAAAAAAAAAAAAAAAAAAAAAAAAAAAAAAAAAAAAAAAAAAAAAAAAAAAAAAAAAD1+2DfiD7Y/AAAAAAAAAAAAAAAAAAAAAAAAAAAAAAAAAAAAAAAAAAAAAAAAAAAAAAAAAAAAAAAAAAAAAAAAAAAAAAAAAAAAAAAAAAAAAAAAAAAAAAAAAAAAAAAAAAAAAFNSdgin4rg/AAAAAAAAAAAAAAAAAAAAADnipsWtrzxA",
            "dtype": "f8"
           }
          }
         ],
         "name": "2022-08-11"
        },
        {
         "data": [
          {
           "coloraxis": "coloraxis",
           "geo": "geo",
           "hovertemplate": "animation_frame=2022-08-12<br>locations=%{location}<br>Revenue (USD)=%{z}<extra></extra>",
           "locations": [
            "ARG",
            "ARG",
            "BRA",
            "BRA",
            "CAN",
            "CAN",
            "CHL",
            "CHL",
            "COL",
            "COL",
            "DEU",
            "DEU",
            "ESP",
            "ESP",
            "GBR",
            "GBR",
            "IND",
            "IND",
            "ITA",
            "ITA",
            "JPN",
            "JPN",
            "MEX",
            "MEX",
            "POL",
            "POL",
            "SAU",
            "SAU",
            "USA",
            "USA"
           ],
           "name": "",
           "type": "choropleth",
           "z": {
            "bdata": "AAAAAAAAAAAtL160r9HVPwAAAAAAAAAAAAAAAAAAAAAAAAAAAAAAANDqVWRWmdY/Z6hBMaCZkT8xSnhcyVYEQAAAAAAAAAAAAAAAAAAAAAAAAAAAAAAAAAAAAAAAAAAAAAAAAAAAAAAAAAAAAAAAAAAAAAAAAAAAY3XZXZNWHEAAAAAAAAAAAAAAAAAAAAAAAAAAAAAAAAAAAAAAAAAAAAAAAAAAAAAAAAAAAAAAAAAAAAAAAAAAAAAAAAAAAAAAAAAAAAAAAACIY9EQmlmEPwAAAAAAAAAAkCygKadDwD8AAAAAAAAAAAySxbKGdjZA",
            "dtype": "f8"
           }
          }
         ],
         "name": "2022-08-12"
        },
        {
         "data": [
          {
           "coloraxis": "coloraxis",
           "geo": "geo",
           "hovertemplate": "animation_frame=2022-08-13<br>locations=%{location}<br>Revenue (USD)=%{z}<extra></extra>",
           "locations": [
            "ARG",
            "ARG",
            "BRA",
            "BRA",
            "CAN",
            "CAN",
            "CHL",
            "CHL",
            "COL",
            "COL",
            "DEU",
            "DEU",
            "ESP",
            "ESP",
            "GBR",
            "GBR",
            "IND",
            "IND",
            "ITA",
            "ITA",
            "JPN",
            "JPN",
            "MEX",
            "MEX",
            "POL",
            "POL",
            "SAU",
            "SAU",
            "USA",
            "USA"
           ],
           "name": "",
           "type": "choropleth",
           "z": {
            "bdata": "AAAAAAAAAAAAAAAAAAAAAOrIZrTqwxtAAAAAAAAAAAAAAAAAAAAAAAAAAAAAAAAAAAAAAAAAAAAAAAAAAAAAAAAAAAAAAAAAAAAAAAAAAAAAAAAAAAAAAAAAAAAAAAAA/Ddpg7UNtD8AAAAAAAAAAO+mmE1EOy5AAAAAAAAAAAC877S0xxBIQAAAAAAAAAAALEvH5kaKEEAAAAAAAAAAAAAAAAAAAAAAAAAAAAAAAAAAAAAAAAAAAAAAAAAAAAAAAAAAAAAAAABs5OqQjwzQP44hF5U5Lms/AAAAAAAAAAD6SRinH7HDPwAAAAAAAAAA",
            "dtype": "f8"
           }
          }
         ],
         "name": "2022-08-13"
        },
        {
         "data": [
          {
           "coloraxis": "coloraxis",
           "geo": "geo",
           "hovertemplate": "animation_frame=2022-08-14<br>locations=%{location}<br>Revenue (USD)=%{z}<extra></extra>",
           "locations": [
            "ARG",
            "ARG",
            "BRA",
            "BRA",
            "CAN",
            "CAN",
            "CHL",
            "CHL",
            "COL",
            "COL",
            "DEU",
            "DEU",
            "ESP",
            "ESP",
            "GBR",
            "GBR",
            "IND",
            "IND",
            "ITA",
            "ITA",
            "JPN",
            "JPN",
            "MEX",
            "MEX",
            "POL",
            "POL",
            "SAU",
            "SAU",
            "USA",
            "USA"
           ],
           "name": "",
           "type": "choropleth",
           "z": {
            "bdata": "AAAAAAAAAAAGAFe1zn7DPwAAAAAAAAAAeH4F564uJkAAAAAAAAAAAAAAAAAAAAAAAAAAAAAAAAAAAAAAAAAAAAAAAAAAAAAAAAAAAAAAAAAAAAAAAAAAAAAAAAAAAAAAAAAAAAAAAAAAAAAAAAAAAAAAAAAAAAAAAAAAAAAAAAAAAAAAAAAAABM++6ZuSCVAUtbFZAu1rD8AAAAAAAAAAINLcsvK09I/AAAAAAAAAAAAAAAAAAAAAEawj5i8rIc/EB1oz3IvCkAze7p4wigSQJ8vHwWJFgdAAAAAAAAAAAAAAAAAAAAAABbTY+HkFxxA",
            "dtype": "f8"
           }
          }
         ],
         "name": "2022-08-14"
        },
        {
         "data": [
          {
           "coloraxis": "coloraxis",
           "geo": "geo",
           "hovertemplate": "animation_frame=2022-08-15<br>locations=%{location}<br>Revenue (USD)=%{z}<extra></extra>",
           "locations": [
            "ARG",
            "ARG",
            "BRA",
            "BRA",
            "CAN",
            "CAN",
            "CHL",
            "CHL",
            "COL",
            "COL",
            "DEU",
            "DEU",
            "ESP",
            "ESP",
            "GBR",
            "GBR",
            "IND",
            "IND",
            "ITA",
            "ITA",
            "JPN",
            "JPN",
            "MEX",
            "MEX",
            "POL",
            "POL",
            "SAU",
            "SAU",
            "USA",
            "USA"
           ],
           "name": "",
           "type": "choropleth",
           "z": {
            "bdata": "AAAAAAAAAAAAAAAAAAAAAAAAAAAAAAAAAAAAAAAAAAAAAAAAAAAAAAAAAAAAAAAAAAAAAAAAAAAAAAAAAAAAAAAAAAAAAAAAAAAAAAAAAAAAAAAAAAAAAAAAAAAAAAAAAAAAAAAAAAAAAAAAAAAAAAAAAAAAAAAAAAAAAAAAAAAAAAAAAAAAAICcN+dQ3gFAAAAAAAAAAAAAAAAAAAAAAAAAAAAAAAAAAAAAAAAAAAAAAAAAAAAAAAAAAAAAAAAAAAAAAAAAAAAAAAAAAAAAAI5H7q/j3N8/AAAAAAAAAADQo4EnB0okQAAAAAAAAAAA",
            "dtype": "f8"
           }
          }
         ],
         "name": "2022-08-15"
        },
        {
         "data": [
          {
           "coloraxis": "coloraxis",
           "geo": "geo",
           "hovertemplate": "animation_frame=2022-08-16<br>locations=%{location}<br>Revenue (USD)=%{z}<extra></extra>",
           "locations": [
            "ARG",
            "ARG",
            "BRA",
            "BRA",
            "CAN",
            "CAN",
            "CHL",
            "CHL",
            "COL",
            "COL",
            "DEU",
            "DEU",
            "ESP",
            "ESP",
            "GBR",
            "GBR",
            "IND",
            "IND",
            "ITA",
            "ITA",
            "JPN",
            "JPN",
            "MEX",
            "MEX",
            "POL",
            "POL",
            "SAU",
            "SAU",
            "USA",
            "USA"
           ],
           "name": "",
           "type": "choropleth",
           "z": {
            "bdata": "lhhlkJSK5z8AAAAAAAAAAAAAAAAAAAAAAAAAAAAAAAAAAAAAAAAAAAAAAAAAAAAAvRFqvA1boz8AAAAAAAAAAAAAAAAAAAAAAAAAAAAAAAAAAAAAAAAAAAAAAAAAAAAAAAAAAAAAAAAAAAAAAAAAADEBKWcI0SJAAAAAAAAAAAAAAAAAAAAAAAAAAAAAAAAAAAAAAAAAAAAAAAAAAAAAAAAAAAAAAAAAAAAAAAAAAAAAAAAAAAAAAB9dY/xdVEpAAAAAAAAAAAAAAAAAAAAAAJDNTG87+4o/AAAAAAAAAAAAAAAAAAAAAAAAAAAAAAAA",
            "dtype": "f8"
           }
          }
         ],
         "name": "2022-08-16"
        },
        {
         "data": [
          {
           "coloraxis": "coloraxis",
           "geo": "geo",
           "hovertemplate": "animation_frame=2022-08-17<br>locations=%{location}<br>Revenue (USD)=%{z}<extra></extra>",
           "locations": [
            "ARG",
            "ARG",
            "BRA",
            "BRA",
            "CAN",
            "CAN",
            "CHL",
            "CHL",
            "COL",
            "COL",
            "DEU",
            "DEU",
            "ESP",
            "ESP",
            "GBR",
            "GBR",
            "IND",
            "IND",
            "ITA",
            "ITA",
            "JPN",
            "JPN",
            "MEX",
            "MEX",
            "POL",
            "POL",
            "SAU",
            "SAU",
            "USA",
            "USA"
           ],
           "name": "",
           "type": "choropleth",
           "z": {
            "bdata": "AAAAAAAAAADbuv2dh/KRPwAAAAAAAAAAAAAAAAAAAAAAAAAAAAAAAAAAAAAAAAAAAAAAAAAAAAAAAAAAAAAAAAAAAAAAAAAADLp9RrkuCkAAAAAAAAAAAAAAAAAAAAAAAAAAAAAAAAAAAAAAAAAAAAAAAAAAAAAAHeIoukuc8T8gPSEOaJoRQAAAAAAAAAAAAAAAAAAAAAAAAAAAAAAAAAAAAAAAAAAAAAAAAAAAAABTJiTVR1v5PwAAAAAAAAAAAAAAAAAAAAD88Eq4/3heQAAAAAAAAAAAAAAAAAAAAABRomgt9vrRP4BUMuC60xhA",
            "dtype": "f8"
           }
          }
         ],
         "name": "2022-08-17"
        },
        {
         "data": [
          {
           "coloraxis": "coloraxis",
           "geo": "geo",
           "hovertemplate": "animation_frame=2022-08-18<br>locations=%{location}<br>Revenue (USD)=%{z}<extra></extra>",
           "locations": [
            "ARG",
            "ARG",
            "BRA",
            "BRA",
            "CAN",
            "CAN",
            "CHL",
            "CHL",
            "COL",
            "COL",
            "DEU",
            "DEU",
            "ESP",
            "ESP",
            "GBR",
            "GBR",
            "IND",
            "IND",
            "ITA",
            "ITA",
            "JPN",
            "JPN",
            "MEX",
            "MEX",
            "POL",
            "POL",
            "SAU",
            "SAU",
            "USA",
            "USA"
           ],
           "name": "",
           "type": "choropleth",
           "z": {
            "bdata": "AAAAAAAAAAAAAAAAAAAAAAAAAAAAAAAAAAAAAAAAAAC3qMsLCnPXPwAAAAAAAAAAAAAAAAAAAAAAAAAAAAAAAAAAAAAAAAAAAAAAAAAAAAAAAAAAAAAAAAAAAAAAAAAAAAAAAAAAAAAAAAAAAAAAAAKoJMjKuDxAAAAAAAAAAAAAAAAAAAAAAAAAAAAAAAAAAAAAAAAAAADhtMQVpPZHQAAAAAAAAAAAAAAAAAAAAADXkRpRf4CoPwAAAAAAAAAACfjL5puO8j8AAAAAAAAAAAAAAAAAAAAAAAAAAAAAAADnr7WJNf4bQOwbOOZ7UNY/",
            "dtype": "f8"
           }
          }
         ],
         "name": "2022-08-18"
        },
        {
         "data": [
          {
           "coloraxis": "coloraxis",
           "geo": "geo",
           "hovertemplate": "animation_frame=2022-08-19<br>locations=%{location}<br>Revenue (USD)=%{z}<extra></extra>",
           "locations": [
            "ARG",
            "ARG",
            "BRA",
            "BRA",
            "CAN",
            "CAN",
            "CHL",
            "CHL",
            "COL",
            "COL",
            "DEU",
            "DEU",
            "ESP",
            "ESP",
            "GBR",
            "GBR",
            "IND",
            "IND",
            "ITA",
            "ITA",
            "JPN",
            "JPN",
            "MEX",
            "MEX",
            "POL",
            "POL",
            "SAU",
            "SAU",
            "USA",
            "USA"
           ],
           "name": "",
           "type": "choropleth",
           "z": {
            "bdata": "57dowMG6KUBKvQqh35rPPwAAAAAAAAAAAAAAAAAAAAAAAAAAAAAAAAAAAAAAAAAAAAAAAAAAAABeaWj9297TP6UgcoD1hFNALikYR6KAW0AAAAAAAAAAAAAAAAAAAAAAAAAAAAAAAAAAAAAAAAAAAAAAAAAAAAAAAAAAAAAAAAAAAAAAAAAAAAAAAAAAAAAAAAAAAAAAAAAAAAAAAAAAAAAAAAAAAAAAAAAAAAAAAAAAAAAAAAAAAAAAAAAAAAAAAAAAAAAAAAAAAAAAAAAAAAAAAAAAAAAAAAAAAAAAAAAAAAAAAAAAADaQ2icQi8Q/",
            "dtype": "f8"
           }
          }
         ],
         "name": "2022-08-19"
        },
        {
         "data": [
          {
           "coloraxis": "coloraxis",
           "geo": "geo",
           "hovertemplate": "animation_frame=2022-08-20<br>locations=%{location}<br>Revenue (USD)=%{z}<extra></extra>",
           "locations": [
            "ARG",
            "ARG",
            "BRA",
            "BRA",
            "CAN",
            "CAN",
            "CHL",
            "CHL",
            "COL",
            "COL",
            "DEU",
            "DEU",
            "ESP",
            "ESP",
            "GBR",
            "GBR",
            "IND",
            "IND",
            "ITA",
            "ITA",
            "JPN",
            "JPN",
            "MEX",
            "MEX",
            "POL",
            "POL",
            "SAU",
            "SAU",
            "USA",
            "USA"
           ],
           "name": "",
           "type": "choropleth",
           "z": {
            "bdata": "AAAAAAAAAAAAAAAAAAAAALoX2BDI4uE/KhVHU2Q0mT8AAAAAAAAAAAAAAAAAAAAAAAAAAAAAAAAAAAAAAAAAAAAAAAAAAAAAQZ1g0RJbsD8AAAAAAAAAAAAAAAAAAAAAAAAAAAAAAACE5hIFf2xXQAAAAAAAAAAAAAAAAAAAAAAAAAAAAAAAAAAAAAAAAAAAwAGKFdDLIEAAAAAAAAAAAAAAAAAAAAAAAAAAAAAAAADuH+5gt+PBPwAAAAAAAAAAAAAAAAAAAABOAV2QCgITQAAAAAAAAAAAAAAAAAAAAAAAAAAAAAAAAAAAAAAAAAAA",
            "dtype": "f8"
           }
          }
         ],
         "name": "2022-08-20"
        },
        {
         "data": [
          {
           "coloraxis": "coloraxis",
           "geo": "geo",
           "hovertemplate": "animation_frame=2022-08-21<br>locations=%{location}<br>Revenue (USD)=%{z}<extra></extra>",
           "locations": [
            "ARG",
            "ARG",
            "BRA",
            "BRA",
            "CAN",
            "CAN",
            "CHL",
            "CHL",
            "COL",
            "COL",
            "DEU",
            "DEU",
            "ESP",
            "ESP",
            "GBR",
            "GBR",
            "IND",
            "IND",
            "ITA",
            "ITA",
            "JPN",
            "JPN",
            "MEX",
            "MEX",
            "POL",
            "POL",
            "SAU",
            "SAU",
            "USA",
            "USA"
           ],
           "name": "",
           "type": "choropleth",
           "z": {
            "bdata": "NRmIJmAYT0AAAAAAAAAAAAAAAAAAAAAAAAAAAAAAAAAAAAAAAAAAAAAAAAAAAAAAAAAAAAAAAAAAAAAAAAAAAM70DsMVN2xAAAAAAAAAAADlUTCdKwYlQAAAAAAAAAAA7rbgyg8S4D8AAAAAAAAAAAAAAAAAAAAAAAAAAAAAAAAAAAAAAAAAAAAAAAAAAAAAAAAAAAAAAAAjgBppD0AcQAAAAAAAAAAAKvubMBg5KUAV1WeBgK1XQAAAAAAAAAAAAAAAAAAAAAAAAAAAAAAAAAAAAAAAAAAAAAAAAAAAAAAAAAAAAAAAAAAAAAAAAAAA",
            "dtype": "f8"
           }
          }
         ],
         "name": "2022-08-21"
        },
        {
         "data": [
          {
           "coloraxis": "coloraxis",
           "geo": "geo",
           "hovertemplate": "animation_frame=2022-08-22<br>locations=%{location}<br>Revenue (USD)=%{z}<extra></extra>",
           "locations": [
            "ARG",
            "ARG",
            "BRA",
            "BRA",
            "CAN",
            "CAN",
            "CHL",
            "CHL",
            "COL",
            "COL",
            "DEU",
            "DEU",
            "ESP",
            "ESP",
            "GBR",
            "GBR",
            "IND",
            "IND",
            "ITA",
            "ITA",
            "JPN",
            "JPN",
            "MEX",
            "MEX",
            "POL",
            "POL",
            "SAU",
            "SAU",
            "USA",
            "USA"
           ],
           "name": "",
           "type": "choropleth",
           "z": {
            "bdata": "AAAAAAAAAAAAAAAAAAAAAAAAAAAAAAAAAAAAAAAAAAAAAAAAAAAAAAAAAAAAAAAAcrhiNes8nD8AAAAAAAAAAAAAAAAAAAAAlKfV3yEqtT+Ai8u++vhAQAAAAAAAAAAAAAAAAAAAAAAAAAAAAAAAADhHOq6HPlFAAAAAAAAAAAAIfYKd+g3OPwAAAAAAAAAAAAAAAAAAAAAAAAAAAAAAAAAAAAAAAAAAAAAAAAAAAABUMJFgapM9QAAAAAAAAAAAAAAAAAAAAAAAAAAAAAAAAAAAAAAAAAAAAAAAAAAAAAAAAAAAAAAAAEKqBIB+PUVA",
            "dtype": "f8"
           }
          }
         ],
         "name": "2022-08-22"
        },
        {
         "data": [
          {
           "coloraxis": "coloraxis",
           "geo": "geo",
           "hovertemplate": "animation_frame=2022-08-23<br>locations=%{location}<br>Revenue (USD)=%{z}<extra></extra>",
           "locations": [
            "ARG",
            "ARG",
            "BRA",
            "BRA",
            "CAN",
            "CAN",
            "CHL",
            "CHL",
            "COL",
            "COL",
            "DEU",
            "DEU",
            "ESP",
            "ESP",
            "GBR",
            "GBR",
            "IND",
            "IND",
            "ITA",
            "ITA",
            "JPN",
            "JPN",
            "MEX",
            "MEX",
            "POL",
            "POL",
            "SAU",
            "SAU",
            "USA",
            "USA"
           ],
           "name": "",
           "type": "choropleth",
           "z": {
            "bdata": "AAAAAAAAAAAAAAAAAAAAAAAAAAAAAAAAAAAAAAAAAAAAAAAAAAAAAAAAAAAAAAAAjeURqFf5LUAAAAAAAAAAAAAAAAAAAAAA1WKAc7mARkAAAAAAAAAAAAAAAAAAAAAAAAAAAAAAAAAAAAAAAAAAAAAAAAAAAAAAKBl1xH2E0j9fcVwxSg5HQAAAAAAAAAAAZ9ilSmfwN0AAAAAAAAAAAAAAAAAAAAAAAAAAAAAAAACYO56row9RQAAAAAAAAAAAAAAAAAAAAABtkvH/3uToP6fb2byGYfM/AAAAAAAAAADwDtzidPORPwAAAAAAAAAA",
            "dtype": "f8"
           }
          }
         ],
         "name": "2022-08-23"
        },
        {
         "data": [
          {
           "coloraxis": "coloraxis",
           "geo": "geo",
           "hovertemplate": "animation_frame=2022-08-24<br>locations=%{location}<br>Revenue (USD)=%{z}<extra></extra>",
           "locations": [
            "ARG",
            "ARG",
            "BRA",
            "BRA",
            "CAN",
            "CAN",
            "CHL",
            "CHL",
            "COL",
            "COL",
            "DEU",
            "DEU",
            "ESP",
            "ESP",
            "GBR",
            "GBR",
            "IND",
            "IND",
            "ITA",
            "ITA",
            "JPN",
            "JPN",
            "MEX",
            "MEX",
            "POL",
            "POL",
            "SAU",
            "SAU",
            "USA",
            "USA"
           ],
           "name": "",
           "type": "choropleth",
           "z": {
            "bdata": "AAAAAAAAAAAAAAAAAAAAAAAAAAAAAAAAAAAAAAAAAAAAAAAAAAAAAAAAAAAAAAAA4q0Idt001j/qg7Nr8lyyPwAAAAAAAAAAAAAAAAAAAACf0YOHOc8hQAAAAAAAAAAAAAAAAAAAAAAAAAAAAAAAAAAAAAAAAAAAQ0Y0arytxD8AAAAAAAAAAAAAAAAAAAAAAAAAAAAAAAAAAAAAAAAAAAAAAAAAAAAAAAAAAAAAAACz8DBRy3ZQQAAAAAAAAAAAAAAAAAAAAABlzmSschg9QAAAAAAAAAAAOddcYrLGP0AAAAAAAAAAAAAAAAAAAAAA",
            "dtype": "f8"
           }
          }
         ],
         "name": "2022-08-24"
        },
        {
         "data": [
          {
           "coloraxis": "coloraxis",
           "geo": "geo",
           "hovertemplate": "animation_frame=2022-08-25<br>locations=%{location}<br>Revenue (USD)=%{z}<extra></extra>",
           "locations": [
            "ARG",
            "ARG",
            "BRA",
            "BRA",
            "CAN",
            "CAN",
            "CHL",
            "CHL",
            "COL",
            "COL",
            "DEU",
            "DEU",
            "ESP",
            "ESP",
            "GBR",
            "GBR",
            "IND",
            "IND",
            "ITA",
            "ITA",
            "JPN",
            "JPN",
            "MEX",
            "MEX",
            "POL",
            "POL",
            "SAU",
            "SAU",
            "USA",
            "USA"
           ],
           "name": "",
           "type": "choropleth",
           "z": {
            "bdata": "AAAAAAAAAAAAAAAAAAAAAAAAAAAAAAAAAAAAAAAAAAAAAAAAAAAAAAAAAAAAAAAAAAAAAAAAAAAAAAAAAAAAAAAAAAAAAAAAAAAAAAAAAAAAAAAAAAAAAAAAAAAAAAAAAAAAAAAAAAAXzURxgvVcQAAAAAAAAAAAAAAAAAAAAAAAAAAAAAAAAAAAAAAAAAAAAAAAAAAAAAAAAAAAAAAAAAAAAAAAAAAAAAAAAAAAAAAAAAAAAAAAAAAAAAAAAAAAAAAAAAAAAAAAAAAAAAAAAAAAAAAAAAAAAAAAAAAAAAAKWi8xKNMsQDP06BXmtu4/",
            "dtype": "f8"
           }
          }
         ],
         "name": "2022-08-25"
        },
        {
         "data": [
          {
           "coloraxis": "coloraxis",
           "geo": "geo",
           "hovertemplate": "animation_frame=2022-08-26<br>locations=%{location}<br>Revenue (USD)=%{z}<extra></extra>",
           "locations": [
            "ARG",
            "ARG",
            "BRA",
            "BRA",
            "CAN",
            "CAN",
            "CHL",
            "CHL",
            "COL",
            "COL",
            "DEU",
            "DEU",
            "ESP",
            "ESP",
            "GBR",
            "GBR",
            "IND",
            "IND",
            "ITA",
            "ITA",
            "JPN",
            "JPN",
            "MEX",
            "MEX",
            "POL",
            "POL",
            "SAU",
            "SAU",
            "USA",
            "USA"
           ],
           "name": "",
           "type": "choropleth",
           "z": {
            "bdata": "VDnT1ezDUUAAAAAAAAAAAAAAAAAAAAAAAAAAAAAAAAAAAAAAAAAAAAAAAAAAAAAAAAAAAAAAAAAAAAAAAAAAAAAAAAAAAAAAAAAAAAAAAACRlUWTNLfpP2h++fQegN0/AAAAAAAAAAAAAAAAAAAAAAAAAAAAAAAAAAAAAAAAAAAAAAAAAAAAAAAAAAAAAAAAAAAAAAAAAAAAAAAAAAAAAAAAAAAAAAAAAAAAAAAAAAAAAAAAAAAAAAAAAAAAAAAAAAAAAAAAAAAAAAAAAAAAAAAAAAAAAAAAAAAAAAAAAAAAAAAAAAAAAAAAAAAAAAAA",
            "dtype": "f8"
           }
          }
         ],
         "name": "2022-08-26"
        },
        {
         "data": [
          {
           "coloraxis": "coloraxis",
           "geo": "geo",
           "hovertemplate": "animation_frame=2022-08-27<br>locations=%{location}<br>Revenue (USD)=%{z}<extra></extra>",
           "locations": [
            "ARG",
            "ARG",
            "BRA",
            "BRA",
            "CAN",
            "CAN",
            "CHL",
            "CHL",
            "COL",
            "COL",
            "DEU",
            "DEU",
            "ESP",
            "ESP",
            "GBR",
            "GBR",
            "IND",
            "IND",
            "ITA",
            "ITA",
            "JPN",
            "JPN",
            "MEX",
            "MEX",
            "POL",
            "POL",
            "SAU",
            "SAU",
            "USA",
            "USA"
           ],
           "name": "",
           "type": "choropleth",
           "z": {
            "bdata": "AAAAAAAAAADSdEcZtlH/Pwkr7yV5HIU/7a0k2ccoOUAAAAAAAAAAAAAAAAAAAAAA4gL8b3n9O0AAAAAAAAAAAAAAAAAAAAAAAAAAAAAAAACEbW3U3f2OPwpRoczgG3I/AAAAAAAAAAAAAAAAAAAAAAAAAAAAAAAAAAAAAAAAAAAAAAAAAAAAAAAAAAAAAAAAAAAAAAAAAAAAAAAAAAAAAAAAAAAAAAAAAAAAAAAAAAAAAAAAAAAAAAAAAAAAAAAAAAAAAAAAAAAAAAAAAAAAAAAAAAAAAAAAAAAAAAAAAAAV+eK3cxD8P6FbU2INn/Q/",
            "dtype": "f8"
           }
          }
         ],
         "name": "2022-08-27"
        },
        {
         "data": [
          {
           "coloraxis": "coloraxis",
           "geo": "geo",
           "hovertemplate": "animation_frame=2022-08-28<br>locations=%{location}<br>Revenue (USD)=%{z}<extra></extra>",
           "locations": [
            "ARG",
            "ARG",
            "BRA",
            "BRA",
            "CAN",
            "CAN",
            "CHL",
            "CHL",
            "COL",
            "COL",
            "DEU",
            "DEU",
            "ESP",
            "ESP",
            "GBR",
            "GBR",
            "IND",
            "IND",
            "ITA",
            "ITA",
            "JPN",
            "JPN",
            "MEX",
            "MEX",
            "POL",
            "POL",
            "SAU",
            "SAU",
            "USA",
            "USA"
           ],
           "name": "",
           "type": "choropleth",
           "z": {
            "bdata": "W2xMJW0zqz8AAAAAAAAAAAAAAAAAAAAAAAAAAAAAAAB3Kvz8qjYvQAAAAAAAAAAAAAAAAAAAAAAAAAAAAAAAAAAAAAAAAAAAAAAAAAAAAAAAAAAAAAAAAAAAAAAAAAAAAAAAAAAAAAAnZKwH19SkPwAAAAAAAAAAHoHnFW4uUUAAAAAAAAAAAAAAAAAAAAAAAAAAAAAAAABO5kldsjG+P1KXswPEyEdAAAAAAAAAAAAAAAAAAAAAAAAAAAAAAAAAqgD5SvxzGkAAAAAAAAAAAAAAAAAAAAAAAAAAAAAAAAAAAAAAAAAAAAAAAAAAAAAA",
            "dtype": "f8"
           }
          }
         ],
         "name": "2022-08-28"
        },
        {
         "data": [
          {
           "coloraxis": "coloraxis",
           "geo": "geo",
           "hovertemplate": "animation_frame=2022-08-29<br>locations=%{location}<br>Revenue (USD)=%{z}<extra></extra>",
           "locations": [
            "ARG",
            "ARG",
            "BRA",
            "BRA",
            "CAN",
            "CAN",
            "CHL",
            "CHL",
            "COL",
            "COL",
            "DEU",
            "DEU",
            "ESP",
            "ESP",
            "GBR",
            "GBR",
            "IND",
            "IND",
            "ITA",
            "ITA",
            "JPN",
            "JPN",
            "MEX",
            "MEX",
            "POL",
            "POL",
            "SAU",
            "SAU",
            "USA",
            "USA"
           ],
           "name": "",
           "type": "choropleth",
           "z": {
            "bdata": "AAAAAAAAAAAAAAAAAAAAAAAAAAAAAAAAAAAAAAAAAABiuPZl/HIhQAAAAAAAAAAAAAAAAAAAAADXI7uZb4U4QAAAAAAAAAAAAAAAAAAAAAAAAAAAAAAAADaomAqFcitAAAAAAAAAAAAAAAAAAAAAAAAAAAAAAAAAAAAAAAAAAAAAAAAAAAAAAAAAAAAAAAAAAAAAAAAAAAAAAAAAAAAAAAAAAAAAAAAAAAAAAAAAAAAT/2mJdcZRQAAAAAAAAAAAAAAAAAAAAADALCyaKwVbQAAAAAAAAAAAAAAAAAAAAAAAAAAAAAAAAAAAAAAAAAAA",
            "dtype": "f8"
           }
          }
         ],
         "name": "2022-08-29"
        },
        {
         "data": [
          {
           "coloraxis": "coloraxis",
           "geo": "geo",
           "hovertemplate": "animation_frame=2022-08-30<br>locations=%{location}<br>Revenue (USD)=%{z}<extra></extra>",
           "locations": [
            "ARG",
            "ARG",
            "BRA",
            "BRA",
            "CAN",
            "CAN",
            "CHL",
            "CHL",
            "COL",
            "COL",
            "DEU",
            "DEU",
            "ESP",
            "ESP",
            "GBR",
            "GBR",
            "IND",
            "IND",
            "ITA",
            "ITA",
            "JPN",
            "JPN",
            "MEX",
            "MEX",
            "POL",
            "POL",
            "SAU",
            "SAU",
            "USA",
            "USA"
           ],
           "name": "",
           "type": "choropleth",
           "z": {
            "bdata": "AAAAAAAAAAAAAAAAAAAAANNZjchwhU1AAAAAAAAAAAD26lPxDy50PwAAAAAAAAAAdZp3rQiwQEAAAAAAAAAAAAAAAAAAAAAAV8+iW5dhIUAAAAAAAAAAAAAAAAAAAAAAAAAAAAAAAAAAAAAAAAAAAAAAAAAAAAAAAAAAAAAAAAAAAAAAAAAAALBsqlkD3Js/jRiBGKWSJEAAAAAAAAAAAAAAAAAAAAAAAAAAAAAAAABeplSLmvEXQAAAAAAAAAAAAAAAAAAAAAAAAAAAAAAAAAAAAAAAAAAAAAAAAAAAAAAAAAAAAAAAAAAAAAAAAAAA",
            "dtype": "f8"
           }
          }
         ],
         "name": "2022-08-30"
        },
        {
         "data": [
          {
           "coloraxis": "coloraxis",
           "geo": "geo",
           "hovertemplate": "animation_frame=2022-08-31<br>locations=%{location}<br>Revenue (USD)=%{z}<extra></extra>",
           "locations": [
            "ARG",
            "ARG",
            "BRA",
            "BRA",
            "CAN",
            "CAN",
            "CHL",
            "CHL",
            "COL",
            "COL",
            "DEU",
            "DEU",
            "ESP",
            "ESP",
            "GBR",
            "GBR",
            "IND",
            "IND",
            "ITA",
            "ITA",
            "JPN",
            "JPN",
            "MEX",
            "MEX",
            "POL",
            "POL",
            "SAU",
            "SAU",
            "USA",
            "USA"
           ],
           "name": "",
           "type": "choropleth",
           "z": {
            "bdata": "AAAAAAAAAAAAAAAAAAAAAAAAAAAAAAAALYLP7gXGvD8AAAAAAAAAAAAAAAAAAAAAAAAAAAAAAAAAAAAAAAAAAAAAAAAAAAAAAAAAAAAAAAAAAAAAAAAAAAAAAAAAAAAAAAAAAAAAAAAAAAAAAAAAAAAAAAAAAAAAAAAAAAAAAAAAAAAAAAAAAAAAAAAAAAAAAAAAAAAAAAAAAAAAAAAAAD6ZdZuw9EZAAAAAAAAAAAAAAAAAAAAAAAAAAAAAAAAAAAAAAAAAAADnRBz5qeX4PwAAAAAAAAAAAAAAAAAAAABQapWuX233PwAAAAAAAAAA",
            "dtype": "f8"
           }
          }
         ],
         "name": "2022-08-31"
        },
        {
         "data": [
          {
           "coloraxis": "coloraxis",
           "geo": "geo",
           "hovertemplate": "animation_frame=2022-09-01<br>locations=%{location}<br>Revenue (USD)=%{z}<extra></extra>",
           "locations": [
            "ARG",
            "ARG",
            "BRA",
            "BRA",
            "CAN",
            "CAN",
            "CHL",
            "CHL",
            "COL",
            "COL",
            "DEU",
            "DEU",
            "ESP",
            "ESP",
            "GBR",
            "GBR",
            "IND",
            "IND",
            "ITA",
            "ITA",
            "JPN",
            "JPN",
            "MEX",
            "MEX",
            "POL",
            "POL",
            "SAU",
            "SAU",
            "USA",
            "USA"
           ],
           "name": "",
           "type": "choropleth",
           "z": {
            "bdata": "AAAAAAAAAABqMV3A5+/xPwAAAAAAAAAAAAAAAAAAAABIUi+RaEOQPwAAAAAAAAAAAAAAAAAAAABdVPqESf+qPwAAAAAAAAAAAAAAAAAAAABBk46vuPBaPwAAAAAAAAAARox5ej5NFUAAAAAAAAAAAAAAAAAAAAAA1H4gulCwuz8AAAAAAAAAAAAAAAAAAAAAAAAAAAAAAADpkebxTBI/QB3qrBLmwUpA8thgwxt63D++MfJeKdNXQAAAAAAAAAAAttL3JAXmREAubBbZ0zi3PwAAAAAAAAAAAAAAAAAAAAAAAAAAAAAAAAAAAAAAAAAA",
            "dtype": "f8"
           }
          }
         ],
         "name": "2022-09-01"
        },
        {
         "data": [
          {
           "coloraxis": "coloraxis",
           "geo": "geo",
           "hovertemplate": "animation_frame=2022-09-02<br>locations=%{location}<br>Revenue (USD)=%{z}<extra></extra>",
           "locations": [
            "ARG",
            "ARG",
            "BRA",
            "BRA",
            "CAN",
            "CAN",
            "CHL",
            "CHL",
            "COL",
            "COL",
            "DEU",
            "DEU",
            "ESP",
            "ESP",
            "GBR",
            "GBR",
            "IND",
            "IND",
            "ITA",
            "ITA",
            "JPN",
            "JPN",
            "MEX",
            "MEX",
            "POL",
            "POL",
            "SAU",
            "SAU",
            "USA",
            "USA"
           ],
           "name": "",
           "type": "choropleth",
           "z": {
            "bdata": "RziBgxWOfT8AAAAAAAAAAAAAAAAAAAAA17UZiFCePEDBLKm8ReRIQAAAAAAAAAAAYf/aRFEyxD+8R1uCLVsEQAAAAAAAAAAAAAAAAAAAAAAAAAAAAAAAAAAAAAAAAAAA7bMOCm11S0AEXyBCeZjMPwAAAAAAAAAASG0gdxThjD/UJBzvNyg0QDPQjq75AmNAhvqmJ6eigz/tjSSj4GCaPwAAAAAAAAAAAAAAAAAAAACRbA3W7dHjPwAAAAAAAAAAAAAAAAAAAAAUX4z32Oc6QAAAAAAAAAAAAAAAAAAAAAAAAAAAAAAAAAAAAAAAAAAA",
            "dtype": "f8"
           }
          }
         ],
         "name": "2022-09-02"
        },
        {
         "data": [
          {
           "coloraxis": "coloraxis",
           "geo": "geo",
           "hovertemplate": "animation_frame=2022-09-03<br>locations=%{location}<br>Revenue (USD)=%{z}<extra></extra>",
           "locations": [
            "ARG",
            "ARG",
            "BRA",
            "BRA",
            "CAN",
            "CAN",
            "CHL",
            "CHL",
            "COL",
            "COL",
            "DEU",
            "DEU",
            "ESP",
            "ESP",
            "GBR",
            "GBR",
            "IND",
            "IND",
            "ITA",
            "ITA",
            "JPN",
            "JPN",
            "MEX",
            "MEX",
            "POL",
            "POL",
            "SAU",
            "SAU",
            "USA",
            "USA"
           ],
           "name": "",
           "type": "choropleth",
           "z": {
            "bdata": "AAAAAAAAAACftBLD3KmRPwAAAAAAAAAAAAAAAAAAAADA/BI4QylMQAAAAAAAAAAAEdeLfyQZoz/mimXnmc99PwAAAAAAAAAAibZVFkSsB0DgC2+kheA9QAAAAAAAAAAAAAAAAAAAAAArjkTuzSwgQEH5sQcz/zxAAAAAAAAAAAAAAAAAAAAAAAAAAAAAAAAAAAAAAAAAAADT/OKeZSLyP5aSCzN1OFJAVkCBXMk8N0C5B3Y0jJtaQAAAAAAAAAAAAAAAAAAAAAAAAAAAAAAAAAAAAAAAAAAAAAAAAAAAAAAAAAAAAAAAAAAAAAAAAAAA",
            "dtype": "f8"
           }
          }
         ],
         "name": "2022-09-03"
        },
        {
         "data": [
          {
           "coloraxis": "coloraxis",
           "geo": "geo",
           "hovertemplate": "animation_frame=2022-09-04<br>locations=%{location}<br>Revenue (USD)=%{z}<extra></extra>",
           "locations": [
            "ARG",
            "ARG",
            "BRA",
            "BRA",
            "CAN",
            "CAN",
            "CHL",
            "CHL",
            "COL",
            "COL",
            "DEU",
            "DEU",
            "ESP",
            "ESP",
            "GBR",
            "GBR",
            "IND",
            "IND",
            "ITA",
            "ITA",
            "JPN",
            "JPN",
            "MEX",
            "MEX",
            "POL",
            "POL",
            "SAU",
            "SAU",
            "USA",
            "USA"
           ],
           "name": "",
           "type": "choropleth",
           "z": {
            "bdata": "AAAAAAAAAAAnL4lyhl1IQHnvNHdd3Pw/toQn13lIXEAmzuaQwwSZP4wI3Yg2/UVAFzYvvvpBO0CcobtBpJGRPwAAAAAAAAAAAAAAAAAAAAAAAAAAAAAAAAAAAAAAAAAAAAAAAAAAAAAAAAAAAAAAAAAAAAAAAAAAAAAAAAAAAAAAAAAAAAAAAAAAAAAAAAAAAAAAAAAAAAAAAAAAAAAAAJ2e2PuoBApA3X/1eIc24D/CWwFit9BWQAAAAAAAAAAAoJjHida6aEAAAAAAAAAAAEcig9zAJzFAQIP9uQq+IEAAAAAAAAAAAAAAAAAAAAAA",
            "dtype": "f8"
           }
          }
         ],
         "name": "2022-09-04"
        },
        {
         "data": [
          {
           "coloraxis": "coloraxis",
           "geo": "geo",
           "hovertemplate": "animation_frame=2022-09-05<br>locations=%{location}<br>Revenue (USD)=%{z}<extra></extra>",
           "locations": [
            "ARG",
            "ARG",
            "BRA",
            "BRA",
            "CAN",
            "CAN",
            "CHL",
            "CHL",
            "COL",
            "COL",
            "DEU",
            "DEU",
            "ESP",
            "ESP",
            "GBR",
            "GBR",
            "IND",
            "IND",
            "ITA",
            "ITA",
            "JPN",
            "JPN",
            "MEX",
            "MEX",
            "POL",
            "POL",
            "SAU",
            "SAU",
            "USA",
            "USA"
           ],
           "name": "",
           "type": "choropleth",
           "z": {
            "bdata": "AAAAAAAAAABzIrAMiasUQC21t0q9Bvc/SKe/GZOHYkCcRwDptIDwPwAAAAAAAAAAAAAAAAAAAABPB8QqPOYDQAAAAAAAAAAAAAAAAAAAAACP3aLfqFUdQAAAAAAAAAAAt/FWeoxtPUAm1tYrFUZiQAiaSn+SIto/zSv/QKg8RUAAAAAAAAAAAK2NHfpFvLs/AAAAAAAAAAAAAAAAAAAAAMhwSOMz5U5AAAAAAAAAAAAAAAAAAAAAALg3YiuyxDdAAAAAAAAAAADNZ93Rk5ozQE7B7ygd01FAAAAAAAAAAADGEeu/PQv5PwAAAAAAAAAA",
            "dtype": "f8"
           }
          }
         ],
         "name": "2022-09-05"
        },
        {
         "data": [
          {
           "coloraxis": "coloraxis",
           "geo": "geo",
           "hovertemplate": "animation_frame=2022-09-06<br>locations=%{location}<br>Revenue (USD)=%{z}<extra></extra>",
           "locations": [
            "ARG",
            "ARG",
            "BRA",
            "BRA",
            "CAN",
            "CAN",
            "CHL",
            "CHL",
            "COL",
            "COL",
            "DEU",
            "DEU",
            "ESP",
            "ESP",
            "GBR",
            "GBR",
            "IND",
            "IND",
            "ITA",
            "ITA",
            "JPN",
            "JPN",
            "MEX",
            "MEX",
            "POL",
            "POL",
            "SAU",
            "SAU",
            "USA",
            "USA"
           ],
           "name": "",
           "type": "choropleth",
           "z": {
            "bdata": "AAAAAAAAAAB8DGqBjVswQAAAAAAAAAAAAAAAAAAAAAAAAAAAAAAAAAAAAAAAAAAAyleHbzIhpj/ji3+8YzMiQAAAAAAAAAAAAAAAAAAAAAAAAAAAAAAAABaWWgNEagVAAAAAAAAAAACfHm/HnNhUQOXLt+u1vSRAAAAAAAAAAAAAAAAAAAAAAAAAAAAAAAAAAAAAAAAAAADRCL1pde9EQAAAAAAAAAAALnzpYa9BN0AAAAAAAAAAAAAAAAAAAAAAAAAAAAAAAABF4UpWoT7dPwAAAAAAAAAAAAAAAAAAAAAAAAAAAAAAAAAAAAAAAAAA",
            "dtype": "f8"
           }
          }
         ],
         "name": "2022-09-06"
        },
        {
         "data": [
          {
           "coloraxis": "coloraxis",
           "geo": "geo",
           "hovertemplate": "animation_frame=2022-09-07<br>locations=%{location}<br>Revenue (USD)=%{z}<extra></extra>",
           "locations": [
            "ARG",
            "ARG",
            "BRA",
            "BRA",
            "CAN",
            "CAN",
            "CHL",
            "CHL",
            "COL",
            "COL",
            "DEU",
            "DEU",
            "ESP",
            "ESP",
            "GBR",
            "GBR",
            "IND",
            "IND",
            "ITA",
            "ITA",
            "JPN",
            "JPN",
            "MEX",
            "MEX",
            "POL",
            "POL",
            "SAU",
            "SAU",
            "USA",
            "USA"
           ],
           "name": "",
           "type": "choropleth",
           "z": {
            "bdata": "AAAAAAAAAAAAAAAAAAAAALIRejIqRzU/AAAAAAAAAAAAAAAAAAAAAAAAAAAAAAAAAAAAAAAAAAA/HbXA92KYP3LRhoGq2jdAGV0aqzO6F0AAAAAAAAAAALgF+Fg7Zt0/yMxCG0EYHUAAAAAAAAAAAAAAAAAAAAAABkY1F9nEMEAAAAAAAAAAAAAAAAAAAAAAAAAAAAAAAADcBdbtnCQhQAAAAAAAAAAAWsJqni6cT0AAAAAAAAAAAAAAAAAAAAAAAddXT+1B7j85hPOyTBtjQAAAAAAAAAAAPPiJVOyuZkAAAAAAAAAAAAAAAAAAAAAA",
            "dtype": "f8"
           }
          }
         ],
         "name": "2022-09-07"
        },
        {
         "data": [
          {
           "coloraxis": "coloraxis",
           "geo": "geo",
           "hovertemplate": "animation_frame=2022-09-08<br>locations=%{location}<br>Revenue (USD)=%{z}<extra></extra>",
           "locations": [
            "ARG",
            "ARG",
            "BRA",
            "BRA",
            "CAN",
            "CAN",
            "CHL",
            "CHL",
            "COL",
            "COL",
            "DEU",
            "DEU",
            "ESP",
            "ESP",
            "GBR",
            "GBR",
            "IND",
            "IND",
            "ITA",
            "ITA",
            "JPN",
            "JPN",
            "MEX",
            "MEX",
            "POL",
            "POL",
            "SAU",
            "SAU",
            "USA",
            "USA"
           ],
           "name": "",
           "type": "choropleth",
           "z": {
            "bdata": "2nhJ2xkJuz8AAAAAAAAAAAAAAAAAAAAAAAAAAAAAAADAKBbkNsvKPzWEL33GtERA/lDrBLNY6D8AAAAAAAAAAAAAAAAAAAAAAAAAAAAAAACqAum9mIiCPwAAAAAAAAAA47WWP0fCJECwJo+k1nqIPwAAAAAAAAAAAAAAAAAAAAAAAAAAAAAAAAAAAAAAAAAAYCnIHi89JUAAAAAAAAAAAAAAAAAAAAAAO3G2j/IGyz+WZJrc4sXfPwAAAAAAAAAA0SPjHQpdXEAAAAAAAAAAAHiL876mwVFAAAAAAAAAAAAAAAAAAAAAAAAAAAAAAAAA",
            "dtype": "f8"
           }
          }
         ],
         "name": "2022-09-08"
        },
        {
         "data": [
          {
           "coloraxis": "coloraxis",
           "geo": "geo",
           "hovertemplate": "animation_frame=2022-09-09<br>locations=%{location}<br>Revenue (USD)=%{z}<extra></extra>",
           "locations": [
            "ARG",
            "ARG",
            "BRA",
            "BRA",
            "CAN",
            "CAN",
            "CHL",
            "CHL",
            "COL",
            "COL",
            "DEU",
            "DEU",
            "ESP",
            "ESP",
            "GBR",
            "GBR",
            "IND",
            "IND",
            "ITA",
            "ITA",
            "JPN",
            "JPN",
            "MEX",
            "MEX",
            "POL",
            "POL",
            "SAU",
            "SAU",
            "USA",
            "USA"
           ],
           "name": "",
           "type": "choropleth",
           "z": {
            "bdata": "lqGU26ZaF0AAAAAAAAAAAM0F+d4uNxNAUZuUZzw5aUAAAAAAAAAAAAAAAAAAAAAAAAAAAAAAAAAAAAAAAAAAAAAAAAAAAAAAAAAAAAAAAAAAAAAAAAAAAAAAAAAAAAAAAAAAAAAAAADjkb1ChcLwPwAAAAAAAAAAbpf88qgqHUBUQVBcdXojQAAAAAAAAAAAVH6ArWB0AEAAAAAAAAAAAGHD+Rj+mVtAAAAAAAAAAAAAAAAAAAAAAAAAAAAAAAAAgIfm5pJoLEBDq9cdOP9ZQOLFn8QYWVRAzJcGHpSlVUAAAAAAAAAAAMDRNSR7qENA",
            "dtype": "f8"
           }
          }
         ],
         "name": "2022-09-09"
        },
        {
         "data": [
          {
           "coloraxis": "coloraxis",
           "geo": "geo",
           "hovertemplate": "animation_frame=2022-09-10<br>locations=%{location}<br>Revenue (USD)=%{z}<extra></extra>",
           "locations": [
            "ARG",
            "ARG",
            "BRA",
            "BRA",
            "CAN",
            "CAN",
            "CHL",
            "CHL",
            "COL",
            "COL",
            "DEU",
            "DEU",
            "ESP",
            "ESP",
            "GBR",
            "GBR",
            "IND",
            "IND",
            "ITA",
            "ITA",
            "JPN",
            "JPN",
            "MEX",
            "MEX",
            "POL",
            "POL",
            "SAU",
            "SAU",
            "USA",
            "USA"
           ],
           "name": "",
           "type": "choropleth",
           "z": {
            "bdata": "LdxU+7upBkA5lxVRFkq7P3lMVaFFUGFAAAAAAAAAAABagDfiVZQ7QKV+K0bgICVAAAAAAAAAAAAW7jJS0NA3QHmO0/KYBes/98dNS3YLIUAAAAAAAAAAAAAAAAAAAAAAfbHVED4Yzj8AAAAAAAAAAD7LtiHUytI/AAAAAAAAAAARZAbylNo+QAAAAAAAAAAA56S2jiE8sj8AAAAAAAAAAHqsKDuIdidAbX5HvU5ULkAOq1yeGyhXQAAAAAAAAAAAAAAAAAAAAAAAAAAAAAAAAAAAAAAAAAAAmFARJQSnSEAAAAAAAAAAAGe0V4jYVME/",
            "dtype": "f8"
           }
          }
         ],
         "name": "2022-09-10"
        },
        {
         "data": [
          {
           "coloraxis": "coloraxis",
           "geo": "geo",
           "hovertemplate": "animation_frame=2022-09-11<br>locations=%{location}<br>Revenue (USD)=%{z}<extra></extra>",
           "locations": [
            "ARG",
            "ARG",
            "BRA",
            "BRA",
            "CAN",
            "CAN",
            "CHL",
            "CHL",
            "COL",
            "COL",
            "DEU",
            "DEU",
            "ESP",
            "ESP",
            "GBR",
            "GBR",
            "IND",
            "IND",
            "ITA",
            "ITA",
            "JPN",
            "JPN",
            "MEX",
            "MEX",
            "POL",
            "POL",
            "SAU",
            "SAU",
            "USA",
            "USA"
           ],
           "name": "",
           "type": "choropleth",
           "z": {
            "bdata": "xCiN3Cxl4j8+GeSAyN4yQAAAAAAAAAAAAAAAAAAAAAAAAAAAAAAAAAAAAAAAAAAACKmUChicOECCYIxYxvf8PwAAAAAAAAAAUM1iZGpSTEAAAAAAAAAAAAAAAAAAAAAAWQddPc5XXkAAAAAAAAAAALw9UWXBvWtAZz2hlzw88D8AAAAAAAAAAIxhFSDyeFFAP4JrJ6z0kD8AAAAAAAAAAI6WrZurSlZAAAAAAAAAAAAAAAAAAAAAADqMManhBVNAbr1w/SngYEAAAAAAAAAAAAAAAAAAAAAAsIKqq4kSMEAAAAAAAAAAAAAAAAAAAAAA",
            "dtype": "f8"
           }
          }
         ],
         "name": "2022-09-11"
        },
        {
         "data": [
          {
           "coloraxis": "coloraxis",
           "geo": "geo",
           "hovertemplate": "animation_frame=2022-09-12<br>locations=%{location}<br>Revenue (USD)=%{z}<extra></extra>",
           "locations": [
            "ARG",
            "ARG",
            "BRA",
            "BRA",
            "CAN",
            "CAN",
            "CHL",
            "CHL",
            "COL",
            "COL",
            "DEU",
            "DEU",
            "ESP",
            "ESP",
            "GBR",
            "GBR",
            "IND",
            "IND",
            "ITA",
            "ITA",
            "JPN",
            "JPN",
            "MEX",
            "MEX",
            "POL",
            "POL",
            "SAU",
            "SAU",
            "USA",
            "USA"
           ],
           "name": "",
           "type": "choropleth",
           "z": {
            "bdata": "AAAAAAAAAAAAAAAAAAAAAAAAAAAAAAAAHMBHlZBEmz8VaBSRRSUBQAAAAAAAAAAAAAAAAAAAAAD2ApgEPUQ5QIjrYcVNyU5AyA7/SkQV9z8AAAAAAAAAAGQwlL7/YeY/AAAAAAAAAABqiD9HOTePPwAAAAAAAAAAAAAAAAAAAACWDgbQZSJRQAAAAAAAAAAAt2f6p5LEIEAsSXJCbAojQF0kO1HfUQVAAAAAAAAAAAC+IWsSw7DuPwAAAAAAAAAA31niIUjunT9pXFLPWP3WPwF9qiDRfxNAAAAAAAAAAABa+YWskQrnPzwjqvzZvOM/",
            "dtype": "f8"
           }
          }
         ],
         "name": "2022-09-12"
        },
        {
         "data": [
          {
           "coloraxis": "coloraxis",
           "geo": "geo",
           "hovertemplate": "animation_frame=2022-09-13<br>locations=%{location}<br>Revenue (USD)=%{z}<extra></extra>",
           "locations": [
            "ARG",
            "ARG",
            "BRA",
            "BRA",
            "CAN",
            "CAN",
            "CHL",
            "CHL",
            "COL",
            "COL",
            "DEU",
            "DEU",
            "ESP",
            "ESP",
            "GBR",
            "GBR",
            "IND",
            "IND",
            "ITA",
            "ITA",
            "JPN",
            "JPN",
            "MEX",
            "MEX",
            "POL",
            "POL",
            "SAU",
            "SAU",
            "USA",
            "USA"
           ],
           "name": "",
           "type": "choropleth",
           "z": {
            "bdata": "AAAAAAAAAAAR+FO43o1XQPWAh2e5FGNARMyfWEFAGEAAAAAAAAAAAAAAAAAAAAAADw2JV2wSR0AAAAAAAAAAAAAAAAAAAAAAgmOR5hPHwD8AAAAAAAAAAAAAAAAAAAAAAAAAAAAAAAA11BNSpR9hQKoYZk3KAWpAelJZufBBVED/LZAbZhPCPwAAAAAAAAAAtskGs5jsRkAAAAAAAAAAAAAAAAAAAAAAaxi6Me1DgD8AAAAAAAAAAHy7wohWFk9ATs3fyR1tQEAVCV8geoSQPwAAAAAAAAAAAAAAAAAAAAAAAAAAAAAAAAAAAAAAAAAA",
            "dtype": "f8"
           }
          }
         ],
         "name": "2022-09-13"
        },
        {
         "data": [
          {
           "coloraxis": "coloraxis",
           "geo": "geo",
           "hovertemplate": "animation_frame=2022-09-14<br>locations=%{location}<br>Revenue (USD)=%{z}<extra></extra>",
           "locations": [
            "ARG",
            "ARG",
            "BRA",
            "BRA",
            "CAN",
            "CAN",
            "CHL",
            "CHL",
            "COL",
            "COL",
            "DEU",
            "DEU",
            "ESP",
            "ESP",
            "GBR",
            "GBR",
            "IND",
            "IND",
            "ITA",
            "ITA",
            "JPN",
            "JPN",
            "MEX",
            "MEX",
            "POL",
            "POL",
            "SAU",
            "SAU",
            "USA",
            "USA"
           ],
           "name": "",
           "type": "choropleth",
           "z": {
            "bdata": "AAAAAAAAAADUwkQxjFq7P6hXGcmY62U/AAAAAAAAAADfQ9uwVUIAQAAAAAAAAAAAGM1nSw3NQEAAAAAAAAAAAAakUlQrscQ/AAAAAAAAAAAAAAAAAAAAANtTOKs2evA/AAAAAAAAAAAAAAAAAAAAAAAAAAAAAAAAAAAAAAAAAAAAAAAAAAAAAAAAAAAAAAAAAAAAAAAAAAAAAAAAAAAAAAAAAAAAAAAAAAAAAAAAAAAAAAAAAAAAACeXd1C+3kBA2Gt/Z+EQ7T8AAAAAAAAAAPYaA22NzxhAAAAAAAAAAAAAAAAAAAAAAOEtmU8NjkNA",
            "dtype": "f8"
           }
          }
         ],
         "name": "2022-09-14"
        },
        {
         "data": [
          {
           "coloraxis": "coloraxis",
           "geo": "geo",
           "hovertemplate": "animation_frame=2022-09-15<br>locations=%{location}<br>Revenue (USD)=%{z}<extra></extra>",
           "locations": [
            "ARG",
            "ARG",
            "BRA",
            "BRA",
            "CAN",
            "CAN",
            "CHL",
            "CHL",
            "COL",
            "COL",
            "DEU",
            "DEU",
            "ESP",
            "ESP",
            "GBR",
            "GBR",
            "IND",
            "IND",
            "ITA",
            "ITA",
            "JPN",
            "JPN",
            "MEX",
            "MEX",
            "POL",
            "POL",
            "SAU",
            "SAU",
            "USA",
            "USA"
           ],
           "name": "",
           "type": "choropleth",
           "z": {
            "bdata": "AAAAAAAAAAAAAAAAAAAAAAAAAAAAAAAAAYaBlyGKHEAAAAAAAAAAAAAAAAAAAAAAm9HoOI9wN0AAAAAAAAAAAAAAAAAAAAAAAAAAAAAAAAAAAAAAAAAAAAAAAAAAAAAAAAAAAAAAAAAAAAAAAAAAAAAAAAAAAAAAiy31zRGtMkBL+H1qX2dOQE/RFsca4S5A00xGZ21cIEAAAAAAAAAAAAAAAAAAAAAAAAAAAAAAAAAAAAAAAAAAAAAAAAAAAAAAul89M12JWkALdPmF+ithQAAAAAAAAAAATrqJXTcKeD+bJ6DxCkXWP140SIlN3Hs/",
            "dtype": "f8"
           }
          }
         ],
         "name": "2022-09-15"
        },
        {
         "data": [
          {
           "coloraxis": "coloraxis",
           "geo": "geo",
           "hovertemplate": "animation_frame=2022-09-16<br>locations=%{location}<br>Revenue (USD)=%{z}<extra></extra>",
           "locations": [
            "ARG",
            "ARG",
            "BRA",
            "BRA",
            "CAN",
            "CAN",
            "CHL",
            "CHL",
            "COL",
            "COL",
            "DEU",
            "DEU",
            "ESP",
            "ESP",
            "GBR",
            "GBR",
            "IND",
            "IND",
            "ITA",
            "ITA",
            "JPN",
            "JPN",
            "MEX",
            "MEX",
            "POL",
            "POL",
            "SAU",
            "SAU",
            "USA",
            "USA"
           ],
           "name": "",
           "type": "choropleth",
           "z": {
            "bdata": "AAAAAAAAAAAAAAAAAAAAAAAAAAAAAAAAAAAAAAAAAAAAAAAAAAAAAAAAAAAAAAAATFfiblncxz8AAAAAAAAAAAAAAAAAAAAA+mTU5IRD7z+LoTBSKgruPwAAAAAAAAAAA6SGaIDRVUAAAAAAAAAAAHYxkAdzrro/XXn9t2ZgXEAAAAAAAAAAAMz0gyIchDJAqzAzfEXeIECjCwEY/cY3QGcH5JYyL+g/AAAAAAAAAADjSaQvlRWjPwAAAAAAAAAA3KrlcRaVKEBrj4BOpXVMQAAAAAAAAAAAAAAAAAAAAAAAAAAAAAAAACLTLicgwkpA",
            "dtype": "f8"
           }
          }
         ],
         "name": "2022-09-16"
        },
        {
         "data": [
          {
           "coloraxis": "coloraxis",
           "geo": "geo",
           "hovertemplate": "animation_frame=2022-09-17<br>locations=%{location}<br>Revenue (USD)=%{z}<extra></extra>",
           "locations": [
            "ARG",
            "ARG",
            "BRA",
            "BRA",
            "CAN",
            "CAN",
            "CHL",
            "CHL",
            "COL",
            "COL",
            "DEU",
            "DEU",
            "ESP",
            "ESP",
            "GBR",
            "GBR",
            "IND",
            "IND",
            "ITA",
            "ITA",
            "JPN",
            "JPN",
            "MEX",
            "MEX",
            "POL",
            "POL",
            "SAU",
            "SAU",
            "USA",
            "USA"
           ],
           "name": "",
           "type": "choropleth",
           "z": {
            "bdata": "MRBXL/8ZRkAAAAAAAAAAAAynGj85fRZAAAAAAAAAAAAAAAAAAAAAAAAAAAAAAAAAbR4vYiPBREAAAAAAAAAAAOpd5/yleyBAAAAAAAAAAAAAAAAAAAAAAAAAAAAAAAAAAAAAAAAAAAAhKvFBFeZYQAAAAAAAAAAAr2kHB22LoD8AAAAAAAAAAAAAAAAAAAAAAAAAAAAAAAAAAAAAAAAAADM0IKTXOuQ/AAAAAAAAAAAAAAAAAAAAAAAAAAAAAAAAAAAAAAAAAAAAAAAAAAAAAAAAAAAAAAAAAAAAAAAAAAAAAAAAAAAAAAAAAAAAAAAA",
            "dtype": "f8"
           }
          }
         ],
         "name": "2022-09-17"
        },
        {
         "data": [
          {
           "coloraxis": "coloraxis",
           "geo": "geo",
           "hovertemplate": "animation_frame=2022-09-18<br>locations=%{location}<br>Revenue (USD)=%{z}<extra></extra>",
           "locations": [
            "ARG",
            "ARG",
            "BRA",
            "BRA",
            "CAN",
            "CAN",
            "CHL",
            "CHL",
            "COL",
            "COL",
            "DEU",
            "DEU",
            "ESP",
            "ESP",
            "GBR",
            "GBR",
            "IND",
            "IND",
            "ITA",
            "ITA",
            "JPN",
            "JPN",
            "MEX",
            "MEX",
            "POL",
            "POL",
            "SAU",
            "SAU",
            "USA",
            "USA"
           ],
           "name": "",
           "type": "choropleth",
           "z": {
            "bdata": "QdWiYFuMMkAAAAAAAAAAAAAAAAAAAAAAAAAAAAAAAAC72Gwi56DRP180vDtVZCVA7tgdqGG+pz8hCB+/BlT8PwAAAAAAAAAA990dvxCO3D8AAAAAAAAAAAAAAAAAAAAAlnaSFdzJYkAAAAAAAAAAAAAAAAAAAAAAbbQAiTb3BkAdW2/9SojzPwAAAAAAAAAAAAAAAAAAAAD9uTgwpSTePwAAAAAAAAAAAAAAAAAAAAAAAAAAAAAAAAAAAAAAAAAAPZmWEf5Pyz8AAAAAAAAAAAAAAAAAAAAAQWoLGO4lkT85wGfk2xagP9wgcyWVMfI/",
            "dtype": "f8"
           }
          }
         ],
         "name": "2022-09-18"
        },
        {
         "data": [
          {
           "coloraxis": "coloraxis",
           "geo": "geo",
           "hovertemplate": "animation_frame=2022-09-19<br>locations=%{location}<br>Revenue (USD)=%{z}<extra></extra>",
           "locations": [
            "ARG",
            "ARG",
            "BRA",
            "BRA",
            "CAN",
            "CAN",
            "CHL",
            "CHL",
            "COL",
            "COL",
            "DEU",
            "DEU",
            "ESP",
            "ESP",
            "GBR",
            "GBR",
            "IND",
            "IND",
            "ITA",
            "ITA",
            "JPN",
            "JPN",
            "MEX",
            "MEX",
            "POL",
            "POL",
            "SAU",
            "SAU",
            "USA",
            "USA"
           ],
           "name": "",
           "type": "choropleth",
           "z": {
            "bdata": "AAAAAAAAAAAAAAAAAAAAAAAAAAAAAAAAvGe8/cdGV0AAAAAAAAAAADE4jmOOCDxAAAAAAAAAAAA2QLnBP27jP77pkVH4dkNAAAAAAAAAAAAAAAAAAAAAAAt6McuNKu0/B34BVcI2lD9b6ohwT8L9PwAAAAAAAAAAAAAAAAAAAAAzAc8Roq1NPwAAAAAAAAAA8uMKVGvxPEAAAAAAAAAAAAAAAAAAAAAAcwWKaAMWJUAAAAAAAAAAAG9C8SOXExFA/qBlP1OnQEAAAAAAAAAAAAAAAAAAAAAAAAAAAAAAAAAAAAAAAAAAAAAAAAAAAAAA",
            "dtype": "f8"
           }
          }
         ],
         "name": "2022-09-19"
        },
        {
         "data": [
          {
           "coloraxis": "coloraxis",
           "geo": "geo",
           "hovertemplate": "animation_frame=2022-09-20<br>locations=%{location}<br>Revenue (USD)=%{z}<extra></extra>",
           "locations": [
            "ARG",
            "ARG",
            "BRA",
            "BRA",
            "CAN",
            "CAN",
            "CHL",
            "CHL",
            "COL",
            "COL",
            "DEU",
            "DEU",
            "ESP",
            "ESP",
            "GBR",
            "GBR",
            "IND",
            "IND",
            "ITA",
            "ITA",
            "JPN",
            "JPN",
            "MEX",
            "MEX",
            "POL",
            "POL",
            "SAU",
            "SAU",
            "USA",
            "USA"
           ],
           "name": "",
           "type": "choropleth",
           "z": {
            "bdata": "c8FdBSuvV0AAAAAAAAAAAAAAAAAAAAAAV11pVSOjBEAAAAAAAAAAAAAAAAAAAAAAAAAAAAAAAAAtYyzhIvLSPwAAAAAAAAAAAAAAAAAAAAAAAAAAAAAAAAAAAAAAAAAAAAAAAAAAAAAAAAAAAAAAAAAAAAAAAAAAAAAAAAAAAAAAAAAAAAAAAAAAAAAAAAAAAAAAAAAAAAAAAAAAAAAAAB23WR5Q20RAAAAAAAAAAAAAAAAAAAAAAAAAAAAAAAAAAAAAAAAAAAAAAAAAAAAAAI/tU3hcRfI/AAAAAAAAAAAAAAAAAAAAAAAAAAAAAAAA",
            "dtype": "f8"
           }
          }
         ],
         "name": "2022-09-20"
        },
        {
         "data": [
          {
           "coloraxis": "coloraxis",
           "geo": "geo",
           "hovertemplate": "animation_frame=2022-09-21<br>locations=%{location}<br>Revenue (USD)=%{z}<extra></extra>",
           "locations": [
            "ARG",
            "ARG",
            "BRA",
            "BRA",
            "CAN",
            "CAN",
            "CHL",
            "CHL",
            "COL",
            "COL",
            "DEU",
            "DEU",
            "ESP",
            "ESP",
            "GBR",
            "GBR",
            "IND",
            "IND",
            "ITA",
            "ITA",
            "JPN",
            "JPN",
            "MEX",
            "MEX",
            "POL",
            "POL",
            "SAU",
            "SAU",
            "USA",
            "USA"
           ],
           "name": "",
           "type": "choropleth",
           "z": {
            "bdata": "AAAAAAAAAAAAAAAAAAAAAN6u6OghWlZAAAAAAAAAAAAAAAAAAAAAAFrqRNBVbto//9Rduvkvfz8AAAAAAAAAAAAAAAAAAAAAAAAAAAAAAAAAAAAAAAAAAIDgks+MRDBAG0GKjNa70D8AAAAAAAAAAAAAAAAAAAAAAAAAAAAAAAAAAAAAAAAAAAAAAAAAAAAAYjEhqCqcGUAAAAAAAAAAAAAAAAAAAAAAAAAAAAAAAAAAAAAAAAAAAAAAAAAAAAAAAAAAAAAAAAAAAAAAAAAAAAAAAAAAAAAAAAAAAAAAAADGJPefirPYPwAAAAAAAAAA",
            "dtype": "f8"
           }
          }
         ],
         "name": "2022-09-21"
        },
        {
         "data": [
          {
           "coloraxis": "coloraxis",
           "geo": "geo",
           "hovertemplate": "animation_frame=2022-09-22<br>locations=%{location}<br>Revenue (USD)=%{z}<extra></extra>",
           "locations": [
            "ARG",
            "ARG",
            "BRA",
            "BRA",
            "CAN",
            "CAN",
            "CHL",
            "CHL",
            "COL",
            "COL",
            "DEU",
            "DEU",
            "ESP",
            "ESP",
            "GBR",
            "GBR",
            "IND",
            "IND",
            "ITA",
            "ITA",
            "JPN",
            "JPN",
            "MEX",
            "MEX",
            "POL",
            "POL",
            "SAU",
            "SAU",
            "USA",
            "USA"
           ],
           "name": "",
           "type": "choropleth",
           "z": {
            "bdata": "AAAAAAAAAAAAAAAAAAAAAAAAAAAAAAAAAAAAAAAAAAAAAAAAAAAAAAAAAAAAAAAAAAAAAAAAAADqDYN4uYEyQNnM9My7DVFAAAAAAAAAAAAAAAAAAAAAAAAAAAAAAAAAAAAAAAAAAAAAAAAAAAAAAAAAAAAAAAAAAAAAAAAAAAAAAAAAAAAAAAAAAAAAAAAAZJBnZnFXR0AAAAAAAAAAALyJlfLC3pY/AAAAAAAAAAAAAAAAAAAAAAju8k1dSeA/AAAAAAAAAAAAAAAAAAAAAPKUMaZRpTxAAAAAAAAAAAAAAAAAAAAAAAAAAAAAAAAA",
            "dtype": "f8"
           }
          }
         ],
         "name": "2022-09-22"
        },
        {
         "data": [
          {
           "coloraxis": "coloraxis",
           "geo": "geo",
           "hovertemplate": "animation_frame=2022-09-23<br>locations=%{location}<br>Revenue (USD)=%{z}<extra></extra>",
           "locations": [
            "ARG",
            "ARG",
            "BRA",
            "BRA",
            "CAN",
            "CAN",
            "CHL",
            "CHL",
            "COL",
            "COL",
            "DEU",
            "DEU",
            "ESP",
            "ESP",
            "GBR",
            "GBR",
            "IND",
            "IND",
            "ITA",
            "ITA",
            "JPN",
            "JPN",
            "MEX",
            "MEX",
            "POL",
            "POL",
            "SAU",
            "SAU",
            "USA",
            "USA"
           ],
           "name": "",
           "type": "choropleth",
           "z": {
            "bdata": "W6WVcwiWMkAAAAAAAAAAAAAAAAAAAAAAu41jhyq2nT8AAAAAAAAAAB9xaxtAKE1AAAAAAAAAAAAAAAAAAAAAAAAAAAAAAAAAAAAAAAAAAAAAAAAAAAAAAF785XlCtSRAAAAAAAAAAAAAAAAAAAAAAAAAAAAAAAAAAAAAAAAAAAAAAAAAAAAAAPwBGtD03OU/nfkQZvfgMEDJ6C7gRHcmQAAAAAAAAAAAAAAAAAAAAAB68q9E3OD4PwAAAAAAAAAAAAAAAAAAAAAAAAAAAAAAAAAAAAAAAAAAAAAAAAAAAAAAAAAAAAAAAAAAAAAAAAAA",
            "dtype": "f8"
           }
          }
         ],
         "name": "2022-09-23"
        },
        {
         "data": [
          {
           "coloraxis": "coloraxis",
           "geo": "geo",
           "hovertemplate": "animation_frame=2022-09-24<br>locations=%{location}<br>Revenue (USD)=%{z}<extra></extra>",
           "locations": [
            "ARG",
            "ARG",
            "BRA",
            "BRA",
            "CAN",
            "CAN",
            "CHL",
            "CHL",
            "COL",
            "COL",
            "DEU",
            "DEU",
            "ESP",
            "ESP",
            "GBR",
            "GBR",
            "IND",
            "IND",
            "ITA",
            "ITA",
            "JPN",
            "JPN",
            "MEX",
            "MEX",
            "POL",
            "POL",
            "SAU",
            "SAU",
            "USA",
            "USA"
           ],
           "name": "",
           "type": "choropleth",
           "z": {
            "bdata": "p8tMul/ezD8AAAAAAAAAAAAAAAAAAAAAABJdXRGyLUAAAAAAAAAAAAAAAAAAAAAAAAAAAAAAAAAAAAAAAAAAAAAAAAAAAAAAAAAAAAAAAAAAAAAAAAAAAMablfC2mxdAAAAAAAAAAAAAAAAAAAAAAAAAAAAAAAAAAAAAAAAAAAAAAAAAAAAAAAAAAAAAAAAAAAAAAAAAAACas/sdIobSP52eiU1wyBZAAAAAAAAAAADbTcewvW5RQAAAAAAAAAAAAAAAAAAAAAClI8NdVmbJPwAAAAAAAAAAAAAAAAAAAAAAAAAAAAAAAAAAAAAAAAAA",
            "dtype": "f8"
           }
          }
         ],
         "name": "2022-09-24"
        },
        {
         "data": [
          {
           "coloraxis": "coloraxis",
           "geo": "geo",
           "hovertemplate": "animation_frame=2022-09-25<br>locations=%{location}<br>Revenue (USD)=%{z}<extra></extra>",
           "locations": [
            "ARG",
            "ARG",
            "BRA",
            "BRA",
            "CAN",
            "CAN",
            "CHL",
            "CHL",
            "COL",
            "COL",
            "DEU",
            "DEU",
            "ESP",
            "ESP",
            "GBR",
            "GBR",
            "IND",
            "IND",
            "ITA",
            "ITA",
            "JPN",
            "JPN",
            "MEX",
            "MEX",
            "POL",
            "POL",
            "SAU",
            "SAU",
            "USA",
            "USA"
           ],
           "name": "",
           "type": "choropleth",
           "z": {
            "bdata": "AAAAAAAAAAC3cFi1epwyQAAAAAAAAAAAAAAAAAAAAAAAAAAAAAAAAAAAAAAAAAAA+6IkXQOaREAAAAAAAAAAAAAAAAAAAAAAAAAAAAAAAAAAAAAAAAAAAAAAAAAAAAAAAAAAAAAAAAAAAAAAAAAAAAAAAAAAAAAA5P9be6cKTECuOrwbRa5RQAAAAAAAAAAAAAAAAAAAAADYUXddLxQOQAAAAAAAAAAAAAAAAAAAAADTOeGURGRCQAAAAAAAAAAAAAAAAAAAAAAAAAAAAAAAAAAAAAAAAAAAti55BCL5EUCXka7sqNWEPwAAAAAAAAAA",
            "dtype": "f8"
           }
          }
         ],
         "name": "2022-09-25"
        },
        {
         "data": [
          {
           "coloraxis": "coloraxis",
           "geo": "geo",
           "hovertemplate": "animation_frame=2022-09-26<br>locations=%{location}<br>Revenue (USD)=%{z}<extra></extra>",
           "locations": [
            "ARG",
            "ARG",
            "BRA",
            "BRA",
            "CAN",
            "CAN",
            "CHL",
            "CHL",
            "COL",
            "COL",
            "DEU",
            "DEU",
            "ESP",
            "ESP",
            "GBR",
            "GBR",
            "IND",
            "IND",
            "ITA",
            "ITA",
            "JPN",
            "JPN",
            "MEX",
            "MEX",
            "POL",
            "POL",
            "SAU",
            "SAU",
            "USA",
            "USA"
           ],
           "name": "",
           "type": "choropleth",
           "z": {
            "bdata": "AAAAAAAAAACs4rclT8zZPwAAAAAAAAAAAAAAAAAAAAAAAAAAAAAAAAAAAAAAAAAA1JSYnuFxIEAAAAAAAAAAAAAAAAAAAAAAAAAAAAAAAAAAAAAAAAAAAAAAAAAAAAAA+H4PuyQDJUDxLweKpptHQAAAAAAAAAAAAAAAAAAAAAAAAAAAAAAAAAAAAAAAAAAAAAAAAAAAAADM9a4ENr4wQAAAAAAAAAAAAAAAAAAAAAAAAAAAAAAAAGaz9hKuqitAAAAAAAAAAAAAAAAAAAAAAM6t/AK8OPM/AAAAAAAAAAAAAAAAAAAAAAAAAAAAAAAA",
            "dtype": "f8"
           }
          }
         ],
         "name": "2022-09-26"
        },
        {
         "data": [
          {
           "coloraxis": "coloraxis",
           "geo": "geo",
           "hovertemplate": "animation_frame=2022-09-27<br>locations=%{location}<br>Revenue (USD)=%{z}<extra></extra>",
           "locations": [
            "ARG",
            "ARG",
            "BRA",
            "BRA",
            "CAN",
            "CAN",
            "CHL",
            "CHL",
            "COL",
            "COL",
            "DEU",
            "DEU",
            "ESP",
            "ESP",
            "GBR",
            "GBR",
            "IND",
            "IND",
            "ITA",
            "ITA",
            "JPN",
            "JPN",
            "MEX",
            "MEX",
            "POL",
            "POL",
            "SAU",
            "SAU",
            "USA",
            "USA"
           ],
           "name": "",
           "type": "choropleth",
           "z": {
            "bdata": "AAAAAAAAAAAAAAAAAAAAABpSy8VtsABAAAAAAAAAAAAAAAAAAAAAAAAAAAAAAAAA49qb7T2AP0AAAAAAAAAAAAAAAAAAAAAAAAAAAAAAAABnSSF867cdQLI0MyzjmNw/RMtqP7F6kT8AAAAAAAAAAAAAAAAAAAAAAAAAAAAAAAAAAAAAAAAAAAAAAAAAAAAAAAAAAAAAAAAAAAAAAAAAAAAAAAAAAAAAAAAAAAAAAAAAAAAAAAAAAAAAAAAAAAAAAAAAAAAAAAAAAAAAAAAAAAu9WnRI0jxAGvA0IjHpCUAswlBgt7DhPwAAAAAAAAAA",
            "dtype": "f8"
           }
          }
         ],
         "name": "2022-09-27"
        },
        {
         "data": [
          {
           "coloraxis": "coloraxis",
           "geo": "geo",
           "hovertemplate": "animation_frame=2022-09-28<br>locations=%{location}<br>Revenue (USD)=%{z}<extra></extra>",
           "locations": [
            "ARG",
            "ARG",
            "BRA",
            "BRA",
            "CAN",
            "CAN",
            "CHL",
            "CHL",
            "COL",
            "COL",
            "DEU",
            "DEU",
            "ESP",
            "ESP",
            "GBR",
            "GBR",
            "IND",
            "IND",
            "ITA",
            "ITA",
            "JPN",
            "JPN",
            "MEX",
            "MEX",
            "POL",
            "POL",
            "SAU",
            "SAU",
            "USA",
            "USA"
           ],
           "name": "",
           "type": "choropleth",
           "z": {
            "bdata": "AAAAAAAAAAAAAAAAAAAAAAAAAAAAAAAAAAAAAAAAAAAAAAAAAAAAAKz9IFwqRCNAAAAAAAAAAAAAAAAAAAAAAAAAAAAAAAAAAAAAAAAAAAAAAAAAAAAAAAAAAAAAAAAAAAAAAAAAAAAAAAAAAAAAAAAAAAAAAAAAAAAAAAAAAABddiHQ+81YQAAAAAAAAAAAfp89CbjgQ0Dg2u4WRfJCQAAAAAAAAAAAAAAAAAAAAAAAAAAAAAAAAAAAAAAAAAAA7OfD3HdHTEBBr0cPk51bQN/7G+evH5Q/AAAAAAAAAAAAAAAAAAAAAFinzDq8Oz9A",
            "dtype": "f8"
           }
          }
         ],
         "name": "2022-09-28"
        },
        {
         "data": [
          {
           "coloraxis": "coloraxis",
           "geo": "geo",
           "hovertemplate": "animation_frame=2022-09-29<br>locations=%{location}<br>Revenue (USD)=%{z}<extra></extra>",
           "locations": [
            "ARG",
            "ARG",
            "BRA",
            "BRA",
            "CAN",
            "CAN",
            "CHL",
            "CHL",
            "COL",
            "COL",
            "DEU",
            "DEU",
            "ESP",
            "ESP",
            "GBR",
            "GBR",
            "IND",
            "IND",
            "ITA",
            "ITA",
            "JPN",
            "JPN",
            "MEX",
            "MEX",
            "POL",
            "POL",
            "SAU",
            "SAU",
            "USA",
            "USA"
           ],
           "name": "",
           "type": "choropleth",
           "z": {
            "bdata": "AAAAAAAAAAAAAAAAAAAAAAAAAAAAAAAAAAAAAAAAAAAAAAAAAAAAAAAAAAAAAAAAAAAAAAAAAAAAAAAAAAAAAAAAAAAAAAAAAAAAAAAAAAAAAAAAAAAAAAAAAAAAAAAAAAAAAAAAAAAAAAAAAAAAAAAAAAAAAAAAAAAAAAAAAAAAAAAAAAAAAAAAAAAAAAAAWS1Ke0YURkBGOkvYt65FQAAAAAAAAAAAAAAAAAAAAACUjmYGWYkLQAAAAAAAAAAAAAAAAAAAAAAAAAAAAAAAAAAAAAAAAAAAAAAAAAAAAAAAAAAAAAAAAAAAAAAAAAAA",
            "dtype": "f8"
           }
          }
         ],
         "name": "2022-09-29"
        },
        {
         "data": [
          {
           "coloraxis": "coloraxis",
           "geo": "geo",
           "hovertemplate": "animation_frame=2022-09-30<br>locations=%{location}<br>Revenue (USD)=%{z}<extra></extra>",
           "locations": [
            "ARG",
            "ARG",
            "BRA",
            "BRA",
            "CAN",
            "CAN",
            "CHL",
            "CHL",
            "COL",
            "COL",
            "DEU",
            "DEU",
            "ESP",
            "ESP",
            "GBR",
            "GBR",
            "IND",
            "IND",
            "ITA",
            "ITA",
            "JPN",
            "JPN",
            "MEX",
            "MEX",
            "POL",
            "POL",
            "SAU",
            "SAU",
            "USA",
            "USA"
           ],
           "name": "",
           "type": "choropleth",
           "z": {
            "bdata": "AAAAAAAAAADk/ik5H6xUQAAAAAAAAAAAAAAAAAAAAAAAAAAAAAAAAAAAAAAAAAAAAAAAAAAAAAAAAAAAAAAAAPQe+YB9RURAdzoCiiVOMUAAAAAAAAAAAAAAAAAAAAAAAAAAAAAAAAAAAAAAAAAAAAAAAAAAAAAAAAAAAAAAAAAAAAAAAAAAAAAAAAAAAAAAlX8Uvm4Bmj8AAAAAAAAAAAAAAAAAAAAAbc7m3isxAEAAAAAAAAAAAFivCzYjprs/AAAAAAAAAAAAAAAAAAAAAAAAAAAAAAAA53WHAZLC7z/WwSQueC5XPwAAAAAAAAAA",
            "dtype": "f8"
           }
          }
         ],
         "name": "2022-09-30"
        }
       ],
       "layout": {
        "coloraxis": {
         "colorbar": {
          "title": {
           "text": "Revenue (USD)"
          }
         },
         "colorscale": [
          [
           0,
           "#0d0887"
          ],
          [
           0.1111111111111111,
           "#46039f"
          ],
          [
           0.2222222222222222,
           "#7201a8"
          ],
          [
           0.3333333333333333,
           "#9c179e"
          ],
          [
           0.4444444444444444,
           "#bd3786"
          ],
          [
           0.5555555555555556,
           "#d8576b"
          ],
          [
           0.6666666666666666,
           "#ed7953"
          ],
          [
           0.7777777777777778,
           "#fb9f3a"
          ],
          [
           0.8888888888888888,
           "#fdca26"
          ],
          [
           1,
           "#f0f921"
          ]
         ]
        },
        "geo": {
         "center": {},
         "domain": {
          "x": [
           0,
           1
          ],
          "y": [
           0,
           1
          ]
         },
         "projection": {
          "type": "natural earth"
         }
        },
        "legend": {
         "tracegroupgap": 0
        },
        "sliders": [
         {
          "active": 0,
          "currentvalue": {
           "prefix": "animation_frame="
          },
          "len": 0.9,
          "pad": {
           "b": 10,
           "t": 60
          },
          "steps": [
           {
            "args": [
             [
              "2022-08-01"
             ],
             {
              "frame": {
               "duration": 0,
               "redraw": true
              },
              "fromcurrent": true,
              "mode": "immediate",
              "transition": {
               "duration": 0,
               "easing": "linear"
              }
             }
            ],
            "label": "2022-08-01",
            "method": "animate"
           },
           {
            "args": [
             [
              "2022-08-02"
             ],
             {
              "frame": {
               "duration": 0,
               "redraw": true
              },
              "fromcurrent": true,
              "mode": "immediate",
              "transition": {
               "duration": 0,
               "easing": "linear"
              }
             }
            ],
            "label": "2022-08-02",
            "method": "animate"
           },
           {
            "args": [
             [
              "2022-08-03"
             ],
             {
              "frame": {
               "duration": 0,
               "redraw": true
              },
              "fromcurrent": true,
              "mode": "immediate",
              "transition": {
               "duration": 0,
               "easing": "linear"
              }
             }
            ],
            "label": "2022-08-03",
            "method": "animate"
           },
           {
            "args": [
             [
              "2022-08-04"
             ],
             {
              "frame": {
               "duration": 0,
               "redraw": true
              },
              "fromcurrent": true,
              "mode": "immediate",
              "transition": {
               "duration": 0,
               "easing": "linear"
              }
             }
            ],
            "label": "2022-08-04",
            "method": "animate"
           },
           {
            "args": [
             [
              "2022-08-05"
             ],
             {
              "frame": {
               "duration": 0,
               "redraw": true
              },
              "fromcurrent": true,
              "mode": "immediate",
              "transition": {
               "duration": 0,
               "easing": "linear"
              }
             }
            ],
            "label": "2022-08-05",
            "method": "animate"
           },
           {
            "args": [
             [
              "2022-08-06"
             ],
             {
              "frame": {
               "duration": 0,
               "redraw": true
              },
              "fromcurrent": true,
              "mode": "immediate",
              "transition": {
               "duration": 0,
               "easing": "linear"
              }
             }
            ],
            "label": "2022-08-06",
            "method": "animate"
           },
           {
            "args": [
             [
              "2022-08-07"
             ],
             {
              "frame": {
               "duration": 0,
               "redraw": true
              },
              "fromcurrent": true,
              "mode": "immediate",
              "transition": {
               "duration": 0,
               "easing": "linear"
              }
             }
            ],
            "label": "2022-08-07",
            "method": "animate"
           },
           {
            "args": [
             [
              "2022-08-08"
             ],
             {
              "frame": {
               "duration": 0,
               "redraw": true
              },
              "fromcurrent": true,
              "mode": "immediate",
              "transition": {
               "duration": 0,
               "easing": "linear"
              }
             }
            ],
            "label": "2022-08-08",
            "method": "animate"
           },
           {
            "args": [
             [
              "2022-08-09"
             ],
             {
              "frame": {
               "duration": 0,
               "redraw": true
              },
              "fromcurrent": true,
              "mode": "immediate",
              "transition": {
               "duration": 0,
               "easing": "linear"
              }
             }
            ],
            "label": "2022-08-09",
            "method": "animate"
           },
           {
            "args": [
             [
              "2022-08-10"
             ],
             {
              "frame": {
               "duration": 0,
               "redraw": true
              },
              "fromcurrent": true,
              "mode": "immediate",
              "transition": {
               "duration": 0,
               "easing": "linear"
              }
             }
            ],
            "label": "2022-08-10",
            "method": "animate"
           },
           {
            "args": [
             [
              "2022-08-11"
             ],
             {
              "frame": {
               "duration": 0,
               "redraw": true
              },
              "fromcurrent": true,
              "mode": "immediate",
              "transition": {
               "duration": 0,
               "easing": "linear"
              }
             }
            ],
            "label": "2022-08-11",
            "method": "animate"
           },
           {
            "args": [
             [
              "2022-08-12"
             ],
             {
              "frame": {
               "duration": 0,
               "redraw": true
              },
              "fromcurrent": true,
              "mode": "immediate",
              "transition": {
               "duration": 0,
               "easing": "linear"
              }
             }
            ],
            "label": "2022-08-12",
            "method": "animate"
           },
           {
            "args": [
             [
              "2022-08-13"
             ],
             {
              "frame": {
               "duration": 0,
               "redraw": true
              },
              "fromcurrent": true,
              "mode": "immediate",
              "transition": {
               "duration": 0,
               "easing": "linear"
              }
             }
            ],
            "label": "2022-08-13",
            "method": "animate"
           },
           {
            "args": [
             [
              "2022-08-14"
             ],
             {
              "frame": {
               "duration": 0,
               "redraw": true
              },
              "fromcurrent": true,
              "mode": "immediate",
              "transition": {
               "duration": 0,
               "easing": "linear"
              }
             }
            ],
            "label": "2022-08-14",
            "method": "animate"
           },
           {
            "args": [
             [
              "2022-08-15"
             ],
             {
              "frame": {
               "duration": 0,
               "redraw": true
              },
              "fromcurrent": true,
              "mode": "immediate",
              "transition": {
               "duration": 0,
               "easing": "linear"
              }
             }
            ],
            "label": "2022-08-15",
            "method": "animate"
           },
           {
            "args": [
             [
              "2022-08-16"
             ],
             {
              "frame": {
               "duration": 0,
               "redraw": true
              },
              "fromcurrent": true,
              "mode": "immediate",
              "transition": {
               "duration": 0,
               "easing": "linear"
              }
             }
            ],
            "label": "2022-08-16",
            "method": "animate"
           },
           {
            "args": [
             [
              "2022-08-17"
             ],
             {
              "frame": {
               "duration": 0,
               "redraw": true
              },
              "fromcurrent": true,
              "mode": "immediate",
              "transition": {
               "duration": 0,
               "easing": "linear"
              }
             }
            ],
            "label": "2022-08-17",
            "method": "animate"
           },
           {
            "args": [
             [
              "2022-08-18"
             ],
             {
              "frame": {
               "duration": 0,
               "redraw": true
              },
              "fromcurrent": true,
              "mode": "immediate",
              "transition": {
               "duration": 0,
               "easing": "linear"
              }
             }
            ],
            "label": "2022-08-18",
            "method": "animate"
           },
           {
            "args": [
             [
              "2022-08-19"
             ],
             {
              "frame": {
               "duration": 0,
               "redraw": true
              },
              "fromcurrent": true,
              "mode": "immediate",
              "transition": {
               "duration": 0,
               "easing": "linear"
              }
             }
            ],
            "label": "2022-08-19",
            "method": "animate"
           },
           {
            "args": [
             [
              "2022-08-20"
             ],
             {
              "frame": {
               "duration": 0,
               "redraw": true
              },
              "fromcurrent": true,
              "mode": "immediate",
              "transition": {
               "duration": 0,
               "easing": "linear"
              }
             }
            ],
            "label": "2022-08-20",
            "method": "animate"
           },
           {
            "args": [
             [
              "2022-08-21"
             ],
             {
              "frame": {
               "duration": 0,
               "redraw": true
              },
              "fromcurrent": true,
              "mode": "immediate",
              "transition": {
               "duration": 0,
               "easing": "linear"
              }
             }
            ],
            "label": "2022-08-21",
            "method": "animate"
           },
           {
            "args": [
             [
              "2022-08-22"
             ],
             {
              "frame": {
               "duration": 0,
               "redraw": true
              },
              "fromcurrent": true,
              "mode": "immediate",
              "transition": {
               "duration": 0,
               "easing": "linear"
              }
             }
            ],
            "label": "2022-08-22",
            "method": "animate"
           },
           {
            "args": [
             [
              "2022-08-23"
             ],
             {
              "frame": {
               "duration": 0,
               "redraw": true
              },
              "fromcurrent": true,
              "mode": "immediate",
              "transition": {
               "duration": 0,
               "easing": "linear"
              }
             }
            ],
            "label": "2022-08-23",
            "method": "animate"
           },
           {
            "args": [
             [
              "2022-08-24"
             ],
             {
              "frame": {
               "duration": 0,
               "redraw": true
              },
              "fromcurrent": true,
              "mode": "immediate",
              "transition": {
               "duration": 0,
               "easing": "linear"
              }
             }
            ],
            "label": "2022-08-24",
            "method": "animate"
           },
           {
            "args": [
             [
              "2022-08-25"
             ],
             {
              "frame": {
               "duration": 0,
               "redraw": true
              },
              "fromcurrent": true,
              "mode": "immediate",
              "transition": {
               "duration": 0,
               "easing": "linear"
              }
             }
            ],
            "label": "2022-08-25",
            "method": "animate"
           },
           {
            "args": [
             [
              "2022-08-26"
             ],
             {
              "frame": {
               "duration": 0,
               "redraw": true
              },
              "fromcurrent": true,
              "mode": "immediate",
              "transition": {
               "duration": 0,
               "easing": "linear"
              }
             }
            ],
            "label": "2022-08-26",
            "method": "animate"
           },
           {
            "args": [
             [
              "2022-08-27"
             ],
             {
              "frame": {
               "duration": 0,
               "redraw": true
              },
              "fromcurrent": true,
              "mode": "immediate",
              "transition": {
               "duration": 0,
               "easing": "linear"
              }
             }
            ],
            "label": "2022-08-27",
            "method": "animate"
           },
           {
            "args": [
             [
              "2022-08-28"
             ],
             {
              "frame": {
               "duration": 0,
               "redraw": true
              },
              "fromcurrent": true,
              "mode": "immediate",
              "transition": {
               "duration": 0,
               "easing": "linear"
              }
             }
            ],
            "label": "2022-08-28",
            "method": "animate"
           },
           {
            "args": [
             [
              "2022-08-29"
             ],
             {
              "frame": {
               "duration": 0,
               "redraw": true
              },
              "fromcurrent": true,
              "mode": "immediate",
              "transition": {
               "duration": 0,
               "easing": "linear"
              }
             }
            ],
            "label": "2022-08-29",
            "method": "animate"
           },
           {
            "args": [
             [
              "2022-08-30"
             ],
             {
              "frame": {
               "duration": 0,
               "redraw": true
              },
              "fromcurrent": true,
              "mode": "immediate",
              "transition": {
               "duration": 0,
               "easing": "linear"
              }
             }
            ],
            "label": "2022-08-30",
            "method": "animate"
           },
           {
            "args": [
             [
              "2022-08-31"
             ],
             {
              "frame": {
               "duration": 0,
               "redraw": true
              },
              "fromcurrent": true,
              "mode": "immediate",
              "transition": {
               "duration": 0,
               "easing": "linear"
              }
             }
            ],
            "label": "2022-08-31",
            "method": "animate"
           },
           {
            "args": [
             [
              "2022-09-01"
             ],
             {
              "frame": {
               "duration": 0,
               "redraw": true
              },
              "fromcurrent": true,
              "mode": "immediate",
              "transition": {
               "duration": 0,
               "easing": "linear"
              }
             }
            ],
            "label": "2022-09-01",
            "method": "animate"
           },
           {
            "args": [
             [
              "2022-09-02"
             ],
             {
              "frame": {
               "duration": 0,
               "redraw": true
              },
              "fromcurrent": true,
              "mode": "immediate",
              "transition": {
               "duration": 0,
               "easing": "linear"
              }
             }
            ],
            "label": "2022-09-02",
            "method": "animate"
           },
           {
            "args": [
             [
              "2022-09-03"
             ],
             {
              "frame": {
               "duration": 0,
               "redraw": true
              },
              "fromcurrent": true,
              "mode": "immediate",
              "transition": {
               "duration": 0,
               "easing": "linear"
              }
             }
            ],
            "label": "2022-09-03",
            "method": "animate"
           },
           {
            "args": [
             [
              "2022-09-04"
             ],
             {
              "frame": {
               "duration": 0,
               "redraw": true
              },
              "fromcurrent": true,
              "mode": "immediate",
              "transition": {
               "duration": 0,
               "easing": "linear"
              }
             }
            ],
            "label": "2022-09-04",
            "method": "animate"
           },
           {
            "args": [
             [
              "2022-09-05"
             ],
             {
              "frame": {
               "duration": 0,
               "redraw": true
              },
              "fromcurrent": true,
              "mode": "immediate",
              "transition": {
               "duration": 0,
               "easing": "linear"
              }
             }
            ],
            "label": "2022-09-05",
            "method": "animate"
           },
           {
            "args": [
             [
              "2022-09-06"
             ],
             {
              "frame": {
               "duration": 0,
               "redraw": true
              },
              "fromcurrent": true,
              "mode": "immediate",
              "transition": {
               "duration": 0,
               "easing": "linear"
              }
             }
            ],
            "label": "2022-09-06",
            "method": "animate"
           },
           {
            "args": [
             [
              "2022-09-07"
             ],
             {
              "frame": {
               "duration": 0,
               "redraw": true
              },
              "fromcurrent": true,
              "mode": "immediate",
              "transition": {
               "duration": 0,
               "easing": "linear"
              }
             }
            ],
            "label": "2022-09-07",
            "method": "animate"
           },
           {
            "args": [
             [
              "2022-09-08"
             ],
             {
              "frame": {
               "duration": 0,
               "redraw": true
              },
              "fromcurrent": true,
              "mode": "immediate",
              "transition": {
               "duration": 0,
               "easing": "linear"
              }
             }
            ],
            "label": "2022-09-08",
            "method": "animate"
           },
           {
            "args": [
             [
              "2022-09-09"
             ],
             {
              "frame": {
               "duration": 0,
               "redraw": true
              },
              "fromcurrent": true,
              "mode": "immediate",
              "transition": {
               "duration": 0,
               "easing": "linear"
              }
             }
            ],
            "label": "2022-09-09",
            "method": "animate"
           },
           {
            "args": [
             [
              "2022-09-10"
             ],
             {
              "frame": {
               "duration": 0,
               "redraw": true
              },
              "fromcurrent": true,
              "mode": "immediate",
              "transition": {
               "duration": 0,
               "easing": "linear"
              }
             }
            ],
            "label": "2022-09-10",
            "method": "animate"
           },
           {
            "args": [
             [
              "2022-09-11"
             ],
             {
              "frame": {
               "duration": 0,
               "redraw": true
              },
              "fromcurrent": true,
              "mode": "immediate",
              "transition": {
               "duration": 0,
               "easing": "linear"
              }
             }
            ],
            "label": "2022-09-11",
            "method": "animate"
           },
           {
            "args": [
             [
              "2022-09-12"
             ],
             {
              "frame": {
               "duration": 0,
               "redraw": true
              },
              "fromcurrent": true,
              "mode": "immediate",
              "transition": {
               "duration": 0,
               "easing": "linear"
              }
             }
            ],
            "label": "2022-09-12",
            "method": "animate"
           },
           {
            "args": [
             [
              "2022-09-13"
             ],
             {
              "frame": {
               "duration": 0,
               "redraw": true
              },
              "fromcurrent": true,
              "mode": "immediate",
              "transition": {
               "duration": 0,
               "easing": "linear"
              }
             }
            ],
            "label": "2022-09-13",
            "method": "animate"
           },
           {
            "args": [
             [
              "2022-09-14"
             ],
             {
              "frame": {
               "duration": 0,
               "redraw": true
              },
              "fromcurrent": true,
              "mode": "immediate",
              "transition": {
               "duration": 0,
               "easing": "linear"
              }
             }
            ],
            "label": "2022-09-14",
            "method": "animate"
           },
           {
            "args": [
             [
              "2022-09-15"
             ],
             {
              "frame": {
               "duration": 0,
               "redraw": true
              },
              "fromcurrent": true,
              "mode": "immediate",
              "transition": {
               "duration": 0,
               "easing": "linear"
              }
             }
            ],
            "label": "2022-09-15",
            "method": "animate"
           },
           {
            "args": [
             [
              "2022-09-16"
             ],
             {
              "frame": {
               "duration": 0,
               "redraw": true
              },
              "fromcurrent": true,
              "mode": "immediate",
              "transition": {
               "duration": 0,
               "easing": "linear"
              }
             }
            ],
            "label": "2022-09-16",
            "method": "animate"
           },
           {
            "args": [
             [
              "2022-09-17"
             ],
             {
              "frame": {
               "duration": 0,
               "redraw": true
              },
              "fromcurrent": true,
              "mode": "immediate",
              "transition": {
               "duration": 0,
               "easing": "linear"
              }
             }
            ],
            "label": "2022-09-17",
            "method": "animate"
           },
           {
            "args": [
             [
              "2022-09-18"
             ],
             {
              "frame": {
               "duration": 0,
               "redraw": true
              },
              "fromcurrent": true,
              "mode": "immediate",
              "transition": {
               "duration": 0,
               "easing": "linear"
              }
             }
            ],
            "label": "2022-09-18",
            "method": "animate"
           },
           {
            "args": [
             [
              "2022-09-19"
             ],
             {
              "frame": {
               "duration": 0,
               "redraw": true
              },
              "fromcurrent": true,
              "mode": "immediate",
              "transition": {
               "duration": 0,
               "easing": "linear"
              }
             }
            ],
            "label": "2022-09-19",
            "method": "animate"
           },
           {
            "args": [
             [
              "2022-09-20"
             ],
             {
              "frame": {
               "duration": 0,
               "redraw": true
              },
              "fromcurrent": true,
              "mode": "immediate",
              "transition": {
               "duration": 0,
               "easing": "linear"
              }
             }
            ],
            "label": "2022-09-20",
            "method": "animate"
           },
           {
            "args": [
             [
              "2022-09-21"
             ],
             {
              "frame": {
               "duration": 0,
               "redraw": true
              },
              "fromcurrent": true,
              "mode": "immediate",
              "transition": {
               "duration": 0,
               "easing": "linear"
              }
             }
            ],
            "label": "2022-09-21",
            "method": "animate"
           },
           {
            "args": [
             [
              "2022-09-22"
             ],
             {
              "frame": {
               "duration": 0,
               "redraw": true
              },
              "fromcurrent": true,
              "mode": "immediate",
              "transition": {
               "duration": 0,
               "easing": "linear"
              }
             }
            ],
            "label": "2022-09-22",
            "method": "animate"
           },
           {
            "args": [
             [
              "2022-09-23"
             ],
             {
              "frame": {
               "duration": 0,
               "redraw": true
              },
              "fromcurrent": true,
              "mode": "immediate",
              "transition": {
               "duration": 0,
               "easing": "linear"
              }
             }
            ],
            "label": "2022-09-23",
            "method": "animate"
           },
           {
            "args": [
             [
              "2022-09-24"
             ],
             {
              "frame": {
               "duration": 0,
               "redraw": true
              },
              "fromcurrent": true,
              "mode": "immediate",
              "transition": {
               "duration": 0,
               "easing": "linear"
              }
             }
            ],
            "label": "2022-09-24",
            "method": "animate"
           },
           {
            "args": [
             [
              "2022-09-25"
             ],
             {
              "frame": {
               "duration": 0,
               "redraw": true
              },
              "fromcurrent": true,
              "mode": "immediate",
              "transition": {
               "duration": 0,
               "easing": "linear"
              }
             }
            ],
            "label": "2022-09-25",
            "method": "animate"
           },
           {
            "args": [
             [
              "2022-09-26"
             ],
             {
              "frame": {
               "duration": 0,
               "redraw": true
              },
              "fromcurrent": true,
              "mode": "immediate",
              "transition": {
               "duration": 0,
               "easing": "linear"
              }
             }
            ],
            "label": "2022-09-26",
            "method": "animate"
           },
           {
            "args": [
             [
              "2022-09-27"
             ],
             {
              "frame": {
               "duration": 0,
               "redraw": true
              },
              "fromcurrent": true,
              "mode": "immediate",
              "transition": {
               "duration": 0,
               "easing": "linear"
              }
             }
            ],
            "label": "2022-09-27",
            "method": "animate"
           },
           {
            "args": [
             [
              "2022-09-28"
             ],
             {
              "frame": {
               "duration": 0,
               "redraw": true
              },
              "fromcurrent": true,
              "mode": "immediate",
              "transition": {
               "duration": 0,
               "easing": "linear"
              }
             }
            ],
            "label": "2022-09-28",
            "method": "animate"
           },
           {
            "args": [
             [
              "2022-09-29"
             ],
             {
              "frame": {
               "duration": 0,
               "redraw": true
              },
              "fromcurrent": true,
              "mode": "immediate",
              "transition": {
               "duration": 0,
               "easing": "linear"
              }
             }
            ],
            "label": "2022-09-29",
            "method": "animate"
           },
           {
            "args": [
             [
              "2022-09-30"
             ],
             {
              "frame": {
               "duration": 0,
               "redraw": true
              },
              "fromcurrent": true,
              "mode": "immediate",
              "transition": {
               "duration": 0,
               "easing": "linear"
              }
             }
            ],
            "label": "2022-09-30",
            "method": "animate"
           }
          ],
          "x": 0.1,
          "xanchor": "left",
          "y": 0,
          "yanchor": "top"
         }
        ],
        "template": {
         "data": {
          "bar": [
           {
            "error_x": {
             "color": "#2a3f5f"
            },
            "error_y": {
             "color": "#2a3f5f"
            },
            "marker": {
             "line": {
              "color": "#E5ECF6",
              "width": 0.5
             },
             "pattern": {
              "fillmode": "overlay",
              "size": 10,
              "solidity": 0.2
             }
            },
            "type": "bar"
           }
          ],
          "barpolar": [
           {
            "marker": {
             "line": {
              "color": "#E5ECF6",
              "width": 0.5
             },
             "pattern": {
              "fillmode": "overlay",
              "size": 10,
              "solidity": 0.2
             }
            },
            "type": "barpolar"
           }
          ],
          "carpet": [
           {
            "aaxis": {
             "endlinecolor": "#2a3f5f",
             "gridcolor": "white",
             "linecolor": "white",
             "minorgridcolor": "white",
             "startlinecolor": "#2a3f5f"
            },
            "baxis": {
             "endlinecolor": "#2a3f5f",
             "gridcolor": "white",
             "linecolor": "white",
             "minorgridcolor": "white",
             "startlinecolor": "#2a3f5f"
            },
            "type": "carpet"
           }
          ],
          "choropleth": [
           {
            "colorbar": {
             "outlinewidth": 0,
             "ticks": ""
            },
            "type": "choropleth"
           }
          ],
          "contour": [
           {
            "colorbar": {
             "outlinewidth": 0,
             "ticks": ""
            },
            "colorscale": [
             [
              0,
              "#0d0887"
             ],
             [
              0.1111111111111111,
              "#46039f"
             ],
             [
              0.2222222222222222,
              "#7201a8"
             ],
             [
              0.3333333333333333,
              "#9c179e"
             ],
             [
              0.4444444444444444,
              "#bd3786"
             ],
             [
              0.5555555555555556,
              "#d8576b"
             ],
             [
              0.6666666666666666,
              "#ed7953"
             ],
             [
              0.7777777777777778,
              "#fb9f3a"
             ],
             [
              0.8888888888888888,
              "#fdca26"
             ],
             [
              1,
              "#f0f921"
             ]
            ],
            "type": "contour"
           }
          ],
          "contourcarpet": [
           {
            "colorbar": {
             "outlinewidth": 0,
             "ticks": ""
            },
            "type": "contourcarpet"
           }
          ],
          "heatmap": [
           {
            "colorbar": {
             "outlinewidth": 0,
             "ticks": ""
            },
            "colorscale": [
             [
              0,
              "#0d0887"
             ],
             [
              0.1111111111111111,
              "#46039f"
             ],
             [
              0.2222222222222222,
              "#7201a8"
             ],
             [
              0.3333333333333333,
              "#9c179e"
             ],
             [
              0.4444444444444444,
              "#bd3786"
             ],
             [
              0.5555555555555556,
              "#d8576b"
             ],
             [
              0.6666666666666666,
              "#ed7953"
             ],
             [
              0.7777777777777778,
              "#fb9f3a"
             ],
             [
              0.8888888888888888,
              "#fdca26"
             ],
             [
              1,
              "#f0f921"
             ]
            ],
            "type": "heatmap"
           }
          ],
          "histogram": [
           {
            "marker": {
             "pattern": {
              "fillmode": "overlay",
              "size": 10,
              "solidity": 0.2
             }
            },
            "type": "histogram"
           }
          ],
          "histogram2d": [
           {
            "colorbar": {
             "outlinewidth": 0,
             "ticks": ""
            },
            "colorscale": [
             [
              0,
              "#0d0887"
             ],
             [
              0.1111111111111111,
              "#46039f"
             ],
             [
              0.2222222222222222,
              "#7201a8"
             ],
             [
              0.3333333333333333,
              "#9c179e"
             ],
             [
              0.4444444444444444,
              "#bd3786"
             ],
             [
              0.5555555555555556,
              "#d8576b"
             ],
             [
              0.6666666666666666,
              "#ed7953"
             ],
             [
              0.7777777777777778,
              "#fb9f3a"
             ],
             [
              0.8888888888888888,
              "#fdca26"
             ],
             [
              1,
              "#f0f921"
             ]
            ],
            "type": "histogram2d"
           }
          ],
          "histogram2dcontour": [
           {
            "colorbar": {
             "outlinewidth": 0,
             "ticks": ""
            },
            "colorscale": [
             [
              0,
              "#0d0887"
             ],
             [
              0.1111111111111111,
              "#46039f"
             ],
             [
              0.2222222222222222,
              "#7201a8"
             ],
             [
              0.3333333333333333,
              "#9c179e"
             ],
             [
              0.4444444444444444,
              "#bd3786"
             ],
             [
              0.5555555555555556,
              "#d8576b"
             ],
             [
              0.6666666666666666,
              "#ed7953"
             ],
             [
              0.7777777777777778,
              "#fb9f3a"
             ],
             [
              0.8888888888888888,
              "#fdca26"
             ],
             [
              1,
              "#f0f921"
             ]
            ],
            "type": "histogram2dcontour"
           }
          ],
          "mesh3d": [
           {
            "colorbar": {
             "outlinewidth": 0,
             "ticks": ""
            },
            "type": "mesh3d"
           }
          ],
          "parcoords": [
           {
            "line": {
             "colorbar": {
              "outlinewidth": 0,
              "ticks": ""
             }
            },
            "type": "parcoords"
           }
          ],
          "pie": [
           {
            "automargin": true,
            "type": "pie"
           }
          ],
          "scatter": [
           {
            "fillpattern": {
             "fillmode": "overlay",
             "size": 10,
             "solidity": 0.2
            },
            "type": "scatter"
           }
          ],
          "scatter3d": [
           {
            "line": {
             "colorbar": {
              "outlinewidth": 0,
              "ticks": ""
             }
            },
            "marker": {
             "colorbar": {
              "outlinewidth": 0,
              "ticks": ""
             }
            },
            "type": "scatter3d"
           }
          ],
          "scattercarpet": [
           {
            "marker": {
             "colorbar": {
              "outlinewidth": 0,
              "ticks": ""
             }
            },
            "type": "scattercarpet"
           }
          ],
          "scattergeo": [
           {
            "marker": {
             "colorbar": {
              "outlinewidth": 0,
              "ticks": ""
             }
            },
            "type": "scattergeo"
           }
          ],
          "scattergl": [
           {
            "marker": {
             "colorbar": {
              "outlinewidth": 0,
              "ticks": ""
             }
            },
            "type": "scattergl"
           }
          ],
          "scattermap": [
           {
            "marker": {
             "colorbar": {
              "outlinewidth": 0,
              "ticks": ""
             }
            },
            "type": "scattermap"
           }
          ],
          "scattermapbox": [
           {
            "marker": {
             "colorbar": {
              "outlinewidth": 0,
              "ticks": ""
             }
            },
            "type": "scattermapbox"
           }
          ],
          "scatterpolar": [
           {
            "marker": {
             "colorbar": {
              "outlinewidth": 0,
              "ticks": ""
             }
            },
            "type": "scatterpolar"
           }
          ],
          "scatterpolargl": [
           {
            "marker": {
             "colorbar": {
              "outlinewidth": 0,
              "ticks": ""
             }
            },
            "type": "scatterpolargl"
           }
          ],
          "scatterternary": [
           {
            "marker": {
             "colorbar": {
              "outlinewidth": 0,
              "ticks": ""
             }
            },
            "type": "scatterternary"
           }
          ],
          "surface": [
           {
            "colorbar": {
             "outlinewidth": 0,
             "ticks": ""
            },
            "colorscale": [
             [
              0,
              "#0d0887"
             ],
             [
              0.1111111111111111,
              "#46039f"
             ],
             [
              0.2222222222222222,
              "#7201a8"
             ],
             [
              0.3333333333333333,
              "#9c179e"
             ],
             [
              0.4444444444444444,
              "#bd3786"
             ],
             [
              0.5555555555555556,
              "#d8576b"
             ],
             [
              0.6666666666666666,
              "#ed7953"
             ],
             [
              0.7777777777777778,
              "#fb9f3a"
             ],
             [
              0.8888888888888888,
              "#fdca26"
             ],
             [
              1,
              "#f0f921"
             ]
            ],
            "type": "surface"
           }
          ],
          "table": [
           {
            "cells": {
             "fill": {
              "color": "#EBF0F8"
             },
             "line": {
              "color": "white"
             }
            },
            "header": {
             "fill": {
              "color": "#C8D4E3"
             },
             "line": {
              "color": "white"
             }
            },
            "type": "table"
           }
          ]
         },
         "layout": {
          "annotationdefaults": {
           "arrowcolor": "#2a3f5f",
           "arrowhead": 0,
           "arrowwidth": 1
          },
          "autotypenumbers": "strict",
          "coloraxis": {
           "colorbar": {
            "outlinewidth": 0,
            "ticks": ""
           }
          },
          "colorscale": {
           "diverging": [
            [
             0,
             "#8e0152"
            ],
            [
             0.1,
             "#c51b7d"
            ],
            [
             0.2,
             "#de77ae"
            ],
            [
             0.3,
             "#f1b6da"
            ],
            [
             0.4,
             "#fde0ef"
            ],
            [
             0.5,
             "#f7f7f7"
            ],
            [
             0.6,
             "#e6f5d0"
            ],
            [
             0.7,
             "#b8e186"
            ],
            [
             0.8,
             "#7fbc41"
            ],
            [
             0.9,
             "#4d9221"
            ],
            [
             1,
             "#276419"
            ]
           ],
           "sequential": [
            [
             0,
             "#0d0887"
            ],
            [
             0.1111111111111111,
             "#46039f"
            ],
            [
             0.2222222222222222,
             "#7201a8"
            ],
            [
             0.3333333333333333,
             "#9c179e"
            ],
            [
             0.4444444444444444,
             "#bd3786"
            ],
            [
             0.5555555555555556,
             "#d8576b"
            ],
            [
             0.6666666666666666,
             "#ed7953"
            ],
            [
             0.7777777777777778,
             "#fb9f3a"
            ],
            [
             0.8888888888888888,
             "#fdca26"
            ],
            [
             1,
             "#f0f921"
            ]
           ],
           "sequentialminus": [
            [
             0,
             "#0d0887"
            ],
            [
             0.1111111111111111,
             "#46039f"
            ],
            [
             0.2222222222222222,
             "#7201a8"
            ],
            [
             0.3333333333333333,
             "#9c179e"
            ],
            [
             0.4444444444444444,
             "#bd3786"
            ],
            [
             0.5555555555555556,
             "#d8576b"
            ],
            [
             0.6666666666666666,
             "#ed7953"
            ],
            [
             0.7777777777777778,
             "#fb9f3a"
            ],
            [
             0.8888888888888888,
             "#fdca26"
            ],
            [
             1,
             "#f0f921"
            ]
           ]
          },
          "colorway": [
           "#636efa",
           "#EF553B",
           "#00cc96",
           "#ab63fa",
           "#FFA15A",
           "#19d3f3",
           "#FF6692",
           "#B6E880",
           "#FF97FF",
           "#FECB52"
          ],
          "font": {
           "color": "#2a3f5f"
          },
          "geo": {
           "bgcolor": "white",
           "lakecolor": "white",
           "landcolor": "#E5ECF6",
           "showlakes": true,
           "showland": true,
           "subunitcolor": "white"
          },
          "hoverlabel": {
           "align": "left"
          },
          "hovermode": "closest",
          "mapbox": {
           "style": "light"
          },
          "paper_bgcolor": "white",
          "plot_bgcolor": "#E5ECF6",
          "polar": {
           "angularaxis": {
            "gridcolor": "white",
            "linecolor": "white",
            "ticks": ""
           },
           "bgcolor": "#E5ECF6",
           "radialaxis": {
            "gridcolor": "white",
            "linecolor": "white",
            "ticks": ""
           }
          },
          "scene": {
           "xaxis": {
            "backgroundcolor": "#E5ECF6",
            "gridcolor": "white",
            "gridwidth": 2,
            "linecolor": "white",
            "showbackground": true,
            "ticks": "",
            "zerolinecolor": "white"
           },
           "yaxis": {
            "backgroundcolor": "#E5ECF6",
            "gridcolor": "white",
            "gridwidth": 2,
            "linecolor": "white",
            "showbackground": true,
            "ticks": "",
            "zerolinecolor": "white"
           },
           "zaxis": {
            "backgroundcolor": "#E5ECF6",
            "gridcolor": "white",
            "gridwidth": 2,
            "linecolor": "white",
            "showbackground": true,
            "ticks": "",
            "zerolinecolor": "white"
           }
          },
          "shapedefaults": {
           "line": {
            "color": "#2a3f5f"
           }
          },
          "ternary": {
           "aaxis": {
            "gridcolor": "white",
            "linecolor": "white",
            "ticks": ""
           },
           "baxis": {
            "gridcolor": "white",
            "linecolor": "white",
            "ticks": ""
           },
           "bgcolor": "#E5ECF6",
           "caxis": {
            "gridcolor": "white",
            "linecolor": "white",
            "ticks": ""
           }
          },
          "title": {
           "x": 0.05
          },
          "xaxis": {
           "automargin": true,
           "gridcolor": "white",
           "linecolor": "white",
           "ticks": "",
           "title": {
            "standoff": 15
           },
           "zerolinecolor": "white",
           "zerolinewidth": 2
          },
          "yaxis": {
           "automargin": true,
           "gridcolor": "white",
           "linecolor": "white",
           "ticks": "",
           "title": {
            "standoff": 15
           },
           "zerolinecolor": "white",
           "zerolinewidth": 2
          }
         }
        },
        "title": {
         "text": "Animated Map: Revenue by Country Over Time"
        },
        "updatemenus": [
         {
          "buttons": [
           {
            "args": [
             null,
             {
              "frame": {
               "duration": 500,
               "redraw": true
              },
              "fromcurrent": true,
              "mode": "immediate",
              "transition": {
               "duration": 500,
               "easing": "linear"
              }
             }
            ],
            "label": "&#9654;",
            "method": "animate"
           },
           {
            "args": [
             [
              null
             ],
             {
              "frame": {
               "duration": 0,
               "redraw": true
              },
              "fromcurrent": true,
              "mode": "immediate",
              "transition": {
               "duration": 0,
               "easing": "linear"
              }
             }
            ],
            "label": "&#9724;",
            "method": "animate"
           }
          ],
          "direction": "left",
          "pad": {
           "r": 10,
           "t": 70
          },
          "showactive": false,
          "type": "buttons",
          "x": 0.1,
          "xanchor": "right",
          "y": 0,
          "yanchor": "top"
         }
        ]
       }
      }
     },
     "metadata": {},
     "output_type": "display_data"
    }
   ],
   "source": [
    "fig = px.choropleth(\n",
    "    kpi, locations=kpi['country_code'].map(iso_map),\n",
    "    color=\"revenue_usd\",\n",
    "    animation_frame=kpi['date'].astype(str),\n",
    "    color_continuous_scale=\"Plasma\",\n",
    "    title=\"Animated Map: Revenue by Country Over Time\",\n",
    "    labels={'revenue_usd': 'Revenue (USD)'}\n",
    ")\n",
    "fig.update_geos(projection_type=\"natural earth\")\n",
    "fig.show()\n"
   ]
  },
  {
   "cell_type": "code",
   "execution_count": 98,
   "id": "401ad288",
   "metadata": {},
   "outputs": [
    {
     "data": {
      "application/vnd.plotly.v1+json": {
       "config": {
        "plotlyServerURL": "https://plot.ly"
       },
       "data": [
        {
         "branchvalues": "total",
         "domain": {
          "x": [
           0,
           1
          ],
          "y": [
           0,
           1
          ]
         },
         "hovertemplate": "labels=%{label}<br>subscriptions=%{value}<br>parent=%{parent}<br>id=%{id}<extra></extra>",
         "ids": [
          "ar/android",
          "ar/ios",
          "br/android",
          "br/ios",
          "ca/android",
          "ca/ios",
          "cl/android",
          "cl/ios",
          "co/android",
          "co/ios",
          "de/android",
          "de/ios",
          "es/android",
          "es/ios",
          "gb/android",
          "gb/ios",
          "in/android",
          "in/ios",
          "it/android",
          "it/ios",
          "jp/android",
          "jp/ios",
          "mx/android",
          "mx/ios",
          "pl/android",
          "pl/ios",
          "sa/android",
          "sa/ios",
          "us/android",
          "us/ios",
          "ar",
          "br",
          "ca",
          "cl",
          "co",
          "de",
          "es",
          "gb",
          "in",
          "it",
          "jp",
          "mx",
          "pl",
          "sa",
          "us"
         ],
         "labels": [
          "android",
          "ios",
          "android",
          "ios",
          "android",
          "ios",
          "android",
          "ios",
          "android",
          "ios",
          "android",
          "ios",
          "android",
          "ios",
          "android",
          "ios",
          "android",
          "ios",
          "android",
          "ios",
          "android",
          "ios",
          "android",
          "ios",
          "android",
          "ios",
          "android",
          "ios",
          "android",
          "ios",
          "ar",
          "br",
          "ca",
          "cl",
          "co",
          "de",
          "es",
          "gb",
          "in",
          "it",
          "jp",
          "mx",
          "pl",
          "sa",
          "us"
         ],
         "name": "",
         "parents": [
          "ar",
          "ar",
          "br",
          "br",
          "ca",
          "ca",
          "cl",
          "cl",
          "co",
          "co",
          "de",
          "de",
          "es",
          "es",
          "gb",
          "gb",
          "in",
          "in",
          "it",
          "it",
          "jp",
          "jp",
          "mx",
          "mx",
          "pl",
          "pl",
          "sa",
          "sa",
          "us",
          "us",
          "",
          "",
          "",
          "",
          "",
          "",
          "",
          "",
          "",
          "",
          "",
          "",
          "",
          "",
          ""
         ],
         "type": "sunburst",
         "values": {
          "bdata": "AAAAAAAAMUAAAAAAAAA0QAAAAAAAADBAAAAAAAAAM0AAAAAAAAAxQAAAAAAAACpAAAAAAAAAP0AAAAAAAAA5QAAAAAAAACxAAAAAAAAAMkAAAAAAAAAwQAAAAAAAADFAAAAAAAAAPEAAAAAAAAAyQAAAAAAAADRAAAAAAAAAOUAAAAAAAAA0QAAAAAAAACxAAAAAAAAAOkAAAAAAAAA0QAAAAAAAADdAAAAAAAAAM0AAAAAAAAA3QAAAAAAAAChAAAAAAAAAO0AAAAAAAAA7QAAAAAAAADVAAAAAAAAANUAAAAAAAAA4QAAAAAAAADxAAAAAAACAQkAAAAAAAIBBQAAAAAAAAD5AAAAAAAAATEAAAAAAAABAQAAAAAAAgEBAAAAAAAAAR0AAAAAAAIBGQAAAAAAAAEFAAAAAAAAAR0AAAAAAAABFQAAAAAAAgEFAAAAAAAAAS0AAAAAAAABFQAAAAAAAAEpA",
          "dtype": "f8"
         }
        }
       ],
       "layout": {
        "legend": {
         "tracegroupgap": 0
        },
        "template": {
         "data": {
          "bar": [
           {
            "error_x": {
             "color": "#2a3f5f"
            },
            "error_y": {
             "color": "#2a3f5f"
            },
            "marker": {
             "line": {
              "color": "#E5ECF6",
              "width": 0.5
             },
             "pattern": {
              "fillmode": "overlay",
              "size": 10,
              "solidity": 0.2
             }
            },
            "type": "bar"
           }
          ],
          "barpolar": [
           {
            "marker": {
             "line": {
              "color": "#E5ECF6",
              "width": 0.5
             },
             "pattern": {
              "fillmode": "overlay",
              "size": 10,
              "solidity": 0.2
             }
            },
            "type": "barpolar"
           }
          ],
          "carpet": [
           {
            "aaxis": {
             "endlinecolor": "#2a3f5f",
             "gridcolor": "white",
             "linecolor": "white",
             "minorgridcolor": "white",
             "startlinecolor": "#2a3f5f"
            },
            "baxis": {
             "endlinecolor": "#2a3f5f",
             "gridcolor": "white",
             "linecolor": "white",
             "minorgridcolor": "white",
             "startlinecolor": "#2a3f5f"
            },
            "type": "carpet"
           }
          ],
          "choropleth": [
           {
            "colorbar": {
             "outlinewidth": 0,
             "ticks": ""
            },
            "type": "choropleth"
           }
          ],
          "contour": [
           {
            "colorbar": {
             "outlinewidth": 0,
             "ticks": ""
            },
            "colorscale": [
             [
              0,
              "#0d0887"
             ],
             [
              0.1111111111111111,
              "#46039f"
             ],
             [
              0.2222222222222222,
              "#7201a8"
             ],
             [
              0.3333333333333333,
              "#9c179e"
             ],
             [
              0.4444444444444444,
              "#bd3786"
             ],
             [
              0.5555555555555556,
              "#d8576b"
             ],
             [
              0.6666666666666666,
              "#ed7953"
             ],
             [
              0.7777777777777778,
              "#fb9f3a"
             ],
             [
              0.8888888888888888,
              "#fdca26"
             ],
             [
              1,
              "#f0f921"
             ]
            ],
            "type": "contour"
           }
          ],
          "contourcarpet": [
           {
            "colorbar": {
             "outlinewidth": 0,
             "ticks": ""
            },
            "type": "contourcarpet"
           }
          ],
          "heatmap": [
           {
            "colorbar": {
             "outlinewidth": 0,
             "ticks": ""
            },
            "colorscale": [
             [
              0,
              "#0d0887"
             ],
             [
              0.1111111111111111,
              "#46039f"
             ],
             [
              0.2222222222222222,
              "#7201a8"
             ],
             [
              0.3333333333333333,
              "#9c179e"
             ],
             [
              0.4444444444444444,
              "#bd3786"
             ],
             [
              0.5555555555555556,
              "#d8576b"
             ],
             [
              0.6666666666666666,
              "#ed7953"
             ],
             [
              0.7777777777777778,
              "#fb9f3a"
             ],
             [
              0.8888888888888888,
              "#fdca26"
             ],
             [
              1,
              "#f0f921"
             ]
            ],
            "type": "heatmap"
           }
          ],
          "histogram": [
           {
            "marker": {
             "pattern": {
              "fillmode": "overlay",
              "size": 10,
              "solidity": 0.2
             }
            },
            "type": "histogram"
           }
          ],
          "histogram2d": [
           {
            "colorbar": {
             "outlinewidth": 0,
             "ticks": ""
            },
            "colorscale": [
             [
              0,
              "#0d0887"
             ],
             [
              0.1111111111111111,
              "#46039f"
             ],
             [
              0.2222222222222222,
              "#7201a8"
             ],
             [
              0.3333333333333333,
              "#9c179e"
             ],
             [
              0.4444444444444444,
              "#bd3786"
             ],
             [
              0.5555555555555556,
              "#d8576b"
             ],
             [
              0.6666666666666666,
              "#ed7953"
             ],
             [
              0.7777777777777778,
              "#fb9f3a"
             ],
             [
              0.8888888888888888,
              "#fdca26"
             ],
             [
              1,
              "#f0f921"
             ]
            ],
            "type": "histogram2d"
           }
          ],
          "histogram2dcontour": [
           {
            "colorbar": {
             "outlinewidth": 0,
             "ticks": ""
            },
            "colorscale": [
             [
              0,
              "#0d0887"
             ],
             [
              0.1111111111111111,
              "#46039f"
             ],
             [
              0.2222222222222222,
              "#7201a8"
             ],
             [
              0.3333333333333333,
              "#9c179e"
             ],
             [
              0.4444444444444444,
              "#bd3786"
             ],
             [
              0.5555555555555556,
              "#d8576b"
             ],
             [
              0.6666666666666666,
              "#ed7953"
             ],
             [
              0.7777777777777778,
              "#fb9f3a"
             ],
             [
              0.8888888888888888,
              "#fdca26"
             ],
             [
              1,
              "#f0f921"
             ]
            ],
            "type": "histogram2dcontour"
           }
          ],
          "mesh3d": [
           {
            "colorbar": {
             "outlinewidth": 0,
             "ticks": ""
            },
            "type": "mesh3d"
           }
          ],
          "parcoords": [
           {
            "line": {
             "colorbar": {
              "outlinewidth": 0,
              "ticks": ""
             }
            },
            "type": "parcoords"
           }
          ],
          "pie": [
           {
            "automargin": true,
            "type": "pie"
           }
          ],
          "scatter": [
           {
            "fillpattern": {
             "fillmode": "overlay",
             "size": 10,
             "solidity": 0.2
            },
            "type": "scatter"
           }
          ],
          "scatter3d": [
           {
            "line": {
             "colorbar": {
              "outlinewidth": 0,
              "ticks": ""
             }
            },
            "marker": {
             "colorbar": {
              "outlinewidth": 0,
              "ticks": ""
             }
            },
            "type": "scatter3d"
           }
          ],
          "scattercarpet": [
           {
            "marker": {
             "colorbar": {
              "outlinewidth": 0,
              "ticks": ""
             }
            },
            "type": "scattercarpet"
           }
          ],
          "scattergeo": [
           {
            "marker": {
             "colorbar": {
              "outlinewidth": 0,
              "ticks": ""
             }
            },
            "type": "scattergeo"
           }
          ],
          "scattergl": [
           {
            "marker": {
             "colorbar": {
              "outlinewidth": 0,
              "ticks": ""
             }
            },
            "type": "scattergl"
           }
          ],
          "scattermap": [
           {
            "marker": {
             "colorbar": {
              "outlinewidth": 0,
              "ticks": ""
             }
            },
            "type": "scattermap"
           }
          ],
          "scattermapbox": [
           {
            "marker": {
             "colorbar": {
              "outlinewidth": 0,
              "ticks": ""
             }
            },
            "type": "scattermapbox"
           }
          ],
          "scatterpolar": [
           {
            "marker": {
             "colorbar": {
              "outlinewidth": 0,
              "ticks": ""
             }
            },
            "type": "scatterpolar"
           }
          ],
          "scatterpolargl": [
           {
            "marker": {
             "colorbar": {
              "outlinewidth": 0,
              "ticks": ""
             }
            },
            "type": "scatterpolargl"
           }
          ],
          "scatterternary": [
           {
            "marker": {
             "colorbar": {
              "outlinewidth": 0,
              "ticks": ""
             }
            },
            "type": "scatterternary"
           }
          ],
          "surface": [
           {
            "colorbar": {
             "outlinewidth": 0,
             "ticks": ""
            },
            "colorscale": [
             [
              0,
              "#0d0887"
             ],
             [
              0.1111111111111111,
              "#46039f"
             ],
             [
              0.2222222222222222,
              "#7201a8"
             ],
             [
              0.3333333333333333,
              "#9c179e"
             ],
             [
              0.4444444444444444,
              "#bd3786"
             ],
             [
              0.5555555555555556,
              "#d8576b"
             ],
             [
              0.6666666666666666,
              "#ed7953"
             ],
             [
              0.7777777777777778,
              "#fb9f3a"
             ],
             [
              0.8888888888888888,
              "#fdca26"
             ],
             [
              1,
              "#f0f921"
             ]
            ],
            "type": "surface"
           }
          ],
          "table": [
           {
            "cells": {
             "fill": {
              "color": "#EBF0F8"
             },
             "line": {
              "color": "white"
             }
            },
            "header": {
             "fill": {
              "color": "#C8D4E3"
             },
             "line": {
              "color": "white"
             }
            },
            "type": "table"
           }
          ]
         },
         "layout": {
          "annotationdefaults": {
           "arrowcolor": "#2a3f5f",
           "arrowhead": 0,
           "arrowwidth": 1
          },
          "autotypenumbers": "strict",
          "coloraxis": {
           "colorbar": {
            "outlinewidth": 0,
            "ticks": ""
           }
          },
          "colorscale": {
           "diverging": [
            [
             0,
             "#8e0152"
            ],
            [
             0.1,
             "#c51b7d"
            ],
            [
             0.2,
             "#de77ae"
            ],
            [
             0.3,
             "#f1b6da"
            ],
            [
             0.4,
             "#fde0ef"
            ],
            [
             0.5,
             "#f7f7f7"
            ],
            [
             0.6,
             "#e6f5d0"
            ],
            [
             0.7,
             "#b8e186"
            ],
            [
             0.8,
             "#7fbc41"
            ],
            [
             0.9,
             "#4d9221"
            ],
            [
             1,
             "#276419"
            ]
           ],
           "sequential": [
            [
             0,
             "#0d0887"
            ],
            [
             0.1111111111111111,
             "#46039f"
            ],
            [
             0.2222222222222222,
             "#7201a8"
            ],
            [
             0.3333333333333333,
             "#9c179e"
            ],
            [
             0.4444444444444444,
             "#bd3786"
            ],
            [
             0.5555555555555556,
             "#d8576b"
            ],
            [
             0.6666666666666666,
             "#ed7953"
            ],
            [
             0.7777777777777778,
             "#fb9f3a"
            ],
            [
             0.8888888888888888,
             "#fdca26"
            ],
            [
             1,
             "#f0f921"
            ]
           ],
           "sequentialminus": [
            [
             0,
             "#0d0887"
            ],
            [
             0.1111111111111111,
             "#46039f"
            ],
            [
             0.2222222222222222,
             "#7201a8"
            ],
            [
             0.3333333333333333,
             "#9c179e"
            ],
            [
             0.4444444444444444,
             "#bd3786"
            ],
            [
             0.5555555555555556,
             "#d8576b"
            ],
            [
             0.6666666666666666,
             "#ed7953"
            ],
            [
             0.7777777777777778,
             "#fb9f3a"
            ],
            [
             0.8888888888888888,
             "#fdca26"
            ],
            [
             1,
             "#f0f921"
            ]
           ]
          },
          "colorway": [
           "#636efa",
           "#EF553B",
           "#00cc96",
           "#ab63fa",
           "#FFA15A",
           "#19d3f3",
           "#FF6692",
           "#B6E880",
           "#FF97FF",
           "#FECB52"
          ],
          "font": {
           "color": "#2a3f5f"
          },
          "geo": {
           "bgcolor": "white",
           "lakecolor": "white",
           "landcolor": "#E5ECF6",
           "showlakes": true,
           "showland": true,
           "subunitcolor": "white"
          },
          "hoverlabel": {
           "align": "left"
          },
          "hovermode": "closest",
          "mapbox": {
           "style": "light"
          },
          "paper_bgcolor": "white",
          "plot_bgcolor": "#E5ECF6",
          "polar": {
           "angularaxis": {
            "gridcolor": "white",
            "linecolor": "white",
            "ticks": ""
           },
           "bgcolor": "#E5ECF6",
           "radialaxis": {
            "gridcolor": "white",
            "linecolor": "white",
            "ticks": ""
           }
          },
          "scene": {
           "xaxis": {
            "backgroundcolor": "#E5ECF6",
            "gridcolor": "white",
            "gridwidth": 2,
            "linecolor": "white",
            "showbackground": true,
            "ticks": "",
            "zerolinecolor": "white"
           },
           "yaxis": {
            "backgroundcolor": "#E5ECF6",
            "gridcolor": "white",
            "gridwidth": 2,
            "linecolor": "white",
            "showbackground": true,
            "ticks": "",
            "zerolinecolor": "white"
           },
           "zaxis": {
            "backgroundcolor": "#E5ECF6",
            "gridcolor": "white",
            "gridwidth": 2,
            "linecolor": "white",
            "showbackground": true,
            "ticks": "",
            "zerolinecolor": "white"
           }
          },
          "shapedefaults": {
           "line": {
            "color": "#2a3f5f"
           }
          },
          "ternary": {
           "aaxis": {
            "gridcolor": "white",
            "linecolor": "white",
            "ticks": ""
           },
           "baxis": {
            "gridcolor": "white",
            "linecolor": "white",
            "ticks": ""
           },
           "bgcolor": "#E5ECF6",
           "caxis": {
            "gridcolor": "white",
            "linecolor": "white",
            "ticks": ""
           }
          },
          "title": {
           "x": 0.05
          },
          "xaxis": {
           "automargin": true,
           "gridcolor": "white",
           "linecolor": "white",
           "ticks": "",
           "title": {
            "standoff": 15
           },
           "zerolinecolor": "white",
           "zerolinewidth": 2
          },
          "yaxis": {
           "automargin": true,
           "gridcolor": "white",
           "linecolor": "white",
           "ticks": "",
           "title": {
            "standoff": 15
           },
           "zerolinecolor": "white",
           "zerolinewidth": 2
          }
         }
        },
        "title": {
         "text": "Subscriptions Breakdown: Country → Platform"
        }
       }
      }
     },
     "metadata": {},
     "output_type": "display_data"
    }
   ],
   "source": [
    "sunburst_data = kpi.groupby(['country_code', 'platform'])[['subscriptions']].sum().reset_index()\n",
    "\n",
    "fig = px.sunburst(\n",
    "    sunburst_data,\n",
    "    path=['country_code', 'platform'],\n",
    "    values='subscriptions',\n",
    "    title=\"Subscriptions Breakdown: Country → Platform\"\n",
    ")\n",
    "fig.show()\n"
   ]
  },
  {
   "cell_type": "code",
   "execution_count": 99,
   "id": "e53b0155",
   "metadata": {},
   "outputs": [
    {
     "data": {
      "application/vnd.plotly.v1+json": {
       "config": {
        "plotlyServerURL": "https://plot.ly"
       },
       "data": [
        {
         "dimensions": [
          {
           "axis": {
            "matches": true
           },
           "label": "cpi",
           "values": {
            "bdata": "S5PF3pCE8T8=",
            "dtype": "f8"
           }
          },
          {
           "axis": {
            "matches": true
           },
           "label": "arpu",
           "values": {
            "bdata": "vl99C2gVyD8=",
            "dtype": "f8"
           }
          },
          {
           "axis": {
            "matches": true
           },
           "label": "conversion_rate",
           "values": {
            "bdata": "vnps/0Oo8D8=",
            "dtype": "f8"
           }
          },
          {
           "axis": {
            "matches": true
           },
           "label": "revenue_usd",
           "values": {
            "bdata": "syj45pLlhEA=",
            "dtype": "f8"
           }
          }
         ],
         "hovertemplate": "country_code=ar<br>%{xaxis.title.text}=%{x}<br>%{yaxis.title.text}=%{y}<extra></extra>",
         "legendgroup": "ar",
         "marker": {
          "color": "#636efa",
          "symbol": "circle"
         },
         "name": "ar",
         "showlegend": true,
         "type": "splom"
        },
        {
         "dimensions": [
          {
           "axis": {
            "matches": true
           },
           "label": "cpi",
           "values": {
            "bdata": "BSbgvYqu8D8=",
            "dtype": "f8"
           }
          },
          {
           "axis": {
            "matches": true
           },
           "label": "arpu",
           "values": {
            "bdata": "kXHSpT5A1D8=",
            "dtype": "f8"
           }
          },
          {
           "axis": {
            "matches": true
           },
           "label": "conversion_rate",
           "values": {
            "bdata": "bYYc0UnB7z8=",
            "dtype": "f8"
           }
          },
          {
           "axis": {
            "matches": true
           },
           "label": "revenue_usd",
           "values": {
            "bdata": "qmXp8RFwkUA=",
            "dtype": "f8"
           }
          }
         ],
         "hovertemplate": "country_code=br<br>%{xaxis.title.text}=%{x}<br>%{yaxis.title.text}=%{y}<extra></extra>",
         "legendgroup": "br",
         "marker": {
          "color": "#EF553B",
          "symbol": "circle"
         },
         "name": "br",
         "showlegend": true,
         "type": "splom"
        },
        {
         "dimensions": [
          {
           "axis": {
            "matches": true
           },
           "label": "cpi",
           "values": {
            "bdata": "jd9pdZt48D8=",
            "dtype": "f8"
           }
          },
          {
           "axis": {
            "matches": true
           },
           "label": "arpu",
           "values": {
            "bdata": "ZwA+oiQ6uj8=",
            "dtype": "f8"
           }
          },
          {
           "axis": {
            "matches": true
           },
           "label": "conversion_rate",
           "values": {
            "bdata": "IEtDTSm06j8=",
            "dtype": "f8"
           }
          },
          {
           "axis": {
            "matches": true
           },
           "label": "revenue_usd",
           "values": {
            "bdata": "+solB+gEd0A=",
            "dtype": "f8"
           }
          }
         ],
         "hovertemplate": "country_code=ca<br>%{xaxis.title.text}=%{x}<br>%{yaxis.title.text}=%{y}<extra></extra>",
         "legendgroup": "ca",
         "marker": {
          "color": "#00cc96",
          "symbol": "circle"
         },
         "name": "ca",
         "showlegend": true,
         "type": "splom"
        },
        {
         "dimensions": [
          {
           "axis": {
            "matches": true
           },
           "label": "cpi",
           "values": {
            "bdata": "ISognrSs8D8=",
            "dtype": "f8"
           }
          },
          {
           "axis": {
            "matches": true
           },
           "label": "arpu",
           "values": {
            "bdata": "Klwuq2v+wj8=",
            "dtype": "f8"
           }
          },
          {
           "axis": {
            "matches": true
           },
           "label": "conversion_rate",
           "values": {
            "bdata": "kjeA+jVT+T8=",
            "dtype": "f8"
           }
          },
          {
           "axis": {
            "matches": true
           },
           "label": "revenue_usd",
           "values": {
            "bdata": "XGs8wAJogEA=",
            "dtype": "f8"
           }
          }
         ],
         "hovertemplate": "country_code=cl<br>%{xaxis.title.text}=%{x}<br>%{yaxis.title.text}=%{y}<extra></extra>",
         "legendgroup": "cl",
         "marker": {
          "color": "#ab63fa",
          "symbol": "circle"
         },
         "name": "cl",
         "showlegend": true,
         "type": "splom"
        },
        {
         "dimensions": [
          {
           "axis": {
            "matches": true
           },
           "label": "cpi",
           "values": {
            "bdata": "H8lzyRnf8D8=",
            "dtype": "f8"
           }
          },
          {
           "axis": {
            "matches": true
           },
           "label": "arpu",
           "values": {
            "bdata": "PXglOmWQzj8=",
            "dtype": "f8"
           }
          },
          {
           "axis": {
            "matches": true
           },
           "label": "conversion_rate",
           "values": {
            "bdata": "nqHWvFOU7D8=",
            "dtype": "f8"
           }
          },
          {
           "axis": {
            "matches": true
           },
           "label": "revenue_usd",
           "values": {
            "bdata": "3iaNjG+8ikA=",
            "dtype": "f8"
           }
          }
         ],
         "hovertemplate": "country_code=co<br>%{xaxis.title.text}=%{x}<br>%{yaxis.title.text}=%{y}<extra></extra>",
         "legendgroup": "co",
         "marker": {
          "color": "#FFA15A",
          "symbol": "circle"
         },
         "name": "co",
         "showlegend": true,
         "type": "splom"
        },
        {
         "dimensions": [
          {
           "axis": {
            "matches": true
           },
           "label": "cpi",
           "values": {
            "bdata": "0mFhgaxA+z8=",
            "dtype": "f8"
           }
          },
          {
           "axis": {
            "matches": true
           },
           "label": "arpu",
           "values": {
            "bdata": "cyhTegllpj8=",
            "dtype": "f8"
           }
          },
          {
           "axis": {
            "matches": true
           },
           "label": "conversion_rate",
           "values": {
            "bdata": "rHD02Rcu7j8=",
            "dtype": "f8"
           }
          },
          {
           "axis": {
            "matches": true
           },
           "label": "revenue_usd",
           "values": {
            "bdata": "numuiG8hY0A=",
            "dtype": "f8"
           }
          }
         ],
         "hovertemplate": "country_code=de<br>%{xaxis.title.text}=%{x}<br>%{yaxis.title.text}=%{y}<extra></extra>",
         "legendgroup": "de",
         "marker": {
          "color": "#19d3f3",
          "symbol": "circle"
         },
         "name": "de",
         "showlegend": true,
         "type": "splom"
        },
        {
         "dimensions": [
          {
           "axis": {
            "matches": true
           },
           "label": "cpi",
           "values": {
            "bdata": "1ESPwc+I8T8=",
            "dtype": "f8"
           }
          },
          {
           "axis": {
            "matches": true
           },
           "label": "arpu",
           "values": {
            "bdata": "SwmAmz0g2D8=",
            "dtype": "f8"
           }
          },
          {
           "axis": {
            "matches": true
           },
           "label": "conversion_rate",
           "values": {
            "bdata": "Do1pyflD9T8=",
            "dtype": "f8"
           }
          },
          {
           "axis": {
            "matches": true
           },
           "label": "revenue_usd",
           "values": {
            "bdata": "2p90Dr5ilEA=",
            "dtype": "f8"
           }
          }
         ],
         "hovertemplate": "country_code=es<br>%{xaxis.title.text}=%{x}<br>%{yaxis.title.text}=%{y}<extra></extra>",
         "legendgroup": "es",
         "marker": {
          "color": "#FF6692",
          "symbol": "circle"
         },
         "name": "es",
         "showlegend": true,
         "type": "splom"
        },
        {
         "dimensions": [
          {
           "axis": {
            "matches": true
           },
           "label": "cpi",
           "values": {
            "bdata": "nRoHkdnU7D8=",
            "dtype": "f8"
           }
          },
          {
           "axis": {
            "matches": true
           },
           "label": "arpu",
           "values": {
            "bdata": "Hd06BEi40j8=",
            "dtype": "f8"
           }
          },
          {
           "axis": {
            "matches": true
           },
           "label": "conversion_rate",
           "values": {
            "bdata": "bEbJYsrT9D8=",
            "dtype": "f8"
           }
          },
          {
           "axis": {
            "matches": true
           },
           "label": "revenue_usd",
           "values": {
            "bdata": "fdwjkFCZj0A=",
            "dtype": "f8"
           }
          }
         ],
         "hovertemplate": "country_code=gb<br>%{xaxis.title.text}=%{x}<br>%{yaxis.title.text}=%{y}<extra></extra>",
         "legendgroup": "gb",
         "marker": {
          "color": "#B6E880",
          "symbol": "circle"
         },
         "name": "gb",
         "showlegend": true,
         "type": "splom"
        },
        {
         "dimensions": [
          {
           "axis": {
            "matches": true
           },
           "label": "cpi",
           "values": {
            "bdata": "Erb8h8678D8=",
            "dtype": "f8"
           }
          },
          {
           "axis": {
            "matches": true
           },
           "label": "arpu",
           "values": {
            "bdata": "6yCnSUzmzD8=",
            "dtype": "f8"
           }
          },
          {
           "axis": {
            "matches": true
           },
           "label": "conversion_rate",
           "values": {
            "bdata": "hp1fCKNq7j8=",
            "dtype": "f8"
           }
          },
          {
           "axis": {
            "matches": true
           },
           "label": "revenue_usd",
           "values": {
            "bdata": "rwMS/908iUA=",
            "dtype": "f8"
           }
          }
         ],
         "hovertemplate": "country_code=in<br>%{xaxis.title.text}=%{x}<br>%{yaxis.title.text}=%{y}<extra></extra>",
         "legendgroup": "in",
         "marker": {
          "color": "#FF97FF",
          "symbol": "circle"
         },
         "name": "in",
         "showlegend": true,
         "type": "splom"
        },
        {
         "dimensions": [
          {
           "axis": {
            "matches": true
           },
           "label": "cpi",
           "values": {
            "bdata": "OgRwkVvY8T8=",
            "dtype": "f8"
           }
          },
          {
           "axis": {
            "matches": true
           },
           "label": "arpu",
           "values": {
            "bdata": "7Um2en0Txj8=",
            "dtype": "f8"
           }
          },
          {
           "axis": {
            "matches": true
           },
           "label": "conversion_rate",
           "values": {
            "bdata": "Iqc/N7QC9T8=",
            "dtype": "f8"
           }
          },
          {
           "axis": {
            "matches": true
           },
           "label": "revenue_usd",
           "values": {
            "bdata": "2UUiIEvhgkA=",
            "dtype": "f8"
           }
          }
         ],
         "hovertemplate": "country_code=it<br>%{xaxis.title.text}=%{x}<br>%{yaxis.title.text}=%{y}<extra></extra>",
         "legendgroup": "it",
         "marker": {
          "color": "#FECB52",
          "symbol": "circle"
         },
         "name": "it",
         "showlegend": true,
         "type": "splom"
        },
        {
         "dimensions": [
          {
           "axis": {
            "matches": true
           },
           "label": "cpi",
           "values": {
            "bdata": "IUbWcqc18T8=",
            "dtype": "f8"
           }
          },
          {
           "axis": {
            "matches": true
           },
           "label": "arpu",
           "values": {
            "bdata": "SEVB/+0v0T8=",
            "dtype": "f8"
           }
          },
          {
           "axis": {
            "matches": true
           },
           "label": "conversion_rate",
           "values": {
            "bdata": "rCiNj0yg8z8=",
            "dtype": "f8"
           }
          },
          {
           "axis": {
            "matches": true
           },
           "label": "revenue_usd",
           "values": {
            "bdata": "1B/B5iG8jEA=",
            "dtype": "f8"
           }
          }
         ],
         "hovertemplate": "country_code=jp<br>%{xaxis.title.text}=%{x}<br>%{yaxis.title.text}=%{y}<extra></extra>",
         "legendgroup": "jp",
         "marker": {
          "color": "#636efa",
          "symbol": "circle"
         },
         "name": "jp",
         "showlegend": true,
         "type": "splom"
        },
        {
         "dimensions": [
          {
           "axis": {
            "matches": true
           },
           "label": "cpi",
           "values": {
            "bdata": "4RMtoZgh/j8=",
            "dtype": "f8"
           }
          },
          {
           "axis": {
            "matches": true
           },
           "label": "arpu",
           "values": {
            "bdata": "dmYGJdk41T8=",
            "dtype": "f8"
           }
          },
          {
           "axis": {
            "matches": true
           },
           "label": "conversion_rate",
           "values": {
            "bdata": "mTA1ucy98D8=",
            "dtype": "f8"
           }
          },
          {
           "axis": {
            "matches": true
           },
           "label": "revenue_usd",
           "values": {
            "bdata": "DYrM1LxUkUA=",
            "dtype": "f8"
           }
          }
         ],
         "hovertemplate": "country_code=mx<br>%{xaxis.title.text}=%{x}<br>%{yaxis.title.text}=%{y}<extra></extra>",
         "legendgroup": "mx",
         "marker": {
          "color": "#EF553B",
          "symbol": "circle"
         },
         "name": "mx",
         "showlegend": true,
         "type": "splom"
        },
        {
         "dimensions": [
          {
           "axis": {
            "matches": true
           },
           "label": "cpi",
           "values": {
            "bdata": "JisdKkhF6z8=",
            "dtype": "f8"
           }
          },
          {
           "axis": {
            "matches": true
           },
           "label": "arpu",
           "values": {
            "bdata": "iEmcNCUF4D8=",
            "dtype": "f8"
           }
          },
          {
           "axis": {
            "matches": true
           },
           "label": "conversion_rate",
           "values": {
            "bdata": "iFdo4IN0+D8=",
            "dtype": "f8"
           }
          },
          {
           "axis": {
            "matches": true
           },
           "label": "revenue_usd",
           "values": {
            "bdata": "WhziTuCim0A=",
            "dtype": "f8"
           }
          }
         ],
         "hovertemplate": "country_code=pl<br>%{xaxis.title.text}=%{x}<br>%{yaxis.title.text}=%{y}<extra></extra>",
         "legendgroup": "pl",
         "marker": {
          "color": "#00cc96",
          "symbol": "circle"
         },
         "name": "pl",
         "showlegend": true,
         "type": "splom"
        },
        {
         "dimensions": [
          {
           "axis": {
            "matches": true
           },
           "label": "cpi",
           "values": {
            "bdata": "mGYM3CYg8T8=",
            "dtype": "f8"
           }
          },
          {
           "axis": {
            "matches": true
           },
           "label": "arpu",
           "values": {
            "bdata": "5ZR4VHMe0T8=",
            "dtype": "f8"
           }
          },
          {
           "axis": {
            "matches": true
           },
           "label": "conversion_rate",
           "values": {
            "bdata": "OIJI6wVs8z8=",
            "dtype": "f8"
           }
          },
          {
           "axis": {
            "matches": true
           },
           "label": "revenue_usd",
           "values": {
            "bdata": "jbc12PHrjEA=",
            "dtype": "f8"
           }
          }
         ],
         "hovertemplate": "country_code=sa<br>%{xaxis.title.text}=%{x}<br>%{yaxis.title.text}=%{y}<extra></extra>",
         "legendgroup": "sa",
         "marker": {
          "color": "#ab63fa",
          "symbol": "circle"
         },
         "name": "sa",
         "showlegend": true,
         "type": "splom"
        },
        {
         "dimensions": [
          {
           "axis": {
            "matches": true
           },
           "label": "cpi",
           "values": {
            "bdata": "Ln1OmSwh/D8=",
            "dtype": "f8"
           }
          },
          {
           "axis": {
            "matches": true
           },
           "label": "arpu",
           "values": {
            "bdata": "ye0Hx2A5tz8=",
            "dtype": "f8"
           }
          },
          {
           "axis": {
            "matches": true
           },
           "label": "conversion_rate",
           "values": {
            "bdata": "YXLhwD1d9z8=",
            "dtype": "f8"
           }
          },
          {
           "axis": {
            "matches": true
           },
           "label": "revenue_usd",
           "values": {
            "bdata": "qtQIM9IwdEA=",
            "dtype": "f8"
           }
          }
         ],
         "hovertemplate": "country_code=us<br>%{xaxis.title.text}=%{x}<br>%{yaxis.title.text}=%{y}<extra></extra>",
         "legendgroup": "us",
         "marker": {
          "color": "#FFA15A",
          "symbol": "circle"
         },
         "name": "us",
         "showlegend": true,
         "type": "splom"
        }
       ],
       "layout": {
        "dragmode": "select",
        "legend": {
         "title": {
          "text": "country_code"
         },
         "tracegroupgap": 0
        },
        "template": {
         "data": {
          "bar": [
           {
            "error_x": {
             "color": "#2a3f5f"
            },
            "error_y": {
             "color": "#2a3f5f"
            },
            "marker": {
             "line": {
              "color": "#E5ECF6",
              "width": 0.5
             },
             "pattern": {
              "fillmode": "overlay",
              "size": 10,
              "solidity": 0.2
             }
            },
            "type": "bar"
           }
          ],
          "barpolar": [
           {
            "marker": {
             "line": {
              "color": "#E5ECF6",
              "width": 0.5
             },
             "pattern": {
              "fillmode": "overlay",
              "size": 10,
              "solidity": 0.2
             }
            },
            "type": "barpolar"
           }
          ],
          "carpet": [
           {
            "aaxis": {
             "endlinecolor": "#2a3f5f",
             "gridcolor": "white",
             "linecolor": "white",
             "minorgridcolor": "white",
             "startlinecolor": "#2a3f5f"
            },
            "baxis": {
             "endlinecolor": "#2a3f5f",
             "gridcolor": "white",
             "linecolor": "white",
             "minorgridcolor": "white",
             "startlinecolor": "#2a3f5f"
            },
            "type": "carpet"
           }
          ],
          "choropleth": [
           {
            "colorbar": {
             "outlinewidth": 0,
             "ticks": ""
            },
            "type": "choropleth"
           }
          ],
          "contour": [
           {
            "colorbar": {
             "outlinewidth": 0,
             "ticks": ""
            },
            "colorscale": [
             [
              0,
              "#0d0887"
             ],
             [
              0.1111111111111111,
              "#46039f"
             ],
             [
              0.2222222222222222,
              "#7201a8"
             ],
             [
              0.3333333333333333,
              "#9c179e"
             ],
             [
              0.4444444444444444,
              "#bd3786"
             ],
             [
              0.5555555555555556,
              "#d8576b"
             ],
             [
              0.6666666666666666,
              "#ed7953"
             ],
             [
              0.7777777777777778,
              "#fb9f3a"
             ],
             [
              0.8888888888888888,
              "#fdca26"
             ],
             [
              1,
              "#f0f921"
             ]
            ],
            "type": "contour"
           }
          ],
          "contourcarpet": [
           {
            "colorbar": {
             "outlinewidth": 0,
             "ticks": ""
            },
            "type": "contourcarpet"
           }
          ],
          "heatmap": [
           {
            "colorbar": {
             "outlinewidth": 0,
             "ticks": ""
            },
            "colorscale": [
             [
              0,
              "#0d0887"
             ],
             [
              0.1111111111111111,
              "#46039f"
             ],
             [
              0.2222222222222222,
              "#7201a8"
             ],
             [
              0.3333333333333333,
              "#9c179e"
             ],
             [
              0.4444444444444444,
              "#bd3786"
             ],
             [
              0.5555555555555556,
              "#d8576b"
             ],
             [
              0.6666666666666666,
              "#ed7953"
             ],
             [
              0.7777777777777778,
              "#fb9f3a"
             ],
             [
              0.8888888888888888,
              "#fdca26"
             ],
             [
              1,
              "#f0f921"
             ]
            ],
            "type": "heatmap"
           }
          ],
          "histogram": [
           {
            "marker": {
             "pattern": {
              "fillmode": "overlay",
              "size": 10,
              "solidity": 0.2
             }
            },
            "type": "histogram"
           }
          ],
          "histogram2d": [
           {
            "colorbar": {
             "outlinewidth": 0,
             "ticks": ""
            },
            "colorscale": [
             [
              0,
              "#0d0887"
             ],
             [
              0.1111111111111111,
              "#46039f"
             ],
             [
              0.2222222222222222,
              "#7201a8"
             ],
             [
              0.3333333333333333,
              "#9c179e"
             ],
             [
              0.4444444444444444,
              "#bd3786"
             ],
             [
              0.5555555555555556,
              "#d8576b"
             ],
             [
              0.6666666666666666,
              "#ed7953"
             ],
             [
              0.7777777777777778,
              "#fb9f3a"
             ],
             [
              0.8888888888888888,
              "#fdca26"
             ],
             [
              1,
              "#f0f921"
             ]
            ],
            "type": "histogram2d"
           }
          ],
          "histogram2dcontour": [
           {
            "colorbar": {
             "outlinewidth": 0,
             "ticks": ""
            },
            "colorscale": [
             [
              0,
              "#0d0887"
             ],
             [
              0.1111111111111111,
              "#46039f"
             ],
             [
              0.2222222222222222,
              "#7201a8"
             ],
             [
              0.3333333333333333,
              "#9c179e"
             ],
             [
              0.4444444444444444,
              "#bd3786"
             ],
             [
              0.5555555555555556,
              "#d8576b"
             ],
             [
              0.6666666666666666,
              "#ed7953"
             ],
             [
              0.7777777777777778,
              "#fb9f3a"
             ],
             [
              0.8888888888888888,
              "#fdca26"
             ],
             [
              1,
              "#f0f921"
             ]
            ],
            "type": "histogram2dcontour"
           }
          ],
          "mesh3d": [
           {
            "colorbar": {
             "outlinewidth": 0,
             "ticks": ""
            },
            "type": "mesh3d"
           }
          ],
          "parcoords": [
           {
            "line": {
             "colorbar": {
              "outlinewidth": 0,
              "ticks": ""
             }
            },
            "type": "parcoords"
           }
          ],
          "pie": [
           {
            "automargin": true,
            "type": "pie"
           }
          ],
          "scatter": [
           {
            "fillpattern": {
             "fillmode": "overlay",
             "size": 10,
             "solidity": 0.2
            },
            "type": "scatter"
           }
          ],
          "scatter3d": [
           {
            "line": {
             "colorbar": {
              "outlinewidth": 0,
              "ticks": ""
             }
            },
            "marker": {
             "colorbar": {
              "outlinewidth": 0,
              "ticks": ""
             }
            },
            "type": "scatter3d"
           }
          ],
          "scattercarpet": [
           {
            "marker": {
             "colorbar": {
              "outlinewidth": 0,
              "ticks": ""
             }
            },
            "type": "scattercarpet"
           }
          ],
          "scattergeo": [
           {
            "marker": {
             "colorbar": {
              "outlinewidth": 0,
              "ticks": ""
             }
            },
            "type": "scattergeo"
           }
          ],
          "scattergl": [
           {
            "marker": {
             "colorbar": {
              "outlinewidth": 0,
              "ticks": ""
             }
            },
            "type": "scattergl"
           }
          ],
          "scattermap": [
           {
            "marker": {
             "colorbar": {
              "outlinewidth": 0,
              "ticks": ""
             }
            },
            "type": "scattermap"
           }
          ],
          "scattermapbox": [
           {
            "marker": {
             "colorbar": {
              "outlinewidth": 0,
              "ticks": ""
             }
            },
            "type": "scattermapbox"
           }
          ],
          "scatterpolar": [
           {
            "marker": {
             "colorbar": {
              "outlinewidth": 0,
              "ticks": ""
             }
            },
            "type": "scatterpolar"
           }
          ],
          "scatterpolargl": [
           {
            "marker": {
             "colorbar": {
              "outlinewidth": 0,
              "ticks": ""
             }
            },
            "type": "scatterpolargl"
           }
          ],
          "scatterternary": [
           {
            "marker": {
             "colorbar": {
              "outlinewidth": 0,
              "ticks": ""
             }
            },
            "type": "scatterternary"
           }
          ],
          "surface": [
           {
            "colorbar": {
             "outlinewidth": 0,
             "ticks": ""
            },
            "colorscale": [
             [
              0,
              "#0d0887"
             ],
             [
              0.1111111111111111,
              "#46039f"
             ],
             [
              0.2222222222222222,
              "#7201a8"
             ],
             [
              0.3333333333333333,
              "#9c179e"
             ],
             [
              0.4444444444444444,
              "#bd3786"
             ],
             [
              0.5555555555555556,
              "#d8576b"
             ],
             [
              0.6666666666666666,
              "#ed7953"
             ],
             [
              0.7777777777777778,
              "#fb9f3a"
             ],
             [
              0.8888888888888888,
              "#fdca26"
             ],
             [
              1,
              "#f0f921"
             ]
            ],
            "type": "surface"
           }
          ],
          "table": [
           {
            "cells": {
             "fill": {
              "color": "#EBF0F8"
             },
             "line": {
              "color": "white"
             }
            },
            "header": {
             "fill": {
              "color": "#C8D4E3"
             },
             "line": {
              "color": "white"
             }
            },
            "type": "table"
           }
          ]
         },
         "layout": {
          "annotationdefaults": {
           "arrowcolor": "#2a3f5f",
           "arrowhead": 0,
           "arrowwidth": 1
          },
          "autotypenumbers": "strict",
          "coloraxis": {
           "colorbar": {
            "outlinewidth": 0,
            "ticks": ""
           }
          },
          "colorscale": {
           "diverging": [
            [
             0,
             "#8e0152"
            ],
            [
             0.1,
             "#c51b7d"
            ],
            [
             0.2,
             "#de77ae"
            ],
            [
             0.3,
             "#f1b6da"
            ],
            [
             0.4,
             "#fde0ef"
            ],
            [
             0.5,
             "#f7f7f7"
            ],
            [
             0.6,
             "#e6f5d0"
            ],
            [
             0.7,
             "#b8e186"
            ],
            [
             0.8,
             "#7fbc41"
            ],
            [
             0.9,
             "#4d9221"
            ],
            [
             1,
             "#276419"
            ]
           ],
           "sequential": [
            [
             0,
             "#0d0887"
            ],
            [
             0.1111111111111111,
             "#46039f"
            ],
            [
             0.2222222222222222,
             "#7201a8"
            ],
            [
             0.3333333333333333,
             "#9c179e"
            ],
            [
             0.4444444444444444,
             "#bd3786"
            ],
            [
             0.5555555555555556,
             "#d8576b"
            ],
            [
             0.6666666666666666,
             "#ed7953"
            ],
            [
             0.7777777777777778,
             "#fb9f3a"
            ],
            [
             0.8888888888888888,
             "#fdca26"
            ],
            [
             1,
             "#f0f921"
            ]
           ],
           "sequentialminus": [
            [
             0,
             "#0d0887"
            ],
            [
             0.1111111111111111,
             "#46039f"
            ],
            [
             0.2222222222222222,
             "#7201a8"
            ],
            [
             0.3333333333333333,
             "#9c179e"
            ],
            [
             0.4444444444444444,
             "#bd3786"
            ],
            [
             0.5555555555555556,
             "#d8576b"
            ],
            [
             0.6666666666666666,
             "#ed7953"
            ],
            [
             0.7777777777777778,
             "#fb9f3a"
            ],
            [
             0.8888888888888888,
             "#fdca26"
            ],
            [
             1,
             "#f0f921"
            ]
           ]
          },
          "colorway": [
           "#636efa",
           "#EF553B",
           "#00cc96",
           "#ab63fa",
           "#FFA15A",
           "#19d3f3",
           "#FF6692",
           "#B6E880",
           "#FF97FF",
           "#FECB52"
          ],
          "font": {
           "color": "#2a3f5f"
          },
          "geo": {
           "bgcolor": "white",
           "lakecolor": "white",
           "landcolor": "#E5ECF6",
           "showlakes": true,
           "showland": true,
           "subunitcolor": "white"
          },
          "hoverlabel": {
           "align": "left"
          },
          "hovermode": "closest",
          "mapbox": {
           "style": "light"
          },
          "paper_bgcolor": "white",
          "plot_bgcolor": "#E5ECF6",
          "polar": {
           "angularaxis": {
            "gridcolor": "white",
            "linecolor": "white",
            "ticks": ""
           },
           "bgcolor": "#E5ECF6",
           "radialaxis": {
            "gridcolor": "white",
            "linecolor": "white",
            "ticks": ""
           }
          },
          "scene": {
           "xaxis": {
            "backgroundcolor": "#E5ECF6",
            "gridcolor": "white",
            "gridwidth": 2,
            "linecolor": "white",
            "showbackground": true,
            "ticks": "",
            "zerolinecolor": "white"
           },
           "yaxis": {
            "backgroundcolor": "#E5ECF6",
            "gridcolor": "white",
            "gridwidth": 2,
            "linecolor": "white",
            "showbackground": true,
            "ticks": "",
            "zerolinecolor": "white"
           },
           "zaxis": {
            "backgroundcolor": "#E5ECF6",
            "gridcolor": "white",
            "gridwidth": 2,
            "linecolor": "white",
            "showbackground": true,
            "ticks": "",
            "zerolinecolor": "white"
           }
          },
          "shapedefaults": {
           "line": {
            "color": "#2a3f5f"
           }
          },
          "ternary": {
           "aaxis": {
            "gridcolor": "white",
            "linecolor": "white",
            "ticks": ""
           },
           "baxis": {
            "gridcolor": "white",
            "linecolor": "white",
            "ticks": ""
           },
           "bgcolor": "#E5ECF6",
           "caxis": {
            "gridcolor": "white",
            "linecolor": "white",
            "ticks": ""
           }
          },
          "title": {
           "x": 0.05
          },
          "xaxis": {
           "automargin": true,
           "gridcolor": "white",
           "linecolor": "white",
           "ticks": "",
           "title": {
            "standoff": 15
           },
           "zerolinecolor": "white",
           "zerolinewidth": 2
          },
          "yaxis": {
           "automargin": true,
           "gridcolor": "white",
           "linecolor": "white",
           "ticks": "",
           "title": {
            "standoff": 15
           },
           "zerolinecolor": "white",
           "zerolinewidth": 2
          }
         }
        },
        "title": {
         "text": "Scatter Matrix: KPI Relationships by Country"
        }
       }
      }
     },
     "metadata": {},
     "output_type": "display_data"
    }
   ],
   "source": [
    "fig = px.scatter_matrix(\n",
    "    kpi_country,\n",
    "    dimensions=['cpi', 'arpu', 'conversion_rate', 'revenue_usd'],\n",
    "    color='country_code',\n",
    "    title=\"Scatter Matrix: KPI Relationships by Country\"\n",
    ")\n",
    "fig.show()\n"
   ]
  },
  {
   "cell_type": "code",
   "execution_count": 100,
   "id": "e41e5387",
   "metadata": {},
   "outputs": [
    {
     "data": {
      "application/vnd.plotly.v1+json": {
       "config": {
        "plotlyServerURL": "https://plot.ly"
       },
       "data": [
        {
         "hovertemplate": "country_code=jp<br>lagged_spend=%{x}<br>revenue_usd=%{y}<extra></extra>",
         "legendgroup": "jp",
         "marker": {
          "color": "#636efa",
          "symbol": "circle"
         },
         "mode": "markers",
         "name": "jp",
         "showlegend": true,
         "type": "scattergl",
         "x": {
          "bdata": "oSLYEYgOUUCd1zC72gIsQCE3JGoeuh9AjrE4F2QWQkDWpKg164sjQABaPuKDHkpA0q2OlZYZKEAbOn0vmQBDQIQ7cTk6MyRAyoOQDmHFUEAY8moxK8EjQL6cd6iSnVFAlwBz1ZvcI0CdVd6QLTNQQPfK0fJNDhZATrzf92GPSUBviZOsUpNFQMUV984G1iVAEQJAtWa3K0AAe5eLKn1GQAeChngRx1BA2GTciXP7JUAtjdSGuhBNQCJ9Tr+rjSlAEsL9RoyfJ0DUfL11m89RQH/0iIPOsSlAya40n/2TR0B4Tl6Gb9pEQBqEMQ1xGCdALNDILiDpRkBFBMjg5SUmQO8xVYc540ZAMKKkMjGwIkBPhC628UlIQPvh50p4aCZAQ4akL9yWFkBCXQGcz5NDQAVCpmb1dCdAP4a12bXVRkDpJOvWCWU5QPyPI3sR9xxAltdzwwoNIED4ACAjpkVCQAdM4cV3sU9A1/cxWNYqJECgAO9HUnpLQM5MzGcJjSJAR9Z82WxPJ0CF0kMunkZXQNIjwIjVHCBAE8SV6EhzUEAvYs5CSJs+QBZ223rnpidAIEB8MPF2KUD86NO6E1BOQBh1Yq0I/RdA2E+twORsSkB42CwISUQlQM8biQmsqENAE1nrbRZBSEBF3/C0R4UxQDfMI1evQh5A9SI6K2WdSEBYOeJD57siQD18i4Q2EUNAoG2yCl8kKUBlf5zxZYRGQAKMOTn+bBVAELZsAp3ESEB/I3choZMjQF5NTonK+EtATCWKwmKIKkCaTzcZpxpBQGeIdlh8+iJAK7ZCE1zzR0AAaDgkQP09QJw+8vAhUCJAXN+NWhM9HEBWAlxRD/lCQL6ap20380hA4IYhA936IkAx6/lz5wIiQAaMKCI6k0dAbPSUqEesSECT8erS18EoQF85kXE1nUhAAZjjXjPIJkCynvUiVm8hQJd+EN0B0UVACZdj/Re8I0Bu3bXQf/1CQL/vVP5zT0JACo/6rxRtJEBtmIe3qUxAQMT/+Uyd9y1ArFGT7cgWIkCwKYg9DSVVQD4Wnx5CaCVAjBKJqqHfRUArnjFMMqdGQBf4MK9CKyVAw4/WJ1bNIEABhJqlI/RHQDH6+acKoUtAfPxX+N26F0DT1yBdfR4lQOo/8NEqW1FA",
          "dtype": "f8"
         },
         "xaxis": "x",
         "y": {
          "bdata": "AAAAAAAAAAB0u1YWy582QAAAAAAAAAAAIL/8BJAaU0AAAAAAAAAAAEs+RakG3ypAAAAAAAAAAAAAAAAAAAAAAAAAAAAAAAAAAAAAAAAAAAAAAAAAAAAAAAAAAAAAAAAAg0tyy8rT0j8AAAAAAAAAAAAAAAAAAAAAAAAAAAAAAAAAAAAAAAAAAAAAAAAAAAAAAAAAAAAAAAAAAAAAAAAAAAAAAAAAAAAAAAAAAAAAAAAAAAAAAAAAAAAAAAAAAAAAAAAAAAAAAAAAAAAAAAAAAAAAAAAAAAAAKvubMBg5KUAAAAAAAAAAAAAAAAAAAAAAAAAAAAAAAAAAAAAAAAAAAAAAAAAAAAAAAAAAAAAAAAAAAAAAAAAAAAAAAAAAAAAAAAAAAAAAAAAAAAAAAAAAAAAAAAAAAAAAAAAAAAAAAAAAAAAAAAAAAFKXswPEyEdAAAAAAAAAAAAAAAAAAAAAAAAAAAAAAAAAAAAAAAAAAAAAAAAAAAAAAD6ZdZuw9EZAHeqsEubBSkDy2GDDG3rcPwAAAAAAAAAAAAAAAAAAAABWQIFcyTw3QJaSCzN1OFJAnZ7Y+6gECkDdf/V4hzbgP8hwSOMz5U5AAAAAAAAAAAAAAAAAAAAAAC586WGvQTdAWsJqni6cT0AAAAAAAAAAAAAAAAAAAAAAO3G2j/IGyz9hw/kY/plbQAAAAAAAAAAAeqwoO4h2J0Btfke9TlQuQI6WrZurSlZAAAAAAAAAAABdJDtR31EFQAAAAAAAAAAAAAAAAAAAAABrGLox7UOAPwAAAAAAAAAAAAAAAAAAAAAAAAAAAAAAAAAAAAAAAAAAZwfkljIv6D8AAAAAAAAAAAAAAAAAAAAAMzQgpNc65D8AAAAAAAAAAAAAAAAAAAAAcwWKaAMWJUAAAAAAAAAAAAAAAAAAAAAAHbdZHlDbREAAAAAAAAAAAAAAAAAAAAAAvImV8sLelj8AAAAAAAAAAAAAAAAAAAAAAAAAAAAAAAAAAAAAAAAAAJ2eiU1wyBZAAAAAAAAAAAAAAAAAAAAAAAAAAAAAAAAAAAAAAAAAAAAAAAAAAAAAAAAAAAAAAAAAAAAAAAAAAAAAAAAAAAAAAAAAAAAAAAAAAAAAAAAAAAAAAAAAAAAAAG3O5t4rMQBA",
          "dtype": "f8"
         },
         "yaxis": "y"
        },
        {
         "hovertemplate": "country_code=in<br>lagged_spend=%{x}<br>revenue_usd=%{y}<extra></extra>",
         "legendgroup": "in",
         "marker": {
          "color": "#EF553B",
          "symbol": "circle"
         },
         "mode": "markers",
         "name": "in",
         "showlegend": true,
         "type": "scattergl",
         "x": {
          "bdata": "SWb/sTZCR0Cg4u/XSJotQL4hELEwD0xA6v+3AdMfJEBA89AMJdRKQJAn5j0HTSBAksRAUyaaQUB91Iir4OskQNEfxLUhbSBAe6ascFtrU0B0nnNs5hNMQK32H6mJRyhAgqQddIoXTEBSG9HO0wosQM4kAQq9nx9ABUVIs2OMP0BSSHPX28FGQBomza3dVydACTlX6TLJP0AXsfw7bjsiQDIFR+ZcrDpAqupVVHK8JEBUzXNdRdlNQAmOS4J60BlAIfKTgE9gPEAB+dTS1p4pQDxsjreB10ZAe0+x3qs8HED8WuCA7HpGQBdB8QsUHixAtieYAaB6SEBwPTRaabEeQKnLLxC1GFFAr/Pg7Cc8KkCKE/FefJ1TQJNzydOvDSJA8HVCBPhSTUDsd17XmUIhQH0E7m4nQUpAqU6nBmNiLECZI0YUUqZMQJR5yyKSnyRAAcBDMctZTECbJ7n0S5slQM499bBwvlBAoOUWHQi9JUCi+wALL29NQHNhvnO3UiFACTGUf3YISkCd7lDzjNcgQFehRPO7DR9AaBhC4FohTEAQAe2PwpxFQCOyAN+uCSRA7NA80eyDQ0AufFM12r8XQHJig2TkniNAgJ5k52q+QkBRslqirUEkQJBBgpNpmkBA8vELKvfORkBTdAHa+lIcQLlDG3gZx1RAoEBadGkkJ0A3JxqjL/4tQEotZIZntixA6KfTnx+KSUC/lB/YsQYmQL1dY4vt5CJADRbSK9MnU0C2mYecUo9UQK5oGXwRcRxAQRnWaAsMKkCyXnnfX/dEQO2mrTXUvyRAuXz6bpZZS0DxyBpTHghDQDszTOA+XiZAHVcRyfISSEAQD/CAT+UlQJ57amWY7ExA0NknBJMDHkDK4i5p5YBHQG6LorEmHSVAfPTQKEZqRkAua3+zvDAoQJ01QyQCpUNA+UYMaS/zI0BwkkRGS2pFQI2NSNInxBtAQH/vdhGnTkA0DGkgGGATQDyHRi0o3UhA/QmiyrCYJUDX4UTd9tRJQAIPsOOjNylAcT1s1NQVUEAjbsju9g8qQJe3ZFBW+1BAmOQUOMRwJkACjsN+fUpHQLAKo7dcmChAin0MoCdCTEBjNGf0dGwZQMCDnO5II1BA309hkpkPIED9m3AcuaAnQOMtb42dpUpA",
          "dtype": "f8"
         },
         "xaxis": "x",
         "y": {
          "bdata": "AAAAAAAAAAAAAAAAAAAAAAAAAAAAAAAA5pI95/ZLU0AAAAAAAAAAAAAAAAAAAAAAAAAAAAAAAAAAAAAAAAAAAAAAAAAAAAAAAAAAAAAAAAAAAAAAAAAAALzvtLTHEEhAEz77pm5IJUAAAAAAAAAAAAAAAAAAAAAAgJw351DeAUAAAAAAAAAAAAAAAAAAAAAAAAAAAAAAAAAgPSEOaJoRQAAAAAAAAAAAAAAAAAAAAAAAAAAAAAAAAAAAAAAAAAAAAAAAAAAAAAAAAAAAAAAAAAAAAAAAAAAAAAAAAAAAAAAAAAAAAAAAAAh9gp36Dc4/AAAAAAAAAABfcVwxSg5HQAAAAAAAAAAAAAAAAAAAAAAAAAAAAAAAAAAAAAAAAAAAAAAAAAAAAAAAAAAAAAAAAAAAAAAAAAAAAAAAAAAAAAAAAAAAAAAAAAAAAAAAAAAAAAAAAAAAAAAAAAAAAAAAALBsqlkD3Js/AAAAAAAAAAAAAAAAAAAAAAAAAAAAAAAAAAAAAAAAAAAAAAAAAAAAANQkHO83KDRAM9COrvkCY0AAAAAAAAAAAAAAAAAAAAAAAAAAAAAAAAAAAAAAAAAAAAAAAAAAAAAArY0d+kW8uz8AAAAAAAAAAAAAAAAAAAAAAAAAAAAAAAAAAAAAAAAAAAAAAAAAAAAAAAAAAAAAAAAAAAAAAAAAAFRBUFx1eiNAAAAAAAAAAAARZAbylNo+QAAAAAAAAAAAjGEVIPJ4UUAAAAAAAAAAAJYOBtBlIlFA/y2QG2YTwj8AAAAAAAAAAAAAAAAAAAAAAAAAAAAAAABP0RbHGuEuQEv4fWpfZ05AzPSDIhyEMkAAAAAAAAAAAAAAAAAAAAAAAAAAAAAAAAAAAAAAAAAAAB1bb/1KiPM/AAAAAAAAAAAzAc8Roq1NPwAAAAAAAAAAAAAAAAAAAAAAAAAAAAAAAAAAAAAAAAAAAAAAAAAAAAAAAAAAAAAAAPwBGtD03OU/AAAAAAAAAAAAAAAAAAAAAAAAAAAAAAAAAAAAAAAAAACuOrwbRa5RQAAAAAAAAAAAAAAAAAAAAAAAAAAAAAAAAAAAAAAAAAAAAAAAAAAAAABddiHQ+81YQAAAAAAAAAAAAAAAAAAAAAAAAAAAAAAAAAAAAAAAAAAA",
          "dtype": "f8"
         },
         "yaxis": "y"
        },
        {
         "hovertemplate": "country_code=it<br>lagged_spend=%{x}<br>revenue_usd=%{y}<extra></extra>",
         "legendgroup": "it",
         "marker": {
          "color": "#00cc96",
          "symbol": "circle"
         },
         "mode": "markers",
         "name": "it",
         "showlegend": true,
         "type": "scattergl",
         "x": {
          "bdata": "KGbkG5ESKUC2FyXuc5BRQM1gHx5TKURAS6a4jJmxIkB3Be3OZJEaQOQPZ89bXkpA+qFcj4CpIkBSdJVTbIRCQKkU9SuV4yBA1+1jcviGUEBbBxnzt8pRQNj6hW1rDhtAlYdTacq7K0AYPPEhMPo0QK919XWf1x9AQv+DmFdcUkACgxKc8KQcQG1HuAmPfFZAwklRNTRYI0BwpxoipcFLQH9MC79YUBNAMgZ6rnnUREDMRyy7Q+8hQAKCbY4nqU1AA2TnPB5bIkA87fn/zllPQI77o73KwiBAJHiTlPvHQ0C2fz4T0FYdQANmQxTzpEpAaDB/4LoGIEBnRbvTlPhGQBq5UYA3HyhA6knRAFauVkCWc3M4EI4dQGY6quuHwEtAQlPZSrooLkDlW3z409JMQBAE6FVVIilAWvFn4rI5TEAXeeZODOUbQGbOTDYLKlRA5xWU1ACpIUCNLA9VD9NNQFXxajxWQC9Ap5Qx+Uo4PUDiGD4R+yEnQE8co3UvnFBADl13HTKFIUAWQaGjvRJCQL3QthVnMC5A7XYmr4NFT0B3cszy+4YqQFiCPXo9+j1AYYeUWpY0TkC4DmofJsIhQNvKqlSY6iJAhhBtUWKrR0CH3uGrIXQXQC+sZ+v0TUdAGgd+AULzI0D9hpO1235LQHqAmJ1zykNAoleevz7EFkDvtdw2bvZGQMb7EWJS4R9AfkDj3cTTUECblHYEc3YkQHvmzWbDwylAGn9A0ImqREDxuGZyg2YwQI86WOoGvVZAkC4x2vNkLUCHvsZPyDVDQA/zkBCP1CBAtlc7ldcVT0B48aje1qsnQBRtRr/+9EtABJZpOtynGEAjo2dpe+o5QDK5ZIT68SJAiBSPq1++REBF06K5iqojQILgavE3QEVAr97q5X9kKkA8GGI1hQlAQFvpS28eVBtAsU19F7jMP0BpqJiA3bYhQODNSrn5e1JAj50k/PTUHUAnlsO2jU9GQPPAYWj1qx5AIfX+LY70U0B8w+f0ZqggQG+4laJks1FAtZCxkph+JkBAk23bl7JIQEyDQP9zZyhAgAqAyTCgR0Ar5GGwaj4jQFyL52R1hVBArkK6oCwQJkDAcYz6VhRBQEFCYCQmeCRA5S75mGSsREB93inpn1UmQK9r6AKezE1A",
          "dtype": "f8"
         },
         "xaxis": "x",
         "y": {
          "bdata": "AAAAAAAAAACJN+GOuSXDPwAAAAAAAAAA4ZszjlOa3D8MZ7aGpKjPPwAAAAAAAAAAAAAAAAAAAAAAAAAAAAAAAAAAAAAAAAAAAAAAAAAAAAAAAAAAAAAAACxLx+ZGihBAUtbFZAu1rD8AAAAAAAAAAAAAAAAAAAAAAAAAAAAAAAAAAAAAAAAAAAAAAAAAAAAAAAAAAAAAAAAAAAAAAAAAAAAAAAAAAAAA4bTEFaT2R0AAAAAAAAAAAAAAAAAAAAAAwAGKFdDLIEAAAAAAAAAAAAAAAAAAAAAAI4AaaQ9AHEAAAAAAAAAAAAAAAAAAAAAAZ9ilSmfwN0AAAAAAAAAAAAAAAAAAAAAAAAAAAAAAAAAAAAAAAAAAAAAAAAAAAAAAAAAAAAAAAAAAAAAAAAAAAAAAAAAAAAAAAAAAAAAAAAAAAAAAAAAAAE7mSV2yMb4/AAAAAAAAAAAAAAAAAAAAAI0YgRilkiRAAAAAAAAAAAAAAAAAAAAAAAAAAAAAAAAAAAAAAAAAAADpkebxTBI/QIb6pienooM/7Y0ko+Bgmj8AAAAAAAAAANP84p5lIvI/AAAAAAAAAAAAAAAAAAAAAAAAAAAAAAAAAAAAAAAAAAAAAAAAAAAAANEIvWl170RAAAAAAAAAAADcBdbtnCQhQAAAAAAAAAAAYCnIHi89JUAAAAAAAAAAAFR+gK1gdABAAAAAAAAAAADnpLaOITyyPz+Cayes9JA/AAAAAAAAAAC3Z/qnksQgQCxJckJsCiNAtskGs5jsRkAAAAAAAAAAAAAAAAAAAAAAAAAAAAAAAADTTEZnbVwgQAAAAAAAAAAAqzAzfEXeIECjCwEY/cY3QAAAAAAAAAAAAAAAAAAAAAAAAAAAAAAAAP25ODClJN4/8uMKVGvxPEAAAAAAAAAAAAAAAAAAAAAAAAAAAAAAAABiMSGoKpwZQAAAAAAAAAAAZJBnZnFXR0AAAAAAAAAAAJ35EGb34DBAyegu4ER3JkAAAAAAAAAAAJqz+x0ihtI/AAAAAAAAAADYUXddLxQOQAAAAAAAAAAAzPWuBDa+MEAAAAAAAAAAAAAAAAAAAAAAfp89CbjgQ0Dg2u4WRfJCQFktSntGFEZARjpL2LeuRUCVfxS+bgGaPwAAAAAAAAAA",
          "dtype": "f8"
         },
         "yaxis": "y"
        },
        {
         "hovertemplate": "country_code=mx<br>lagged_spend=%{x}<br>revenue_usd=%{y}<extra></extra>",
         "legendgroup": "mx",
         "marker": {
          "color": "#ab63fa",
          "symbol": "circle"
         },
         "mode": "markers",
         "name": "mx",
         "showlegend": true,
         "type": "scattergl",
         "x": {
          "bdata": "uPW2y+cSVEBGkqk7u5g2QMHfI960gzFAatRoQ9dHXUAAHbdQgYE2QPx62GH5H15AJZ9mgiR0MUD+4BG/suBYQCNVal6nZVJAyzBg5s/nMUBPum7sV/YtQIRVeK7X+VZAxZeL5mOnNUBb1ok62ORVQPpcWm9W5FFAtgVLBXPLNUDoZ7PY+4woQNBDCa/+UllAxLyZUxitK0AUgP76vsxbQHkLuXxuhzNAOrr3MaTxWkDFJeLyROY0QA1BPHkH109AWSRMYa5WLED+loz3thFTQNRgEwnqryZA/4zhgKdkXUApG6B636Q1QKubnhBye1RAHZ199rX0NEC6hs1nB1RRQF5nyve3ejxAm5Dy+MeTWkA3SV68P7cnQDy194KZlVVAVB2AXziHK0AnMmv5/nhbQMlvTYqEyDBAeuoF7GeKV0BMzuZJHQM2QFJA9nLI5VBAk0X856YDL0DcBM3VJedUQDzjEGLIRSlAMMJszqg4UEAud2NkbCAsQCZhbfEIZU5Adyq2znc3NEDqhItp0nhSQIiPmqoSSU5Az9r/cpMVM0C3+GZlVtMhQKK/UgBS21VAOgZmPtLJMkD8j0CcTv1RQGNRwvIK2VFA1YvuS0eRKEA1SVgd7qdSQC1PaL9OwTJA1hj6rJKKKkB4MFPwIRpaQIV1ckE+MS5ATiK1C4MEWEDNHyO8jjUyQAaJ77BsVVNAs7Y7sRWYM0ARG/jhLsxSQFBcT9nT3ltAOThLIAGuMUBSY/U7JyAuQA8qBHlD9VVACc2/l3dfVUBlPS19VVwvQAhP1bGNZFlAx1Qvyna1MUAj6gFD8JhXQIgh0qOtOS1AcANNX6eaNkDe2kQpPZhRQKfCR5Be0C9AI58S4cF1VEAf9Gme180zQLN2A9KBgVxA/L/1w7HhNEAS93ZTanJQQNAh/QKwzypA0SUL0kHXTEAMtsxYLJsqQI5XdEt8pFBAIjuGTVHMMUC+KgJdv6BMQPG44qkValBAyaHZYAYlLEDASkrK2V80QNyKStLyKmBA7IOIOpxAKUBLXVs5xqZUQFA6qSTRIS9ApTedxV0/V0AiDNVgFXlWQAxLQXRUxjFAfssK5XXcM0COe7WPvodXQH3Wyup+7U1AcQGnzQEHMkDkn2sY8IEyQG9pvkTc9VZA",
          "dtype": "f8"
         },
         "xaxis": "x",
         "y": {
          "bdata": "AAAAAAAAAAAAAAAAAAAAAAAAAAAAAAAAAAAAAAAAAAAAAAAAAAAAAEJbI9D7IBZAAAAAAAAAAAAAAAAAAAAAAAAAAAAAAAAAAAAAAAAAAAAAAAAAAAAAAAAAAAAAAAAAAAAAAAAAAABGsI+YvKyHPwAAAAAAAAAAAAAAAAAAAAAAAAAAAAAAAB9dY/xdVEpAUyYk1Udb+T8AAAAAAAAAANeRGlF/gKg/AAAAAAAAAAAAAAAAAAAAAAAAAAAAAAAA7h/uYLfjwT8AAAAAAAAAABXVZ4GArVdAAAAAAAAAAABUMJFgapM9QAAAAAAAAAAAmDueq6MPUUAAAAAAAAAAALPwMFHLdlBAAAAAAAAAAAAAAAAAAAAAAAAAAAAAAAAAAAAAAAAAAAAAAAAAAAAAAAAAAAAAAAAAAAAAAAAAAAAAAAAAAAAAAAAAAAAAAAAAE/9piXXGUUAAAAAAAAAAAF6mVIua8RdAAAAAAAAAAAAAAAAAAAAAAAAAAAAAAAAAvjHyXinTV0AAAAAAAAAAAAAAAAAAAAAAkWwN1u3R4z+5B3Y0jJtaQAAAAAAAAAAAwlsBYrfQVkAAAAAAAAAAALg3YiuyxDdAAAAAAAAAAAAAAAAAAAAAAAAAAAAAAAAAAAAAAAAAAAAAAAAAAAAAAJZkmtzixd8/AAAAAAAAAAAAAAAAAAAAAAAAAAAAAAAADqtcnhsoV0AAAAAAAAAAADqMManhBVNAAAAAAAAAAAC+IWsSw7DuPwAAAAAAAAAAfLvCiFYWT0AAAAAAAAAAACeXd1C+3kBAAAAAAAAAAAAAAAAAAAAAAAAAAAAAAAAA40mkL5UVoz8AAAAAAAAAAAAAAAAAAAAAAAAAAAAAAAAAAAAAAAAAAAAAAAAAAAAAAAAAAAAAAABvQvEjlxMRQAAAAAAAAAAAAAAAAAAAAAAAAAAAAAAAAAAAAAAAAAAAAAAAAAAAAAAI7vJNXUngPwAAAAAAAAAAevKvRNzg+D/bTcewvW5RQAAAAAAAAAAA0znhlERkQkAAAAAAAAAAAAAAAAAAAAAAZrP2Eq6qK0AAAAAAAAAAAAAAAAAAAAAAAAAAAAAAAAAAAAAAAAAAAAAAAAAAAAAAlI5mBlmJC0AAAAAAAAAAAFivCzYjprs/",
          "dtype": "f8"
         },
         "yaxis": "y"
        },
        {
         "hovertemplate": "country_code=pl<br>lagged_spend=%{x}<br>revenue_usd=%{y}<extra></extra>",
         "legendgroup": "pl",
         "marker": {
          "color": "#FFA15A",
          "symbol": "circle"
         },
         "mode": "markers",
         "name": "pl",
         "showlegend": true,
         "type": "scattergl",
         "x": {
          "bdata": "Ldpi60KUSEAU0vR+SjohQAA5BEdLFE5AUuak/PPPHUA1nMgk4YxTQOpR0AnHHy9ADPvW+s+yQ0DMRqfeSwISQN+EMdetRkRAZVg5M3asJ0B5hoFLgQQ8QGgXDEjDTxZAHHX6lAfFRkC7aNuHioUgQHDcGUP06ThA/o4Ovi2KHUD2xyK3a0QaQBNF3Q57z0BAY2hY3gGPO0CILw/mx0gkQFoohKWdBixAilVF6UgPRUDetD/0bSMgQOUKvh81IEFAM3Kx8LuzREAA+CjVQBQkQCEQFwwE6B1AF6niAhLXR0B70k/C73ofQN68ff1lKUZAlE2M6awyH0Afa3m3MCBGQAmtGYRvOCNADq/FwVEUQkB4o1h4+08eQHf8QtIFgUJAocwH4fc2QEC3mhipNI4cQC1i1YQKECFAkxfhPIaCTUC4Z18ujoYQQFgC+PSX30BAuFQX24UaQUDf5Rq4kBQVQDZcQ1eOTCNA/zmjzqDJRUBd8mV69rQkQHpK/OD6LkhAyi48ybADRkDHXsq2W3AgQMxYvC3YWFJAlaFwvX4MIkCyOKJTUhojQF5mbjG2/T9A4Sh29m+eQ0Azr9z4SJUkQFRAeMQeeEdA6axPBfc3JECzNWIpc/wdQKi10/Ec0jdA1am1lud5G0BwJ2BNiGZNQG27txcTXTZAMp2PwrAGFkAhOZ3yc41HQL1/BhcpWBhAq9twGn/tR0AN3EFZE/EjQE+zOJ1z6khAWFKOdp7fG0B/s0yci1ZIQFEvCGGbSRtACn09FqWdIEAn7qNirrJMQE1Skr7BdhhA4bbgYOxyQEC67fhK+RBBQGaed4wGYR1ApJjhqFkZEEBgoSZl5QtPQOLqC3XsYiRAbhF09qQpRUCPHAshYYJNQDHAHd2tbSBAcGG6koZLH0C6csOJ/1ZCQH4whFhvjw9AbZLNHFlTRUAETqOEv21EQJRupY5mfSVAxZ/15oqIIEDxH+x3FM05QDYj9BawxSBAU/2JmMKxNkDCCOvzG9gHQIL8NVazkkRA8lGtu3LuOEBiTq0IBmMcQP13DvstfR9AdvmAO3T8RUC8k/h37XEhQKaX31vBkUBAwGk+/eqNQUCqHhfusD0hQIn4B6gcIiBAxLk17jZDQ0Aen2JKeBkkQOrQXREdP0FA",
          "dtype": "f8"
         },
         "xaxis": "x",
         "y": {
          "bdata": "AAAAAAAAAAAAAAAAAAAAAAAAAAAAAAAANe3FwF6mXUAAAAAAAAAAAAAAAAAAAAAAAAAAAAAAAAAAAAAAAAAAAIhj0RCaWYQ/AAAAAAAAAABs5OqQjwzQPwAAAAAAAAAAM3u6eMIoEkAQHWjPci8KQAAAAAAAAAAAAAAAAAAAAAAAAAAAAAAAAAAAAAAAAAAA/PBKuP94XkAAAAAAAAAAAAn4y+abjvI/AAAAAAAAAAAAAAAAAAAAAAAAAAAAAAAATgFdkAoCE0AAAAAAAAAAAAAAAAAAAAAAAAAAAAAAAAAAAAAAAAAAAAAAAAAAAAAAAAAAAAAAAABtkvH/3uToPwAAAAAAAAAAZc5krHIYPUAAAAAAAAAAAAAAAAAAAAAAAAAAAAAAAAAAAAAAAAAAAAAAAAAAAAAAAAAAAAAAAACqAPlK/HMaQAAAAAAAAAAAwCwsmisFW0AAAAAAAAAAAAAAAAAAAAAAAAAAAAAAAAAAAAAAAAAAAOdEHPmp5fg/LmwW2dM4tz+20vckBeZEQBRfjPfY5zpAAAAAAAAAAAAAAAAAAAAAAAAAAAAAAAAAAAAAAAAAAACgmMeJ1rpoQM1n3dGTmjNAAAAAAAAAAAAAAAAAAAAAAEXhSlahPt0/AddXT+1B7j85hPOyTBtjQAAAAAAAAAAA0SPjHQpdXEBDq9cdOP9ZQICH5uaSaCxAAAAAAAAAAAAAAAAAAAAAAAAAAAAAAAAAbr1w/SngYEBpXFLPWP3WP99Z4iFI7p0/Ts3fyR1tQEAVCV8geoSQP9hrf2fhEO0/AAAAAAAAAAALdPmF+ithQLpfPTNdiVpA3KrlcRaVKEBrj4BOpXVMQAAAAAAAAAAAAAAAAAAAAAAAAAAAAAAAAD2ZlhH+T8s//qBlP1OnQEAAAAAAAAAAAAAAAAAAAAAAAAAAAAAAAAAAAAAAAAAAAAAAAAAAAAAAAAAAAAAAAAAAAAAAAAAAAAAAAAAAAAAAAAAAAAAAAAAAAAAAAAAAAKUjw11WZsk/AAAAAAAAAAAAAAAAAAAAAAAAAAAAAAAAAAAAAAAAAAAAAAAAAAAAAAAAAAAAAAAAQa9HD5OdW0Ds58Pcd0dMQAAAAAAAAAAAAAAAAAAAAAAAAAAAAAAAAAAAAAAAAAAA",
          "dtype": "f8"
         },
         "yaxis": "y"
        },
        {
         "hovertemplate": "country_code=sa<br>lagged_spend=%{x}<br>revenue_usd=%{y}<extra></extra>",
         "legendgroup": "sa",
         "marker": {
          "color": "#19d3f3",
          "symbol": "circle"
         },
         "mode": "markers",
         "name": "sa",
         "showlegend": true,
         "type": "scattergl",
         "x": {
          "bdata": "z1+7RJSqIkDc673jzW9CQPbf6AZauC1AdsBNmNMZTECSWKSQCOYYQB8Eow7f2kdANYXasewJHkDAugwNACBMQA+yVKDTFidApMazNBGrU0AqkxucBOEhQNDyuHjhCT1ALjZc6RTGIEA20+DRletHQPpT3tXJNSZAMwDv1jLKTEDwxzRmbOohQAAv9qjPkU5AVzhhZCZBIUComs29unZIQAHuJ9mdyiVACD7vhoSQR0DR04V9ChElQFV1jqnQW0BAyb/60061IEAPLLIeTkxQQOj6ZZY+4BpAxUi3GZwNTUCuHAoHo20dQJgx5UdsFVJAN8wJKoyJLUCEoE8vSotEQIeId3efMCFAY0iz4MiqU0DLY7KLan0bQLdJf6FgqUdAxyqO1wWGIkC1pBNBCv1MQHgKftbZvC5AI85Thz8uRECt894bKR0gQGspwA3hS1RA/2qdBj1ZI0CipBZpYYdDQDFIdeEspCFAyHJN8vRARkCaRYijKOkhQBM1z/tcODhAy9PJU7IBJ0AJaOY7la5MQE0moKBWGS5AOPTPe/EMS0DQayQFR5IjQHRiVWZxMU5ApO8PRx97HUDRVf0fzFhCQBmDs0nA6yZAGHt6e++fQkAPdt9OWdMjQM5ohRqo70NAg3hBgKTSJkC8Cxh0+kRSQC+qF3umkitA3myznf4SQ0A+YDOXHuEWQLq7UuqhYkJASFwVqtZ+I0CB33+Fw6NNQNIDVtwadBtAETq90RLtRkAUtqp7GQYiQFvYhkbBrkZAfdvzyhY/JEAnazxDhQ9GQLC2Wt/7chhAzdyTmcYfUUAfF+7hQ4YhQCjEqIxrWkdA9h6mij8TJECl9OryyeBFQK1RnjO3liBAgHQP3gkcRUD/shXOg2kkQACC5U3F4kJAvSjat+5IK0A/p2vN8vhFQBM77pFj1xxArMI6vm3kTEB205XiNUceQIKwZNg9bUhAZqkOmC64IUCtPadVXpNTQHbgBeku7CZAKCVPpcTeQEAUmGgGKMwmQIoWun5ZJktAwe/qC40bJUBYQLtP8/5HQC15iFUJVCRAEE2zj1rOSUB0dugsirwwQJ2mFH4ntEZA9LMRuhOvKUDQUNqUcs1LQIaR8ZBecC5AERpaP3xtUkDiGEqtpKdDQM0QomB3VClA",
          "dtype": "f8"
         },
         "xaxis": "x",
         "y": {
          "bdata": "AAAAAAAAAAAAAAAAAAAAAAAAAAAAAAAAXh1mIEUzXEBtCtre3xMNQAAAAAAAAAAAU1J2CKfiuD8AAAAAAAAAAAAAAAAAAAAAkCygKadDwD+OIReVOS5rPwAAAAAAAAAAny8fBYkWB0AAAAAAAAAAAI5H7q/j3N8/AAAAAAAAAACQzUxvO/uKPwAAAAAAAAAAAAAAAAAAAAAAAAAAAAAAAAAAAAAAAAAAAAAAAAAAAAAAAAAAAAAAAAAAAAAAAAAAAAAAAAAAAAAAAAAAAAAAAAAAAAAAAAAAAAAAAAAAAAAAAAAAAAAAAAAAAAAAAAAAp9vZvIZh8z8AAAAAAAAAAAAAAAAAAAAAOddcYrLGP0AAAAAAAAAAAAAAAAAAAAAAAAAAAAAAAAAAAAAAAAAAAAAAAAAAAAAAAAAAAAAAAAAAAAAAAAAAAAAAAAAAAAAAAAAAAAAAAAAAAAAAAAAAAAAAAAAAAAAAAAAAAAAAAAAAAAAAAAAAAAAAAAAAAAAAAAAAAAAAAAAAAAAAAAAAAAAAAAAAAAAAAAAAAAAAAAAAAAAAAAAAAAAAAAAAAAAARyKD3MAnMUBAg/25Cr4gQE7B7ygd01FAAAAAAAAAAAAAAAAAAAAAAAAAAAAAAAAAAAAAAAAAAAA8+IlU7K5mQHiL876mwVFAAAAAAAAAAADixZ/EGFlUQMyXBh6UpVVAAAAAAAAAAACYUBElBKdIQAAAAAAAAAAAsIKqq4kSMEABfaog0X8TQAAAAAAAAAAAAAAAAAAAAAAAAAAAAAAAAPYaA22NzxhAAAAAAAAAAAAAAAAAAAAAAE66iV03Cng/AAAAAAAAAAAAAAAAAAAAAAAAAAAAAAAAAAAAAAAAAAAAAAAAAAAAAEFqCxjuJZE/AAAAAAAAAAAAAAAAAAAAAI/tU3hcRfI/AAAAAAAAAAAAAAAAAAAAAAAAAAAAAAAA8pQxplGlPEAAAAAAAAAAAAAAAAAAAAAAAAAAAAAAAAAAAAAAAAAAAAAAAAAAAAAAAAAAAAAAAAC2LnkEIvkRQM6t/AK8OPM/AAAAAAAAAAALvVp0SNI8QBrwNCIx6QlA3/sb568flD8AAAAAAAAAAAAAAAAAAAAAAAAAAAAAAADndYcBksLvPwAAAAAAAAAA",
          "dtype": "f8"
         },
         "yaxis": "y"
        },
        {
         "hovertemplate": "country_code=us<br>lagged_spend=%{x}<br>revenue_usd=%{y}<extra></extra>",
         "legendgroup": "us",
         "marker": {
          "color": "#FF6692",
          "symbol": "circle"
         },
         "mode": "markers",
         "name": "us",
         "showlegend": true,
         "type": "scattergl",
         "x": {
          "bdata": "+eQFBfIcOkCWmCrUYm1YQPxOyIlfbTBAv41bWLxcUECrfZWgFwY2QBcIC5nRsFpABvjzA46pMUCSyKoMatNKQINqgz5czypAyqaeK/wBWEB7/rIg/jw4QJNfbfNLAVVAt8UQBAZeMUBGqaTFyfpYQLLIEgNz1ixAAMCakPB0UkANP7MOXi9TQEETJmB9GztAXM6GY9+CM0DPEahFtN5TQAJkgspOfTBAWcBHGyNvUUBcaQEhbyhcQN5DS6b6HzBA+vMz56VZMkAEPCHDL45VQHLovuCNFTNAKwqCNEH4U0CrfD4hjWZZQP0UXTP3VSxAqj1u33Y9MUDTfM+J11VVQH1nU8PbIStAqx0JG9XgVEB7C11vsVlVQIo12NswWzdAIxp1Jv9/NkBrYeBccE1ZQMNfWW0+oy1AmDF3AdGbUUDYvAv7BUouQPvcwt5FulVAdlQbBLUjNUCurKSxUhZTQGLHynnyEzpApy1zrM1fUUCGymNSAvpQQKx4X0RttjFACgJKtUt0K0ATS1c/IQ1UQEwGfw+kqTNAoNxOjusOUkCehINDJw8wQNuPJqqxmFFAWykPK4scMkDEiMMny75WQHA9TkdJAzFA3KZGg2PpUUD6xa0YKbNYQCMI/BR3eDZAWD9mGDoGLUCoiMvUlIdVQA3HfF6Y7zBADB1Q5xmZSUD8I9MCbctYQMppgxiknDBAVD42b6ZSM0BDzk0eBItbQAAaT6mjzC9AcyE7MO+wYEAWMjahJwI0QO7/hCMSOlFAfZorumFVLEAcff1Mf4BaQBVbUH+kc1FAVHgE3+wNNkA9diXslCIpQC709tKgLU9AJwUHgpzmKkAe8Ha91MlQQN1UYyvbZ1VAYOFw3eIeJkBnVA01a1IoQB3aan8JB1lAi9xOjvgTLkDKTJuuCKxXQLRTi08/i1BAUuUB168CMUBczOQ0rkMtQOwLYTMQ7VpA9D1r8Jj6MkAeCRFN3fVWQK+uWbH34ltAnRakBDNhIEDz1qLG6jZUQFjInRLNGDJA6LflyAH3MkBHq04LbjVOQJF/aGbQDjNA/ctEC9xdU0CLEsmlk/VQQL87zrzxLDFASdyJRdhDLEAnhqo/tTJXQBUYhNFBvVtABlHOaK6vLkAnh0rq2XQyQBuGaV6twVZA",
          "dtype": "f8"
         },
         "xaxis": "x",
         "y": {
          "bdata": "AAAAAAAAAAAAAAAAAAAAAAAAAAAAAAAAAAAAAAAAAAAAAAAAAAAAAAAAAAAAAAAAAAAAAAAAAAA54qbFra88QAAAAAAAAAAADJLFsoZ2NkD6SRinH7HDPwAAAAAAAAAAAAAAAAAAAAAW02Ph5BccQNCjgScHSiRAAAAAAAAAAAAAAAAAAAAAAAAAAAAAAAAAUaJoLfb60T+AVDLgutMYQOevtYk1/htA7Bs45ntQ1j82kNonEIvEPwAAAAAAAAAAAAAAAAAAAAAAAAAAAAAAAAAAAAAAAAAAAAAAAAAAAABCqgSAfj1FQAAAAAAAAAAA8A7c4nTzkT8AAAAAAAAAAAAAAAAAAAAAAAAAAAAAAAAz9OgV5rbuPwpaLzEo0yxAAAAAAAAAAAAAAAAAAAAAABX54rdzEPw/oVtTYg2f9D8AAAAAAAAAAAAAAAAAAAAAAAAAAAAAAAAAAAAAAAAAAAAAAAAAAAAAAAAAAAAAAAAAAAAAAAAAAFBqla5fbfc/AAAAAAAAAAAAAAAAAAAAAAAAAAAAAAAAAAAAAAAAAAAAAAAAAAAAAAAAAAAAAAAAAAAAAAAAAAAAAAAAAAAAAMYR6789C/k/AAAAAAAAAAAAAAAAAAAAAAAAAAAAAAAAAAAAAAAAAAAAAAAAAAAAAAAAAAAAAAAAAAAAAAAAAADA0TUke6hDQAAAAAAAAAAAAAAAAAAAAABntFeI2FTBPwAAAAAAAAAAAAAAAAAAAABa+YWskQrnPzwjqvzZvOM/AAAAAAAAAAAAAAAAAAAAAOEtmU8NjkNAAAAAAAAAAACbJ6DxCkXWP140SIlN3Hs/AAAAAAAAAAAi0y4nIMJKQAAAAAAAAAAAAAAAAAAAAAA5wGfk2xagP9wgcyWVMfI/AAAAAAAAAAAAAAAAAAAAAAAAAAAAAAAAAAAAAAAAAADGJPefirPYPwAAAAAAAAAAAAAAAAAAAAAAAAAAAAAAAAAAAAAAAAAAAAAAAAAAAAAAAAAAAAAAAAAAAAAAAAAAl5Gu7KjVhD8AAAAAAAAAAAAAAAAAAAAAAAAAAAAAAAAAAAAAAAAAACzCUGC3sOE/AAAAAAAAAABYp8w6vDs/QAAAAAAAAAAAAAAAAAAAAADWwSQueC5XPwAAAAAAAAAA",
          "dtype": "f8"
         },
         "yaxis": "y"
        },
        {
         "hovertemplate": "country_code=gb<br>lagged_spend=%{x}<br>revenue_usd=%{y}<extra></extra>",
         "legendgroup": "gb",
         "marker": {
          "color": "#B6E880",
          "symbol": "circle"
         },
         "mode": "markers",
         "name": "gb",
         "showlegend": true,
         "type": "scattergl",
         "x": {
          "bdata": "9IU0i7khR0Ad9ZsHzOElQMhf2mJzwEBA0RhkXgtTH0ApJCfYPdhJQCMIdQKGUSJANItwq6mFNEA17pqTnKMlQErg76/W4ENAtPSB8NCvK0Ag4e9n60hFQHWvl7FtzyVANjlYmgPCO0DnSbjFJEYjQCrik6Lc1EdAKIl27Q12GUC8F8dU0HhFQPwI0eAleRpAxuHoabz0TEDAd6RbgTspQGqu2yfLn0lAYu7tHo0bI0DzMe1DecBBQCtJvahpcStA9rYMREztO0AtaPI/rlITQGSqBUclH1FA4n2vSIpqIECKiAjUrlomQBZOXKd620FADxqJXNBlRUDUQeXxTh4hQDYNTMyXFj5AnIRDlPOMHUARYSJhWQU9QAdEvgszSitAZTR1v4mrRUDcY5UYBWgjQDS+lz18fiRA1TxfAVeiRUD58yL9UshHQGCR4G9jwSJAxDWzMq0VRUA2RAhoJ9kVQD1IhyimEEhArzS/ZpkLGUDNHnXa/9JBQAsVl5+mxxpA2XGEECbBQ0ATPGQNiwUcQLZh2+4o6UNA8HoVSPgOI0B05qF87xpIQDwFmSr8TSRAV5Jl5dAwS0A0yLzaoyMYQOt/WNILjkVAU7IbT2iXF0DPBEGzaJxFQFAIcOmTsyJATyIUeMfSRkCcH955XjQbQLpxynB5mz5AoFkWLK2xJUB+wr9+GpZPQLo2bKQ0IydAUyln0ygxSUAOibwdrjAmQM4CUs1cKkZAe4XGDeSLIkDGzmXKEgoXQNjUhHe0RkRAmdKHXW87RECtBSJPRvsjQIp5HCkZwkxA8t9VPGShF0C4F5Eb2+k4QCRgXp9PfhlAxHA1yiPwRUDelum860QgQPLf0m+BYD9AW8cNyxe6FUAvFT3KRypEQIN/igru2x1AMRspJkq7SkCAK8MOzssjQKEfwZjmUUBAvslxoxRAI0DKn0y5TxdGQA+ARAkJIRZAIfocoOj/F0CYu2L6Ef1CQDVdr5cOk0BAyIK83zmZI0DPuKdsp4g/QL4ZZyDM4iNAaPwuKqFkSkBlPGF3OccnQGRtMJw07x5Axo0RMiHIQEAUpWVNmiRPQPV52ofvYRtArv7ILjbPS0AqDWsnZWglQO3unt31j0dAhdW49umiF0C3H4XcoRRFQOzg/7MR/iFA",
          "dtype": "f8"
         },
         "xaxis": "x",
         "y": {
          "bdata": "AAAAAAAAAAAAAAAAAAAAAAAAAAAAAAAAAAAAAAAAAAAAAAAAAAAAAAAAAAAAAAAAAAAAAAAAAAA9ftg34g+2P2N12V2TVhxAAAAAAAAAAAAAAAAAAAAAAO+mmE1EOy5AAAAAAAAAAAAAAAAAAAAAAAAAAAAAAAAAAAAAAAAAAAAAAAAAAAAAADEBKWcI0SJAHeIoukuc8T8AAAAAAAAAAAAAAAAAAAAAAqgkyMq4PEAAAAAAAAAAAAAAAAAAAAAAAAAAAAAAAAAAAAAAAAAAAAAAAAAAAAAAAAAAAAAAAAA4Rzquhz5RQAAAAAAAAAAAKBl1xH2E0j8AAAAAAAAAAENGNGq8rcQ/AAAAAAAAAAAAAAAAAAAAAAAAAAAAAAAAAAAAAAAAAAAAAAAAAAAAAAAAAAAAAAAAAAAAAAAAAAAegecVbi5RQAAAAAAAAAAAAAAAAAAAAAAAAAAAAAAAAAAAAAAAAAAAAAAAAAAAAAAAAAAAAAAAAAAAAAAAAAAA1H4gulCwuz8AAAAAAAAAAEhtIHcU4Yw/AAAAAAAAAAAAAAAAAAAAAEH5sQcz/zxAAAAAAAAAAAAAAAAAAAAAAM0r/0CoPEVACJpKf5Ii2j8AAAAAAAAAAOXLt+u1vSRABkY1F9nEMEAAAAAAAAAAAAAAAAAAAAAAAAAAAAAAAABul/zyqCodQAAAAAAAAAAAAAAAAAAAAAA+y7Yh1MrSP2c9oZc8PPA/vD1RZcG9a0AAAAAAAAAAAAAAAAAAAAAAelJZufBBVECqGGZNygFqQAAAAAAAAAAAAAAAAAAAAACLLfXNEa0yQAAAAAAAAAAAXXn9t2ZgXEB2MZAHc666P69pBwdti6A/AAAAAAAAAABttACJNvcGQAAAAAAAAAAAAAAAAAAAAAAAAAAAAAAAAAAAAAAAAAAAAAAAAAAAAAAAAAAAAAAAAAAAAAAAAAAAAAAAAAAAAAAAAAAAAAAAAAAAAAAAAAAAAAAAAAAAAAAAAAAAAAAAAAAAAAAAAAAA5P9be6cKTEAAAAAAAAAAAAAAAAAAAAAAAAAAAAAAAAAAAAAAAAAAAAAAAAAAAAAAAAAAAAAAAAAAAAAAAAAAAAAAAAAAAAAAAAAAAAAAAAAAAAAAAAAAAAAAAAAAAAAA",
          "dtype": "f8"
         },
         "yaxis": "y"
        },
        {
         "hovertemplate": "country_code=es<br>lagged_spend=%{x}<br>revenue_usd=%{y}<extra></extra>",
         "legendgroup": "es",
         "marker": {
          "color": "#FF97FF",
          "symbol": "circle"
         },
         "mode": "markers",
         "name": "es",
         "showlegend": true,
         "type": "scattergl",
         "x": {
          "bdata": "ltJLBfiuUkCk+Su1OiEdQGYJnAVH1UdAHOxTJY5eKECB46wLiJBEQNWM4dKSripATcLceJPrSUAs8tFeslAiQHDY6LPQmyZA/uJMFOZNS0D2RFOWERdEQNsto1feSy1AH3c5d+TZTkDg2VyxelEWQGHJ1m9E3yRAfUF89dRlS0A68vH8/2NSQD7VSA2Wxx1AZqVdrGdCJEARPD9FJHVIQEuQa46x30dAfWoc1dByIUBBRXah3FpOQEdYJbMLxidAfdcrI+GhIUCJ9/6fpYtKQC6z9apbr0JAF61MS9J8K0Bi7eEreXNMQJt3irxxXixAlPcCXY/xS0DuIoPa9LQhQDW+8pACbExA39BlzQuLHkBx4O5sSV5EQPBOWYo4LChA1bkLTml5K0AhfIqq2o9HQBr1ZWr1fEZAJ/ZZofQ1FkByRhnOAjVRQCRl8ylKOyJA0xWgtcHLJECvE4u0VEVLQM/pQsQGvUlA5X0iPbxfFkAR5A4VwhtQQOvnoZFH0h9AYEXYgSJzRkB9eKcDaycjQF3l0hNVlyZAKJhEPZDEQkDKTBootMRRQKPYBjSjVixAU17vtuCXSkBgPnGwrj8nQMDmDgQj+SBAKMlsdm1LS0CwjY4JaQ0nQMe2p83Wbk1AlehmZFZpRkDJ2VPE9KoiQI/uaIscGEhApAVr0xgwHkAn6/QVn59KQCgo2/l9wB9AGlDa1jOwQUDxfa0gJMYaQGhY4g5+ySFAV74sJy1rSEBqeDRsMhtEQEuvSDsvWSFAyLf2NtwJLUBq9XIJdKVNQFOqPiP+ZSZA4o2TSoI6PkDQjNipAEdEQKT1aa0D1SVAlrgKkKV5R0CA8WZK52srQIuIMSILVlZAzj613RuPIUADB0aT3pokQO5uQ0FpbVBAFCz2oUnOLkDZyUde/FIvQBFJh3EhaUlAPXe+sps9JUDng5KFpEcrQMUQkBYP7U5AUFBLj6CJUECXNfxMCIIjQPOdw8IsEkhAd7mLjxENKEDmGGbxlrdGQDzch4f7ayVAgEe7exd8KEAmQbY2/59HQMbAbukCyklAMGOhICHqJ0AhCtagh1RHQErL6zrXLSJAlzBG4rhXKUC0a32AJVhJQBjFtMASEkVAV0EVJfgMI0Df+ij8atgpQErlvAZzYkdA",
          "dtype": "f8"
         },
         "xaxis": "x",
         "y": {
          "bdata": "AAAAAAAAAAAAAAAAAAAAAAAAAAAAAAAAAAAAAAAAAACGJjx72lywPwAAAAAAAAAAAAAAAAAAAAAAAAAAAAAAAAAAAAAAAAAAAAAAAAAAAAAAAAAAAAAAAPw3aYO1DbQ/AAAAAAAAAAAAAAAAAAAAAAAAAAAAAAAAAAAAAAAAAAAAAAAAAAAAAAAAAAAAAAAAAAAAAAAAAAAAAAAAAAAAAAAAAAAAAAAAAAAAAAAAAAAAAAAAAAAAAAAAAAAAAAAAAAAAAAAAAACE5hIFf2xXQAAAAAAAAAAA7rbgyg8S4D8AAAAAAAAAAAAAAAAAAAAAAAAAAAAAAAAAAAAAAAAAAAAAAAAAAAAAAAAAAAAAAAAXzURxgvVcQAAAAAAAAAAAAAAAAAAAAAAAAAAAAAAAAAAAAAAAAAAAAAAAAAAAAAAnZKwH19SkPwAAAAAAAAAAAAAAAAAAAAAAAAAAAAAAAAAAAAAAAAAAAAAAAAAAAAAAAAAAAAAAAAAAAAAAAAAAAAAAAAAAAABGjHl6Pk0VQO2zDgptdUtABF8gQnmYzD8rjkTuzSwgQAAAAAAAAAAAAAAAAAAAAAAAAAAAAAAAALfxVnqMbT1AJtbWKxVGYkAAAAAAAAAAAJ8eb8ec2FRAAAAAAAAAAADIzEIbQRgdQLAmj6TWeog/47WWP0fCJEDjkb1ChcLwPwAAAAAAAAAAAAAAAAAAAAB9sdUQPhjOP1kHXT3OV15AAAAAAAAAAABqiD9HOTePPwAAAAAAAAAAAAAAAAAAAAA11BNSpR9hQAAAAAAAAAAAAAAAAAAAAAAAAAAAAAAAAAAAAAAAAAAAAAAAAAAAAAADpIZogNFVQCEq8UEV5lhAAAAAAAAAAACWdpIV3MliQAAAAAAAAAAAW+qIcE/C/T8HfgFVwjaUPwAAAAAAAAAAAAAAAAAAAAAbQYqM1rvQPwAAAAAAAAAAAAAAAAAAAAAAAAAAAAAAAAAAAAAAAAAAAAAAAAAAAAAAAAAAAAAAAAAAAAAAAAAAAAAAAAAAAAAAAAAAAAAAAPEvB4qmm0dA+H4PuyQDJUAAAAAAAAAAAETLaj+xepE/AAAAAAAAAAAAAAAAAAAAAAAAAAAAAAAAAAAAAAAAAAAAAAAAAAAAAAAAAAAAAAAA",
          "dtype": "f8"
         },
         "yaxis": "y"
        },
        {
         "hovertemplate": "country_code=ar<br>lagged_spend=%{x}<br>revenue_usd=%{y}<extra></extra>",
         "legendgroup": "ar",
         "marker": {
          "color": "#FECB52",
          "symbol": "circle"
         },
         "mode": "markers",
         "name": "ar",
         "showlegend": true,
         "type": "scattergl",
         "x": {
          "bdata": "TfvTfEkDK0AkXB/J3gRIQIX1rBHcSUtATLqJDyjcIkAHQLj68T8rQMzdZ5jUL0xApL7rZJ0DJUCoYzEY0ic/QMTH9vlGIyRANcFSNmKHVUD0X1D7CiEjQICI2DWWvElAb7TjfblDF0DdLnzVVFJOQHBuKb19/x5AZHeKRo4cSkCrxGiHNZVJQGXs+b1xbSxAnggHpQamJEAQsSetns1QQF2kmMyuESpAh/d+0aO8TUABC63X7TtRQLJ/NyIHqSpA9rcqEUrAS0DC2nJ9S7sdQPe7pOW4HiVARcowszhcSUCi3I++5PQVQA+accjKIUpAQUk8jaT/JEDW2kfuyMpIQGRiaqhBjh5AIVHc++MfSkDZURTKC1FUQEFhwRMcsBRAhXBmCqr0G0DOfLhkVNNPQL4UqIAgNiVAvHYF9T/mTUCZ69n1L18mQGRfWEYT+01AodCX8mZcLUCctw7nHDFMQOw/qLMXlSZAxmEKVA1cRUBu7BBSWiVGQLY8NBkOfRlAKaFlsGs1IUD5oe9TgkNCQI3BstsHFyRA///yJGW9T0C19DMX22EiQKcTHpmnBVFAxl36zvHDIUCzNQwckppDQN1u6tNaniBAadBPgSnBSEA9sAJ9EAMkQGeDoWHkt0ZAkZMQEqiuIUDLhSP385VIQGABzhV2tEVAKCXzr8MyI0CztZT5FLUlQGgFLNotpVNAVfnGQc4LJ0CLCumw3apJQAf5S4kSUilAN0cKZp1sUkBFrbW4tXAUQNIRV406gERARJZH1g05I0AjOzhobTJIQP2tWpELQSBA2BFQqSY3SED2Hi8kqi9FQP8w60Z1sCNACAcoCMl7I0DQoiyTSHFLQJaFENcA7EpAKu3Hy4UfKkCKUfh7YEoeQDc+LNp0z1BAP1QMFuz5IkAO8+Xx595NQGoiOqYPoTtAqAPW3LbHIECgSk36COslQNroSRKOeTxAVMDzOmMNIUATc+V3VPlOQMbFmWh2zyJAXxcnHmvDTECY7OXTZZBJQDbtmw9glSdAA+zw3Ei0H0Bm01/A7oZKQDrliAg7zSlACj1PVwJjQUCHLktZH6kfQDrk9Xgt2UhAAQOiUv3bIkCF4ut5mPJOQG9EI+VkwCZAG2vuVkfgSUCkgvONvfRKQN41sQvxfhxA",
          "dtype": "f8"
         },
         "xaxis": "x",
         "y": {
          "bdata": "AAAAAAAAAAAAAAAAAAAAAAAAAAAAAAAAAAAAAAAAAAAAAAAAAAAAAAAAAAAAAAAAAAAAAAAAAABshv7jbIJHQAAAAAAAAAAALS9etK/R1T8AAAAAAAAAAAAAAAAAAAAAAAAAAAAAAAAGAFe1zn7DPwAAAAAAAAAAAAAAAAAAAAAAAAAAAAAAAJYYZZCUiuc/AAAAAAAAAADbuv2dh/KRPwAAAAAAAAAAAAAAAAAAAABKvQqh35rPP+e3aMDBuilAAAAAAAAAAAAAAAAAAAAAADUZiCZgGE9AAAAAAAAAAAAAAAAAAAAAAAAAAAAAAAAAAAAAAAAAAAAAAAAAAAAAAAAAAAAAAAAAAAAAAAAAAAAAAAAAAAAAAAAAAAAAAAAAVDnT1ezDUUAAAAAAAAAAAAAAAAAAAAAA0nRHGbZR/z9bbEwlbTOrPwAAAAAAAAAAAAAAAAAAAAAAAAAAAAAAAAAAAAAAAAAAAAAAAAAAAAAAAAAAAAAAAAAAAAAAAAAAAAAAAAAAAABqMV3A5+/xP0c4gYMVjn0/AAAAAAAAAAAAAAAAAAAAAJ+0EsPcqZE/AAAAAAAAAAAnL4lyhl1IQAAAAAAAAAAAcyKwDImrFEAAAAAAAAAAAHwMaoGNWzBAAAAAAAAAAAAAAAAAAAAAAAAAAAAAAAAA2nhJ2xkJuz+WoZTbploXQAAAAAAAAAAALdxU+7upBkA5lxVRFkq7P8QojdwsZeI/PhnkgMjeMkAAAAAAAAAAAAAAAAAAAAAAAAAAAAAAAAAR+FO43o1XQAAAAAAAAAAA1MJEMYxauz8AAAAAAAAAAAAAAAAAAAAAAAAAAAAAAAAAAAAAAAAAAAAAAAAAAAAAMRBXL/8ZRkBB1aJgW4wyQAAAAAAAAAAAAAAAAAAAAAAAAAAAAAAAAAAAAAAAAAAAc8FdBSuvV0AAAAAAAAAAAAAAAAAAAAAAAAAAAAAAAAAAAAAAAAAAAFullXMIljJAAAAAAAAAAAAAAAAAAAAAAKfLTLpf3sw/AAAAAAAAAAC3cFi1epwyQAAAAAAAAAAArOK3JU/M2T8AAAAAAAAAAAAAAAAAAAAAAAAAAAAAAAAAAAAAAAAAAAAAAAAAAAAAAAAAAAAAAADk/ik5H6xUQAAAAAAAAAAA",
          "dtype": "f8"
         },
         "yaxis": "y"
        },
        {
         "hovertemplate": "country_code=br<br>lagged_spend=%{x}<br>revenue_usd=%{y}<extra></extra>",
         "legendgroup": "br",
         "marker": {
          "color": "#636efa",
          "symbol": "circle"
         },
         "mode": "markers",
         "name": "br",
         "showlegend": true,
         "type": "scattergl",
         "x": {
          "bdata": "LagEM7ajJkB7zrXkiGRIQAi/rY/NciZAgA/OBbKsT0A9lbbYJQIoQAFUEbd3y05A4PK/SiZUKECqP9OYftlQQEgC6iEvlx5AixgtjhApTEAXNI58nTAjQGureGdDCFJAomsG+IxyFUCuimUVhgU9QPDqRtHQfjBAADFL9sbIQ0BDkW/7VCkgQFF528IU+VFAWJI18aVfJkAlOR0f3K1FQD2xlz9rNS1AdNLeobtyQkA5cI/3TzwSQN+DG2Gtx0JAZkAjTRduI0CwiXhYkAFBQGVNFOhv9CZAZuTdfX0jUUBxr9C+nfcmQNZkcpYKl0VAuYKef6EjLEBNkdTs8K9OQPEviPmH5CJA7/wsgAT1SED+pDpu4T4dQC7Mh6/szkNAnBre8dL8KkDww9rAAnNKQBVCTwXmChJAYYQFtie0S0ACrNNM4HQcQNMWN7LD40JAfONmC2JiK0AibRxwamw0QFQu+sQtvxlAyi15W0N7S0DaCrLaJdYhQJNHewTWh0dArYuSEd+0IEA5AoxnSMJQQJ20AQSXZxZAEgMti96QTkBMXZyV9KclQOD2FDcRSEBAwxJQL+3KIEA61eHa7ApCQBjgJY6eOSJAfzn+qrGMNEBCS6LaMb4dQGQAxzMv7E9AFCNBTZ9mK0ChAvlh7NtTQDVbKl7gbiRAeS46hrt4UEDiARTpzA0bQC2505fzwEBA6bIOWbwJK0B/TDU8M2xNQKFOHrFnwidA8j3AIs5ES0D0Lye/k3EmQPShWf1YF0BAbuj43DDSKUDQhSzST3dPQM4qUE3CnxxA8dZxHX7GSkA2kRf3WPIKQANyE5JQX0xA6TaQI1WPH0BtAbkeXDFGQKNWAxv7QSRAuhcTZF66RECYJt6T7/QlQIi+nwecnkdA4yHHMjvrJEDGt9ODxpFNQKJeBMnSQyFABojRJXjoTED4qhGIS1AlQIANIMTeS0pAtK290a6bJ0DvFLeFEQFJQF2uCSLeHSNAFP6Cxl5jUkD+G+9aJlwkQHdhBk499DtAaeo0Z9MlKkA2jRn/CvJAQN83uq/bpBlADiJdlpJnR0DEDqk6XbolQK7PtANHfFBAVKU/Sa9uIkDB70hlGNRHQKN0OgvLZChADPEARhE+QkD76Xrn3KBOQHjf+uq5GhtA",
          "dtype": "f8"
         },
         "xaxis": "x",
         "y": {
          "bdata": "AAAAAAAAAAAAAAAAAAAAAAAAAAAAAAAAAAAAAAAAAAAAAAAAAAAAAAAAAAAAAAAAAAAAAAAAAAA704UV1rDXPwAAAAAAAAAAAAAAAAAAAADqyGa06sMbQAAAAAAAAAAAAAAAAAAAAAB4fgXnri4mQAAAAAAAAAAAAAAAAAAAAAAAAAAAAAAAAAAAAAAAAAAAAAAAAAAAAAAAAAAAAAAAAAAAAAAAAAAAAAAAAAAAAAAAAAAAAAAAAAAAAAAAAAAAuhfYEMji4T8qFUdTZDSZPwAAAAAAAAAAAAAAAAAAAAAAAAAAAAAAAAAAAAAAAAAAAAAAAAAAAAAAAAAAAAAAAAAAAAAAAAAAAAAAAAAAAAAAAAAAAAAAAAAAAAAAAAAAAAAAAAAAAAAAAAAAAAAAAAkr7yV5HIU/7a0k2ccoOUAAAAAAAAAAAAAAAAAAAAAAAAAAAAAAAAAAAAAAAAAAANNZjchwhU1AAAAAAAAAAAAAAAAAAAAAAC2Cz+4Fxrw/AAAAAAAAAAAAAAAAAAAAAAAAAAAAAAAA17UZiFCePEAAAAAAAAAAAAAAAAAAAAAAee80d13c/D+2hCfXeUhcQC21t0q9Bvc/SKe/GZOHYkAAAAAAAAAAAAAAAAAAAAAAshF6MipHNT8AAAAAAAAAAAAAAAAAAAAAAAAAAAAAAADNBfneLjcTQFGblGc8OWlAeUxVoUVQYUAAAAAAAAAAAAAAAAAAAAAAAAAAAAAAAAAAAAAAAAAAABzAR5WQRJs/9YCHZ7kUY0BEzJ9YQUAYQKhXGcmY62U/AAAAAAAAAAAAAAAAAAAAAAGGgZchihxAAAAAAAAAAAAAAAAAAAAAAAynGj85fRZAAAAAAAAAAAAAAAAAAAAAAAAAAAAAAAAAAAAAAAAAAAC8Z7z9x0ZXQAAAAAAAAAAAV11pVSOjBEDerujoIVpWQAAAAAAAAAAAAAAAAAAAAAAAAAAAAAAAAAAAAAAAAAAAu41jhyq2nT8AAAAAAAAAAAASXV0Rsi1AAAAAAAAAAAAAAAAAAAAAAAAAAAAAAAAAAAAAAAAAAAAaUsvFbbAAQAAAAAAAAAAAAAAAAAAAAAAAAAAAAAAAAAAAAAAAAAAAAAAAAAAAAAAAAAAAAAAAAAAAAAAAAAAA",
          "dtype": "f8"
         },
         "yaxis": "y"
        },
        {
         "hovertemplate": "country_code=ca<br>lagged_spend=%{x}<br>revenue_usd=%{y}<extra></extra>",
         "legendgroup": "ca",
         "marker": {
          "color": "#EF553B",
          "symbol": "circle"
         },
         "mode": "markers",
         "name": "ca",
         "showlegend": true,
         "type": "scattergl",
         "x": {
          "bdata": "q+6hIVbMIEDF45oW7TJIQF56u92CmSNAg73Iu7VdRUDdc5WY7uYlQOIiRu2730dAu7W9iUCOHUCOya3AXhNBQAmxLoeZ6ipALuUgxReyQUB5a4cCcREzQH5T/DZS90xAktGbIVlMMEB2T5VqrAxOQLdkQYdufypAbycbGt6kS0BiFv98GQkmQCUh3XHEjEBA3hdDnuC7SEBLvG/b8P0sQJ6MqtzjsERA9eotQW9WIkAylkoC/5ckQG7x5VV+mkJACBIBVs28K0Aky/S83C1OQEf2nHYjk0hA36DFv8QeIECGsbRdA69JQFiflxmlkCtAYYIJts7/KUD49bAT9XRJQJKuFlLN/UdA2YjwawuoHUCWwMO7AzUZQPjcE1pp1kdA672GUXvSJ0AMUBmxT+BJQKjlG1NLwE1A1b5QzlyEEEDnQqKBeh8ZQI1+3OQL3UhA4//yIDNwTUA7GwXVa7UjQO5OdprqCkdAaPtKwy6JI0Cpkk6wPvUoQFsBoX0Dtk5AyA3hCz1pI0BTBtu5sLBEQDdniuNq3CRAyKlzxEGYSkDcFMmAxMglQCEJ9h+49EVAYUtiZA3BHEAzTw69skBNQNMqBbHXgSVAqkHkq84YSEBioFkiBGEnQEKALUjtRE5AWSfORvb9HUDUoB5ryoxIQCjAzg1UQShAMXHawyhWRkBNN9yZlwghQDU3XmxMDEVA/22S0iY+KUBqEjE9WPlEQEMFJc8LFydACc1sWN4IUUA2TaxPJeggQPPXgXS3x01A4psHR9CfI0BcYGMpShJKQGSueN/G7SFAsODsHUgwTkBH8xqqQcYqQNq+DJ4ULEpA7lIPwrl4RECURFeNvbomQHGG83F2wiVAZF2nxwn3TEBnIc8m6CZEQL1hAigZmR5AbH5Vd8ZlTkA4Ao8Os28pQLACFvnLOyFAamIDNYunUUAyk3r3KckjQEeHRmBdYFJAi8YIH71mTEBnN9GwS48jQG9ZpCgC4iBAzT7pJz+zR0D3x3F/7mQnQEh7OkVOuElAkbNGYXWyJ0AWjb/BTINSQPYvlX1LxT1ADWXmJWjOJ0B6EUUdzB4lQPIn2bD0J0BAHKfFAeTHNkCwGHrxVJ4kQIr2IAoZ3yNA3mFpTMsTSUB7k7OGxlZLQDL1kpkeDSFA",
          "dtype": "f8"
         },
         "xaxis": "x",
         "y": {
          "bdata": "AAAAAAAAAAAAAAAAAAAAAAAAAAAAAAAAAAAAAAAAAAAAAAAAAAAAAAAAAAAAAAAAAAAAAAAAAAAAAAAAAAAAAAAAAAAAAAAA0OpVZFaZ1j8AAAAAAAAAAAAAAAAAAAAAAAAAAAAAAAAAAAAAAAAAAAAAAAAAAAAAAAAAAAAAAAAAAAAAAAAAAAAAAAAAAAAAAAAAAAAAAAAAAAAAAAAAAAAAAAAAAAAAt6jLCwpz1z8AAAAAAAAAAAAAAAAAAAAAAAAAAAAAAAAAAAAAAAAAAAAAAAAAAAAAAAAAAAAAAAAAAAAAAAAAAAAAAAAAAAAAAAAAAAAAAAAAAAAAAAAAAAAAAAAAAAAAAAAAAAAAAAAAAAAAAAAAAAAAAAAAAAAAAAAAAAAAAAAAAAAAAAAAAAAAAAAAAAAAAAAAAAAAAAB3Kvz8qjYvQAAAAAAAAAAAAAAAAAAAAABiuPZl/HIhQAAAAAAAAAAA9upT8Q8udD8AAAAAAAAAAAAAAAAAAAAASFIvkWhDkD8AAAAAAAAAAMEsqbxF5EhAAAAAAAAAAADA/BI4QylMQAAAAAAAAAAAJs7mkMMEmT+MCN2INv1FQJxHAOm0gPA/AAAAAAAAAAAAAAAAAAAAAAAAAAAAAAAAAAAAAAAAAAAAAAAAAAAAAMAoFuQ2y8o/NYQvfca0REAAAAAAAAAAAAAAAAAAAAAAWoA34lWUO0ClfitG4CAlQAAAAAAAAAAAAAAAAAAAAAAVaBSRRSUBQAAAAAAAAAAAAAAAAAAAAAAAAAAAAAAAAN9D27BVQgBAAAAAAAAAAAAAAAAAAAAAAAAAAAAAAAAAAAAAAAAAAAAAAAAAAAAAAAAAAAAAAAAAAAAAAAAAAABfNLw7VWQlQLvYbCLnoNE/MTiOY44IPEAAAAAAAAAAAAAAAAAAAAAAAAAAAAAAAAAAAAAAAAAAAFrqRNBVbto/AAAAAAAAAAAAAAAAAAAAAAAAAAAAAAAAH3FrG0AoTUAAAAAAAAAAAAAAAAAAAAAAAAAAAAAAAAAAAAAAAAAAAAAAAAAAAAAAAAAAAAAAAAAAAAAAAAAAAAAAAAAAAAAArP0gXCpEI0AAAAAAAAAAAAAAAAAAAAAAAAAAAAAAAAAAAAAAAAAAAAAAAAAAAAAA",
          "dtype": "f8"
         },
         "yaxis": "y"
        },
        {
         "hovertemplate": "country_code=cl<br>lagged_spend=%{x}<br>revenue_usd=%{y}<extra></extra>",
         "legendgroup": "cl",
         "marker": {
          "color": "#00cc96",
          "symbol": "circle"
         },
         "mode": "markers",
         "name": "cl",
         "showlegend": true,
         "type": "scattergl",
         "x": {
          "bdata": "ECMk1R/jJEBm62HoVDpDQLYK1A91QypABnsnKlueUEAIywWGtnQmQCO74d0J8EVA+hVQpBKUS0DjSIEmh9ctQFZwgX7MvlBA69+aR4WhFECBfyjHh21KQISjBZ8PEShAmg5hMffJREBHuDTh5+gpQLBjkFNvgEpA+wBhRFyXKEDxOZohHYJCQE8EB7qzBSNAeCanbuO3LUBfHTD33WlEQCm0Uzvi8hpAXvxxoTlvRUDR3aSZV6QhQDQ1Nr+r0U5AM138zDoDKUCzOWmSQjJMQBQbI7F89SNA0YuuNrZLRkB7yKHI72pNQGZAno2v/ChAVb5LuY0iUkAmHIICLb0jQAvV7HQdKSVA8ERuVuQER0CpuktNbYEwQOGxk6LO+E5AQDJ76PzpE0DZR0ne5nhFQDvvGctgQUlAbDXiSFlhJUBGJfZIFXsnQOdIvuEj8EVABRHBUsCrJkClGuqfbZhNQFgWe4tUbxlAxgsyFFQAQEAjgMAz4uohQGD0+5+OTURAHwwLWeOjSkA1Rp6tGZslQAvQ7T6CY0VArA3QViKrIEASuas3JfJIQDAlkUOacStAMVc/7YiNRUDsEzpjX0UjQG3QOU/oCEJAio/taiEMI0AHR75F/5pIQMQODL2duR1AadJjYD8fREDAJGjoL5YlQAPxweTAGx5AzcfUD3MyTEC2XVEQ4cw/QFWMVvYLCSRAtsZonEzxQ0CktBO5Q34fQARf+fz3ik5AHge7anvjIUAUAPhZKSJRQK+7E4lSZBlAA1LTWirFSEAYwLuX6pIiQIZzCUigk0ZARq0YH6UxIUAOD2FMR38bQECIEidan1JAJFzx1EkgJEDR+NflsUBPQCpJMB11EyhAnZvmiJrBUEDq2VxKx0weQAyKNYPbnUlAvm6Lq703LUCkuBL6Aj5DQOgw/DlPESNApS5/iewUREDRDvrkgFgxQGsDhoekfUpAmjdu0vlyS0Cf2ncUU9EgQAXv4BFgmEpAjQh947KMJ0BrOr4mstgoQO1Hea/sy09Ap1nHy/qdKkDkCfAGao9CQAQUNRkrm0VACXf2eFS8J0A+clVBqr9HQFyie82x0iFANcCED/xyIkCAkfI3xuxMQPOiVUV6iEhA9XV4345oIUByQeHAa4VEQIhwpxrsWSdA",
          "dtype": "f8"
         },
         "xaxis": "x",
         "y": {
          "bdata": "AAAAAAAAAAAAAAAAAAAAAD6wM0MB3zBAAAAAAAAAAACeppB7gWuFPwAAAAAAAAAAEQXjDsBtQ0AAAAAAAAAAADFKeFzJVgRAZ6hBMaCZkT8AAAAAAAAAAAAAAAAAAAAAAAAAAAAAAAAAAAAAAAAAAAAAAAAAAAAAAAAAAAAAAAAAAAAAAAAAAL0RarwNW6M/AAAAAAAAAAAAAAAAAAAAAAAAAAAAAAAAAAAAAAAAAAAAAAAAAAAAAF5paP3b3tM/AAAAAAAAAAAAAAAAAAAAAAAAAAAAAAAAAAAAAAAAAAAAAAAAAAAAAHK4YjXrPJw/AAAAAAAAAACN5RGoV/ktQOKtCHbdNNY/6oOza/Jcsj8AAAAAAAAAAAAAAAAAAAAAAAAAAAAAAAAAAAAAAAAAAAAAAAAAAAAA4gL8b3n9O0AAAAAAAAAAAAAAAAAAAAAAAAAAAAAAAADXI7uZb4U4QHWad60IsEBAAAAAAAAAAAAAAAAAAAAAAAAAAAAAAAAAXVT6hEn/qj8AAAAAAAAAALxHW4ItWwRAYf/aRFEyxD/mimXnmc99PxHXi38kGaM/nKG7QaSRkT8XNi+++kE7QE8HxCo85gNAAAAAAAAAAADji3+8YzMiQMpXh28yIaY/Px21wPdimD8AAAAAAAAAAP5Q6wSzWOg/AAAAAAAAAAAAAAAAAAAAAAAAAAAAAAAAFu4yUtDQN0AAAAAAAAAAAIJgjFjG9/w/CKmUChicOED2ApgEPUQ5QAAAAAAAAAAAAAAAAAAAAAAPDYlXbBJHQAAAAAAAAAAAGM1nSw3NQECb0eg4j3A3QAAAAAAAAAAATFfiblncxz8AAAAAAAAAAG0eL2IjwURAAAAAAAAAAADu2B2oYb6nPyEIH78GVPw/AAAAAAAAAAA2QLnBP27jPwAAAAAAAAAALWMs4SLy0j//1F26+S9/PwAAAAAAAAAA6g2DeLmBMkAAAAAAAAAAAAAAAAAAAAAAAAAAAAAAAAAAAAAAAAAAAAAAAAAAAAAA+6IkXQOaREAAAAAAAAAAAAAAAAAAAAAA1JSYnuFxIEAAAAAAAAAAAOPam+09gD9AAAAAAAAAAAAAAAAAAAAAAAAAAAAAAAAAAAAAAAAAAAAAAAAAAAAAAAAAAAAAAAAA",
          "dtype": "f8"
         },
         "yaxis": "y"
        },
        {
         "hovertemplate": "country_code=co<br>lagged_spend=%{x}<br>revenue_usd=%{y}<extra></extra>",
         "legendgroup": "co",
         "marker": {
          "color": "#ab63fa",
          "symbol": "circle"
         },
         "mode": "markers",
         "name": "co",
         "showlegend": true,
         "type": "scattergl",
         "x": {
          "bdata": "zgN7WEX2JEBZvLUNm2lTQClMRGwIfyRA1ZK6e7VVUEA1IC0e5LchQBfx1C+TQk1ApKNFsWoqIEBYm7MlMK5WQA2jtO2dUihAJ8Az0PejSEDlwGaZ8vYiQFZBeV9cxkNAO+RVfBryJkDBUDxviSs6QCm5Zg+xqiFAu4aBircmUEC8Z/JyDZQrQHxdRC4ALVFAfDcQShN4IkCX1/IAPqtHQNz2tLAtWiRATiksxaw2Q0CRmZdpNFwrQDwOby2z60ZA8YaZyAvQLkD+m6ZStp5QQIHZYanUgSZAu583GsmvQkCDWn2ceMEcQOr4OVhDqlFA8bnuw9CBH0Bgi7liAlFIQPMjIkPc5yNAeuz7olpHSUBT6l4jZZAqQPBzLl+n0EtA00E2eAyyFEDQ944SMeZIQJ/oxl3VTiJAGru/Th+OS0Ayzd47I+oeQIgymZAgpk1ABSTHWeqTFkA7aTLOunVOQAbQk7atiyFAP5+jo9bSRUCpnll9klwkQIhvUJAgakJAC5ks1f1MIEAyCy2qjttPQEPC7kkjuipA+gFodv7mSUC71rKIppErQOr5f6QlgktAt6AM81DIIkBIOMxHLRJLQB8cAyHb3gtAe+PH8VQZSECI85vMFa4jQLxWpoiod0FACvmAp6boGECYaywQ36hKQD44U/nJKytAsdLUvELXRkBgxF/1jG4lQCA4SwdUZ0xAiZjN+v96L0BqrOta3wlQQA3IP3xw4yRAzLxr03RTOUBqdb43By4nQBTCSX3lu0NA7Z9PJ9aeIkD2+Hmw5jRIQCL05smi1yBA266nsXHaQUDpLoZ4rZErQAgU+tOEAkdAkX8brN0PGUDO4RLGvfJNQG4nVB6iVyRAPI/khMNpUUDwDNMN6J0iQIpkoOKJukhAye515meuH0CKQxScutU8QCl2GH7UKSdAkrD6eFF9RUD/fHYv4ggtQNhVa/Ccb0xA50XWVq6hLUA89EjJzvJDQNjKJwNmjSVAUv8CKfa/TECKKcj7+PclQFa7eIMYekhAvhpi+9MhI0C2YL+YoHtNQCr76fSJ8B5AxgvIfYLwTkAs/EZ1BpIuQDETkDvwmlJADeO9kkALJUCeOc2tVFdCQPKlFLpArxhATdYZESUTUEAY1roJGk9KQFP/Z7EceydA",
          "dtype": "f8"
         },
         "xaxis": "x",
         "y": {
          "bdata": "AAAAAAAAAAAAAAAAAAAAAAAAAAAAAAAAAAAAAAAAAAAAAAAAAAAAAAAAAAAAAAAAAAAAAAAAAAAAAAAAAAAAAAAAAAAAAAAAAAAAAAAAAAAAAAAAAAAAAAAAAAAAAAAAAAAAAAAAAAAAAAAAAAAAAAAAAAAAAAAAAAAAAAAAAAAAAAAAAAAAAAAAAAAAAAAAAAAAAAAAAAAMun1GuS4KQAAAAAAAAAAAAAAAAAAAAAClIHKA9YRTQC4pGEeigFtAAAAAAAAAAABBnWDREluwP870DsMVN2xAAAAAAAAAAAAAAAAAAAAAAJSn1d8hKrU/AAAAAAAAAADVYoBzuYBGQAAAAAAAAAAAAAAAAAAAAAAAAAAAAAAAAAAAAAAAAAAAAAAAAAAAAAAAAAAAAAAAAAAAAAAAAAAAAAAAAAAAAAAAAAAAAAAAAAAAAAAAAAAAAAAAAAAAAAAAAAAAAAAAAAAAAAAAAAAAV8+iW5dhIUAAAAAAAAAAAAAAAAAAAAAAAAAAAAAAAAAAAAAAAAAAAAAAAAAAAAAAAAAAAAAAAAAAAAAAAAAAAIm2VRZErAdAAAAAAAAAAAAAAAAAAAAAAAAAAAAAAAAAAAAAAAAAAAAAAAAAAAAAAAAAAAAAAAAActGGgaraN0AZXRqrM7oXQAAAAAAAAAAAAAAAAAAAAAAAAAAAAAAAAAAAAAAAAAAAeY7T8pgF6z/3x01LdgshQAAAAAAAAAAAUM1iZGpSTECI62HFTclOQMgO/0pEFfc/AAAAAAAAAACCY5HmE8fAPwakUlQrscQ/AAAAAAAAAAAAAAAAAAAAAAAAAAAAAAAAAAAAAAAAAAD6ZNTkhEPvP+pd5/yleyBAAAAAAAAAAAAAAAAAAAAAAPfdHb8Qjtw/vumRUfh2Q0AAAAAAAAAAAAAAAAAAAAAAAAAAAAAAAAAAAAAAAAAAAAAAAAAAAAAA2cz0zLsNUUAAAAAAAAAAAAAAAAAAAAAAAAAAAAAAAAAAAAAAAAAAAAAAAAAAAAAAAAAAAAAAAAAAAAAAAAAAAAAAAAAAAAAAAAAAAAAAAAAAAAAAAAAAAAAAAAAAAAAAAAAAAAAAAAAAAAAAAAAAAAAAAAAAAAAAAAAAAAAAAAB3OgKKJU4xQPQe+YB9RURA",
          "dtype": "f8"
         },
         "yaxis": "y"
        },
        {
         "hovertemplate": "country_code=de<br>lagged_spend=%{x}<br>revenue_usd=%{y}<extra></extra>",
         "legendgroup": "de",
         "marker": {
          "color": "#FFA15A",
          "symbol": "circle"
         },
         "mode": "markers",
         "name": "de",
         "showlegend": true,
         "type": "scattergl",
         "x": {
          "bdata": "5m4AxfeLM0DGQwZ3jRZXQL4rN+yiSzZAtY4zHGJtUUAOCmKI46wxQBPfXdN6N1VAvU5YNNHfNUCaYM550tRUQHxsVzuglDZAoZNQuoumVkA4Vo3yAEwqQNFb+YtB51JA2NWMHbzUNkCRRtpsG/hNQELISdXVPzJAvozDtrAkV0AkYTy/EsQyQEY/yjORzlRAciNfQxSJJkDoz1c129NQQOtoGq+AajJAM+uG28RfU0Cex/qK+pcwQBdfAi28TlFA+G9OObFlLUDdAGmoPhBVQEKWt6XoQTNACYkmkJSNVUCKWmb3QPwvQEUs790YqFBAREPYbKGxLEAOsVCldZRcQPSVyt5p2zFAgpG5KuQLUkAL0PjfJfosQGmtHLDi9lNA9H4LO1AlLECSroCH5PtYQHS0ILAwPTJAQejUEOiRWEBxB5wrRyU0QB6RKnjVokxAKJxRm3gdNkAeY6fTceVZQFBJHX7BfjFAGXDq5WUqVUCb2nlJzLoxQEtJs5xG3lVAYQALqMe/JkB43arg/BlYQADSnhNeTCtAOZ7J29IBUkD5cL/OsmgwQOWZd+OcdU5Ar7F+86EnMEBmigi3wYhRQGeA7a+d2DFAgpnUAyGJTECiTj0MdF0xQBTK/AkHyFJAv4NkxRChM0CPUcdst6BTQA7jnM+6jzJAmCqjc2XKUUBOoA8bWH8xQLjmpLnXYlVAeDbXYiuUKkDvJijTmcRYQDNVNatmUShAwXL8bACwV0C7KGVSGl0zQFqvGew5XllAVaetv+MvMUBmvlDjpLtOQCCRkhIGYDJAyzj8fBHDSUCvcyud2WY1QIA0EONruFJA+LnAEUN5K0A+W/yNFIxTQJBfZ97aai5AQqPabIwKUkCpJpQgwZEsQOBjMVn5NlFAtovcdqj0L0Dcgo1SOjpZQHKAlymVZTRAT1BBQJorUkC86Boi5es2QKFJ9RFlmUtAqO6f3Qp9NEBL6mgsKYtQQBEZyTwDWzBAc+9+MqbvVUCVgJTlbiMxQIe8Ttg1gFlApAisfw5FMUAPhHqkxINdQA1LV8AC5DRATINe41hSU0Dc3z9P8l0vQIeHrvG4r1NADqfC28k/NEDumV2CfSZaQL+38yjc5DpAPMSU8hrOV0A0mr6Scf5NQLnyBwlIHTFA",
          "dtype": "f8"
         },
         "xaxis": "x",
         "y": {
          "bdata": "AAAAAAAAAAAAAAAAAAAAAAAAAAAAAAAAAAAAAAAAAAAAAAAAAAAAAOZ4GE7+TIk/AAAAAAAAAAAAAAAAAAAAAAAAAAAAAAAAAAAAAAAAAAAAAAAAAAAAAAAAAAAAAAAAAAAAAAAAAAAAAAAAAAAAAAAAAAAAAAAAAAAAAAAAAAAAAAAAAAAAAAAAAAAAAAAAAAAAAAAAAAAAAAAAAAAAAAAAAAAAAAAAAAAAAAAAAAAAAAAAAAAAAAAAAAAAAAAAAAAAAAAAAAAAAAAAAAAAAOVRMJ0rBiVAAAAAAAAAAACAi8u++vhAQAAAAAAAAAAAAAAAAAAAAAAAAAAAAAAAAJ/Rg4c5zyFAAAAAAAAAAAAAAAAAAAAAAAAAAAAAAAAAkZVFkzS36T9ofvn0HoDdP4RtbdTd/Y4/ClGhzOAbcj8AAAAAAAAAAAAAAAAAAAAAAAAAAAAAAAA2qJgKhXIrQAAAAAAAAAAAAAAAAAAAAAAAAAAAAAAAAAAAAAAAAAAAQZOOr7jwWj8AAAAAAAAAAAAAAAAAAAAAAAAAAAAAAADgC2+kheA9QAAAAAAAAAAAAAAAAAAAAAAAAAAAAAAAAI/dot+oVR1AAAAAAAAAAAAAAAAAAAAAABaWWgNEagVAAAAAAAAAAAC4BfhYO2bdP6oC6b2YiII/AAAAAAAAAAAAAAAAAAAAAAAAAAAAAAAAAAAAAAAAAAAAAAAAAAAAAAAAAAAAAAAAAAAAAAAAAAAAAAAAAAAAAGQwlL7/YeY/AAAAAAAAAAAAAAAAAAAAAAAAAAAAAAAA21M4qzZ68D8AAAAAAAAAAAAAAAAAAAAAi6EwUioK7j8AAAAAAAAAAAAAAAAAAAAAAAAAAAAAAAAAAAAAAAAAAAAAAAAAAAAAAAAAAAAAAAALejHLjSrtPwAAAAAAAAAAAAAAAAAAAAAAAAAAAAAAAIDgks+MRDBAAAAAAAAAAAAAAAAAAAAAAAAAAAAAAAAAXvzleUK1JEAAAAAAAAAAAMablfC2mxdAAAAAAAAAAAAAAAAAAAAAAAAAAAAAAAAAAAAAAAAAAABnSSF867cdQLI0MyzjmNw/AAAAAAAAAAAAAAAAAAAAAAAAAAAAAAAAAAAAAAAAAAAAAAAAAAAAAAAAAAAAAAAA",
          "dtype": "f8"
         },
         "yaxis": "y"
        }
       ],
       "layout": {
        "legend": {
         "title": {
          "text": "country_code"
         },
         "tracegroupgap": 0
        },
        "template": {
         "data": {
          "bar": [
           {
            "error_x": {
             "color": "#2a3f5f"
            },
            "error_y": {
             "color": "#2a3f5f"
            },
            "marker": {
             "line": {
              "color": "#E5ECF6",
              "width": 0.5
             },
             "pattern": {
              "fillmode": "overlay",
              "size": 10,
              "solidity": 0.2
             }
            },
            "type": "bar"
           }
          ],
          "barpolar": [
           {
            "marker": {
             "line": {
              "color": "#E5ECF6",
              "width": 0.5
             },
             "pattern": {
              "fillmode": "overlay",
              "size": 10,
              "solidity": 0.2
             }
            },
            "type": "barpolar"
           }
          ],
          "carpet": [
           {
            "aaxis": {
             "endlinecolor": "#2a3f5f",
             "gridcolor": "white",
             "linecolor": "white",
             "minorgridcolor": "white",
             "startlinecolor": "#2a3f5f"
            },
            "baxis": {
             "endlinecolor": "#2a3f5f",
             "gridcolor": "white",
             "linecolor": "white",
             "minorgridcolor": "white",
             "startlinecolor": "#2a3f5f"
            },
            "type": "carpet"
           }
          ],
          "choropleth": [
           {
            "colorbar": {
             "outlinewidth": 0,
             "ticks": ""
            },
            "type": "choropleth"
           }
          ],
          "contour": [
           {
            "colorbar": {
             "outlinewidth": 0,
             "ticks": ""
            },
            "colorscale": [
             [
              0,
              "#0d0887"
             ],
             [
              0.1111111111111111,
              "#46039f"
             ],
             [
              0.2222222222222222,
              "#7201a8"
             ],
             [
              0.3333333333333333,
              "#9c179e"
             ],
             [
              0.4444444444444444,
              "#bd3786"
             ],
             [
              0.5555555555555556,
              "#d8576b"
             ],
             [
              0.6666666666666666,
              "#ed7953"
             ],
             [
              0.7777777777777778,
              "#fb9f3a"
             ],
             [
              0.8888888888888888,
              "#fdca26"
             ],
             [
              1,
              "#f0f921"
             ]
            ],
            "type": "contour"
           }
          ],
          "contourcarpet": [
           {
            "colorbar": {
             "outlinewidth": 0,
             "ticks": ""
            },
            "type": "contourcarpet"
           }
          ],
          "heatmap": [
           {
            "colorbar": {
             "outlinewidth": 0,
             "ticks": ""
            },
            "colorscale": [
             [
              0,
              "#0d0887"
             ],
             [
              0.1111111111111111,
              "#46039f"
             ],
             [
              0.2222222222222222,
              "#7201a8"
             ],
             [
              0.3333333333333333,
              "#9c179e"
             ],
             [
              0.4444444444444444,
              "#bd3786"
             ],
             [
              0.5555555555555556,
              "#d8576b"
             ],
             [
              0.6666666666666666,
              "#ed7953"
             ],
             [
              0.7777777777777778,
              "#fb9f3a"
             ],
             [
              0.8888888888888888,
              "#fdca26"
             ],
             [
              1,
              "#f0f921"
             ]
            ],
            "type": "heatmap"
           }
          ],
          "histogram": [
           {
            "marker": {
             "pattern": {
              "fillmode": "overlay",
              "size": 10,
              "solidity": 0.2
             }
            },
            "type": "histogram"
           }
          ],
          "histogram2d": [
           {
            "colorbar": {
             "outlinewidth": 0,
             "ticks": ""
            },
            "colorscale": [
             [
              0,
              "#0d0887"
             ],
             [
              0.1111111111111111,
              "#46039f"
             ],
             [
              0.2222222222222222,
              "#7201a8"
             ],
             [
              0.3333333333333333,
              "#9c179e"
             ],
             [
              0.4444444444444444,
              "#bd3786"
             ],
             [
              0.5555555555555556,
              "#d8576b"
             ],
             [
              0.6666666666666666,
              "#ed7953"
             ],
             [
              0.7777777777777778,
              "#fb9f3a"
             ],
             [
              0.8888888888888888,
              "#fdca26"
             ],
             [
              1,
              "#f0f921"
             ]
            ],
            "type": "histogram2d"
           }
          ],
          "histogram2dcontour": [
           {
            "colorbar": {
             "outlinewidth": 0,
             "ticks": ""
            },
            "colorscale": [
             [
              0,
              "#0d0887"
             ],
             [
              0.1111111111111111,
              "#46039f"
             ],
             [
              0.2222222222222222,
              "#7201a8"
             ],
             [
              0.3333333333333333,
              "#9c179e"
             ],
             [
              0.4444444444444444,
              "#bd3786"
             ],
             [
              0.5555555555555556,
              "#d8576b"
             ],
             [
              0.6666666666666666,
              "#ed7953"
             ],
             [
              0.7777777777777778,
              "#fb9f3a"
             ],
             [
              0.8888888888888888,
              "#fdca26"
             ],
             [
              1,
              "#f0f921"
             ]
            ],
            "type": "histogram2dcontour"
           }
          ],
          "mesh3d": [
           {
            "colorbar": {
             "outlinewidth": 0,
             "ticks": ""
            },
            "type": "mesh3d"
           }
          ],
          "parcoords": [
           {
            "line": {
             "colorbar": {
              "outlinewidth": 0,
              "ticks": ""
             }
            },
            "type": "parcoords"
           }
          ],
          "pie": [
           {
            "automargin": true,
            "type": "pie"
           }
          ],
          "scatter": [
           {
            "fillpattern": {
             "fillmode": "overlay",
             "size": 10,
             "solidity": 0.2
            },
            "type": "scatter"
           }
          ],
          "scatter3d": [
           {
            "line": {
             "colorbar": {
              "outlinewidth": 0,
              "ticks": ""
             }
            },
            "marker": {
             "colorbar": {
              "outlinewidth": 0,
              "ticks": ""
             }
            },
            "type": "scatter3d"
           }
          ],
          "scattercarpet": [
           {
            "marker": {
             "colorbar": {
              "outlinewidth": 0,
              "ticks": ""
             }
            },
            "type": "scattercarpet"
           }
          ],
          "scattergeo": [
           {
            "marker": {
             "colorbar": {
              "outlinewidth": 0,
              "ticks": ""
             }
            },
            "type": "scattergeo"
           }
          ],
          "scattergl": [
           {
            "marker": {
             "colorbar": {
              "outlinewidth": 0,
              "ticks": ""
             }
            },
            "type": "scattergl"
           }
          ],
          "scattermap": [
           {
            "marker": {
             "colorbar": {
              "outlinewidth": 0,
              "ticks": ""
             }
            },
            "type": "scattermap"
           }
          ],
          "scattermapbox": [
           {
            "marker": {
             "colorbar": {
              "outlinewidth": 0,
              "ticks": ""
             }
            },
            "type": "scattermapbox"
           }
          ],
          "scatterpolar": [
           {
            "marker": {
             "colorbar": {
              "outlinewidth": 0,
              "ticks": ""
             }
            },
            "type": "scatterpolar"
           }
          ],
          "scatterpolargl": [
           {
            "marker": {
             "colorbar": {
              "outlinewidth": 0,
              "ticks": ""
             }
            },
            "type": "scatterpolargl"
           }
          ],
          "scatterternary": [
           {
            "marker": {
             "colorbar": {
              "outlinewidth": 0,
              "ticks": ""
             }
            },
            "type": "scatterternary"
           }
          ],
          "surface": [
           {
            "colorbar": {
             "outlinewidth": 0,
             "ticks": ""
            },
            "colorscale": [
             [
              0,
              "#0d0887"
             ],
             [
              0.1111111111111111,
              "#46039f"
             ],
             [
              0.2222222222222222,
              "#7201a8"
             ],
             [
              0.3333333333333333,
              "#9c179e"
             ],
             [
              0.4444444444444444,
              "#bd3786"
             ],
             [
              0.5555555555555556,
              "#d8576b"
             ],
             [
              0.6666666666666666,
              "#ed7953"
             ],
             [
              0.7777777777777778,
              "#fb9f3a"
             ],
             [
              0.8888888888888888,
              "#fdca26"
             ],
             [
              1,
              "#f0f921"
             ]
            ],
            "type": "surface"
           }
          ],
          "table": [
           {
            "cells": {
             "fill": {
              "color": "#EBF0F8"
             },
             "line": {
              "color": "white"
             }
            },
            "header": {
             "fill": {
              "color": "#C8D4E3"
             },
             "line": {
              "color": "white"
             }
            },
            "type": "table"
           }
          ]
         },
         "layout": {
          "annotationdefaults": {
           "arrowcolor": "#2a3f5f",
           "arrowhead": 0,
           "arrowwidth": 1
          },
          "autotypenumbers": "strict",
          "coloraxis": {
           "colorbar": {
            "outlinewidth": 0,
            "ticks": ""
           }
          },
          "colorscale": {
           "diverging": [
            [
             0,
             "#8e0152"
            ],
            [
             0.1,
             "#c51b7d"
            ],
            [
             0.2,
             "#de77ae"
            ],
            [
             0.3,
             "#f1b6da"
            ],
            [
             0.4,
             "#fde0ef"
            ],
            [
             0.5,
             "#f7f7f7"
            ],
            [
             0.6,
             "#e6f5d0"
            ],
            [
             0.7,
             "#b8e186"
            ],
            [
             0.8,
             "#7fbc41"
            ],
            [
             0.9,
             "#4d9221"
            ],
            [
             1,
             "#276419"
            ]
           ],
           "sequential": [
            [
             0,
             "#0d0887"
            ],
            [
             0.1111111111111111,
             "#46039f"
            ],
            [
             0.2222222222222222,
             "#7201a8"
            ],
            [
             0.3333333333333333,
             "#9c179e"
            ],
            [
             0.4444444444444444,
             "#bd3786"
            ],
            [
             0.5555555555555556,
             "#d8576b"
            ],
            [
             0.6666666666666666,
             "#ed7953"
            ],
            [
             0.7777777777777778,
             "#fb9f3a"
            ],
            [
             0.8888888888888888,
             "#fdca26"
            ],
            [
             1,
             "#f0f921"
            ]
           ],
           "sequentialminus": [
            [
             0,
             "#0d0887"
            ],
            [
             0.1111111111111111,
             "#46039f"
            ],
            [
             0.2222222222222222,
             "#7201a8"
            ],
            [
             0.3333333333333333,
             "#9c179e"
            ],
            [
             0.4444444444444444,
             "#bd3786"
            ],
            [
             0.5555555555555556,
             "#d8576b"
            ],
            [
             0.6666666666666666,
             "#ed7953"
            ],
            [
             0.7777777777777778,
             "#fb9f3a"
            ],
            [
             0.8888888888888888,
             "#fdca26"
            ],
            [
             1,
             "#f0f921"
            ]
           ]
          },
          "colorway": [
           "#636efa",
           "#EF553B",
           "#00cc96",
           "#ab63fa",
           "#FFA15A",
           "#19d3f3",
           "#FF6692",
           "#B6E880",
           "#FF97FF",
           "#FECB52"
          ],
          "font": {
           "color": "#2a3f5f"
          },
          "geo": {
           "bgcolor": "white",
           "lakecolor": "white",
           "landcolor": "#E5ECF6",
           "showlakes": true,
           "showland": true,
           "subunitcolor": "white"
          },
          "hoverlabel": {
           "align": "left"
          },
          "hovermode": "closest",
          "mapbox": {
           "style": "light"
          },
          "paper_bgcolor": "white",
          "plot_bgcolor": "#E5ECF6",
          "polar": {
           "angularaxis": {
            "gridcolor": "white",
            "linecolor": "white",
            "ticks": ""
           },
           "bgcolor": "#E5ECF6",
           "radialaxis": {
            "gridcolor": "white",
            "linecolor": "white",
            "ticks": ""
           }
          },
          "scene": {
           "xaxis": {
            "backgroundcolor": "#E5ECF6",
            "gridcolor": "white",
            "gridwidth": 2,
            "linecolor": "white",
            "showbackground": true,
            "ticks": "",
            "zerolinecolor": "white"
           },
           "yaxis": {
            "backgroundcolor": "#E5ECF6",
            "gridcolor": "white",
            "gridwidth": 2,
            "linecolor": "white",
            "showbackground": true,
            "ticks": "",
            "zerolinecolor": "white"
           },
           "zaxis": {
            "backgroundcolor": "#E5ECF6",
            "gridcolor": "white",
            "gridwidth": 2,
            "linecolor": "white",
            "showbackground": true,
            "ticks": "",
            "zerolinecolor": "white"
           }
          },
          "shapedefaults": {
           "line": {
            "color": "#2a3f5f"
           }
          },
          "ternary": {
           "aaxis": {
            "gridcolor": "white",
            "linecolor": "white",
            "ticks": ""
           },
           "baxis": {
            "gridcolor": "white",
            "linecolor": "white",
            "ticks": ""
           },
           "bgcolor": "#E5ECF6",
           "caxis": {
            "gridcolor": "white",
            "linecolor": "white",
            "ticks": ""
           }
          },
          "title": {
           "x": 0.05
          },
          "xaxis": {
           "automargin": true,
           "gridcolor": "white",
           "linecolor": "white",
           "ticks": "",
           "title": {
            "standoff": 15
           },
           "zerolinecolor": "white",
           "zerolinewidth": 2
          },
          "yaxis": {
           "automargin": true,
           "gridcolor": "white",
           "linecolor": "white",
           "ticks": "",
           "title": {
            "standoff": 15
           },
           "zerolinecolor": "white",
           "zerolinewidth": 2
          }
         }
        },
        "title": {
         "text": "Lagged Spend (7d) vs Revenue (Same Day)"
        },
        "xaxis": {
         "anchor": "y",
         "domain": [
          0,
          1
         ],
         "title": {
          "text": "lagged_spend"
         }
        },
        "yaxis": {
         "anchor": "x",
         "domain": [
          0,
          1
         ],
         "title": {
          "text": "revenue_usd"
         }
        }
       }
      }
     },
     "metadata": {},
     "output_type": "display_data"
    }
   ],
   "source": [
    "kpi_sorted = kpi.sort_values('date')\n",
    "kpi_sorted['lagged_spend'] = kpi_sorted.groupby(['country_code', 'platform'])['spend'].shift(7)\n",
    "\n",
    "fig = px.scatter(\n",
    "    kpi_sorted.dropna(subset=['lagged_spend']),\n",
    "    x='lagged_spend', y='revenue_usd',\n",
    "    color='country_code',\n",
    "    title=\"Lagged Spend (7d) vs Revenue (Same Day)\"\n",
    ")\n",
    "fig.show()\n"
   ]
  },
  {
   "cell_type": "code",
   "execution_count": 101,
   "id": "c10a3792",
   "metadata": {},
   "outputs": [
    {
     "data": {
      "application/vnd.plotly.v1+json": {
       "config": {
        "plotlyServerURL": "https://plot.ly"
       },
       "data": [
        {
         "hovertemplate": "country_code=ar<br>Cost/Install=%{x}<br>Revenue/User=%{y}<br>Conv. Rate (%)=%{z}<br>installs=%{marker.size}<extra></extra>",
         "legendgroup": "ar",
         "marker": {
          "color": "#636efa",
          "size": {
           "bdata": "4g0=",
           "dtype": "i2"
          },
          "sizemode": "area",
          "sizeref": 8.9875,
          "symbol": "circle"
         },
         "mode": "markers",
         "name": "ar",
         "scene": "scene",
         "showlegend": true,
         "type": "scatter3d",
         "x": {
          "bdata": "S5PF3pCE8T8=",
          "dtype": "f8"
         },
         "y": {
          "bdata": "vl99C2gVyD8=",
          "dtype": "f8"
         },
         "z": {
          "bdata": "vnps/0Oo8D8=",
          "dtype": "f8"
         }
        },
        {
         "hovertemplate": "country_code=br<br>Cost/Install=%{x}<br>Revenue/User=%{y}<br>Conv. Rate (%)=%{z}<br>installs=%{marker.size}<extra></extra>",
         "legendgroup": "br",
         "marker": {
          "color": "#EF553B",
          "size": {
           "bdata": "xw0=",
           "dtype": "i2"
          },
          "sizemode": "area",
          "sizeref": 8.9875,
          "symbol": "circle"
         },
         "mode": "markers",
         "name": "br",
         "scene": "scene",
         "showlegend": true,
         "type": "scatter3d",
         "x": {
          "bdata": "BSbgvYqu8D8=",
          "dtype": "f8"
         },
         "y": {
          "bdata": "kXHSpT5A1D8=",
          "dtype": "f8"
         },
         "z": {
          "bdata": "bYYc0UnB7z8=",
          "dtype": "f8"
         }
        },
        {
         "hovertemplate": "country_code=ca<br>Cost/Install=%{x}<br>Revenue/User=%{y}<br>Conv. Rate (%)=%{z}<br>installs=%{marker.size}<extra></extra>",
         "legendgroup": "ca",
         "marker": {
          "color": "#00cc96",
          "size": {
           "bdata": "Cw4=",
           "dtype": "i2"
          },
          "sizemode": "area",
          "sizeref": 8.9875,
          "symbol": "circle"
         },
         "mode": "markers",
         "name": "ca",
         "scene": "scene",
         "showlegend": true,
         "type": "scatter3d",
         "x": {
          "bdata": "jd9pdZt48D8=",
          "dtype": "f8"
         },
         "y": {
          "bdata": "ZwA+oiQ6uj8=",
          "dtype": "f8"
         },
         "z": {
          "bdata": "IEtDTSm06j8=",
          "dtype": "f8"
         }
        },
        {
         "hovertemplate": "country_code=cl<br>Cost/Install=%{x}<br>Revenue/User=%{y}<br>Conv. Rate (%)=%{z}<br>installs=%{marker.size}<extra></extra>",
         "legendgroup": "cl",
         "marker": {
          "color": "#ab63fa",
          "size": {
           "bdata": "0g0=",
           "dtype": "i2"
          },
          "sizemode": "area",
          "sizeref": 8.9875,
          "symbol": "circle"
         },
         "mode": "markers",
         "name": "cl",
         "scene": "scene",
         "showlegend": true,
         "type": "scatter3d",
         "x": {
          "bdata": "ISognrSs8D8=",
          "dtype": "f8"
         },
         "y": {
          "bdata": "Klwuq2v+wj8=",
          "dtype": "f8"
         },
         "z": {
          "bdata": "kjeA+jVT+T8=",
          "dtype": "f8"
         }
        },
        {
         "hovertemplate": "country_code=co<br>Cost/Install=%{x}<br>Revenue/User=%{y}<br>Conv. Rate (%)=%{z}<br>installs=%{marker.size}<extra></extra>",
         "legendgroup": "co",
         "marker": {
          "color": "#FFA15A",
          "size": {
           "bdata": "/w0=",
           "dtype": "i2"
          },
          "sizemode": "area",
          "sizeref": 8.9875,
          "symbol": "circle"
         },
         "mode": "markers",
         "name": "co",
         "scene": "scene",
         "showlegend": true,
         "type": "scatter3d",
         "x": {
          "bdata": "H8lzyRnf8D8=",
          "dtype": "f8"
         },
         "y": {
          "bdata": "PXglOmWQzj8=",
          "dtype": "f8"
         },
         "z": {
          "bdata": "nqHWvFOU7D8=",
          "dtype": "f8"
         }
        },
        {
         "hovertemplate": "country_code=de<br>Cost/Install=%{x}<br>Revenue/User=%{y}<br>Conv. Rate (%)=%{z}<br>installs=%{marker.size}<extra></extra>",
         "legendgroup": "de",
         "marker": {
          "color": "#19d3f3",
          "size": {
           "bdata": "qw0=",
           "dtype": "i2"
          },
          "sizemode": "area",
          "sizeref": 8.9875,
          "symbol": "circle"
         },
         "mode": "markers",
         "name": "de",
         "scene": "scene",
         "showlegend": true,
         "type": "scatter3d",
         "x": {
          "bdata": "0mFhgaxA+z8=",
          "dtype": "f8"
         },
         "y": {
          "bdata": "cyhTegllpj8=",
          "dtype": "f8"
         },
         "z": {
          "bdata": "rHD02Rcu7j8=",
          "dtype": "f8"
         }
        },
        {
         "hovertemplate": "country_code=es<br>Cost/Install=%{x}<br>Revenue/User=%{y}<br>Conv. Rate (%)=%{z}<br>installs=%{marker.size}<extra></extra>",
         "legendgroup": "es",
         "marker": {
          "color": "#FF6692",
          "size": {
           "bdata": "hQ0=",
           "dtype": "i2"
          },
          "sizemode": "area",
          "sizeref": 8.9875,
          "symbol": "circle"
         },
         "mode": "markers",
         "name": "es",
         "scene": "scene",
         "showlegend": true,
         "type": "scatter3d",
         "x": {
          "bdata": "1ESPwc+I8T8=",
          "dtype": "f8"
         },
         "y": {
          "bdata": "SwmAmz0g2D8=",
          "dtype": "f8"
         },
         "z": {
          "bdata": "Do1pyflD9T8=",
          "dtype": "f8"
         }
        },
        {
         "hovertemplate": "country_code=gb<br>Cost/Install=%{x}<br>Revenue/User=%{y}<br>Conv. Rate (%)=%{z}<br>installs=%{marker.size}<extra></extra>",
         "legendgroup": "gb",
         "marker": {
          "color": "#B6E880",
          "size": {
           "bdata": "gQ0=",
           "dtype": "i2"
          },
          "sizemode": "area",
          "sizeref": 8.9875,
          "symbol": "circle"
         },
         "mode": "markers",
         "name": "gb",
         "scene": "scene",
         "showlegend": true,
         "type": "scatter3d",
         "x": {
          "bdata": "nRoHkdnU7D8=",
          "dtype": "f8"
         },
         "y": {
          "bdata": "Hd06BEi40j8=",
          "dtype": "f8"
         },
         "z": {
          "bdata": "bEbJYsrT9D8=",
          "dtype": "f8"
         }
        },
        {
         "hovertemplate": "country_code=in<br>Cost/Install=%{x}<br>Revenue/User=%{y}<br>Conv. Rate (%)=%{z}<br>installs=%{marker.size}<extra></extra>",
         "legendgroup": "in",
         "marker": {
          "color": "#FF97FF",
          "size": {
           "bdata": "+Q0=",
           "dtype": "i2"
          },
          "sizemode": "area",
          "sizeref": 8.9875,
          "symbol": "circle"
         },
         "mode": "markers",
         "name": "in",
         "scene": "scene",
         "showlegend": true,
         "type": "scatter3d",
         "x": {
          "bdata": "Erb8h8678D8=",
          "dtype": "f8"
         },
         "y": {
          "bdata": "6yCnSUzmzD8=",
          "dtype": "f8"
         },
         "z": {
          "bdata": "hp1fCKNq7j8=",
          "dtype": "f8"
         }
        },
        {
         "hovertemplate": "country_code=it<br>Cost/Install=%{x}<br>Revenue/User=%{y}<br>Conv. Rate (%)=%{z}<br>installs=%{marker.size}<extra></extra>",
         "legendgroup": "it",
         "marker": {
          "color": "#FECB52",
          "size": {
           "bdata": "rw0=",
           "dtype": "i2"
          },
          "sizemode": "area",
          "sizeref": 8.9875,
          "symbol": "circle"
         },
         "mode": "markers",
         "name": "it",
         "scene": "scene",
         "showlegend": true,
         "type": "scatter3d",
         "x": {
          "bdata": "OgRwkVvY8T8=",
          "dtype": "f8"
         },
         "y": {
          "bdata": "7Um2en0Txj8=",
          "dtype": "f8"
         },
         "z": {
          "bdata": "Iqc/N7QC9T8=",
          "dtype": "f8"
         }
        },
        {
         "hovertemplate": "country_code=jp<br>Cost/Install=%{x}<br>Revenue/User=%{y}<br>Conv. Rate (%)=%{z}<br>installs=%{marker.size}<extra></extra>",
         "legendgroup": "jp",
         "marker": {
          "color": "#636efa",
          "size": {
           "bdata": "YA0=",
           "dtype": "i2"
          },
          "sizemode": "area",
          "sizeref": 8.9875,
          "symbol": "circle"
         },
         "mode": "markers",
         "name": "jp",
         "scene": "scene",
         "showlegend": true,
         "type": "scatter3d",
         "x": {
          "bdata": "IUbWcqc18T8=",
          "dtype": "f8"
         },
         "y": {
          "bdata": "SEVB/+0v0T8=",
          "dtype": "f8"
         },
         "z": {
          "bdata": "rCiNj0yg8z8=",
          "dtype": "f8"
         }
        },
        {
         "hovertemplate": "country_code=mx<br>Cost/Install=%{x}<br>Revenue/User=%{y}<br>Conv. Rate (%)=%{z}<br>installs=%{marker.size}<extra></extra>",
         "legendgroup": "mx",
         "marker": {
          "color": "#EF553B",
          "size": {
           "bdata": "EQ0=",
           "dtype": "i2"
          },
          "sizemode": "area",
          "sizeref": 8.9875,
          "symbol": "circle"
         },
         "mode": "markers",
         "name": "mx",
         "scene": "scene",
         "showlegend": true,
         "type": "scatter3d",
         "x": {
          "bdata": "4RMtoZgh/j8=",
          "dtype": "f8"
         },
         "y": {
          "bdata": "dmYGJdk41T8=",
          "dtype": "f8"
         },
         "z": {
          "bdata": "mTA1ucy98D8=",
          "dtype": "f8"
         }
        },
        {
         "hovertemplate": "country_code=pl<br>Cost/Install=%{x}<br>Revenue/User=%{y}<br>Conv. Rate (%)=%{z}<br>installs=%{marker.size}<extra></extra>",
         "legendgroup": "pl",
         "marker": {
          "color": "#00cc96",
          "size": {
           "bdata": "zQ0=",
           "dtype": "i2"
          },
          "sizemode": "area",
          "sizeref": 8.9875,
          "symbol": "circle"
         },
         "mode": "markers",
         "name": "pl",
         "scene": "scene",
         "showlegend": true,
         "type": "scatter3d",
         "x": {
          "bdata": "JisdKkhF6z8=",
          "dtype": "f8"
         },
         "y": {
          "bdata": "iEmcNCUF4D8=",
          "dtype": "f8"
         },
         "z": {
          "bdata": "iFdo4IN0+D8=",
          "dtype": "f8"
         }
        },
        {
         "hovertemplate": "country_code=sa<br>Cost/Install=%{x}<br>Revenue/User=%{y}<br>Conv. Rate (%)=%{z}<br>installs=%{marker.size}<extra></extra>",
         "legendgroup": "sa",
         "marker": {
          "color": "#ab63fa",
          "size": {
           "bdata": "hA0=",
           "dtype": "i2"
          },
          "sizemode": "area",
          "sizeref": 8.9875,
          "symbol": "circle"
         },
         "mode": "markers",
         "name": "sa",
         "scene": "scene",
         "showlegend": true,
         "type": "scatter3d",
         "x": {
          "bdata": "mGYM3CYg8T8=",
          "dtype": "f8"
         },
         "y": {
          "bdata": "5ZR4VHMe0T8=",
          "dtype": "f8"
         },
         "z": {
          "bdata": "OIJI6wVs8z8=",
          "dtype": "f8"
         }
        },
        {
         "hovertemplate": "country_code=us<br>Cost/Install=%{x}<br>Revenue/User=%{y}<br>Conv. Rate (%)=%{z}<br>installs=%{marker.size}<extra></extra>",
         "legendgroup": "us",
         "marker": {
          "color": "#FFA15A",
          "size": {
           "bdata": "6Q0=",
           "dtype": "i2"
          },
          "sizemode": "area",
          "sizeref": 8.9875,
          "symbol": "circle"
         },
         "mode": "markers",
         "name": "us",
         "scene": "scene",
         "showlegend": true,
         "type": "scatter3d",
         "x": {
          "bdata": "Ln1OmSwh/D8=",
          "dtype": "f8"
         },
         "y": {
          "bdata": "ye0Hx2A5tz8=",
          "dtype": "f8"
         },
         "z": {
          "bdata": "YXLhwD1d9z8=",
          "dtype": "f8"
         }
        }
       ],
       "layout": {
        "legend": {
         "itemsizing": "constant",
         "title": {
          "text": "country_code"
         },
         "tracegroupgap": 0
        },
        "scene": {
         "domain": {
          "x": [
           0,
           1
          ],
          "y": [
           0,
           1
          ]
         },
         "xaxis": {
          "title": {
           "text": "Cost/Install"
          }
         },
         "yaxis": {
          "title": {
           "text": "Revenue/User"
          }
         },
         "zaxis": {
          "title": {
           "text": "Conv. Rate (%)"
          }
         }
        },
        "template": {
         "data": {
          "bar": [
           {
            "error_x": {
             "color": "#2a3f5f"
            },
            "error_y": {
             "color": "#2a3f5f"
            },
            "marker": {
             "line": {
              "color": "#E5ECF6",
              "width": 0.5
             },
             "pattern": {
              "fillmode": "overlay",
              "size": 10,
              "solidity": 0.2
             }
            },
            "type": "bar"
           }
          ],
          "barpolar": [
           {
            "marker": {
             "line": {
              "color": "#E5ECF6",
              "width": 0.5
             },
             "pattern": {
              "fillmode": "overlay",
              "size": 10,
              "solidity": 0.2
             }
            },
            "type": "barpolar"
           }
          ],
          "carpet": [
           {
            "aaxis": {
             "endlinecolor": "#2a3f5f",
             "gridcolor": "white",
             "linecolor": "white",
             "minorgridcolor": "white",
             "startlinecolor": "#2a3f5f"
            },
            "baxis": {
             "endlinecolor": "#2a3f5f",
             "gridcolor": "white",
             "linecolor": "white",
             "minorgridcolor": "white",
             "startlinecolor": "#2a3f5f"
            },
            "type": "carpet"
           }
          ],
          "choropleth": [
           {
            "colorbar": {
             "outlinewidth": 0,
             "ticks": ""
            },
            "type": "choropleth"
           }
          ],
          "contour": [
           {
            "colorbar": {
             "outlinewidth": 0,
             "ticks": ""
            },
            "colorscale": [
             [
              0,
              "#0d0887"
             ],
             [
              0.1111111111111111,
              "#46039f"
             ],
             [
              0.2222222222222222,
              "#7201a8"
             ],
             [
              0.3333333333333333,
              "#9c179e"
             ],
             [
              0.4444444444444444,
              "#bd3786"
             ],
             [
              0.5555555555555556,
              "#d8576b"
             ],
             [
              0.6666666666666666,
              "#ed7953"
             ],
             [
              0.7777777777777778,
              "#fb9f3a"
             ],
             [
              0.8888888888888888,
              "#fdca26"
             ],
             [
              1,
              "#f0f921"
             ]
            ],
            "type": "contour"
           }
          ],
          "contourcarpet": [
           {
            "colorbar": {
             "outlinewidth": 0,
             "ticks": ""
            },
            "type": "contourcarpet"
           }
          ],
          "heatmap": [
           {
            "colorbar": {
             "outlinewidth": 0,
             "ticks": ""
            },
            "colorscale": [
             [
              0,
              "#0d0887"
             ],
             [
              0.1111111111111111,
              "#46039f"
             ],
             [
              0.2222222222222222,
              "#7201a8"
             ],
             [
              0.3333333333333333,
              "#9c179e"
             ],
             [
              0.4444444444444444,
              "#bd3786"
             ],
             [
              0.5555555555555556,
              "#d8576b"
             ],
             [
              0.6666666666666666,
              "#ed7953"
             ],
             [
              0.7777777777777778,
              "#fb9f3a"
             ],
             [
              0.8888888888888888,
              "#fdca26"
             ],
             [
              1,
              "#f0f921"
             ]
            ],
            "type": "heatmap"
           }
          ],
          "histogram": [
           {
            "marker": {
             "pattern": {
              "fillmode": "overlay",
              "size": 10,
              "solidity": 0.2
             }
            },
            "type": "histogram"
           }
          ],
          "histogram2d": [
           {
            "colorbar": {
             "outlinewidth": 0,
             "ticks": ""
            },
            "colorscale": [
             [
              0,
              "#0d0887"
             ],
             [
              0.1111111111111111,
              "#46039f"
             ],
             [
              0.2222222222222222,
              "#7201a8"
             ],
             [
              0.3333333333333333,
              "#9c179e"
             ],
             [
              0.4444444444444444,
              "#bd3786"
             ],
             [
              0.5555555555555556,
              "#d8576b"
             ],
             [
              0.6666666666666666,
              "#ed7953"
             ],
             [
              0.7777777777777778,
              "#fb9f3a"
             ],
             [
              0.8888888888888888,
              "#fdca26"
             ],
             [
              1,
              "#f0f921"
             ]
            ],
            "type": "histogram2d"
           }
          ],
          "histogram2dcontour": [
           {
            "colorbar": {
             "outlinewidth": 0,
             "ticks": ""
            },
            "colorscale": [
             [
              0,
              "#0d0887"
             ],
             [
              0.1111111111111111,
              "#46039f"
             ],
             [
              0.2222222222222222,
              "#7201a8"
             ],
             [
              0.3333333333333333,
              "#9c179e"
             ],
             [
              0.4444444444444444,
              "#bd3786"
             ],
             [
              0.5555555555555556,
              "#d8576b"
             ],
             [
              0.6666666666666666,
              "#ed7953"
             ],
             [
              0.7777777777777778,
              "#fb9f3a"
             ],
             [
              0.8888888888888888,
              "#fdca26"
             ],
             [
              1,
              "#f0f921"
             ]
            ],
            "type": "histogram2dcontour"
           }
          ],
          "mesh3d": [
           {
            "colorbar": {
             "outlinewidth": 0,
             "ticks": ""
            },
            "type": "mesh3d"
           }
          ],
          "parcoords": [
           {
            "line": {
             "colorbar": {
              "outlinewidth": 0,
              "ticks": ""
             }
            },
            "type": "parcoords"
           }
          ],
          "pie": [
           {
            "automargin": true,
            "type": "pie"
           }
          ],
          "scatter": [
           {
            "fillpattern": {
             "fillmode": "overlay",
             "size": 10,
             "solidity": 0.2
            },
            "type": "scatter"
           }
          ],
          "scatter3d": [
           {
            "line": {
             "colorbar": {
              "outlinewidth": 0,
              "ticks": ""
             }
            },
            "marker": {
             "colorbar": {
              "outlinewidth": 0,
              "ticks": ""
             }
            },
            "type": "scatter3d"
           }
          ],
          "scattercarpet": [
           {
            "marker": {
             "colorbar": {
              "outlinewidth": 0,
              "ticks": ""
             }
            },
            "type": "scattercarpet"
           }
          ],
          "scattergeo": [
           {
            "marker": {
             "colorbar": {
              "outlinewidth": 0,
              "ticks": ""
             }
            },
            "type": "scattergeo"
           }
          ],
          "scattergl": [
           {
            "marker": {
             "colorbar": {
              "outlinewidth": 0,
              "ticks": ""
             }
            },
            "type": "scattergl"
           }
          ],
          "scattermap": [
           {
            "marker": {
             "colorbar": {
              "outlinewidth": 0,
              "ticks": ""
             }
            },
            "type": "scattermap"
           }
          ],
          "scattermapbox": [
           {
            "marker": {
             "colorbar": {
              "outlinewidth": 0,
              "ticks": ""
             }
            },
            "type": "scattermapbox"
           }
          ],
          "scatterpolar": [
           {
            "marker": {
             "colorbar": {
              "outlinewidth": 0,
              "ticks": ""
             }
            },
            "type": "scatterpolar"
           }
          ],
          "scatterpolargl": [
           {
            "marker": {
             "colorbar": {
              "outlinewidth": 0,
              "ticks": ""
             }
            },
            "type": "scatterpolargl"
           }
          ],
          "scatterternary": [
           {
            "marker": {
             "colorbar": {
              "outlinewidth": 0,
              "ticks": ""
             }
            },
            "type": "scatterternary"
           }
          ],
          "surface": [
           {
            "colorbar": {
             "outlinewidth": 0,
             "ticks": ""
            },
            "colorscale": [
             [
              0,
              "#0d0887"
             ],
             [
              0.1111111111111111,
              "#46039f"
             ],
             [
              0.2222222222222222,
              "#7201a8"
             ],
             [
              0.3333333333333333,
              "#9c179e"
             ],
             [
              0.4444444444444444,
              "#bd3786"
             ],
             [
              0.5555555555555556,
              "#d8576b"
             ],
             [
              0.6666666666666666,
              "#ed7953"
             ],
             [
              0.7777777777777778,
              "#fb9f3a"
             ],
             [
              0.8888888888888888,
              "#fdca26"
             ],
             [
              1,
              "#f0f921"
             ]
            ],
            "type": "surface"
           }
          ],
          "table": [
           {
            "cells": {
             "fill": {
              "color": "#EBF0F8"
             },
             "line": {
              "color": "white"
             }
            },
            "header": {
             "fill": {
              "color": "#C8D4E3"
             },
             "line": {
              "color": "white"
             }
            },
            "type": "table"
           }
          ]
         },
         "layout": {
          "annotationdefaults": {
           "arrowcolor": "#2a3f5f",
           "arrowhead": 0,
           "arrowwidth": 1
          },
          "autotypenumbers": "strict",
          "coloraxis": {
           "colorbar": {
            "outlinewidth": 0,
            "ticks": ""
           }
          },
          "colorscale": {
           "diverging": [
            [
             0,
             "#8e0152"
            ],
            [
             0.1,
             "#c51b7d"
            ],
            [
             0.2,
             "#de77ae"
            ],
            [
             0.3,
             "#f1b6da"
            ],
            [
             0.4,
             "#fde0ef"
            ],
            [
             0.5,
             "#f7f7f7"
            ],
            [
             0.6,
             "#e6f5d0"
            ],
            [
             0.7,
             "#b8e186"
            ],
            [
             0.8,
             "#7fbc41"
            ],
            [
             0.9,
             "#4d9221"
            ],
            [
             1,
             "#276419"
            ]
           ],
           "sequential": [
            [
             0,
             "#0d0887"
            ],
            [
             0.1111111111111111,
             "#46039f"
            ],
            [
             0.2222222222222222,
             "#7201a8"
            ],
            [
             0.3333333333333333,
             "#9c179e"
            ],
            [
             0.4444444444444444,
             "#bd3786"
            ],
            [
             0.5555555555555556,
             "#d8576b"
            ],
            [
             0.6666666666666666,
             "#ed7953"
            ],
            [
             0.7777777777777778,
             "#fb9f3a"
            ],
            [
             0.8888888888888888,
             "#fdca26"
            ],
            [
             1,
             "#f0f921"
            ]
           ],
           "sequentialminus": [
            [
             0,
             "#0d0887"
            ],
            [
             0.1111111111111111,
             "#46039f"
            ],
            [
             0.2222222222222222,
             "#7201a8"
            ],
            [
             0.3333333333333333,
             "#9c179e"
            ],
            [
             0.4444444444444444,
             "#bd3786"
            ],
            [
             0.5555555555555556,
             "#d8576b"
            ],
            [
             0.6666666666666666,
             "#ed7953"
            ],
            [
             0.7777777777777778,
             "#fb9f3a"
            ],
            [
             0.8888888888888888,
             "#fdca26"
            ],
            [
             1,
             "#f0f921"
            ]
           ]
          },
          "colorway": [
           "#636efa",
           "#EF553B",
           "#00cc96",
           "#ab63fa",
           "#FFA15A",
           "#19d3f3",
           "#FF6692",
           "#B6E880",
           "#FF97FF",
           "#FECB52"
          ],
          "font": {
           "color": "#2a3f5f"
          },
          "geo": {
           "bgcolor": "white",
           "lakecolor": "white",
           "landcolor": "#E5ECF6",
           "showlakes": true,
           "showland": true,
           "subunitcolor": "white"
          },
          "hoverlabel": {
           "align": "left"
          },
          "hovermode": "closest",
          "mapbox": {
           "style": "light"
          },
          "paper_bgcolor": "white",
          "plot_bgcolor": "#E5ECF6",
          "polar": {
           "angularaxis": {
            "gridcolor": "white",
            "linecolor": "white",
            "ticks": ""
           },
           "bgcolor": "#E5ECF6",
           "radialaxis": {
            "gridcolor": "white",
            "linecolor": "white",
            "ticks": ""
           }
          },
          "scene": {
           "xaxis": {
            "backgroundcolor": "#E5ECF6",
            "gridcolor": "white",
            "gridwidth": 2,
            "linecolor": "white",
            "showbackground": true,
            "ticks": "",
            "zerolinecolor": "white"
           },
           "yaxis": {
            "backgroundcolor": "#E5ECF6",
            "gridcolor": "white",
            "gridwidth": 2,
            "linecolor": "white",
            "showbackground": true,
            "ticks": "",
            "zerolinecolor": "white"
           },
           "zaxis": {
            "backgroundcolor": "#E5ECF6",
            "gridcolor": "white",
            "gridwidth": 2,
            "linecolor": "white",
            "showbackground": true,
            "ticks": "",
            "zerolinecolor": "white"
           }
          },
          "shapedefaults": {
           "line": {
            "color": "#2a3f5f"
           }
          },
          "ternary": {
           "aaxis": {
            "gridcolor": "white",
            "linecolor": "white",
            "ticks": ""
           },
           "baxis": {
            "gridcolor": "white",
            "linecolor": "white",
            "ticks": ""
           },
           "bgcolor": "#E5ECF6",
           "caxis": {
            "gridcolor": "white",
            "linecolor": "white",
            "ticks": ""
           }
          },
          "title": {
           "x": 0.05
          },
          "xaxis": {
           "automargin": true,
           "gridcolor": "white",
           "linecolor": "white",
           "ticks": "",
           "title": {
            "standoff": 15
           },
           "zerolinecolor": "white",
           "zerolinewidth": 2
          },
          "yaxis": {
           "automargin": true,
           "gridcolor": "white",
           "linecolor": "white",
           "ticks": "",
           "title": {
            "standoff": 15
           },
           "zerolinecolor": "white",
           "zerolinewidth": 2
          }
         }
        },
        "title": {
         "text": "3D View: CPI vs ARPU vs Conversion Rate"
        }
       }
      }
     },
     "metadata": {},
     "output_type": "display_data"
    }
   ],
   "source": [
    "fig = px.scatter_3d(\n",
    "    kpi_country,\n",
    "    x='cpi', y='arpu', z='conversion_rate',\n",
    "    color='country_code',\n",
    "    size='installs',\n",
    "    title='3D View: CPI vs ARPU vs Conversion Rate',\n",
    "    labels={'cpi': 'Cost/Install', 'arpu': 'Revenue/User', 'conversion_rate': 'Conv. Rate (%)'}\n",
    ")\n",
    "fig.show()\n"
   ]
  },
  {
   "cell_type": "code",
   "execution_count": 102,
   "id": "476eb75a",
   "metadata": {},
   "outputs": [
    {
     "data": {
      "application/vnd.plotly.v1+json": {
       "config": {
        "plotlyServerURL": "https://plot.ly"
       },
       "data": [
        {
         "domain": {
          "x": [
           0,
           0.5
          ],
          "y": [
           0.7,
           1
          ]
         },
         "mode": "number+delta",
         "number": {
          "prefix": "$"
         },
         "title": {
          "text": "Total Revenue (USD)"
         },
         "type": "indicator",
         "value": 50000
        },
        {
         "domain": {
          "x": [
           0.5,
           1
          ],
          "y": [
           0.7,
           1
          ]
         },
         "mode": "number+delta",
         "title": {
          "text": "Total Subscribers"
         },
         "type": "indicator",
         "value": 1200
        },
        {
         "domain": {
          "x": [
           0,
           0.5
          ],
          "y": [
           0.4,
           0.7
          ]
         },
         "mode": "number",
         "title": {
          "text": "Total Installs"
         },
         "type": "indicator",
         "value": 18000
        },
        {
         "domain": {
          "x": [
           0.5,
           1
          ],
          "y": [
           0.4,
           0.7
          ]
         },
         "mode": "number",
         "title": {
          "text": "Active Users"
         },
         "type": "indicator",
         "value": 10500
        },
        {
         "domain": {
          "x": [
           0,
           1
          ],
          "y": [
           0,
           0.4
          ]
         },
         "gauge": {
          "axis": {
           "range": [
            null,
            100
           ]
          }
         },
         "mode": "gauge+number",
         "title": {
          "text": "Conversion Rate (%)"
         },
         "type": "indicator",
         "value": 6.67
        }
       ],
       "layout": {
        "height": 600,
        "template": {
         "data": {
          "bar": [
           {
            "error_x": {
             "color": "#2a3f5f"
            },
            "error_y": {
             "color": "#2a3f5f"
            },
            "marker": {
             "line": {
              "color": "#E5ECF6",
              "width": 0.5
             },
             "pattern": {
              "fillmode": "overlay",
              "size": 10,
              "solidity": 0.2
             }
            },
            "type": "bar"
           }
          ],
          "barpolar": [
           {
            "marker": {
             "line": {
              "color": "#E5ECF6",
              "width": 0.5
             },
             "pattern": {
              "fillmode": "overlay",
              "size": 10,
              "solidity": 0.2
             }
            },
            "type": "barpolar"
           }
          ],
          "carpet": [
           {
            "aaxis": {
             "endlinecolor": "#2a3f5f",
             "gridcolor": "white",
             "linecolor": "white",
             "minorgridcolor": "white",
             "startlinecolor": "#2a3f5f"
            },
            "baxis": {
             "endlinecolor": "#2a3f5f",
             "gridcolor": "white",
             "linecolor": "white",
             "minorgridcolor": "white",
             "startlinecolor": "#2a3f5f"
            },
            "type": "carpet"
           }
          ],
          "choropleth": [
           {
            "colorbar": {
             "outlinewidth": 0,
             "ticks": ""
            },
            "type": "choropleth"
           }
          ],
          "contour": [
           {
            "colorbar": {
             "outlinewidth": 0,
             "ticks": ""
            },
            "colorscale": [
             [
              0,
              "#0d0887"
             ],
             [
              0.1111111111111111,
              "#46039f"
             ],
             [
              0.2222222222222222,
              "#7201a8"
             ],
             [
              0.3333333333333333,
              "#9c179e"
             ],
             [
              0.4444444444444444,
              "#bd3786"
             ],
             [
              0.5555555555555556,
              "#d8576b"
             ],
             [
              0.6666666666666666,
              "#ed7953"
             ],
             [
              0.7777777777777778,
              "#fb9f3a"
             ],
             [
              0.8888888888888888,
              "#fdca26"
             ],
             [
              1,
              "#f0f921"
             ]
            ],
            "type": "contour"
           }
          ],
          "contourcarpet": [
           {
            "colorbar": {
             "outlinewidth": 0,
             "ticks": ""
            },
            "type": "contourcarpet"
           }
          ],
          "heatmap": [
           {
            "colorbar": {
             "outlinewidth": 0,
             "ticks": ""
            },
            "colorscale": [
             [
              0,
              "#0d0887"
             ],
             [
              0.1111111111111111,
              "#46039f"
             ],
             [
              0.2222222222222222,
              "#7201a8"
             ],
             [
              0.3333333333333333,
              "#9c179e"
             ],
             [
              0.4444444444444444,
              "#bd3786"
             ],
             [
              0.5555555555555556,
              "#d8576b"
             ],
             [
              0.6666666666666666,
              "#ed7953"
             ],
             [
              0.7777777777777778,
              "#fb9f3a"
             ],
             [
              0.8888888888888888,
              "#fdca26"
             ],
             [
              1,
              "#f0f921"
             ]
            ],
            "type": "heatmap"
           }
          ],
          "histogram": [
           {
            "marker": {
             "pattern": {
              "fillmode": "overlay",
              "size": 10,
              "solidity": 0.2
             }
            },
            "type": "histogram"
           }
          ],
          "histogram2d": [
           {
            "colorbar": {
             "outlinewidth": 0,
             "ticks": ""
            },
            "colorscale": [
             [
              0,
              "#0d0887"
             ],
             [
              0.1111111111111111,
              "#46039f"
             ],
             [
              0.2222222222222222,
              "#7201a8"
             ],
             [
              0.3333333333333333,
              "#9c179e"
             ],
             [
              0.4444444444444444,
              "#bd3786"
             ],
             [
              0.5555555555555556,
              "#d8576b"
             ],
             [
              0.6666666666666666,
              "#ed7953"
             ],
             [
              0.7777777777777778,
              "#fb9f3a"
             ],
             [
              0.8888888888888888,
              "#fdca26"
             ],
             [
              1,
              "#f0f921"
             ]
            ],
            "type": "histogram2d"
           }
          ],
          "histogram2dcontour": [
           {
            "colorbar": {
             "outlinewidth": 0,
             "ticks": ""
            },
            "colorscale": [
             [
              0,
              "#0d0887"
             ],
             [
              0.1111111111111111,
              "#46039f"
             ],
             [
              0.2222222222222222,
              "#7201a8"
             ],
             [
              0.3333333333333333,
              "#9c179e"
             ],
             [
              0.4444444444444444,
              "#bd3786"
             ],
             [
              0.5555555555555556,
              "#d8576b"
             ],
             [
              0.6666666666666666,
              "#ed7953"
             ],
             [
              0.7777777777777778,
              "#fb9f3a"
             ],
             [
              0.8888888888888888,
              "#fdca26"
             ],
             [
              1,
              "#f0f921"
             ]
            ],
            "type": "histogram2dcontour"
           }
          ],
          "mesh3d": [
           {
            "colorbar": {
             "outlinewidth": 0,
             "ticks": ""
            },
            "type": "mesh3d"
           }
          ],
          "parcoords": [
           {
            "line": {
             "colorbar": {
              "outlinewidth": 0,
              "ticks": ""
             }
            },
            "type": "parcoords"
           }
          ],
          "pie": [
           {
            "automargin": true,
            "type": "pie"
           }
          ],
          "scatter": [
           {
            "fillpattern": {
             "fillmode": "overlay",
             "size": 10,
             "solidity": 0.2
            },
            "type": "scatter"
           }
          ],
          "scatter3d": [
           {
            "line": {
             "colorbar": {
              "outlinewidth": 0,
              "ticks": ""
             }
            },
            "marker": {
             "colorbar": {
              "outlinewidth": 0,
              "ticks": ""
             }
            },
            "type": "scatter3d"
           }
          ],
          "scattercarpet": [
           {
            "marker": {
             "colorbar": {
              "outlinewidth": 0,
              "ticks": ""
             }
            },
            "type": "scattercarpet"
           }
          ],
          "scattergeo": [
           {
            "marker": {
             "colorbar": {
              "outlinewidth": 0,
              "ticks": ""
             }
            },
            "type": "scattergeo"
           }
          ],
          "scattergl": [
           {
            "marker": {
             "colorbar": {
              "outlinewidth": 0,
              "ticks": ""
             }
            },
            "type": "scattergl"
           }
          ],
          "scattermap": [
           {
            "marker": {
             "colorbar": {
              "outlinewidth": 0,
              "ticks": ""
             }
            },
            "type": "scattermap"
           }
          ],
          "scattermapbox": [
           {
            "marker": {
             "colorbar": {
              "outlinewidth": 0,
              "ticks": ""
             }
            },
            "type": "scattermapbox"
           }
          ],
          "scatterpolar": [
           {
            "marker": {
             "colorbar": {
              "outlinewidth": 0,
              "ticks": ""
             }
            },
            "type": "scatterpolar"
           }
          ],
          "scatterpolargl": [
           {
            "marker": {
             "colorbar": {
              "outlinewidth": 0,
              "ticks": ""
             }
            },
            "type": "scatterpolargl"
           }
          ],
          "scatterternary": [
           {
            "marker": {
             "colorbar": {
              "outlinewidth": 0,
              "ticks": ""
             }
            },
            "type": "scatterternary"
           }
          ],
          "surface": [
           {
            "colorbar": {
             "outlinewidth": 0,
             "ticks": ""
            },
            "colorscale": [
             [
              0,
              "#0d0887"
             ],
             [
              0.1111111111111111,
              "#46039f"
             ],
             [
              0.2222222222222222,
              "#7201a8"
             ],
             [
              0.3333333333333333,
              "#9c179e"
             ],
             [
              0.4444444444444444,
              "#bd3786"
             ],
             [
              0.5555555555555556,
              "#d8576b"
             ],
             [
              0.6666666666666666,
              "#ed7953"
             ],
             [
              0.7777777777777778,
              "#fb9f3a"
             ],
             [
              0.8888888888888888,
              "#fdca26"
             ],
             [
              1,
              "#f0f921"
             ]
            ],
            "type": "surface"
           }
          ],
          "table": [
           {
            "cells": {
             "fill": {
              "color": "#EBF0F8"
             },
             "line": {
              "color": "white"
             }
            },
            "header": {
             "fill": {
              "color": "#C8D4E3"
             },
             "line": {
              "color": "white"
             }
            },
            "type": "table"
           }
          ]
         },
         "layout": {
          "annotationdefaults": {
           "arrowcolor": "#2a3f5f",
           "arrowhead": 0,
           "arrowwidth": 1
          },
          "autotypenumbers": "strict",
          "coloraxis": {
           "colorbar": {
            "outlinewidth": 0,
            "ticks": ""
           }
          },
          "colorscale": {
           "diverging": [
            [
             0,
             "#8e0152"
            ],
            [
             0.1,
             "#c51b7d"
            ],
            [
             0.2,
             "#de77ae"
            ],
            [
             0.3,
             "#f1b6da"
            ],
            [
             0.4,
             "#fde0ef"
            ],
            [
             0.5,
             "#f7f7f7"
            ],
            [
             0.6,
             "#e6f5d0"
            ],
            [
             0.7,
             "#b8e186"
            ],
            [
             0.8,
             "#7fbc41"
            ],
            [
             0.9,
             "#4d9221"
            ],
            [
             1,
             "#276419"
            ]
           ],
           "sequential": [
            [
             0,
             "#0d0887"
            ],
            [
             0.1111111111111111,
             "#46039f"
            ],
            [
             0.2222222222222222,
             "#7201a8"
            ],
            [
             0.3333333333333333,
             "#9c179e"
            ],
            [
             0.4444444444444444,
             "#bd3786"
            ],
            [
             0.5555555555555556,
             "#d8576b"
            ],
            [
             0.6666666666666666,
             "#ed7953"
            ],
            [
             0.7777777777777778,
             "#fb9f3a"
            ],
            [
             0.8888888888888888,
             "#fdca26"
            ],
            [
             1,
             "#f0f921"
            ]
           ],
           "sequentialminus": [
            [
             0,
             "#0d0887"
            ],
            [
             0.1111111111111111,
             "#46039f"
            ],
            [
             0.2222222222222222,
             "#7201a8"
            ],
            [
             0.3333333333333333,
             "#9c179e"
            ],
            [
             0.4444444444444444,
             "#bd3786"
            ],
            [
             0.5555555555555556,
             "#d8576b"
            ],
            [
             0.6666666666666666,
             "#ed7953"
            ],
            [
             0.7777777777777778,
             "#fb9f3a"
            ],
            [
             0.8888888888888888,
             "#fdca26"
            ],
            [
             1,
             "#f0f921"
            ]
           ]
          },
          "colorway": [
           "#636efa",
           "#EF553B",
           "#00cc96",
           "#ab63fa",
           "#FFA15A",
           "#19d3f3",
           "#FF6692",
           "#B6E880",
           "#FF97FF",
           "#FECB52"
          ],
          "font": {
           "color": "#2a3f5f"
          },
          "geo": {
           "bgcolor": "white",
           "lakecolor": "white",
           "landcolor": "#E5ECF6",
           "showlakes": true,
           "showland": true,
           "subunitcolor": "white"
          },
          "hoverlabel": {
           "align": "left"
          },
          "hovermode": "closest",
          "mapbox": {
           "style": "light"
          },
          "paper_bgcolor": "white",
          "plot_bgcolor": "#E5ECF6",
          "polar": {
           "angularaxis": {
            "gridcolor": "white",
            "linecolor": "white",
            "ticks": ""
           },
           "bgcolor": "#E5ECF6",
           "radialaxis": {
            "gridcolor": "white",
            "linecolor": "white",
            "ticks": ""
           }
          },
          "scene": {
           "xaxis": {
            "backgroundcolor": "#E5ECF6",
            "gridcolor": "white",
            "gridwidth": 2,
            "linecolor": "white",
            "showbackground": true,
            "ticks": "",
            "zerolinecolor": "white"
           },
           "yaxis": {
            "backgroundcolor": "#E5ECF6",
            "gridcolor": "white",
            "gridwidth": 2,
            "linecolor": "white",
            "showbackground": true,
            "ticks": "",
            "zerolinecolor": "white"
           },
           "zaxis": {
            "backgroundcolor": "#E5ECF6",
            "gridcolor": "white",
            "gridwidth": 2,
            "linecolor": "white",
            "showbackground": true,
            "ticks": "",
            "zerolinecolor": "white"
           }
          },
          "shapedefaults": {
           "line": {
            "color": "#2a3f5f"
           }
          },
          "ternary": {
           "aaxis": {
            "gridcolor": "white",
            "linecolor": "white",
            "ticks": ""
           },
           "baxis": {
            "gridcolor": "white",
            "linecolor": "white",
            "ticks": ""
           },
           "bgcolor": "#E5ECF6",
           "caxis": {
            "gridcolor": "white",
            "linecolor": "white",
            "ticks": ""
           }
          },
          "title": {
           "x": 0.05
          },
          "xaxis": {
           "automargin": true,
           "gridcolor": "white",
           "linecolor": "white",
           "ticks": "",
           "title": {
            "standoff": 15
           },
           "zerolinecolor": "white",
           "zerolinewidth": 2
          },
          "yaxis": {
           "automargin": true,
           "gridcolor": "white",
           "linecolor": "white",
           "ticks": "",
           "title": {
            "standoff": 15
           },
           "zerolinecolor": "white",
           "zerolinewidth": 2
          }
         }
        },
        "title": {
         "text": "📊 US Market Infographic: Key Metrics Overview"
        }
       }
      }
     },
     "metadata": {},
     "output_type": "display_data"
    }
   ],
   "source": [
    "import plotly.graph_objects as go\n",
    "\n",
    "# Replace these with actual summary values if running standalone\n",
    "us_summary = {\n",
    "    'revenue_usd': 50000,\n",
    "    'subscriptions': 1200,\n",
    "    'installs': 18000,\n",
    "    'active_users': 10500,\n",
    "    'cpi': 2.78,\n",
    "    'conversion_rate': 6.67,\n",
    "    'arpu_all': 2.78,\n",
    "    'arpu_active': 4.76,\n",
    "    'revenue_per_sub': 41.67,\n",
    "    'spend_per_active_user': 4.76,\n",
    "}\n",
    "\n",
    "fig = go.Figure()\n",
    "\n",
    "fig.add_trace(go.Indicator(\n",
    "    mode=\"number+delta\",\n",
    "    value=us_summary['revenue_usd'],\n",
    "    title={\"text\": \"Total Revenue (USD)\"},\n",
    "    number={'prefix': \"$\"},\n",
    "    domain={'x': [0, 0.5], 'y': [0.7, 1]}\n",
    "))\n",
    "\n",
    "fig.add_trace(go.Indicator(\n",
    "    mode=\"number+delta\",\n",
    "    value=us_summary['subscriptions'],\n",
    "    title={\"text\": \"Total Subscribers\"},\n",
    "    domain={'x': [0.5, 1], 'y': [0.7, 1]}\n",
    "))\n",
    "\n",
    "fig.add_trace(go.Indicator(\n",
    "    mode=\"number\",\n",
    "    value=us_summary['installs'],\n",
    "    title={\"text\": \"Total Installs\"},\n",
    "    domain={'x': [0, 0.5], 'y': [0.4, 0.7]}\n",
    "))\n",
    "\n",
    "fig.add_trace(go.Indicator(\n",
    "    mode=\"number\",\n",
    "    value=us_summary['active_users'],\n",
    "    title={\"text\": \"Active Users\"},\n",
    "    domain={'x': [0.5, 1], 'y': [0.4, 0.7]}\n",
    "))\n",
    "\n",
    "fig.add_trace(go.Indicator(\n",
    "    mode=\"gauge+number\",\n",
    "    value=us_summary['conversion_rate'],\n",
    "    title={'text': \"Conversion Rate (%)\"},\n",
    "    domain={'x': [0, 1], 'y': [0, 0.4]},\n",
    "    gauge={'axis': {'range': [None, 100]}}\n",
    "))\n",
    "\n",
    "fig.update_layout(\n",
    "    title=\"📊 US Market Infographic: Key Metrics Overview\",\n",
    "    height=600\n",
    ")\n",
    "\n",
    "fig.show()\n"
   ]
  },
  {
   "cell_type": "code",
   "execution_count": 104,
   "id": "0208d387",
   "metadata": {},
   "outputs": [
    {
     "data": {
      "application/vnd.plotly.v1+json": {
       "config": {
        "plotlyServerURL": "https://plot.ly"
       },
       "data": [
        {
         "fill": "toself",
         "name": "PL",
         "r": [
          0.852207262281216,
          1.5284460798188508,
          0.5006280925320405
         ],
         "theta": [
          "CPI",
          "Conversion Rate",
          "ARPU"
         ],
         "type": "scatterpolar"
        },
        {
         "fill": "toself",
         "name": "ES",
         "r": [
          1.09590125664936,
          1.3290956370991043,
          0.3769678133541176
         ],
         "theta": [
          "CPI",
          "Conversion Rate",
          "ARPU"
         ],
         "type": "scatterpolar"
        },
        {
         "fill": "toself",
         "name": "BR",
         "r": [
          1.0426127831473206,
          0.9923447689254324,
          0.31642118638571853
         ],
         "theta": [
          "CPI",
          "Conversion Rate",
          "ARPU"
         ],
         "type": "scatterpolar"
        },
        {
         "fill": "toself",
         "name": "MX",
         "r": [
          1.883202199548798,
          1.046337817638266,
          0.33159474006388423
         ],
         "theta": [
          "CPI",
          "Conversion Rate",
          "ARPU"
         ],
         "type": "scatterpolar"
        },
        {
         "fill": "toself",
         "name": "GB",
         "r": [
          0.9009826500485648,
          1.3017066820943013,
          0.2924976388271306
         ],
         "theta": [
          "CPI",
          "Conversion Rate",
          "ARPU"
         ],
         "type": "scatterpolar"
        },
        {
         "fill": "toself",
         "name": "SA",
         "r": [
          1.0703495593683439,
          1.2138728323699421,
          0.2674835514938663
         ],
         "theta": [
          "CPI",
          "Conversion Rate",
          "ARPU"
         ],
         "type": "scatterpolar"
        }
       ],
       "layout": {
        "polar": {
         "radialaxis": {
          "visible": true
         }
        },
        "showlegend": true,
        "template": {
         "data": {
          "bar": [
           {
            "error_x": {
             "color": "#2a3f5f"
            },
            "error_y": {
             "color": "#2a3f5f"
            },
            "marker": {
             "line": {
              "color": "#E5ECF6",
              "width": 0.5
             },
             "pattern": {
              "fillmode": "overlay",
              "size": 10,
              "solidity": 0.2
             }
            },
            "type": "bar"
           }
          ],
          "barpolar": [
           {
            "marker": {
             "line": {
              "color": "#E5ECF6",
              "width": 0.5
             },
             "pattern": {
              "fillmode": "overlay",
              "size": 10,
              "solidity": 0.2
             }
            },
            "type": "barpolar"
           }
          ],
          "carpet": [
           {
            "aaxis": {
             "endlinecolor": "#2a3f5f",
             "gridcolor": "white",
             "linecolor": "white",
             "minorgridcolor": "white",
             "startlinecolor": "#2a3f5f"
            },
            "baxis": {
             "endlinecolor": "#2a3f5f",
             "gridcolor": "white",
             "linecolor": "white",
             "minorgridcolor": "white",
             "startlinecolor": "#2a3f5f"
            },
            "type": "carpet"
           }
          ],
          "choropleth": [
           {
            "colorbar": {
             "outlinewidth": 0,
             "ticks": ""
            },
            "type": "choropleth"
           }
          ],
          "contour": [
           {
            "colorbar": {
             "outlinewidth": 0,
             "ticks": ""
            },
            "colorscale": [
             [
              0,
              "#0d0887"
             ],
             [
              0.1111111111111111,
              "#46039f"
             ],
             [
              0.2222222222222222,
              "#7201a8"
             ],
             [
              0.3333333333333333,
              "#9c179e"
             ],
             [
              0.4444444444444444,
              "#bd3786"
             ],
             [
              0.5555555555555556,
              "#d8576b"
             ],
             [
              0.6666666666666666,
              "#ed7953"
             ],
             [
              0.7777777777777778,
              "#fb9f3a"
             ],
             [
              0.8888888888888888,
              "#fdca26"
             ],
             [
              1,
              "#f0f921"
             ]
            ],
            "type": "contour"
           }
          ],
          "contourcarpet": [
           {
            "colorbar": {
             "outlinewidth": 0,
             "ticks": ""
            },
            "type": "contourcarpet"
           }
          ],
          "heatmap": [
           {
            "colorbar": {
             "outlinewidth": 0,
             "ticks": ""
            },
            "colorscale": [
             [
              0,
              "#0d0887"
             ],
             [
              0.1111111111111111,
              "#46039f"
             ],
             [
              0.2222222222222222,
              "#7201a8"
             ],
             [
              0.3333333333333333,
              "#9c179e"
             ],
             [
              0.4444444444444444,
              "#bd3786"
             ],
             [
              0.5555555555555556,
              "#d8576b"
             ],
             [
              0.6666666666666666,
              "#ed7953"
             ],
             [
              0.7777777777777778,
              "#fb9f3a"
             ],
             [
              0.8888888888888888,
              "#fdca26"
             ],
             [
              1,
              "#f0f921"
             ]
            ],
            "type": "heatmap"
           }
          ],
          "histogram": [
           {
            "marker": {
             "pattern": {
              "fillmode": "overlay",
              "size": 10,
              "solidity": 0.2
             }
            },
            "type": "histogram"
           }
          ],
          "histogram2d": [
           {
            "colorbar": {
             "outlinewidth": 0,
             "ticks": ""
            },
            "colorscale": [
             [
              0,
              "#0d0887"
             ],
             [
              0.1111111111111111,
              "#46039f"
             ],
             [
              0.2222222222222222,
              "#7201a8"
             ],
             [
              0.3333333333333333,
              "#9c179e"
             ],
             [
              0.4444444444444444,
              "#bd3786"
             ],
             [
              0.5555555555555556,
              "#d8576b"
             ],
             [
              0.6666666666666666,
              "#ed7953"
             ],
             [
              0.7777777777777778,
              "#fb9f3a"
             ],
             [
              0.8888888888888888,
              "#fdca26"
             ],
             [
              1,
              "#f0f921"
             ]
            ],
            "type": "histogram2d"
           }
          ],
          "histogram2dcontour": [
           {
            "colorbar": {
             "outlinewidth": 0,
             "ticks": ""
            },
            "colorscale": [
             [
              0,
              "#0d0887"
             ],
             [
              0.1111111111111111,
              "#46039f"
             ],
             [
              0.2222222222222222,
              "#7201a8"
             ],
             [
              0.3333333333333333,
              "#9c179e"
             ],
             [
              0.4444444444444444,
              "#bd3786"
             ],
             [
              0.5555555555555556,
              "#d8576b"
             ],
             [
              0.6666666666666666,
              "#ed7953"
             ],
             [
              0.7777777777777778,
              "#fb9f3a"
             ],
             [
              0.8888888888888888,
              "#fdca26"
             ],
             [
              1,
              "#f0f921"
             ]
            ],
            "type": "histogram2dcontour"
           }
          ],
          "mesh3d": [
           {
            "colorbar": {
             "outlinewidth": 0,
             "ticks": ""
            },
            "type": "mesh3d"
           }
          ],
          "parcoords": [
           {
            "line": {
             "colorbar": {
              "outlinewidth": 0,
              "ticks": ""
             }
            },
            "type": "parcoords"
           }
          ],
          "pie": [
           {
            "automargin": true,
            "type": "pie"
           }
          ],
          "scatter": [
           {
            "fillpattern": {
             "fillmode": "overlay",
             "size": 10,
             "solidity": 0.2
            },
            "type": "scatter"
           }
          ],
          "scatter3d": [
           {
            "line": {
             "colorbar": {
              "outlinewidth": 0,
              "ticks": ""
             }
            },
            "marker": {
             "colorbar": {
              "outlinewidth": 0,
              "ticks": ""
             }
            },
            "type": "scatter3d"
           }
          ],
          "scattercarpet": [
           {
            "marker": {
             "colorbar": {
              "outlinewidth": 0,
              "ticks": ""
             }
            },
            "type": "scattercarpet"
           }
          ],
          "scattergeo": [
           {
            "marker": {
             "colorbar": {
              "outlinewidth": 0,
              "ticks": ""
             }
            },
            "type": "scattergeo"
           }
          ],
          "scattergl": [
           {
            "marker": {
             "colorbar": {
              "outlinewidth": 0,
              "ticks": ""
             }
            },
            "type": "scattergl"
           }
          ],
          "scattermap": [
           {
            "marker": {
             "colorbar": {
              "outlinewidth": 0,
              "ticks": ""
             }
            },
            "type": "scattermap"
           }
          ],
          "scattermapbox": [
           {
            "marker": {
             "colorbar": {
              "outlinewidth": 0,
              "ticks": ""
             }
            },
            "type": "scattermapbox"
           }
          ],
          "scatterpolar": [
           {
            "marker": {
             "colorbar": {
              "outlinewidth": 0,
              "ticks": ""
             }
            },
            "type": "scatterpolar"
           }
          ],
          "scatterpolargl": [
           {
            "marker": {
             "colorbar": {
              "outlinewidth": 0,
              "ticks": ""
             }
            },
            "type": "scatterpolargl"
           }
          ],
          "scatterternary": [
           {
            "marker": {
             "colorbar": {
              "outlinewidth": 0,
              "ticks": ""
             }
            },
            "type": "scatterternary"
           }
          ],
          "surface": [
           {
            "colorbar": {
             "outlinewidth": 0,
             "ticks": ""
            },
            "colorscale": [
             [
              0,
              "#0d0887"
             ],
             [
              0.1111111111111111,
              "#46039f"
             ],
             [
              0.2222222222222222,
              "#7201a8"
             ],
             [
              0.3333333333333333,
              "#9c179e"
             ],
             [
              0.4444444444444444,
              "#bd3786"
             ],
             [
              0.5555555555555556,
              "#d8576b"
             ],
             [
              0.6666666666666666,
              "#ed7953"
             ],
             [
              0.7777777777777778,
              "#fb9f3a"
             ],
             [
              0.8888888888888888,
              "#fdca26"
             ],
             [
              1,
              "#f0f921"
             ]
            ],
            "type": "surface"
           }
          ],
          "table": [
           {
            "cells": {
             "fill": {
              "color": "#EBF0F8"
             },
             "line": {
              "color": "white"
             }
            },
            "header": {
             "fill": {
              "color": "#C8D4E3"
             },
             "line": {
              "color": "white"
             }
            },
            "type": "table"
           }
          ]
         },
         "layout": {
          "annotationdefaults": {
           "arrowcolor": "#2a3f5f",
           "arrowhead": 0,
           "arrowwidth": 1
          },
          "autotypenumbers": "strict",
          "coloraxis": {
           "colorbar": {
            "outlinewidth": 0,
            "ticks": ""
           }
          },
          "colorscale": {
           "diverging": [
            [
             0,
             "#8e0152"
            ],
            [
             0.1,
             "#c51b7d"
            ],
            [
             0.2,
             "#de77ae"
            ],
            [
             0.3,
             "#f1b6da"
            ],
            [
             0.4,
             "#fde0ef"
            ],
            [
             0.5,
             "#f7f7f7"
            ],
            [
             0.6,
             "#e6f5d0"
            ],
            [
             0.7,
             "#b8e186"
            ],
            [
             0.8,
             "#7fbc41"
            ],
            [
             0.9,
             "#4d9221"
            ],
            [
             1,
             "#276419"
            ]
           ],
           "sequential": [
            [
             0,
             "#0d0887"
            ],
            [
             0.1111111111111111,
             "#46039f"
            ],
            [
             0.2222222222222222,
             "#7201a8"
            ],
            [
             0.3333333333333333,
             "#9c179e"
            ],
            [
             0.4444444444444444,
             "#bd3786"
            ],
            [
             0.5555555555555556,
             "#d8576b"
            ],
            [
             0.6666666666666666,
             "#ed7953"
            ],
            [
             0.7777777777777778,
             "#fb9f3a"
            ],
            [
             0.8888888888888888,
             "#fdca26"
            ],
            [
             1,
             "#f0f921"
            ]
           ],
           "sequentialminus": [
            [
             0,
             "#0d0887"
            ],
            [
             0.1111111111111111,
             "#46039f"
            ],
            [
             0.2222222222222222,
             "#7201a8"
            ],
            [
             0.3333333333333333,
             "#9c179e"
            ],
            [
             0.4444444444444444,
             "#bd3786"
            ],
            [
             0.5555555555555556,
             "#d8576b"
            ],
            [
             0.6666666666666666,
             "#ed7953"
            ],
            [
             0.7777777777777778,
             "#fb9f3a"
            ],
            [
             0.8888888888888888,
             "#fdca26"
            ],
            [
             1,
             "#f0f921"
            ]
           ]
          },
          "colorway": [
           "#636efa",
           "#EF553B",
           "#00cc96",
           "#ab63fa",
           "#FFA15A",
           "#19d3f3",
           "#FF6692",
           "#B6E880",
           "#FF97FF",
           "#FECB52"
          ],
          "font": {
           "color": "#2a3f5f"
          },
          "geo": {
           "bgcolor": "white",
           "lakecolor": "white",
           "landcolor": "#E5ECF6",
           "showlakes": true,
           "showland": true,
           "subunitcolor": "white"
          },
          "hoverlabel": {
           "align": "left"
          },
          "hovermode": "closest",
          "mapbox": {
           "style": "light"
          },
          "paper_bgcolor": "white",
          "plot_bgcolor": "#E5ECF6",
          "polar": {
           "angularaxis": {
            "gridcolor": "white",
            "linecolor": "white",
            "ticks": ""
           },
           "bgcolor": "#E5ECF6",
           "radialaxis": {
            "gridcolor": "white",
            "linecolor": "white",
            "ticks": ""
           }
          },
          "scene": {
           "xaxis": {
            "backgroundcolor": "#E5ECF6",
            "gridcolor": "white",
            "gridwidth": 2,
            "linecolor": "white",
            "showbackground": true,
            "ticks": "",
            "zerolinecolor": "white"
           },
           "yaxis": {
            "backgroundcolor": "#E5ECF6",
            "gridcolor": "white",
            "gridwidth": 2,
            "linecolor": "white",
            "showbackground": true,
            "ticks": "",
            "zerolinecolor": "white"
           },
           "zaxis": {
            "backgroundcolor": "#E5ECF6",
            "gridcolor": "white",
            "gridwidth": 2,
            "linecolor": "white",
            "showbackground": true,
            "ticks": "",
            "zerolinecolor": "white"
           }
          },
          "shapedefaults": {
           "line": {
            "color": "#2a3f5f"
           }
          },
          "ternary": {
           "aaxis": {
            "gridcolor": "white",
            "linecolor": "white",
            "ticks": ""
           },
           "baxis": {
            "gridcolor": "white",
            "linecolor": "white",
            "ticks": ""
           },
           "bgcolor": "#E5ECF6",
           "caxis": {
            "gridcolor": "white",
            "linecolor": "white",
            "ticks": ""
           }
          },
          "title": {
           "x": 0.05
          },
          "xaxis": {
           "automargin": true,
           "gridcolor": "white",
           "linecolor": "white",
           "ticks": "",
           "title": {
            "standoff": 15
           },
           "zerolinecolor": "white",
           "zerolinewidth": 2
          },
          "yaxis": {
           "automargin": true,
           "gridcolor": "white",
           "linecolor": "white",
           "ticks": "",
           "title": {
            "standoff": 15
           },
           "zerolinecolor": "white",
           "zerolinewidth": 2
          }
         }
        },
        "title": {
         "text": "🌍 KPI Comparison Across Top Countries"
        }
       }
      }
     },
     "metadata": {},
     "output_type": "display_data"
    },
    {
     "data": {
      "application/vnd.plotly.v1+json": {
       "config": {
        "plotlyServerURL": "https://plot.ly"
       },
       "data": [
        {
         "alignmentgroup": "True",
         "hovertemplate": "Metric=revenue_usd<br>Country=%{x}<br>USD=%{y}<extra></extra>",
         "legendgroup": "revenue_usd",
         "marker": {
          "color": "#636efa",
          "pattern": {
           "shape": ""
          }
         },
         "name": "revenue_usd",
         "offsetgroup": "revenue_usd",
         "orientation": "v",
         "showlegend": true,
         "textposition": "auto",
         "type": "bar",
         "x": [
          "pl",
          "es",
          "br",
          "mx",
          "gb",
          "sa"
         ],
         "xaxis": "x",
         "y": {
          "bdata": "WhziTuCim0Dan3QOvmKUQKpl6fERcJFADYrM1LxUkUB93COQUJmPQI23Ndjx64xA",
          "dtype": "f8"
         },
         "yaxis": "y"
        },
        {
         "alignmentgroup": "True",
         "hovertemplate": "Metric=spend<br>Country=%{x}<br>USD=%{y}<extra></extra>",
         "legendgroup": "spend",
         "marker": {
          "color": "#EF553B",
          "pattern": {
           "shape": ""
          }
         },
         "name": "spend",
         "offsetgroup": "spend",
         "orientation": "v",
         "showlegend": true,
         "textposition": "auto",
         "type": "bar",
         "x": [
          "pl",
          "es",
          "br",
          "mx",
          "gb",
          "sa"
         ],
         "xaxis": "x",
         "y": {
          "bdata": "yEjTTrKFp0CwvXoY1KGtQHplvy+XuqxADOAftU+buEDmDvffZFWoQFTzwqbR7qxA",
          "dtype": "f8"
         },
         "yaxis": "y"
        }
       ],
       "layout": {
        "barmode": "group",
        "legend": {
         "title": {
          "text": "Metric"
         },
         "tracegroupgap": 0
        },
        "template": {
         "data": {
          "bar": [
           {
            "error_x": {
             "color": "#2a3f5f"
            },
            "error_y": {
             "color": "#2a3f5f"
            },
            "marker": {
             "line": {
              "color": "#E5ECF6",
              "width": 0.5
             },
             "pattern": {
              "fillmode": "overlay",
              "size": 10,
              "solidity": 0.2
             }
            },
            "type": "bar"
           }
          ],
          "barpolar": [
           {
            "marker": {
             "line": {
              "color": "#E5ECF6",
              "width": 0.5
             },
             "pattern": {
              "fillmode": "overlay",
              "size": 10,
              "solidity": 0.2
             }
            },
            "type": "barpolar"
           }
          ],
          "carpet": [
           {
            "aaxis": {
             "endlinecolor": "#2a3f5f",
             "gridcolor": "white",
             "linecolor": "white",
             "minorgridcolor": "white",
             "startlinecolor": "#2a3f5f"
            },
            "baxis": {
             "endlinecolor": "#2a3f5f",
             "gridcolor": "white",
             "linecolor": "white",
             "minorgridcolor": "white",
             "startlinecolor": "#2a3f5f"
            },
            "type": "carpet"
           }
          ],
          "choropleth": [
           {
            "colorbar": {
             "outlinewidth": 0,
             "ticks": ""
            },
            "type": "choropleth"
           }
          ],
          "contour": [
           {
            "colorbar": {
             "outlinewidth": 0,
             "ticks": ""
            },
            "colorscale": [
             [
              0,
              "#0d0887"
             ],
             [
              0.1111111111111111,
              "#46039f"
             ],
             [
              0.2222222222222222,
              "#7201a8"
             ],
             [
              0.3333333333333333,
              "#9c179e"
             ],
             [
              0.4444444444444444,
              "#bd3786"
             ],
             [
              0.5555555555555556,
              "#d8576b"
             ],
             [
              0.6666666666666666,
              "#ed7953"
             ],
             [
              0.7777777777777778,
              "#fb9f3a"
             ],
             [
              0.8888888888888888,
              "#fdca26"
             ],
             [
              1,
              "#f0f921"
             ]
            ],
            "type": "contour"
           }
          ],
          "contourcarpet": [
           {
            "colorbar": {
             "outlinewidth": 0,
             "ticks": ""
            },
            "type": "contourcarpet"
           }
          ],
          "heatmap": [
           {
            "colorbar": {
             "outlinewidth": 0,
             "ticks": ""
            },
            "colorscale": [
             [
              0,
              "#0d0887"
             ],
             [
              0.1111111111111111,
              "#46039f"
             ],
             [
              0.2222222222222222,
              "#7201a8"
             ],
             [
              0.3333333333333333,
              "#9c179e"
             ],
             [
              0.4444444444444444,
              "#bd3786"
             ],
             [
              0.5555555555555556,
              "#d8576b"
             ],
             [
              0.6666666666666666,
              "#ed7953"
             ],
             [
              0.7777777777777778,
              "#fb9f3a"
             ],
             [
              0.8888888888888888,
              "#fdca26"
             ],
             [
              1,
              "#f0f921"
             ]
            ],
            "type": "heatmap"
           }
          ],
          "histogram": [
           {
            "marker": {
             "pattern": {
              "fillmode": "overlay",
              "size": 10,
              "solidity": 0.2
             }
            },
            "type": "histogram"
           }
          ],
          "histogram2d": [
           {
            "colorbar": {
             "outlinewidth": 0,
             "ticks": ""
            },
            "colorscale": [
             [
              0,
              "#0d0887"
             ],
             [
              0.1111111111111111,
              "#46039f"
             ],
             [
              0.2222222222222222,
              "#7201a8"
             ],
             [
              0.3333333333333333,
              "#9c179e"
             ],
             [
              0.4444444444444444,
              "#bd3786"
             ],
             [
              0.5555555555555556,
              "#d8576b"
             ],
             [
              0.6666666666666666,
              "#ed7953"
             ],
             [
              0.7777777777777778,
              "#fb9f3a"
             ],
             [
              0.8888888888888888,
              "#fdca26"
             ],
             [
              1,
              "#f0f921"
             ]
            ],
            "type": "histogram2d"
           }
          ],
          "histogram2dcontour": [
           {
            "colorbar": {
             "outlinewidth": 0,
             "ticks": ""
            },
            "colorscale": [
             [
              0,
              "#0d0887"
             ],
             [
              0.1111111111111111,
              "#46039f"
             ],
             [
              0.2222222222222222,
              "#7201a8"
             ],
             [
              0.3333333333333333,
              "#9c179e"
             ],
             [
              0.4444444444444444,
              "#bd3786"
             ],
             [
              0.5555555555555556,
              "#d8576b"
             ],
             [
              0.6666666666666666,
              "#ed7953"
             ],
             [
              0.7777777777777778,
              "#fb9f3a"
             ],
             [
              0.8888888888888888,
              "#fdca26"
             ],
             [
              1,
              "#f0f921"
             ]
            ],
            "type": "histogram2dcontour"
           }
          ],
          "mesh3d": [
           {
            "colorbar": {
             "outlinewidth": 0,
             "ticks": ""
            },
            "type": "mesh3d"
           }
          ],
          "parcoords": [
           {
            "line": {
             "colorbar": {
              "outlinewidth": 0,
              "ticks": ""
             }
            },
            "type": "parcoords"
           }
          ],
          "pie": [
           {
            "automargin": true,
            "type": "pie"
           }
          ],
          "scatter": [
           {
            "fillpattern": {
             "fillmode": "overlay",
             "size": 10,
             "solidity": 0.2
            },
            "type": "scatter"
           }
          ],
          "scatter3d": [
           {
            "line": {
             "colorbar": {
              "outlinewidth": 0,
              "ticks": ""
             }
            },
            "marker": {
             "colorbar": {
              "outlinewidth": 0,
              "ticks": ""
             }
            },
            "type": "scatter3d"
           }
          ],
          "scattercarpet": [
           {
            "marker": {
             "colorbar": {
              "outlinewidth": 0,
              "ticks": ""
             }
            },
            "type": "scattercarpet"
           }
          ],
          "scattergeo": [
           {
            "marker": {
             "colorbar": {
              "outlinewidth": 0,
              "ticks": ""
             }
            },
            "type": "scattergeo"
           }
          ],
          "scattergl": [
           {
            "marker": {
             "colorbar": {
              "outlinewidth": 0,
              "ticks": ""
             }
            },
            "type": "scattergl"
           }
          ],
          "scattermap": [
           {
            "marker": {
             "colorbar": {
              "outlinewidth": 0,
              "ticks": ""
             }
            },
            "type": "scattermap"
           }
          ],
          "scattermapbox": [
           {
            "marker": {
             "colorbar": {
              "outlinewidth": 0,
              "ticks": ""
             }
            },
            "type": "scattermapbox"
           }
          ],
          "scatterpolar": [
           {
            "marker": {
             "colorbar": {
              "outlinewidth": 0,
              "ticks": ""
             }
            },
            "type": "scatterpolar"
           }
          ],
          "scatterpolargl": [
           {
            "marker": {
             "colorbar": {
              "outlinewidth": 0,
              "ticks": ""
             }
            },
            "type": "scatterpolargl"
           }
          ],
          "scatterternary": [
           {
            "marker": {
             "colorbar": {
              "outlinewidth": 0,
              "ticks": ""
             }
            },
            "type": "scatterternary"
           }
          ],
          "surface": [
           {
            "colorbar": {
             "outlinewidth": 0,
             "ticks": ""
            },
            "colorscale": [
             [
              0,
              "#0d0887"
             ],
             [
              0.1111111111111111,
              "#46039f"
             ],
             [
              0.2222222222222222,
              "#7201a8"
             ],
             [
              0.3333333333333333,
              "#9c179e"
             ],
             [
              0.4444444444444444,
              "#bd3786"
             ],
             [
              0.5555555555555556,
              "#d8576b"
             ],
             [
              0.6666666666666666,
              "#ed7953"
             ],
             [
              0.7777777777777778,
              "#fb9f3a"
             ],
             [
              0.8888888888888888,
              "#fdca26"
             ],
             [
              1,
              "#f0f921"
             ]
            ],
            "type": "surface"
           }
          ],
          "table": [
           {
            "cells": {
             "fill": {
              "color": "#EBF0F8"
             },
             "line": {
              "color": "white"
             }
            },
            "header": {
             "fill": {
              "color": "#C8D4E3"
             },
             "line": {
              "color": "white"
             }
            },
            "type": "table"
           }
          ]
         },
         "layout": {
          "annotationdefaults": {
           "arrowcolor": "#2a3f5f",
           "arrowhead": 0,
           "arrowwidth": 1
          },
          "autotypenumbers": "strict",
          "coloraxis": {
           "colorbar": {
            "outlinewidth": 0,
            "ticks": ""
           }
          },
          "colorscale": {
           "diverging": [
            [
             0,
             "#8e0152"
            ],
            [
             0.1,
             "#c51b7d"
            ],
            [
             0.2,
             "#de77ae"
            ],
            [
             0.3,
             "#f1b6da"
            ],
            [
             0.4,
             "#fde0ef"
            ],
            [
             0.5,
             "#f7f7f7"
            ],
            [
             0.6,
             "#e6f5d0"
            ],
            [
             0.7,
             "#b8e186"
            ],
            [
             0.8,
             "#7fbc41"
            ],
            [
             0.9,
             "#4d9221"
            ],
            [
             1,
             "#276419"
            ]
           ],
           "sequential": [
            [
             0,
             "#0d0887"
            ],
            [
             0.1111111111111111,
             "#46039f"
            ],
            [
             0.2222222222222222,
             "#7201a8"
            ],
            [
             0.3333333333333333,
             "#9c179e"
            ],
            [
             0.4444444444444444,
             "#bd3786"
            ],
            [
             0.5555555555555556,
             "#d8576b"
            ],
            [
             0.6666666666666666,
             "#ed7953"
            ],
            [
             0.7777777777777778,
             "#fb9f3a"
            ],
            [
             0.8888888888888888,
             "#fdca26"
            ],
            [
             1,
             "#f0f921"
            ]
           ],
           "sequentialminus": [
            [
             0,
             "#0d0887"
            ],
            [
             0.1111111111111111,
             "#46039f"
            ],
            [
             0.2222222222222222,
             "#7201a8"
            ],
            [
             0.3333333333333333,
             "#9c179e"
            ],
            [
             0.4444444444444444,
             "#bd3786"
            ],
            [
             0.5555555555555556,
             "#d8576b"
            ],
            [
             0.6666666666666666,
             "#ed7953"
            ],
            [
             0.7777777777777778,
             "#fb9f3a"
            ],
            [
             0.8888888888888888,
             "#fdca26"
            ],
            [
             1,
             "#f0f921"
            ]
           ]
          },
          "colorway": [
           "#636efa",
           "#EF553B",
           "#00cc96",
           "#ab63fa",
           "#FFA15A",
           "#19d3f3",
           "#FF6692",
           "#B6E880",
           "#FF97FF",
           "#FECB52"
          ],
          "font": {
           "color": "#2a3f5f"
          },
          "geo": {
           "bgcolor": "white",
           "lakecolor": "white",
           "landcolor": "#E5ECF6",
           "showlakes": true,
           "showland": true,
           "subunitcolor": "white"
          },
          "hoverlabel": {
           "align": "left"
          },
          "hovermode": "closest",
          "mapbox": {
           "style": "light"
          },
          "paper_bgcolor": "white",
          "plot_bgcolor": "#E5ECF6",
          "polar": {
           "angularaxis": {
            "gridcolor": "white",
            "linecolor": "white",
            "ticks": ""
           },
           "bgcolor": "#E5ECF6",
           "radialaxis": {
            "gridcolor": "white",
            "linecolor": "white",
            "ticks": ""
           }
          },
          "scene": {
           "xaxis": {
            "backgroundcolor": "#E5ECF6",
            "gridcolor": "white",
            "gridwidth": 2,
            "linecolor": "white",
            "showbackground": true,
            "ticks": "",
            "zerolinecolor": "white"
           },
           "yaxis": {
            "backgroundcolor": "#E5ECF6",
            "gridcolor": "white",
            "gridwidth": 2,
            "linecolor": "white",
            "showbackground": true,
            "ticks": "",
            "zerolinecolor": "white"
           },
           "zaxis": {
            "backgroundcolor": "#E5ECF6",
            "gridcolor": "white",
            "gridwidth": 2,
            "linecolor": "white",
            "showbackground": true,
            "ticks": "",
            "zerolinecolor": "white"
           }
          },
          "shapedefaults": {
           "line": {
            "color": "#2a3f5f"
           }
          },
          "ternary": {
           "aaxis": {
            "gridcolor": "white",
            "linecolor": "white",
            "ticks": ""
           },
           "baxis": {
            "gridcolor": "white",
            "linecolor": "white",
            "ticks": ""
           },
           "bgcolor": "#E5ECF6",
           "caxis": {
            "gridcolor": "white",
            "linecolor": "white",
            "ticks": ""
           }
          },
          "title": {
           "x": 0.05
          },
          "xaxis": {
           "automargin": true,
           "gridcolor": "white",
           "linecolor": "white",
           "ticks": "",
           "title": {
            "standoff": 15
           },
           "zerolinecolor": "white",
           "zerolinewidth": 2
          },
          "yaxis": {
           "automargin": true,
           "gridcolor": "white",
           "linecolor": "white",
           "ticks": "",
           "title": {
            "standoff": 15
           },
           "zerolinecolor": "white",
           "zerolinewidth": 2
          }
         }
        },
        "title": {
         "text": "💰 Revenue vs Spend by Country"
        },
        "xaxis": {
         "anchor": "y",
         "domain": [
          0,
          1
         ],
         "title": {
          "text": "Country"
         }
        },
        "yaxis": {
         "anchor": "x",
         "domain": [
          0,
          1
         ],
         "title": {
          "text": "USD"
         }
        }
       }
      }
     },
     "metadata": {},
     "output_type": "display_data"
    },
    {
     "data": {
      "application/vnd.plotly.v1+json": {
       "config": {
        "plotlyServerURL": "https://plot.ly"
       },
       "data": [
        {
         "name": "PL",
         "textinfo": "value+percent previous+percent initial",
         "type": "funnel",
         "x": [
          3533,
          1088,
          54
         ],
         "y": [
          "Installs",
          "Active Users",
          "Subscribers"
         ]
        }
       ],
       "layout": {
        "template": {
         "data": {
          "bar": [
           {
            "error_x": {
             "color": "#2a3f5f"
            },
            "error_y": {
             "color": "#2a3f5f"
            },
            "marker": {
             "line": {
              "color": "#E5ECF6",
              "width": 0.5
             },
             "pattern": {
              "fillmode": "overlay",
              "size": 10,
              "solidity": 0.2
             }
            },
            "type": "bar"
           }
          ],
          "barpolar": [
           {
            "marker": {
             "line": {
              "color": "#E5ECF6",
              "width": 0.5
             },
             "pattern": {
              "fillmode": "overlay",
              "size": 10,
              "solidity": 0.2
             }
            },
            "type": "barpolar"
           }
          ],
          "carpet": [
           {
            "aaxis": {
             "endlinecolor": "#2a3f5f",
             "gridcolor": "white",
             "linecolor": "white",
             "minorgridcolor": "white",
             "startlinecolor": "#2a3f5f"
            },
            "baxis": {
             "endlinecolor": "#2a3f5f",
             "gridcolor": "white",
             "linecolor": "white",
             "minorgridcolor": "white",
             "startlinecolor": "#2a3f5f"
            },
            "type": "carpet"
           }
          ],
          "choropleth": [
           {
            "colorbar": {
             "outlinewidth": 0,
             "ticks": ""
            },
            "type": "choropleth"
           }
          ],
          "contour": [
           {
            "colorbar": {
             "outlinewidth": 0,
             "ticks": ""
            },
            "colorscale": [
             [
              0,
              "#0d0887"
             ],
             [
              0.1111111111111111,
              "#46039f"
             ],
             [
              0.2222222222222222,
              "#7201a8"
             ],
             [
              0.3333333333333333,
              "#9c179e"
             ],
             [
              0.4444444444444444,
              "#bd3786"
             ],
             [
              0.5555555555555556,
              "#d8576b"
             ],
             [
              0.6666666666666666,
              "#ed7953"
             ],
             [
              0.7777777777777778,
              "#fb9f3a"
             ],
             [
              0.8888888888888888,
              "#fdca26"
             ],
             [
              1,
              "#f0f921"
             ]
            ],
            "type": "contour"
           }
          ],
          "contourcarpet": [
           {
            "colorbar": {
             "outlinewidth": 0,
             "ticks": ""
            },
            "type": "contourcarpet"
           }
          ],
          "heatmap": [
           {
            "colorbar": {
             "outlinewidth": 0,
             "ticks": ""
            },
            "colorscale": [
             [
              0,
              "#0d0887"
             ],
             [
              0.1111111111111111,
              "#46039f"
             ],
             [
              0.2222222222222222,
              "#7201a8"
             ],
             [
              0.3333333333333333,
              "#9c179e"
             ],
             [
              0.4444444444444444,
              "#bd3786"
             ],
             [
              0.5555555555555556,
              "#d8576b"
             ],
             [
              0.6666666666666666,
              "#ed7953"
             ],
             [
              0.7777777777777778,
              "#fb9f3a"
             ],
             [
              0.8888888888888888,
              "#fdca26"
             ],
             [
              1,
              "#f0f921"
             ]
            ],
            "type": "heatmap"
           }
          ],
          "histogram": [
           {
            "marker": {
             "pattern": {
              "fillmode": "overlay",
              "size": 10,
              "solidity": 0.2
             }
            },
            "type": "histogram"
           }
          ],
          "histogram2d": [
           {
            "colorbar": {
             "outlinewidth": 0,
             "ticks": ""
            },
            "colorscale": [
             [
              0,
              "#0d0887"
             ],
             [
              0.1111111111111111,
              "#46039f"
             ],
             [
              0.2222222222222222,
              "#7201a8"
             ],
             [
              0.3333333333333333,
              "#9c179e"
             ],
             [
              0.4444444444444444,
              "#bd3786"
             ],
             [
              0.5555555555555556,
              "#d8576b"
             ],
             [
              0.6666666666666666,
              "#ed7953"
             ],
             [
              0.7777777777777778,
              "#fb9f3a"
             ],
             [
              0.8888888888888888,
              "#fdca26"
             ],
             [
              1,
              "#f0f921"
             ]
            ],
            "type": "histogram2d"
           }
          ],
          "histogram2dcontour": [
           {
            "colorbar": {
             "outlinewidth": 0,
             "ticks": ""
            },
            "colorscale": [
             [
              0,
              "#0d0887"
             ],
             [
              0.1111111111111111,
              "#46039f"
             ],
             [
              0.2222222222222222,
              "#7201a8"
             ],
             [
              0.3333333333333333,
              "#9c179e"
             ],
             [
              0.4444444444444444,
              "#bd3786"
             ],
             [
              0.5555555555555556,
              "#d8576b"
             ],
             [
              0.6666666666666666,
              "#ed7953"
             ],
             [
              0.7777777777777778,
              "#fb9f3a"
             ],
             [
              0.8888888888888888,
              "#fdca26"
             ],
             [
              1,
              "#f0f921"
             ]
            ],
            "type": "histogram2dcontour"
           }
          ],
          "mesh3d": [
           {
            "colorbar": {
             "outlinewidth": 0,
             "ticks": ""
            },
            "type": "mesh3d"
           }
          ],
          "parcoords": [
           {
            "line": {
             "colorbar": {
              "outlinewidth": 0,
              "ticks": ""
             }
            },
            "type": "parcoords"
           }
          ],
          "pie": [
           {
            "automargin": true,
            "type": "pie"
           }
          ],
          "scatter": [
           {
            "fillpattern": {
             "fillmode": "overlay",
             "size": 10,
             "solidity": 0.2
            },
            "type": "scatter"
           }
          ],
          "scatter3d": [
           {
            "line": {
             "colorbar": {
              "outlinewidth": 0,
              "ticks": ""
             }
            },
            "marker": {
             "colorbar": {
              "outlinewidth": 0,
              "ticks": ""
             }
            },
            "type": "scatter3d"
           }
          ],
          "scattercarpet": [
           {
            "marker": {
             "colorbar": {
              "outlinewidth": 0,
              "ticks": ""
             }
            },
            "type": "scattercarpet"
           }
          ],
          "scattergeo": [
           {
            "marker": {
             "colorbar": {
              "outlinewidth": 0,
              "ticks": ""
             }
            },
            "type": "scattergeo"
           }
          ],
          "scattergl": [
           {
            "marker": {
             "colorbar": {
              "outlinewidth": 0,
              "ticks": ""
             }
            },
            "type": "scattergl"
           }
          ],
          "scattermap": [
           {
            "marker": {
             "colorbar": {
              "outlinewidth": 0,
              "ticks": ""
             }
            },
            "type": "scattermap"
           }
          ],
          "scattermapbox": [
           {
            "marker": {
             "colorbar": {
              "outlinewidth": 0,
              "ticks": ""
             }
            },
            "type": "scattermapbox"
           }
          ],
          "scatterpolar": [
           {
            "marker": {
             "colorbar": {
              "outlinewidth": 0,
              "ticks": ""
             }
            },
            "type": "scatterpolar"
           }
          ],
          "scatterpolargl": [
           {
            "marker": {
             "colorbar": {
              "outlinewidth": 0,
              "ticks": ""
             }
            },
            "type": "scatterpolargl"
           }
          ],
          "scatterternary": [
           {
            "marker": {
             "colorbar": {
              "outlinewidth": 0,
              "ticks": ""
             }
            },
            "type": "scatterternary"
           }
          ],
          "surface": [
           {
            "colorbar": {
             "outlinewidth": 0,
             "ticks": ""
            },
            "colorscale": [
             [
              0,
              "#0d0887"
             ],
             [
              0.1111111111111111,
              "#46039f"
             ],
             [
              0.2222222222222222,
              "#7201a8"
             ],
             [
              0.3333333333333333,
              "#9c179e"
             ],
             [
              0.4444444444444444,
              "#bd3786"
             ],
             [
              0.5555555555555556,
              "#d8576b"
             ],
             [
              0.6666666666666666,
              "#ed7953"
             ],
             [
              0.7777777777777778,
              "#fb9f3a"
             ],
             [
              0.8888888888888888,
              "#fdca26"
             ],
             [
              1,
              "#f0f921"
             ]
            ],
            "type": "surface"
           }
          ],
          "table": [
           {
            "cells": {
             "fill": {
              "color": "#EBF0F8"
             },
             "line": {
              "color": "white"
             }
            },
            "header": {
             "fill": {
              "color": "#C8D4E3"
             },
             "line": {
              "color": "white"
             }
            },
            "type": "table"
           }
          ]
         },
         "layout": {
          "annotationdefaults": {
           "arrowcolor": "#2a3f5f",
           "arrowhead": 0,
           "arrowwidth": 1
          },
          "autotypenumbers": "strict",
          "coloraxis": {
           "colorbar": {
            "outlinewidth": 0,
            "ticks": ""
           }
          },
          "colorscale": {
           "diverging": [
            [
             0,
             "#8e0152"
            ],
            [
             0.1,
             "#c51b7d"
            ],
            [
             0.2,
             "#de77ae"
            ],
            [
             0.3,
             "#f1b6da"
            ],
            [
             0.4,
             "#fde0ef"
            ],
            [
             0.5,
             "#f7f7f7"
            ],
            [
             0.6,
             "#e6f5d0"
            ],
            [
             0.7,
             "#b8e186"
            ],
            [
             0.8,
             "#7fbc41"
            ],
            [
             0.9,
             "#4d9221"
            ],
            [
             1,
             "#276419"
            ]
           ],
           "sequential": [
            [
             0,
             "#0d0887"
            ],
            [
             0.1111111111111111,
             "#46039f"
            ],
            [
             0.2222222222222222,
             "#7201a8"
            ],
            [
             0.3333333333333333,
             "#9c179e"
            ],
            [
             0.4444444444444444,
             "#bd3786"
            ],
            [
             0.5555555555555556,
             "#d8576b"
            ],
            [
             0.6666666666666666,
             "#ed7953"
            ],
            [
             0.7777777777777778,
             "#fb9f3a"
            ],
            [
             0.8888888888888888,
             "#fdca26"
            ],
            [
             1,
             "#f0f921"
            ]
           ],
           "sequentialminus": [
            [
             0,
             "#0d0887"
            ],
            [
             0.1111111111111111,
             "#46039f"
            ],
            [
             0.2222222222222222,
             "#7201a8"
            ],
            [
             0.3333333333333333,
             "#9c179e"
            ],
            [
             0.4444444444444444,
             "#bd3786"
            ],
            [
             0.5555555555555556,
             "#d8576b"
            ],
            [
             0.6666666666666666,
             "#ed7953"
            ],
            [
             0.7777777777777778,
             "#fb9f3a"
            ],
            [
             0.8888888888888888,
             "#fdca26"
            ],
            [
             1,
             "#f0f921"
            ]
           ]
          },
          "colorway": [
           "#636efa",
           "#EF553B",
           "#00cc96",
           "#ab63fa",
           "#FFA15A",
           "#19d3f3",
           "#FF6692",
           "#B6E880",
           "#FF97FF",
           "#FECB52"
          ],
          "font": {
           "color": "#2a3f5f"
          },
          "geo": {
           "bgcolor": "white",
           "lakecolor": "white",
           "landcolor": "#E5ECF6",
           "showlakes": true,
           "showland": true,
           "subunitcolor": "white"
          },
          "hoverlabel": {
           "align": "left"
          },
          "hovermode": "closest",
          "mapbox": {
           "style": "light"
          },
          "paper_bgcolor": "white",
          "plot_bgcolor": "#E5ECF6",
          "polar": {
           "angularaxis": {
            "gridcolor": "white",
            "linecolor": "white",
            "ticks": ""
           },
           "bgcolor": "#E5ECF6",
           "radialaxis": {
            "gridcolor": "white",
            "linecolor": "white",
            "ticks": ""
           }
          },
          "scene": {
           "xaxis": {
            "backgroundcolor": "#E5ECF6",
            "gridcolor": "white",
            "gridwidth": 2,
            "linecolor": "white",
            "showbackground": true,
            "ticks": "",
            "zerolinecolor": "white"
           },
           "yaxis": {
            "backgroundcolor": "#E5ECF6",
            "gridcolor": "white",
            "gridwidth": 2,
            "linecolor": "white",
            "showbackground": true,
            "ticks": "",
            "zerolinecolor": "white"
           },
           "zaxis": {
            "backgroundcolor": "#E5ECF6",
            "gridcolor": "white",
            "gridwidth": 2,
            "linecolor": "white",
            "showbackground": true,
            "ticks": "",
            "zerolinecolor": "white"
           }
          },
          "shapedefaults": {
           "line": {
            "color": "#2a3f5f"
           }
          },
          "ternary": {
           "aaxis": {
            "gridcolor": "white",
            "linecolor": "white",
            "ticks": ""
           },
           "baxis": {
            "gridcolor": "white",
            "linecolor": "white",
            "ticks": ""
           },
           "bgcolor": "#E5ECF6",
           "caxis": {
            "gridcolor": "white",
            "linecolor": "white",
            "ticks": ""
           }
          },
          "title": {
           "x": 0.05
          },
          "xaxis": {
           "automargin": true,
           "gridcolor": "white",
           "linecolor": "white",
           "ticks": "",
           "title": {
            "standoff": 15
           },
           "zerolinecolor": "white",
           "zerolinewidth": 2
          },
          "yaxis": {
           "automargin": true,
           "gridcolor": "white",
           "linecolor": "white",
           "ticks": "",
           "title": {
            "standoff": 15
           },
           "zerolinecolor": "white",
           "zerolinewidth": 2
          }
         }
        },
        "title": {
         "text": "🔁 Conversion Funnel – PL"
        }
       }
      }
     },
     "metadata": {},
     "output_type": "display_data"
    }
   ],
   "source": [
    "import plotly.express as px\n",
    "import plotly.graph_objects as go\n",
    "import pandas as pd\n",
    "\n",
    "# Assuming `kpi` DataFrame already exists and is prepared\n",
    "\n",
    "# KPI aggregation\n",
    "top_countries = kpi.groupby('country_code').agg(\n",
    "    installs=('installs', 'sum'),\n",
    "    subscriptions=('subscriptions', 'sum'),\n",
    "    revenue_usd=('revenue_usd', 'sum'),\n",
    "    spend=('spend', 'sum'),\n",
    "    active_users=('active_users', 'sum')\n",
    ").reset_index()\n",
    "\n",
    "# Derived KPIs\n",
    "top_countries['cpi'] = top_countries['spend'] / top_countries['installs'].replace(0, pd.NA)\n",
    "top_countries['conversion_rate'] = (top_countries['subscriptions'] / top_countries['installs']) * 100\n",
    "top_countries['arpu'] = top_countries['revenue_usd'] / top_countries['installs'].replace(0, pd.NA)\n",
    "\n",
    "# Top 6 by revenue\n",
    "top_countries = top_countries.sort_values('revenue_usd', ascending=False).head(6)\n",
    "\n",
    "# ✅ 1. Radar Chart (Spider Plot)\n",
    "fig_radar = go.Figure()\n",
    "for _, row in top_countries.iterrows():\n",
    "    fig_radar.add_trace(go.Scatterpolar(\n",
    "        r=[row['cpi'], row['conversion_rate'], row['arpu']],\n",
    "        theta=['CPI', 'Conversion Rate', 'ARPU'],\n",
    "        fill='toself',\n",
    "        name=row['country_code'].upper()\n",
    "    ))\n",
    "fig_radar.update_layout(\n",
    "    title=\"🌍 KPI Comparison Across Top Countries\",\n",
    "    polar=dict(radialaxis=dict(visible=True)),\n",
    "    showlegend=True\n",
    ")\n",
    "fig_radar.show()\n",
    "\n",
    "# ✅ 2. Bar Chart: Revenue vs Spend\n",
    "fig_bar = px.bar(\n",
    "    top_countries.melt(id_vars='country_code', value_vars=['revenue_usd', 'spend']),\n",
    "    x='country_code', y='value', color='variable',\n",
    "    barmode='group', title=\"💰 Revenue vs Spend by Country\",\n",
    "    labels={'value': 'USD', 'country_code': 'Country', 'variable': 'Metric'}\n",
    ")\n",
    "fig_bar.show()\n",
    "\n",
    "# ✅ 3. Funnel Chart for Top Country\n",
    "top_country = top_countries.iloc[0]\n",
    "funnel = go.Figure(go.Funnel(\n",
    "    y=[\"Installs\", \"Active Users\", \"Subscribers\"],\n",
    "    x=[top_country['installs'], top_country['active_users'], top_country['subscriptions']],\n",
    "    textinfo=\"value+percent previous+percent initial\",\n",
    "    name=top_country['country_code'].upper()\n",
    "))\n",
    "funnel.update_layout(title=f\"🔁 Conversion Funnel – {top_country['country_code'].upper()}\")\n",
    "funnel.show()\n"
   ]
  },
  {
   "cell_type": "code",
   "execution_count": null,
   "id": "52cea3f7",
   "metadata": {},
   "outputs": [],
   "source": []
  }
 ],
 "metadata": {
  "kernelspec": {
   "display_name": "base",
   "language": "python",
   "name": "python3"
  },
  "language_info": {
   "codemirror_mode": {
    "name": "ipython",
    "version": 3
   },
   "file_extension": ".py",
   "mimetype": "text/x-python",
   "name": "python",
   "nbconvert_exporter": "python",
   "pygments_lexer": "ipython3",
   "version": "3.11.6"
  }
 },
 "nbformat": 4,
 "nbformat_minor": 5
}
